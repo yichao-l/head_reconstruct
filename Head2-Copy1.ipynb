{
 "cells": [
  {
   "cell_type": "code",
   "execution_count": 1,
   "metadata": {},
   "outputs": [
    {
     "data": {
      "text/html": [
       "<div id=\"glowscript\" class=\"glowscript\"></div>"
      ],
      "text/plain": [
       "<IPython.core.display.HTML object>"
      ]
     },
     "metadata": {},
     "output_type": "display_data"
    },
    {
     "data": {
      "application/javascript": [
       "if (typeof Jupyter !== \"undefined\") { window.__context = { glowscript_container: $(\"#glowscript\").removeAttr(\"id\")};}else{ element.textContent = ' ';}"
      ],
      "text/plain": [
       "<IPython.core.display.Javascript object>"
      ]
     },
     "metadata": {},
     "output_type": "display_data"
    },
    {
     "name": "stderr",
     "output_type": "stream",
     "text": [
      "/Users/caseliang/opt/anaconda3/lib/python3.7/site-packages/tqdm/autonotebook.py:17: TqdmExperimentalWarning: Using `tqdm.autonotebook.tqdm` in notebook mode. Use `tqdm.tqdm` instead to force console mode (e.g. in jupyter console)\n",
      "  \" (e.g. in jupyter console)\", TqdmExperimentalWarning)\n"
     ]
    }
   ],
   "source": [
    "import single_head\n",
    "import multi_head\n",
    "import copy\n",
    "import numpy as np\n",
    "import matplotlib.pyplot as plt\n",
    "import cv2\n",
    "from scipy.ndimage.morphology import binary_fill_holes\n",
    "import sys\n",
    "np.set_printoptions(threshold=sys.maxsize)\n",
    "from scipy.signal import detrend\n",
    "from single_head import SingleHead\n",
    "from multi_head import MultiHead\n",
    "import matplotlib.gridspec as gridspec\n",
    "%load_ext autoreload\n",
    "%autoreload 2"
   ]
  },
  {
   "cell_type": "code",
   "execution_count": 2,
   "metadata": {},
   "outputs": [],
   "source": [
    "# gen pickled heads\n",
    "Sequence=2"
   ]
  },
  {
   "cell_type": "code",
   "execution_count": 2,
   "metadata": {},
   "outputs": [
    {
     "ename": "NameError",
     "evalue": "name 'Sequence' is not defined",
     "output_type": "error",
     "traceback": [
      "\u001b[0;31m---------------------------------------------------------------------------\u001b[0m",
      "\u001b[0;31mNameError\u001b[0m                                 Traceback (most recent call last)",
      "\u001b[0;32m<ipython-input-2-dc4dc3ccaa26>\u001b[0m in \u001b[0;36m<module>\u001b[0;34m\u001b[0m\n\u001b[1;32m      2\u001b[0m \u001b[0;32mfor\u001b[0m \u001b[0mframe_idx\u001b[0m \u001b[0;32min\u001b[0m \u001b[0mrange\u001b[0m\u001b[0;34m(\u001b[0m\u001b[0;36m1\u001b[0m\u001b[0;34m,\u001b[0m \u001b[0;36m16\u001b[0m\u001b[0;34m)\u001b[0m\u001b[0;34m:\u001b[0m  \u001b[0;31m# loop through all frames\u001b[0m\u001b[0;34m\u001b[0m\u001b[0;34m\u001b[0m\u001b[0m\n\u001b[1;32m      3\u001b[0m     \u001b[0;31m# Read the data from the file, define by Sequence and frame_idx and store the data in a SingeHead object\u001b[0m\u001b[0;34m\u001b[0m\u001b[0;34m\u001b[0m\u001b[0;34m\u001b[0m\u001b[0m\n\u001b[0;32m----> 4\u001b[0;31m     head = SingleHead.read_from_file(Sequence,\n\u001b[0m\u001b[1;32m      5\u001b[0m                                      frame_idx)\n\u001b[1;32m      6\u001b[0m     \u001b[0;31m# apply all filters to remove the unwanted cloud points.\u001b[0m\u001b[0;34m\u001b[0m\u001b[0;34m\u001b[0m\u001b[0;34m\u001b[0m\u001b[0m\n",
      "\u001b[0;31mNameError\u001b[0m: name 'Sequence' is not defined"
     ]
    }
   ],
   "source": [
    "# Frame number in the data, range from 1 to 15.\n",
    "for frame_idx in range(1, 16):  # loop through all frames\n",
    "    # Read the data from the file, define by Sequence and frame_idx and store the data in a SingeHead object\n",
    "    head = SingleHead.read_from_file(Sequence,\n",
    "                                     frame_idx)\n",
    "    # apply all filters to remove the unwanted cloud points.\n",
    "    head.apply_all_filters()\n",
    "    # save the processed head\n",
    "    head.save()\n",
    "\n",
    "# create a list of all the heads, from the save SingleHead objects\n",
    "list_of_all_heads = [SingleHead.load_from_pickle(Sequence, i) for i in\n",
    "                     range(1, 16)]  \n",
    "\n",
    "# create a MultiHead object from the list:\n",
    "mhead = MultiHead.create_from_heads(list_of_all_heads)"
   ]
  },
  {
   "cell_type": "code",
   "execution_count": 3,
   "metadata": {},
   "outputs": [
    {
     "name": "stdout",
     "output_type": "stream",
     "text": [
      "creating mhead object from a list of SingleHead objects\n"
     ]
    }
   ],
   "source": [
    "# create a list of all the heads, from the save SingleHead objects\n",
    "list_of_all_heads = [SingleHead.load_from_pickle(Sequence, i) for i in\n",
    "                     range(1, 16)]  \n",
    "\n",
    "# create a MultiHead object from the list:\n",
    "mhead = MultiHead.create_from_heads(list_of_all_heads)"
   ]
  },
  {
   "cell_type": "code",
   "execution_count": 3,
   "metadata": {
    "scrolled": false
   },
   "outputs": [
    {
     "name": "stdout",
     "output_type": "stream",
     "text": [
      "Loading Sequence 2...done\n"
     ]
    }
   ],
   "source": [
    "mhead=MultiHead.load_from_pickle(Sequence)"
   ]
  },
  {
   "cell_type": "markdown",
   "metadata": {},
   "source": [
    "experiments:\n",
    "SIFT_contrastThreshold=0.02 SIFT_edgeThreshold 14, max_dist_matches 0.01 Prob 0.6 : More or Less OK\n",
    "unravelled matches = bf.knnMatch(head1.des, head2.des, k=2)\n",
    "knn=2 SIFT_contrastThreshold=0.01 EdgeThreshold 14, max_dist_matches 0.007 Prob 0.6 :\n",
    "\n",
    "knn=2 SIFT_contrastThreshold=0.02 EdgeThreshold 14, max_dist_matches 0.007 Prob 0.6 :\n"
   ]
  },
  {
   "cell_type": "code",
   "execution_count": null,
   "metadata": {
    "scrolled": true
   },
   "outputs": [
    {
     "name": "stdout",
     "output_type": "stream",
     "text": [
      "0.01 30\n",
      "2383\n",
      "0.6\n"
     ]
    },
    {
     "data": {
      "application/vnd.jupyter.widget-view+json": {
       "model_id": "b9552b16474e4fbaabd0ca2365984b4b",
       "version_major": 2,
       "version_minor": 0
      },
      "text/plain": [
       "HBox(children=(IntProgress(value=0, max=5000), HTML(value='')))"
      ]
     },
     "metadata": {},
     "output_type": "display_data"
    },
    {
     "name": "stdout",
     "output_type": "stream",
     "text": [
      "\n",
      "2527\n",
      "0.6\n"
     ]
    },
    {
     "data": {
      "application/vnd.jupyter.widget-view+json": {
       "model_id": "8930d846e61b45f7967e78a507163d4b",
       "version_major": 2,
       "version_minor": 0
      },
      "text/plain": [
       "HBox(children=(IntProgress(value=0, max=5000), HTML(value='')))"
      ]
     },
     "metadata": {},
     "output_type": "display_data"
    },
    {
     "name": "stdout",
     "output_type": "stream",
     "text": [
      "\n",
      "2328\n",
      "0.6\n"
     ]
    },
    {
     "data": {
      "application/vnd.jupyter.widget-view+json": {
       "model_id": "19be44ed8f444b0da02a574d28e6178c",
       "version_major": 2,
       "version_minor": 0
      },
      "text/plain": [
       "HBox(children=(IntProgress(value=0, max=5000), HTML(value='')))"
      ]
     },
     "metadata": {},
     "output_type": "display_data"
    },
    {
     "name": "stdout",
     "output_type": "stream",
     "text": [
      "\n",
      "2301\n",
      "0.6\n"
     ]
    },
    {
     "data": {
      "application/vnd.jupyter.widget-view+json": {
       "model_id": "e3b0f74fa9c044a4bcd5ff25b8b7d6dc",
       "version_major": 2,
       "version_minor": 0
      },
      "text/plain": [
       "HBox(children=(IntProgress(value=0, max=5000), HTML(value='')))"
      ]
     },
     "metadata": {},
     "output_type": "display_data"
    },
    {
     "name": "stdout",
     "output_type": "stream",
     "text": [
      "\n",
      "1941\n",
      "0.6\n"
     ]
    },
    {
     "data": {
      "application/vnd.jupyter.widget-view+json": {
       "model_id": "195084655c53496e945089d5804564d8",
       "version_major": 2,
       "version_minor": 0
      },
      "text/plain": [
       "HBox(children=(IntProgress(value=0, max=5000), HTML(value='')))"
      ]
     },
     "metadata": {},
     "output_type": "display_data"
    },
    {
     "name": "stdout",
     "output_type": "stream",
     "text": [
      "\n",
      "1693\n",
      "0.6\n"
     ]
    },
    {
     "data": {
      "application/vnd.jupyter.widget-view+json": {
       "model_id": "c8bad34a7aa146a8af30fc41cd9ee813",
       "version_major": 2,
       "version_minor": 0
      },
      "text/plain": [
       "HBox(children=(IntProgress(value=0, max=5000), HTML(value='')))"
      ]
     },
     "metadata": {},
     "output_type": "display_data"
    },
    {
     "name": "stdout",
     "output_type": "stream",
     "text": [
      "\n",
      "797\n",
      "0.6\n"
     ]
    },
    {
     "data": {
      "application/vnd.jupyter.widget-view+json": {
       "model_id": "6d2e768898884bdca003c308a31dbe3d",
       "version_major": 2,
       "version_minor": 0
      },
      "text/plain": [
       "HBox(children=(IntProgress(value=0, max=5000), HTML(value='')))"
      ]
     },
     "metadata": {},
     "output_type": "display_data"
    },
    {
     "name": "stdout",
     "output_type": "stream",
     "text": [
      "\n",
      "833\n",
      "0.6\n"
     ]
    },
    {
     "data": {
      "application/vnd.jupyter.widget-view+json": {
       "model_id": "c487539aeadf4fb2a677f01822a1e989",
       "version_major": 2,
       "version_minor": 0
      },
      "text/plain": [
       "HBox(children=(IntProgress(value=0, max=5000), HTML(value='')))"
      ]
     },
     "metadata": {},
     "output_type": "display_data"
    },
    {
     "name": "stdout",
     "output_type": "stream",
     "text": [
      "\n",
      "596\n",
      "0.6\n"
     ]
    },
    {
     "data": {
      "application/vnd.jupyter.widget-view+json": {
       "model_id": "744d87b6156d4de481dab04cbec4bacb",
       "version_major": 2,
       "version_minor": 0
      },
      "text/plain": [
       "HBox(children=(IntProgress(value=0, max=5000), HTML(value='')))"
      ]
     },
     "metadata": {},
     "output_type": "display_data"
    },
    {
     "name": "stdout",
     "output_type": "stream",
     "text": [
      "\n",
      "585\n",
      "0.6\n"
     ]
    },
    {
     "data": {
      "application/vnd.jupyter.widget-view+json": {
       "model_id": "722f283f9f974084ab21c9375328912a",
       "version_major": 2,
       "version_minor": 0
      },
      "text/plain": [
       "HBox(children=(IntProgress(value=0, max=5000), HTML(value='')))"
      ]
     },
     "metadata": {},
     "output_type": "display_data"
    },
    {
     "name": "stdout",
     "output_type": "stream",
     "text": [
      "\n",
      "1156\n",
      "0.6\n"
     ]
    },
    {
     "data": {
      "application/vnd.jupyter.widget-view+json": {
       "model_id": "2757ac7b531a4a0db8c1144e7d57d276",
       "version_major": 2,
       "version_minor": 0
      },
      "text/plain": [
       "HBox(children=(IntProgress(value=0, max=5000), HTML(value='')))"
      ]
     },
     "metadata": {},
     "output_type": "display_data"
    },
    {
     "name": "stdout",
     "output_type": "stream",
     "text": [
      "\n",
      "1317\n",
      "0.6\n"
     ]
    },
    {
     "data": {
      "application/vnd.jupyter.widget-view+json": {
       "model_id": "53a3141a49a24222a6ac33cfe06f13c0",
       "version_major": 2,
       "version_minor": 0
      },
      "text/plain": [
       "HBox(children=(IntProgress(value=0, max=5000), HTML(value='')))"
      ]
     },
     "metadata": {},
     "output_type": "display_data"
    },
    {
     "name": "stdout",
     "output_type": "stream",
     "text": [
      "\n",
      "2440\n",
      "0.6\n"
     ]
    },
    {
     "data": {
      "application/vnd.jupyter.widget-view+json": {
       "model_id": "8a7fb044da5f4b628b00ea89e1cbe95f",
       "version_major": 2,
       "version_minor": 0
      },
      "text/plain": [
       "HBox(children=(IntProgress(value=0, max=5000), HTML(value='')))"
      ]
     },
     "metadata": {},
     "output_type": "display_data"
    },
    {
     "name": "stdout",
     "output_type": "stream",
     "text": [
      "\n",
      "2571\n",
      "0.6\n"
     ]
    },
    {
     "data": {
      "application/vnd.jupyter.widget-view+json": {
       "model_id": "beb721e67f54433bafd980dcf914720a",
       "version_major": 2,
       "version_minor": 0
      },
      "text/plain": [
       "HBox(children=(IntProgress(value=0, max=5000), HTML(value='')))"
      ]
     },
     "metadata": {},
     "output_type": "display_data"
    },
    {
     "name": "stdout",
     "output_type": "stream",
     "text": [
      "\n",
      "2515\n",
      "0.6\n"
     ]
    },
    {
     "data": {
      "application/vnd.jupyter.widget-view+json": {
       "model_id": "9875d0475fc146bf8ad8d9c8e8023d4e",
       "version_major": 2,
       "version_minor": 0
      },
      "text/plain": [
       "HBox(children=(IntProgress(value=0, max=5000), HTML(value='')))"
      ]
     },
     "metadata": {},
     "output_type": "display_data"
    }
   ],
   "source": [
    "mhead.calc_all_sift_keypoints(SIFT_contrastThreshold=0.01, SIFT_edgeThreshold=30, SIFT_sigma=0.5)\n",
    "mhead.reset_all_head_positions()\n",
    "for idx in range(15):          \n",
    "    link=mhead.links[idx]\n",
    "    link.reset()\n",
    "    mhead.ransac_from_link(link)"
   ]
  },
  {
   "cell_type": "code",
   "execution_count": null,
   "metadata": {},
   "outputs": [],
   "source": [
    "# SIFT_contrastThreshold=0.02, SIFT_edgeThreshold=8, SIFT_sigma=0.5 ->0.03\n",
    "# SIFT_contrastThreshold=0.04, SIFT_edgeThreshold=8, SIFT_sigma=0.5 ->null\n",
    "mhead.reset_all_head_positions()\n",
    "mhead.Method_A(sift_transform_method=\"dynamic\", icp=False, refine_range=False, refine_local=False)\n",
    "mhead.left_eye_deviation()"
   ]
  },
  {
   "cell_type": "code",
   "execution_count": 13,
   "metadata": {},
   "outputs": [
    {
     "name": "stdout",
     "output_type": "stream",
     "text": [
      "15-14, Count=323, Err Matches=0.0011, Cov=-100.0\n",
      "1-15, Count=276, Err Matches=0.0011, Cov=-100.0\n",
      "2-1, Count=261, Err Matches=0.0012, Cov=-100.0\n",
      "3-2, Count=166, Err Matches=0.0025, Cov=-100.0\n",
      "4-3, Count=184, Err Matches=0.0023, Cov=-100.0\n",
      "5-4, Count=132, Err Matches=0.0041, Cov=-100.0\n",
      "6-5, Count=121, Err Matches=0.0029, Cov=-100.0\n",
      "14-13, Count=126, Err Matches=0.0046, Cov=-100.0\n",
      "7-6, Count=66, Err Matches=0.0051, Cov=-100.0\n",
      "8-7, Count=20, Err Matches=0.0062, Cov=-100.0\n",
      "9-8, Count=24, Err Matches=0.0067, Cov=-100.0\n",
      "10-9, Count=25, Err Matches=0.0066, Cov=-100.0\n",
      "11-10, Count=22, Err Matches=0.0052, Cov=-100.0\n",
      "13-12, Count=27, Err Matches=0.0143, Cov=-100.0\n",
      "mean distance: 0.0023165015852474693\n"
     ]
    },
    {
     "data": {
      "text/plain": [
       "0.0023165015852474693"
      ]
     },
     "execution_count": 13,
     "metadata": {},
     "output_type": "execute_result"
    }
   ],
   "source": [
    "# without refine\n",
    "mhead.reset_all_head_positions()\n",
    "mhead.Method_C(sift_transform_method=\"matches\", icp=False, refine_range=False, refine_local=False)\n",
    "mhead.left_eye_deviation()"
   ]
  },
  {
   "cell_type": "code",
   "execution_count": 17,
   "metadata": {
    "scrolled": true
   },
   "outputs": [],
   "source": [
    "mhead.reset_all_head_positions()\n",
    "mhead.all_transforms_from_link(mhead.links[10],icp=True)\n",
    "mhead.create_spheres(sparcity=0.5)\n",
    "\n",
    "mhead.show_spheres(sparcity=0.5)"
   ]
  },
  {
   "cell_type": "code",
   "execution_count": null,
   "metadata": {},
   "outputs": [],
   "source": [
    "# SIFT_contrastThreshold=0.04, SIFT_edgeThreshold=8, SIFT_sigma=1.6\n",
    "mhead.reset_all_head_positions()\n",
    "mhead.Method_A(sift_transform_method=\"matches\", icp=False, refine_range=False, refine_local=False)\n",
    "mhead.left_eye_deviation()"
   ]
  },
  {
   "cell_type": "code",
   "execution_count": 10,
   "metadata": {},
   "outputs": [
    {
     "name": "stdout",
     "output_type": "stream",
     "text": [
      "Saving Completed\n"
     ]
    }
   ],
   "source": [
    "mhead.save()"
   ]
  },
  {
   "cell_type": "code",
   "execution_count": 22,
   "metadata": {
    "scrolled": true
   },
   "outputs": [
    {
     "data": {
      "application/vnd.jupyter.widget-view+json": {
       "model_id": "52013457251b44ab8b596bdd00e7b21b",
       "version_major": 2,
       "version_minor": 0
      },
      "text/plain": [
       "HBox(children=(IntProgress(value=0, max=184), HTML(value='')))"
      ]
     },
     "metadata": {},
     "output_type": "display_data"
    },
    {
     "name": "stdout",
     "output_type": "stream",
     "text": [
      "\n",
      "completed\n"
     ]
    }
   ],
   "source": [
    "mhead.create_mesh(\"head_2_mesh\")"
   ]
  },
  {
   "cell_type": "code",
   "execution_count": 15,
   "metadata": {
    "scrolled": true
   },
   "outputs": [],
   "source": [
    "mhead.show_spheres(sparcity=0.15, name=None, alpha=0)"
   ]
  },
  {
   "cell_type": "code",
   "execution_count": 13,
   "metadata": {},
   "outputs": [
    {
     "name": "stdout",
     "output_type": "stream",
     "text": [
      "15-14, Count=417, Err Matches=0.0019, Cov=-100.0\n",
      "1-15, Count=393, Err Matches=0.0025, Cov=-100.0\n",
      "2-1, Count=398, Err Matches=0.0024, Cov=-100.0\n",
      "3-2, Count=328, Err Matches=0.0034, Cov=-100.0\n",
      "4-3, Count=265, Err Matches=0.0037, Cov=-100.0\n",
      "5-4, Count=250, Err Matches=0.0038, Cov=-100.0\n",
      "6-5, Count=206, Err Matches=0.0035, Cov=-100.0\n",
      "14-13, Count=255, Err Matches=0.0042, Cov=-100.0\n",
      "7-6, Count=110, Err Matches=0.0047, Cov=-100.0\n",
      "8-7, Count=55, Err Matches=0.0032, Cov=-100.0\n",
      "9-8, Count=42, Err Matches=0.0032, Cov=-100.0\n",
      "10-9, Count=63, Err Matches=0.0034, Cov=-100.0\n",
      "11-10, Count=54, Err Matches=0.0032, Cov=-100.0\n",
      "13-12, Count=93, Err Matches=0.0072, Cov=-100.0\n",
      "mean distance: 0.0017944911317906895\n"
     ]
    },
    {
     "data": {
      "text/plain": [
       "0.0017944911317906895"
      ]
     },
     "execution_count": 13,
     "metadata": {},
     "output_type": "execute_result"
    }
   ],
   "source": [
    "mhead.reset_all_head_positions()\n",
    "mhead.Method_C(sift_transform_method=\"matches\", icp=False, refine_range=False, refine_local=False)\n",
    "mhead.left_eye_deviation()"
   ]
  },
  {
   "cell_type": "code",
   "execution_count": 4,
   "metadata": {},
   "outputs": [
    {
     "name": "stdout",
     "output_type": "stream",
     "text": [
      "mean distance: 0.044562617757272535\n",
      "mean distance: 0.04883324973189866\n",
      "mean distance: 0.0486417817322522\n",
      "mean distance: 0.04511143518091311\n",
      "mean distance: 0.06759678426157688\n",
      "mean distance: 0.07374235378735006\n",
      "mean distance: 0.0032572919726481875\n",
      "mean distance: 0.00290217149260057\n",
      "mean distance: 0.0025628200013247493\n",
      "mean distance: 0.002104340656408771\n",
      "mean distance: 0.016566897972625543\n",
      "mean distance: 0.016566897972625543\n"
     ]
    },
    {
     "data": {
      "text/html": [
       "<div>\n",
       "<style scoped>\n",
       "    .dataframe tbody tr th:only-of-type {\n",
       "        vertical-align: middle;\n",
       "    }\n",
       "\n",
       "    .dataframe tbody tr th {\n",
       "        vertical-align: top;\n",
       "    }\n",
       "\n",
       "    .dataframe thead th {\n",
       "        text-align: right;\n",
       "    }\n",
       "</style>\n",
       "<table border=\"1\" class=\"dataframe\">\n",
       "  <thead>\n",
       "    <tr style=\"text-align: right;\">\n",
       "      <th></th>\n",
       "      <th>method</th>\n",
       "      <th>sift_transform_method</th>\n",
       "      <th>icp</th>\n",
       "      <th>refine_range</th>\n",
       "      <th>refine_local</th>\n",
       "      <th>mean_dist</th>\n",
       "    </tr>\n",
       "  </thead>\n",
       "  <tbody>\n",
       "    <tr>\n",
       "      <th>0</th>\n",
       "      <td>A</td>\n",
       "      <td>coverage</td>\n",
       "      <td>True</td>\n",
       "      <td>False</td>\n",
       "      <td>False</td>\n",
       "      <td>0.044563</td>\n",
       "    </tr>\n",
       "    <tr>\n",
       "      <th>1</th>\n",
       "      <td>A</td>\n",
       "      <td>coverage</td>\n",
       "      <td>False</td>\n",
       "      <td>False</td>\n",
       "      <td>False</td>\n",
       "      <td>0.048833</td>\n",
       "    </tr>\n",
       "    <tr>\n",
       "      <th>2</th>\n",
       "      <td>A</td>\n",
       "      <td>matches</td>\n",
       "      <td>True</td>\n",
       "      <td>False</td>\n",
       "      <td>False</td>\n",
       "      <td>0.048642</td>\n",
       "    </tr>\n",
       "    <tr>\n",
       "      <th>3</th>\n",
       "      <td>A</td>\n",
       "      <td>matches</td>\n",
       "      <td>False</td>\n",
       "      <td>False</td>\n",
       "      <td>False</td>\n",
       "      <td>0.045111</td>\n",
       "    </tr>\n",
       "    <tr>\n",
       "      <th>4</th>\n",
       "      <td>A</td>\n",
       "      <td>dynamic</td>\n",
       "      <td>True</td>\n",
       "      <td>False</td>\n",
       "      <td>False</td>\n",
       "      <td>0.067597</td>\n",
       "    </tr>\n",
       "    <tr>\n",
       "      <th>5</th>\n",
       "      <td>A</td>\n",
       "      <td>dynamic</td>\n",
       "      <td>False</td>\n",
       "      <td>False</td>\n",
       "      <td>False</td>\n",
       "      <td>0.073742</td>\n",
       "    </tr>\n",
       "    <tr>\n",
       "      <th>6</th>\n",
       "      <td>C</td>\n",
       "      <td>coverage</td>\n",
       "      <td>True</td>\n",
       "      <td>False</td>\n",
       "      <td>False</td>\n",
       "      <td>0.003257</td>\n",
       "    </tr>\n",
       "    <tr>\n",
       "      <th>7</th>\n",
       "      <td>C</td>\n",
       "      <td>coverage</td>\n",
       "      <td>False</td>\n",
       "      <td>False</td>\n",
       "      <td>False</td>\n",
       "      <td>0.002902</td>\n",
       "    </tr>\n",
       "    <tr>\n",
       "      <th>8</th>\n",
       "      <td>C</td>\n",
       "      <td>matches</td>\n",
       "      <td>True</td>\n",
       "      <td>False</td>\n",
       "      <td>False</td>\n",
       "      <td>0.002563</td>\n",
       "    </tr>\n",
       "    <tr>\n",
       "      <th>9</th>\n",
       "      <td>C</td>\n",
       "      <td>matches</td>\n",
       "      <td>False</td>\n",
       "      <td>False</td>\n",
       "      <td>False</td>\n",
       "      <td>0.002104</td>\n",
       "    </tr>\n",
       "    <tr>\n",
       "      <th>10</th>\n",
       "      <td>C</td>\n",
       "      <td>dynamic</td>\n",
       "      <td>True</td>\n",
       "      <td>False</td>\n",
       "      <td>False</td>\n",
       "      <td>0.016567</td>\n",
       "    </tr>\n",
       "    <tr>\n",
       "      <th>11</th>\n",
       "      <td>C</td>\n",
       "      <td>dynamic</td>\n",
       "      <td>False</td>\n",
       "      <td>False</td>\n",
       "      <td>False</td>\n",
       "      <td>0.016567</td>\n",
       "    </tr>\n",
       "  </tbody>\n",
       "</table>\n",
       "</div>"
      ],
      "text/plain": [
       "   method sift_transform_method    icp refine_range refine_local  mean_dist\n",
       "0       A              coverage   True        False        False   0.044563\n",
       "1       A              coverage  False        False        False   0.048833\n",
       "2       A               matches   True        False        False   0.048642\n",
       "3       A               matches  False        False        False   0.045111\n",
       "4       A               dynamic   True        False        False   0.067597\n",
       "5       A               dynamic  False        False        False   0.073742\n",
       "6       C              coverage   True        False        False   0.003257\n",
       "7       C              coverage  False        False        False   0.002902\n",
       "8       C               matches   True        False        False   0.002563\n",
       "9       C               matches  False        False        False   0.002104\n",
       "10      C               dynamic   True        False        False   0.016567\n",
       "11      C               dynamic  False        False        False   0.016567"
      ]
     },
     "execution_count": 4,
     "metadata": {},
     "output_type": "execute_result"
    }
   ],
   "source": [
    "mhead.try_methods()"
   ]
  },
  {
   "cell_type": "code",
   "execution_count": 57,
   "metadata": {},
   "outputs": [
    {
     "name": "stdout",
     "output_type": "stream",
     "text": [
      "\\begin{tabular}{lllr}\n",
      "\\toprule\n",
      "method &    method &    icp &  mean\\_dist \\\\\n",
      "\\midrule\n",
      "     A &  coverage &   True &   0.031942 \\\\\n",
      "     A &  coverage &  False &   0.028552 \\\\\n",
      "     A &   matches &   True &   0.051022 \\\\\n",
      "     A &   matches &  False &   0.061901 \\\\\n",
      "     A &   dynamic &   True &   0.060328 \\\\\n",
      "     A &   dynamic &  False &   0.058243 \\\\\n",
      "     C &  coverage &   True &   0.003782 \\\\\n",
      "     C &  coverage &  False &   0.003698 \\\\\n",
      "     C &   matches &   True &   0.002665 \\\\\n",
      "     C &   matches &  False &   0.002458 \\\\\n",
      "     C &   dynamic &   True &   0.016567 \\\\\n",
      "     C &   dynamic &  False &   0.016567 \\\\\n",
      "\\bottomrule\n",
      "\\end{tabular}\n",
      "\n"
     ]
    },
    {
     "data": {
      "text/html": [
       "<div>\n",
       "<style scoped>\n",
       "    .dataframe tbody tr th:only-of-type {\n",
       "        vertical-align: middle;\n",
       "    }\n",
       "\n",
       "    .dataframe tbody tr th {\n",
       "        vertical-align: top;\n",
       "    }\n",
       "\n",
       "    .dataframe thead th {\n",
       "        text-align: right;\n",
       "    }\n",
       "</style>\n",
       "<table border=\"1\" class=\"dataframe\">\n",
       "  <thead>\n",
       "    <tr style=\"text-align: right;\">\n",
       "      <th></th>\n",
       "      <th>method</th>\n",
       "      <th>method</th>\n",
       "      <th>icp</th>\n",
       "      <th>mean_dist</th>\n",
       "    </tr>\n",
       "  </thead>\n",
       "  <tbody>\n",
       "    <tr>\n",
       "      <th>0</th>\n",
       "      <td>A</td>\n",
       "      <td>coverage</td>\n",
       "      <td>True</td>\n",
       "      <td>0.031942</td>\n",
       "    </tr>\n",
       "    <tr>\n",
       "      <th>1</th>\n",
       "      <td>A</td>\n",
       "      <td>coverage</td>\n",
       "      <td>False</td>\n",
       "      <td>0.028552</td>\n",
       "    </tr>\n",
       "    <tr>\n",
       "      <th>2</th>\n",
       "      <td>A</td>\n",
       "      <td>matches</td>\n",
       "      <td>True</td>\n",
       "      <td>0.051022</td>\n",
       "    </tr>\n",
       "    <tr>\n",
       "      <th>3</th>\n",
       "      <td>A</td>\n",
       "      <td>matches</td>\n",
       "      <td>False</td>\n",
       "      <td>0.061901</td>\n",
       "    </tr>\n",
       "    <tr>\n",
       "      <th>4</th>\n",
       "      <td>A</td>\n",
       "      <td>dynamic</td>\n",
       "      <td>True</td>\n",
       "      <td>0.060328</td>\n",
       "    </tr>\n",
       "    <tr>\n",
       "      <th>5</th>\n",
       "      <td>A</td>\n",
       "      <td>dynamic</td>\n",
       "      <td>False</td>\n",
       "      <td>0.058243</td>\n",
       "    </tr>\n",
       "    <tr>\n",
       "      <th>6</th>\n",
       "      <td>C</td>\n",
       "      <td>coverage</td>\n",
       "      <td>True</td>\n",
       "      <td>0.003782</td>\n",
       "    </tr>\n",
       "    <tr>\n",
       "      <th>7</th>\n",
       "      <td>C</td>\n",
       "      <td>coverage</td>\n",
       "      <td>False</td>\n",
       "      <td>0.003698</td>\n",
       "    </tr>\n",
       "    <tr>\n",
       "      <th>8</th>\n",
       "      <td>C</td>\n",
       "      <td>matches</td>\n",
       "      <td>True</td>\n",
       "      <td>0.002665</td>\n",
       "    </tr>\n",
       "    <tr>\n",
       "      <th>9</th>\n",
       "      <td>C</td>\n",
       "      <td>matches</td>\n",
       "      <td>False</td>\n",
       "      <td>0.002458</td>\n",
       "    </tr>\n",
       "    <tr>\n",
       "      <th>10</th>\n",
       "      <td>C</td>\n",
       "      <td>dynamic</td>\n",
       "      <td>True</td>\n",
       "      <td>0.016567</td>\n",
       "    </tr>\n",
       "    <tr>\n",
       "      <th>11</th>\n",
       "      <td>C</td>\n",
       "      <td>dynamic</td>\n",
       "      <td>False</td>\n",
       "      <td>0.016567</td>\n",
       "    </tr>\n",
       "  </tbody>\n",
       "</table>\n",
       "</div>"
      ],
      "text/plain": [
       "   method    method    icp  mean_dist\n",
       "0       A  coverage   True   0.031942\n",
       "1       A  coverage  False   0.028552\n",
       "2       A   matches   True   0.051022\n",
       "3       A   matches  False   0.061901\n",
       "4       A   dynamic   True   0.060328\n",
       "5       A   dynamic  False   0.058243\n",
       "6       C  coverage   True   0.003782\n",
       "7       C  coverage  False   0.003698\n",
       "8       C   matches   True   0.002665\n",
       "9       C   matches  False   0.002458\n",
       "10      C   dynamic   True   0.016567\n",
       "11      C   dynamic  False   0.016567"
      ]
     },
     "execution_count": 57,
     "metadata": {},
     "output_type": "execute_result"
    }
   ],
   "source": [
    "mhead.create_res_for_report()"
   ]
  },
  {
   "cell_type": "code",
   "execution_count": 28,
   "metadata": {},
   "outputs": [
    {
     "name": "stdout",
     "output_type": "stream",
     "text": [
      "Saving Completed\n"
     ]
    }
   ],
   "source": [
    "mhead.save()"
   ]
  },
  {
   "cell_type": "code",
   "execution_count": 12,
   "metadata": {},
   "outputs": [
    {
     "name": "stdout",
     "output_type": "stream",
     "text": [
      "15-14, Count=440, Err Matches=0.0014, Cov=0.0\n",
      "1-15, Count=400, Err Matches=0.0018, Cov=0.0\n",
      "2-1, Count=353, Err Matches=0.0018, Cov=0.0\n",
      "3-2, Count=311, Err Matches=0.0025, Cov=0.0\n",
      "4-3, Count=290, Err Matches=0.0028, Cov=0.0\n",
      "5-4, Count=258, Err Matches=0.0029, Cov=0.0\n",
      "6-5, Count=207, Err Matches=0.0024, Cov=0.0\n",
      "14-13, Count=280, Err Matches=0.0032, Cov=0.0\n",
      "7-6, Count=114, Err Matches=0.0039, Cov=0.0\n",
      "8-7, Count=49, Err Matches=0.0026, Cov=0.0\n",
      "9-8, Count=43, Err Matches=0.0023, Cov=0.0\n",
      "10-9, Count=77, Err Matches=0.0037, Cov=0.0\n",
      "11-10, Count=63, Err Matches=0.0026, Cov=0.0\n",
      "12-11, Count=25, Err Matches=0.0056, Cov=0.0\n",
      "mean distance: 0.0025729387971295463\n"
     ]
    },
    {
     "data": {
      "text/plain": [
       "0.0025729387971295463"
      ]
     },
     "execution_count": 12,
     "metadata": {},
     "output_type": "execute_result"
    }
   ],
   "source": [
    "mhead.reset_all_head_positions()\n",
    "mhead.Method_C(sift_transform_method=\"matches\", icp=False, refine_range=False, refine_local=False)\n",
    "mhead.left_eye_deviation()"
   ]
  },
  {
   "cell_type": "code",
   "execution_count": 5,
   "metadata": {},
   "outputs": [],
   "source": [
    "mhead.show_spheres(sparcity=0.2)"
   ]
  },
  {
   "cell_type": "code",
   "execution_count": 6,
   "metadata": {},
   "outputs": [
    {
     "name": "stdout",
     "output_type": "stream",
     "text": [
      "[14, 15, 1, 2, 3, 4, 5, 6, 13, 7, 8, 9, 10, 11]\n"
     ]
    }
   ],
   "source": [
    "mhead.create_png_series(name=\"C\")"
   ]
  },
  {
   "cell_type": "code",
   "execution_count": 37,
   "metadata": {},
   "outputs": [
    {
     "name": "stdout",
     "output_type": "stream",
     "text": [
      "Saving Completed\n"
     ]
    }
   ],
   "source": [
    "mhead.save()"
   ]
  },
  {
   "cell_type": "code",
   "execution_count": 65,
   "metadata": {},
   "outputs": [
    {
     "name": "stdout",
     "output_type": "stream",
     "text": [
      "15-14, Count=440, Err Matches=0.0014, Cov=0.0\n",
      "1-15, Count=400, Err Matches=0.0018, Cov=0.0\n",
      "2-1, Count=353, Err Matches=0.0018, Cov=0.0\n",
      "3-2, Count=311, Err Matches=0.0026, Cov=0.0\n",
      "4-3, Count=290, Err Matches=0.0027, Cov=0.0\n",
      "5-4, Count=258, Err Matches=0.0029, Cov=0.0\n",
      "6-5, Count=207, Err Matches=0.0024, Cov=0.0\n",
      "14-13, Count=280, Err Matches=0.0032, Cov=0.0\n",
      "7-6, Count=114, Err Matches=0.0039, Cov=0.0\n",
      "8-7, Count=49, Err Matches=0.0026, Cov=0.0\n",
      "9-8, Count=43, Err Matches=0.0023, Cov=0.0\n",
      "10-9, Count=77, Err Matches=0.0037, Cov=0.0\n",
      "11-10, Count=63, Err Matches=0.0026, Cov=0.0\n",
      "12-11, Count=25, Err Matches=0.0056, Cov=0.0\n"
     ]
    }
   ],
   "source": [
    "mhead.Method_C(sift_transform_method=\"matches\", icp=True, refine_range=False, refine_local=False)"
   ]
  },
  {
   "cell_type": "code",
   "execution_count": 36,
   "metadata": {},
   "outputs": [
    {
     "name": "stdout",
     "output_type": "stream",
     "text": [
      "mean distance: 0.022836855443804347\n",
      "mean distance: 0.024896425912206428\n",
      "mean distance: 0.11108569647725974\n",
      "mean distance: 0.09473689357921358\n",
      "mean distance: 0.020802552257035388\n",
      "mean distance: 0.024851129459496534\n",
      "mean distance: 0.002994968233989574\n",
      "mean distance: 0.0025788335320753833\n",
      "mean distance: 0.0029214525144129876\n",
      "mean distance: 0.0025917509568462874\n",
      "mean distance: 0.016566897972625543\n",
      "mean distance: 0.016566897972625543\n"
     ]
    },
    {
     "data": {
      "text/html": [
       "<div>\n",
       "<style scoped>\n",
       "    .dataframe tbody tr th:only-of-type {\n",
       "        vertical-align: middle;\n",
       "    }\n",
       "\n",
       "    .dataframe tbody tr th {\n",
       "        vertical-align: top;\n",
       "    }\n",
       "\n",
       "    .dataframe thead th {\n",
       "        text-align: right;\n",
       "    }\n",
       "</style>\n",
       "<table border=\"1\" class=\"dataframe\">\n",
       "  <thead>\n",
       "    <tr style=\"text-align: right;\">\n",
       "      <th></th>\n",
       "      <th>method</th>\n",
       "      <th>sift_transform_method</th>\n",
       "      <th>icp</th>\n",
       "      <th>refine_range</th>\n",
       "      <th>refine_local</th>\n",
       "      <th>mean_dist</th>\n",
       "    </tr>\n",
       "  </thead>\n",
       "  <tbody>\n",
       "    <tr>\n",
       "      <th>0</th>\n",
       "      <td>A</td>\n",
       "      <td>coverage</td>\n",
       "      <td>True</td>\n",
       "      <td>False</td>\n",
       "      <td>False</td>\n",
       "      <td>0.022837</td>\n",
       "    </tr>\n",
       "    <tr>\n",
       "      <th>1</th>\n",
       "      <td>A</td>\n",
       "      <td>coverage</td>\n",
       "      <td>False</td>\n",
       "      <td>False</td>\n",
       "      <td>False</td>\n",
       "      <td>0.024896</td>\n",
       "    </tr>\n",
       "    <tr>\n",
       "      <th>2</th>\n",
       "      <td>A</td>\n",
       "      <td>matches</td>\n",
       "      <td>True</td>\n",
       "      <td>False</td>\n",
       "      <td>False</td>\n",
       "      <td>0.111086</td>\n",
       "    </tr>\n",
       "    <tr>\n",
       "      <th>3</th>\n",
       "      <td>A</td>\n",
       "      <td>matches</td>\n",
       "      <td>False</td>\n",
       "      <td>False</td>\n",
       "      <td>False</td>\n",
       "      <td>0.094737</td>\n",
       "    </tr>\n",
       "    <tr>\n",
       "      <th>4</th>\n",
       "      <td>A</td>\n",
       "      <td>dynamic</td>\n",
       "      <td>True</td>\n",
       "      <td>False</td>\n",
       "      <td>False</td>\n",
       "      <td>0.020803</td>\n",
       "    </tr>\n",
       "    <tr>\n",
       "      <th>5</th>\n",
       "      <td>A</td>\n",
       "      <td>dynamic</td>\n",
       "      <td>False</td>\n",
       "      <td>False</td>\n",
       "      <td>False</td>\n",
       "      <td>0.024851</td>\n",
       "    </tr>\n",
       "    <tr>\n",
       "      <th>6</th>\n",
       "      <td>C</td>\n",
       "      <td>coverage</td>\n",
       "      <td>True</td>\n",
       "      <td>False</td>\n",
       "      <td>False</td>\n",
       "      <td>0.002995</td>\n",
       "    </tr>\n",
       "    <tr>\n",
       "      <th>7</th>\n",
       "      <td>C</td>\n",
       "      <td>coverage</td>\n",
       "      <td>False</td>\n",
       "      <td>False</td>\n",
       "      <td>False</td>\n",
       "      <td>0.002579</td>\n",
       "    </tr>\n",
       "    <tr>\n",
       "      <th>8</th>\n",
       "      <td>C</td>\n",
       "      <td>matches</td>\n",
       "      <td>True</td>\n",
       "      <td>False</td>\n",
       "      <td>False</td>\n",
       "      <td>0.002921</td>\n",
       "    </tr>\n",
       "    <tr>\n",
       "      <th>9</th>\n",
       "      <td>C</td>\n",
       "      <td>matches</td>\n",
       "      <td>False</td>\n",
       "      <td>False</td>\n",
       "      <td>False</td>\n",
       "      <td>0.002592</td>\n",
       "    </tr>\n",
       "    <tr>\n",
       "      <th>10</th>\n",
       "      <td>C</td>\n",
       "      <td>dynamic</td>\n",
       "      <td>True</td>\n",
       "      <td>False</td>\n",
       "      <td>False</td>\n",
       "      <td>0.016567</td>\n",
       "    </tr>\n",
       "    <tr>\n",
       "      <th>11</th>\n",
       "      <td>C</td>\n",
       "      <td>dynamic</td>\n",
       "      <td>False</td>\n",
       "      <td>False</td>\n",
       "      <td>False</td>\n",
       "      <td>0.016567</td>\n",
       "    </tr>\n",
       "  </tbody>\n",
       "</table>\n",
       "</div>"
      ],
      "text/plain": [
       "   method sift_transform_method    icp refine_range refine_local  mean_dist\n",
       "0       A              coverage   True        False        False   0.022837\n",
       "1       A              coverage  False        False        False   0.024896\n",
       "2       A               matches   True        False        False   0.111086\n",
       "3       A               matches  False        False        False   0.094737\n",
       "4       A               dynamic   True        False        False   0.020803\n",
       "5       A               dynamic  False        False        False   0.024851\n",
       "6       C              coverage   True        False        False   0.002995\n",
       "7       C              coverage  False        False        False   0.002579\n",
       "8       C               matches   True        False        False   0.002921\n",
       "9       C               matches  False        False        False   0.002592\n",
       "10      C               dynamic   True        False        False   0.016567\n",
       "11      C               dynamic  False        False        False   0.016567"
      ]
     },
     "execution_count": 36,
     "metadata": {},
     "output_type": "execute_result"
    }
   ],
   "source": [
    "mhead.try_methods()"
   ]
  },
  {
   "cell_type": "code",
   "execution_count": null,
   "metadata": {},
   "outputs": [],
   "source": [
    "mhead.show"
   ]
  }
 ],
 "metadata": {
  "kernelspec": {
   "display_name": "Python 3",
   "language": "python",
   "name": "python3"
  },
  "language_info": {
   "codemirror_mode": {
    "name": "ipython",
    "version": 3
   },
   "file_extension": ".py",
   "mimetype": "text/x-python",
   "name": "python",
   "nbconvert_exporter": "python",
   "pygments_lexer": "ipython3",
   "version": "3.7.4"
  }
 },
 "nbformat": 4,
 "nbformat_minor": 4
}
