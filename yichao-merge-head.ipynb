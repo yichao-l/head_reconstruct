{
 "cells": [
  {
   "cell_type": "code",
   "execution_count": 4,
   "metadata": {},
   "outputs": [
    {
     "name": "stdout",
     "output_type": "stream",
     "text": [
      "The autoreload extension is already loaded. To reload it, use:\n",
      "  %reload_ext autoreload\n"
     ]
    }
   ],
   "source": [
    "import single_head\n",
    "import multi_head\n",
    "import copy\n",
    "import numpy as np\n",
    "import matplotlib.pyplot as plt\n",
    "import cv2\n",
    "from scipy.ndimage.morphology import binary_fill_holes\n",
    "import sys\n",
    "import pickle\n",
    "np.set_printoptions(threshold=sys.maxsize)\n",
    "\n",
    "%load_ext autoreload\n",
    "%autoreload 2"
   ]
  },
  {
   "cell_type": "code",
   "execution_count": 33,
   "metadata": {},
   "outputs": [],
   "source": [
    "# load heads\n",
    "all_heads=[single_head.SingleHead.load_from_pickle(2,i) for i in range (1,16)]"
   ]
  },
  {
   "cell_type": "code",
   "execution_count": null,
   "metadata": {},
   "outputs": [],
   "source": [
    "# make head from first to last\n",
    "def make_mhead(all_heads, first, last):\n",
    "    all_heads[first].reset_positions()\n",
    "    all_heads[first].reset_colors()\n",
    "    all_heads[first+1].reset_positions()\n",
    "    all_heads[first+1].reset_colors()   \n",
    "    heads = multi_head.MultiHead.joined_heads(all_heads[first], all_heads[first+1])\n",
    "    heads.links.append(multi_head.Link(left=all_heads[first+1].frame_id,right=all_heads[first].frame_id))\n",
    "    for i in range(first+2,last+1):\n",
    "        heads.links.append(multi_head.Link(left=all_heads[i].frame_id,right=all_heads[i-1].frame_id))\n",
    "        all_heads[i].reset_positions()\n",
    "        all_heads[i].reset_colors()\n",
    "        heads.append(all_heads[i])        \n",
    "        if i==last:\n",
    "             heads.links.append(multi_head.Link(left=all_heads[first].frame_id,right=all_heads[i].frame_id))\n",
    "    print (\"completed\")\n",
    "    return heads"
   ]
  },
  {
   "cell_type": "code",
   "execution_count": 34,
   "metadata": {},
   "outputs": [
    {
     "name": "stdout",
     "output_type": "stream",
     "text": [
      "completed\n"
     ]
    }
   ],
   "source": [
    "mhead = make_mhead(all_heads, 0,14)\n",
    "mhead.calc_keypoints()"
   ]
  },
  {
   "cell_type": "code",
   "execution_count": 5,
   "metadata": {},
   "outputs": [],
   "source": [
    "mhead = multi_head.MultiHead.load_from_pickle(1)"
   ]
  },
  {
   "cell_type": "code",
   "execution_count": 8,
   "metadata": {
    "scrolled": true
   },
   "outputs": [],
   "source": [
    "# find the best matches\n",
    "def calc_connections(mhead):\n",
    "    for link in mhead.links:\n",
    "        link.reset()\n",
    "        mhead.ransac_from_link(link)        "
   ]
  },
  {
   "cell_type": "code",
   "execution_count": null,
   "metadata": {},
   "outputs": [],
   "source": [
    "mhead.save()"
   ]
  },
  {
   "cell_type": "code",
   "execution_count": 10,
   "metadata": {
    "scrolled": true
   },
   "outputs": [
    {
     "name": "stdout",
     "output_type": "stream",
     "text": [
      "head1\n"
     ]
    },
    {
     "data": {
      "application/vnd.jupyter.widget-view+json": {
       "model_id": "297172b2db654bff8af4f0c96653b9fc",
       "version_major": 2,
       "version_minor": 0
      },
      "text/plain": [
       "HBox(children=(IntProgress(value=0, max=10000), HTML(value='')))"
      ]
     },
     "metadata": {},
     "output_type": "display_data"
    },
    {
     "name": "stderr",
     "output_type": "stream",
     "text": [
      "/Users/caseliang/Repositories/AV_CW/SIFT.py:91: RuntimeWarning: invalid value encountered in sqrt\n",
      "  err = np.sqrt(np.var(dist) / (np.sum(inliers) - min_num_inliers))\n",
      "/Users/caseliang/Repositories/AV_CW/SIFT.py:91: RuntimeWarning: divide by zero encountered in double_scalars\n",
      "  err = np.sqrt(np.var(dist) / (np.sum(inliers) - min_num_inliers))\n"
     ]
    },
    {
     "name": "stdout",
     "output_type": "stream",
     "text": [
      "\n"
     ]
    },
    {
     "data": {
      "application/vnd.jupyter.widget-view+json": {
       "model_id": "a9e281bf7651407393a6643ccd318642",
       "version_major": 2,
       "version_minor": 0
      },
      "text/plain": [
       "HBox(children=(IntProgress(value=0, max=10000), HTML(value='')))"
      ]
     },
     "metadata": {},
     "output_type": "display_data"
    },
    {
     "name": "stdout",
     "output_type": "stream",
     "text": [
      "\n"
     ]
    },
    {
     "data": {
      "application/vnd.jupyter.widget-view+json": {
       "model_id": "4f1f20220eec4a9584e58fc46d6e90f6",
       "version_major": 2,
       "version_minor": 0
      },
      "text/plain": [
       "HBox(children=(IntProgress(value=0, max=10000), HTML(value='')))"
      ]
     },
     "metadata": {},
     "output_type": "display_data"
    },
    {
     "name": "stdout",
     "output_type": "stream",
     "text": [
      "\n"
     ]
    },
    {
     "data": {
      "application/vnd.jupyter.widget-view+json": {
       "model_id": "0722f7e7094547ceb8a7f09e433602dc",
       "version_major": 2,
       "version_minor": 0
      },
      "text/plain": [
       "HBox(children=(IntProgress(value=0, max=10000), HTML(value='')))"
      ]
     },
     "metadata": {},
     "output_type": "display_data"
    },
    {
     "name": "stdout",
     "output_type": "stream",
     "text": [
      "\n"
     ]
    },
    {
     "data": {
      "application/vnd.jupyter.widget-view+json": {
       "model_id": "3dbad2c6fb224c5bb0ce24d37b0ff577",
       "version_major": 2,
       "version_minor": 0
      },
      "text/plain": [
       "HBox(children=(IntProgress(value=0, max=10000), HTML(value='')))"
      ]
     },
     "metadata": {},
     "output_type": "display_data"
    },
    {
     "name": "stdout",
     "output_type": "stream",
     "text": [
      "\n"
     ]
    },
    {
     "data": {
      "application/vnd.jupyter.widget-view+json": {
       "model_id": "54029e9d8f4940099f39276f8f66ba30",
       "version_major": 2,
       "version_minor": 0
      },
      "text/plain": [
       "HBox(children=(IntProgress(value=0, max=10000), HTML(value='')))"
      ]
     },
     "metadata": {},
     "output_type": "display_data"
    },
    {
     "name": "stdout",
     "output_type": "stream",
     "text": [
      "\n"
     ]
    },
    {
     "data": {
      "application/vnd.jupyter.widget-view+json": {
       "model_id": "07cbd0254ada4722b08b55fea562abe1",
       "version_major": 2,
       "version_minor": 0
      },
      "text/plain": [
       "HBox(children=(IntProgress(value=0, max=10000), HTML(value='')))"
      ]
     },
     "metadata": {},
     "output_type": "display_data"
    },
    {
     "name": "stdout",
     "output_type": "stream",
     "text": [
      "\n"
     ]
    },
    {
     "data": {
      "application/vnd.jupyter.widget-view+json": {
       "model_id": "ba79befc66584cf9a830b5c7cf2c13a7",
       "version_major": 2,
       "version_minor": 0
      },
      "text/plain": [
       "HBox(children=(IntProgress(value=0, max=10000), HTML(value='')))"
      ]
     },
     "metadata": {},
     "output_type": "display_data"
    },
    {
     "name": "stdout",
     "output_type": "stream",
     "text": [
      "\n"
     ]
    },
    {
     "data": {
      "application/vnd.jupyter.widget-view+json": {
       "model_id": "4348b55e13564efba4212c80e9e0897f",
       "version_major": 2,
       "version_minor": 0
      },
      "text/plain": [
       "HBox(children=(IntProgress(value=0, max=10000), HTML(value='')))"
      ]
     },
     "metadata": {},
     "output_type": "display_data"
    },
    {
     "name": "stdout",
     "output_type": "stream",
     "text": [
      "\n"
     ]
    },
    {
     "data": {
      "application/vnd.jupyter.widget-view+json": {
       "model_id": "5f97862882324fee94eb16db794dc4c0",
       "version_major": 2,
       "version_minor": 0
      },
      "text/plain": [
       "HBox(children=(IntProgress(value=0, max=10000), HTML(value='')))"
      ]
     },
     "metadata": {},
     "output_type": "display_data"
    },
    {
     "name": "stdout",
     "output_type": "stream",
     "text": [
      "\n"
     ]
    },
    {
     "data": {
      "application/vnd.jupyter.widget-view+json": {
       "model_id": "f71173e9c8744aa9b3b0ad4594f16072",
       "version_major": 2,
       "version_minor": 0
      },
      "text/plain": [
       "HBox(children=(IntProgress(value=0, max=10000), HTML(value='')))"
      ]
     },
     "metadata": {},
     "output_type": "display_data"
    },
    {
     "name": "stdout",
     "output_type": "stream",
     "text": [
      "\n"
     ]
    },
    {
     "data": {
      "application/vnd.jupyter.widget-view+json": {
       "model_id": "99ad2691e1224f1282c7671bc876c117",
       "version_major": 2,
       "version_minor": 0
      },
      "text/plain": [
       "HBox(children=(IntProgress(value=0, max=10000), HTML(value='')))"
      ]
     },
     "metadata": {},
     "output_type": "display_data"
    },
    {
     "name": "stdout",
     "output_type": "stream",
     "text": [
      "\n"
     ]
    },
    {
     "data": {
      "application/vnd.jupyter.widget-view+json": {
       "model_id": "7de9939f77a64529ad2428b38e48c678",
       "version_major": 2,
       "version_minor": 0
      },
      "text/plain": [
       "HBox(children=(IntProgress(value=0, max=10000), HTML(value='')))"
      ]
     },
     "metadata": {},
     "output_type": "display_data"
    },
    {
     "name": "stdout",
     "output_type": "stream",
     "text": [
      "\n"
     ]
    },
    {
     "data": {
      "application/vnd.jupyter.widget-view+json": {
       "model_id": "c7555903aa3b4fa48d3e751267bef590",
       "version_major": 2,
       "version_minor": 0
      },
      "text/plain": [
       "HBox(children=(IntProgress(value=0, max=10000), HTML(value='')))"
      ]
     },
     "metadata": {},
     "output_type": "display_data"
    },
    {
     "name": "stdout",
     "output_type": "stream",
     "text": [
      "\n"
     ]
    },
    {
     "data": {
      "application/vnd.jupyter.widget-view+json": {
       "model_id": "e8ace6face524fcaa65377f3e2d93358",
       "version_major": 2,
       "version_minor": 0
      },
      "text/plain": [
       "HBox(children=(IntProgress(value=0, max=10000), HTML(value='')))"
      ]
     },
     "metadata": {},
     "output_type": "display_data"
    },
    {
     "name": "stdout",
     "output_type": "stream",
     "text": [
      "\n",
      "Saving Completed\n",
      "head2\n"
     ]
    },
    {
     "data": {
      "application/vnd.jupyter.widget-view+json": {
       "model_id": "0168e22e96fe4389aca6609a4509d339",
       "version_major": 2,
       "version_minor": 0
      },
      "text/plain": [
       "HBox(children=(IntProgress(value=0, max=10000), HTML(value='')))"
      ]
     },
     "metadata": {},
     "output_type": "display_data"
    },
    {
     "name": "stdout",
     "output_type": "stream",
     "text": [
      "\n"
     ]
    },
    {
     "data": {
      "application/vnd.jupyter.widget-view+json": {
       "model_id": "6d1fdd4206904b78b347cbafb0eb193a",
       "version_major": 2,
       "version_minor": 0
      },
      "text/plain": [
       "HBox(children=(IntProgress(value=0, max=10000), HTML(value='')))"
      ]
     },
     "metadata": {},
     "output_type": "display_data"
    },
    {
     "name": "stdout",
     "output_type": "stream",
     "text": [
      "\n"
     ]
    },
    {
     "data": {
      "application/vnd.jupyter.widget-view+json": {
       "model_id": "93b7ff0025ac4f3ab951fb63531ca91a",
       "version_major": 2,
       "version_minor": 0
      },
      "text/plain": [
       "HBox(children=(IntProgress(value=0, max=10000), HTML(value='')))"
      ]
     },
     "metadata": {},
     "output_type": "display_data"
    },
    {
     "name": "stdout",
     "output_type": "stream",
     "text": [
      "\n"
     ]
    },
    {
     "data": {
      "application/vnd.jupyter.widget-view+json": {
       "model_id": "942869dfdefd4a69a66a323e4457cc99",
       "version_major": 2,
       "version_minor": 0
      },
      "text/plain": [
       "HBox(children=(IntProgress(value=0, max=10000), HTML(value='')))"
      ]
     },
     "metadata": {},
     "output_type": "display_data"
    },
    {
     "name": "stdout",
     "output_type": "stream",
     "text": [
      "\n"
     ]
    },
    {
     "data": {
      "application/vnd.jupyter.widget-view+json": {
       "model_id": "5590b328cca049689b1f56272beb6fb8",
       "version_major": 2,
       "version_minor": 0
      },
      "text/plain": [
       "HBox(children=(IntProgress(value=0, max=10000), HTML(value='')))"
      ]
     },
     "metadata": {},
     "output_type": "display_data"
    },
    {
     "name": "stdout",
     "output_type": "stream",
     "text": [
      "\n"
     ]
    },
    {
     "data": {
      "application/vnd.jupyter.widget-view+json": {
       "model_id": "7fe1ac1ca4074e7e8ec0c227ed16e2d8",
       "version_major": 2,
       "version_minor": 0
      },
      "text/plain": [
       "HBox(children=(IntProgress(value=0, max=10000), HTML(value='')))"
      ]
     },
     "metadata": {},
     "output_type": "display_data"
    },
    {
     "name": "stdout",
     "output_type": "stream",
     "text": [
      "\n"
     ]
    },
    {
     "data": {
      "application/vnd.jupyter.widget-view+json": {
       "model_id": "3ad3d6b9f5e1403fb0c2e24ceb3919ff",
       "version_major": 2,
       "version_minor": 0
      },
      "text/plain": [
       "HBox(children=(IntProgress(value=0, max=10000), HTML(value='')))"
      ]
     },
     "metadata": {},
     "output_type": "display_data"
    },
    {
     "name": "stdout",
     "output_type": "stream",
     "text": [
      "\n"
     ]
    },
    {
     "data": {
      "application/vnd.jupyter.widget-view+json": {
       "model_id": "4becb956d8cb4e289db8328e69bf2466",
       "version_major": 2,
       "version_minor": 0
      },
      "text/plain": [
       "HBox(children=(IntProgress(value=0, max=10000), HTML(value='')))"
      ]
     },
     "metadata": {},
     "output_type": "display_data"
    },
    {
     "name": "stdout",
     "output_type": "stream",
     "text": [
      "\n"
     ]
    },
    {
     "data": {
      "application/vnd.jupyter.widget-view+json": {
       "model_id": "3a937672f817462e88fffcf55835ce60",
       "version_major": 2,
       "version_minor": 0
      },
      "text/plain": [
       "HBox(children=(IntProgress(value=0, max=10000), HTML(value='')))"
      ]
     },
     "metadata": {},
     "output_type": "display_data"
    },
    {
     "name": "stdout",
     "output_type": "stream",
     "text": [
      "\n"
     ]
    },
    {
     "data": {
      "application/vnd.jupyter.widget-view+json": {
       "model_id": "fb453469edaa4504ab527851dcca57ac",
       "version_major": 2,
       "version_minor": 0
      },
      "text/plain": [
       "HBox(children=(IntProgress(value=0, max=10000), HTML(value='')))"
      ]
     },
     "metadata": {},
     "output_type": "display_data"
    },
    {
     "name": "stdout",
     "output_type": "stream",
     "text": [
      "\n"
     ]
    },
    {
     "data": {
      "application/vnd.jupyter.widget-view+json": {
       "model_id": "934ebc2aad9b45b696812c9c614499dd",
       "version_major": 2,
       "version_minor": 0
      },
      "text/plain": [
       "HBox(children=(IntProgress(value=0, max=10000), HTML(value='')))"
      ]
     },
     "metadata": {},
     "output_type": "display_data"
    },
    {
     "name": "stdout",
     "output_type": "stream",
     "text": [
      "\n"
     ]
    },
    {
     "data": {
      "application/vnd.jupyter.widget-view+json": {
       "model_id": "963a697c4726422c93ea4534c62fbab2",
       "version_major": 2,
       "version_minor": 0
      },
      "text/plain": [
       "HBox(children=(IntProgress(value=0, max=10000), HTML(value='')))"
      ]
     },
     "metadata": {},
     "output_type": "display_data"
    },
    {
     "name": "stdout",
     "output_type": "stream",
     "text": [
      "\n"
     ]
    },
    {
     "data": {
      "application/vnd.jupyter.widget-view+json": {
       "model_id": "ea75fefacbd44fba9ba9b1d353e1df6c",
       "version_major": 2,
       "version_minor": 0
      },
      "text/plain": [
       "HBox(children=(IntProgress(value=0, max=10000), HTML(value='')))"
      ]
     },
     "metadata": {},
     "output_type": "display_data"
    },
    {
     "name": "stdout",
     "output_type": "stream",
     "text": [
      "\n"
     ]
    },
    {
     "data": {
      "application/vnd.jupyter.widget-view+json": {
       "model_id": "caab919e5d244c08b80ad2b85302fbb9",
       "version_major": 2,
       "version_minor": 0
      },
      "text/plain": [
       "HBox(children=(IntProgress(value=0, max=10000), HTML(value='')))"
      ]
     },
     "metadata": {},
     "output_type": "display_data"
    },
    {
     "name": "stdout",
     "output_type": "stream",
     "text": [
      "\n"
     ]
    },
    {
     "data": {
      "application/vnd.jupyter.widget-view+json": {
       "model_id": "cd7318f38ad6471db2249a0ab4abb753",
       "version_major": 2,
       "version_minor": 0
      },
      "text/plain": [
       "HBox(children=(IntProgress(value=0, max=10000), HTML(value='')))"
      ]
     },
     "metadata": {},
     "output_type": "display_data"
    },
    {
     "name": "stdout",
     "output_type": "stream",
     "text": [
      "\n",
      "Saving Completed\n",
      "head3\n"
     ]
    },
    {
     "data": {
      "application/vnd.jupyter.widget-view+json": {
       "model_id": "0cb40ce18f044ea78e7a150b53f328b9",
       "version_major": 2,
       "version_minor": 0
      },
      "text/plain": [
       "HBox(children=(IntProgress(value=0, max=10000), HTML(value='')))"
      ]
     },
     "metadata": {},
     "output_type": "display_data"
    },
    {
     "name": "stdout",
     "output_type": "stream",
     "text": [
      "\n"
     ]
    },
    {
     "data": {
      "application/vnd.jupyter.widget-view+json": {
       "model_id": "095ae549674c4c43b0e49752b1d0646a",
       "version_major": 2,
       "version_minor": 0
      },
      "text/plain": [
       "HBox(children=(IntProgress(value=0, max=10000), HTML(value='')))"
      ]
     },
     "metadata": {},
     "output_type": "display_data"
    },
    {
     "name": "stdout",
     "output_type": "stream",
     "text": [
      "\n"
     ]
    },
    {
     "data": {
      "application/vnd.jupyter.widget-view+json": {
       "model_id": "27428f21df884e3d9037f56ab7b94a71",
       "version_major": 2,
       "version_minor": 0
      },
      "text/plain": [
       "HBox(children=(IntProgress(value=0, max=10000), HTML(value='')))"
      ]
     },
     "metadata": {},
     "output_type": "display_data"
    },
    {
     "name": "stdout",
     "output_type": "stream",
     "text": [
      "\n"
     ]
    },
    {
     "data": {
      "application/vnd.jupyter.widget-view+json": {
       "model_id": "5370f437af074a6e8c70eea7293c95be",
       "version_major": 2,
       "version_minor": 0
      },
      "text/plain": [
       "HBox(children=(IntProgress(value=0, max=10000), HTML(value='')))"
      ]
     },
     "metadata": {},
     "output_type": "display_data"
    },
    {
     "name": "stdout",
     "output_type": "stream",
     "text": [
      "\n"
     ]
    },
    {
     "data": {
      "application/vnd.jupyter.widget-view+json": {
       "model_id": "db475f4899e4442daaafbef27814b985",
       "version_major": 2,
       "version_minor": 0
      },
      "text/plain": [
       "HBox(children=(IntProgress(value=0, max=10000), HTML(value='')))"
      ]
     },
     "metadata": {},
     "output_type": "display_data"
    },
    {
     "name": "stdout",
     "output_type": "stream",
     "text": [
      "\n"
     ]
    },
    {
     "data": {
      "application/vnd.jupyter.widget-view+json": {
       "model_id": "42cd5a3d18164f4fae7cb21b0e48df00",
       "version_major": 2,
       "version_minor": 0
      },
      "text/plain": [
       "HBox(children=(IntProgress(value=0, max=10000), HTML(value='')))"
      ]
     },
     "metadata": {},
     "output_type": "display_data"
    },
    {
     "name": "stdout",
     "output_type": "stream",
     "text": [
      "\n"
     ]
    },
    {
     "data": {
      "application/vnd.jupyter.widget-view+json": {
       "model_id": "f1c338f45cc24874ad381b7e666b811b",
       "version_major": 2,
       "version_minor": 0
      },
      "text/plain": [
       "HBox(children=(IntProgress(value=0, max=10000), HTML(value='')))"
      ]
     },
     "metadata": {},
     "output_type": "display_data"
    },
    {
     "name": "stdout",
     "output_type": "stream",
     "text": [
      "\n"
     ]
    },
    {
     "data": {
      "application/vnd.jupyter.widget-view+json": {
       "model_id": "c07385e2ca384382bb5c2eadf00878be",
       "version_major": 2,
       "version_minor": 0
      },
      "text/plain": [
       "HBox(children=(IntProgress(value=0, max=10000), HTML(value='')))"
      ]
     },
     "metadata": {},
     "output_type": "display_data"
    },
    {
     "name": "stdout",
     "output_type": "stream",
     "text": [
      "\n"
     ]
    },
    {
     "data": {
      "application/vnd.jupyter.widget-view+json": {
       "model_id": "9ee9993d40e2433ca0701a534bfab8c5",
       "version_major": 2,
       "version_minor": 0
      },
      "text/plain": [
       "HBox(children=(IntProgress(value=0, max=10000), HTML(value='')))"
      ]
     },
     "metadata": {},
     "output_type": "display_data"
    },
    {
     "name": "stdout",
     "output_type": "stream",
     "text": [
      "\n"
     ]
    },
    {
     "data": {
      "application/vnd.jupyter.widget-view+json": {
       "model_id": "d3222976444243e1977d7bc0505f73ce",
       "version_major": 2,
       "version_minor": 0
      },
      "text/plain": [
       "HBox(children=(IntProgress(value=0, max=10000), HTML(value='')))"
      ]
     },
     "metadata": {},
     "output_type": "display_data"
    },
    {
     "name": "stdout",
     "output_type": "stream",
     "text": [
      "\n"
     ]
    },
    {
     "data": {
      "application/vnd.jupyter.widget-view+json": {
       "model_id": "8387c999ece64cde83329613e49b8fb4",
       "version_major": 2,
       "version_minor": 0
      },
      "text/plain": [
       "HBox(children=(IntProgress(value=0, max=10000), HTML(value='')))"
      ]
     },
     "metadata": {},
     "output_type": "display_data"
    },
    {
     "name": "stdout",
     "output_type": "stream",
     "text": [
      "\n"
     ]
    },
    {
     "data": {
      "application/vnd.jupyter.widget-view+json": {
       "model_id": "4b9752318ebc4b1c99bb6f17300de8af",
       "version_major": 2,
       "version_minor": 0
      },
      "text/plain": [
       "HBox(children=(IntProgress(value=0, max=10000), HTML(value='')))"
      ]
     },
     "metadata": {},
     "output_type": "display_data"
    },
    {
     "name": "stdout",
     "output_type": "stream",
     "text": [
      "\n"
     ]
    },
    {
     "data": {
      "application/vnd.jupyter.widget-view+json": {
       "model_id": "50aacc652aaa4d3fb679a4f0d7c9322f",
       "version_major": 2,
       "version_minor": 0
      },
      "text/plain": [
       "HBox(children=(IntProgress(value=0, max=10000), HTML(value='')))"
      ]
     },
     "metadata": {},
     "output_type": "display_data"
    },
    {
     "name": "stdout",
     "output_type": "stream",
     "text": [
      "\n"
     ]
    },
    {
     "data": {
      "application/vnd.jupyter.widget-view+json": {
       "model_id": "4795a80ea09e4523b94fe28ea9d3ad5a",
       "version_major": 2,
       "version_minor": 0
      },
      "text/plain": [
       "HBox(children=(IntProgress(value=0, max=10000), HTML(value='')))"
      ]
     },
     "metadata": {},
     "output_type": "display_data"
    },
    {
     "name": "stdout",
     "output_type": "stream",
     "text": [
      "\n"
     ]
    },
    {
     "data": {
      "application/vnd.jupyter.widget-view+json": {
       "model_id": "ed2a02654ea04c9ea507f66a7526010b",
       "version_major": 2,
       "version_minor": 0
      },
      "text/plain": [
       "HBox(children=(IntProgress(value=0, max=10000), HTML(value='')))"
      ]
     },
     "metadata": {},
     "output_type": "display_data"
    },
    {
     "name": "stdout",
     "output_type": "stream",
     "text": [
      "\n",
      "Saving Completed\n",
      "head4\n"
     ]
    },
    {
     "data": {
      "application/vnd.jupyter.widget-view+json": {
       "model_id": "729651d5722e4fceaf4b8882a4b4f4fb",
       "version_major": 2,
       "version_minor": 0
      },
      "text/plain": [
       "HBox(children=(IntProgress(value=0, max=10000), HTML(value='')))"
      ]
     },
     "metadata": {},
     "output_type": "display_data"
    },
    {
     "name": "stdout",
     "output_type": "stream",
     "text": [
      "\n"
     ]
    },
    {
     "data": {
      "application/vnd.jupyter.widget-view+json": {
       "model_id": "97644f6abdca4cfe9f7e7342c50d6eef",
       "version_major": 2,
       "version_minor": 0
      },
      "text/plain": [
       "HBox(children=(IntProgress(value=0, max=10000), HTML(value='')))"
      ]
     },
     "metadata": {},
     "output_type": "display_data"
    },
    {
     "name": "stdout",
     "output_type": "stream",
     "text": [
      "\n"
     ]
    },
    {
     "data": {
      "application/vnd.jupyter.widget-view+json": {
       "model_id": "925a3dedbb714c92bbe3399d0be8b68f",
       "version_major": 2,
       "version_minor": 0
      },
      "text/plain": [
       "HBox(children=(IntProgress(value=0, max=10000), HTML(value='')))"
      ]
     },
     "metadata": {},
     "output_type": "display_data"
    },
    {
     "name": "stdout",
     "output_type": "stream",
     "text": [
      "\n"
     ]
    },
    {
     "data": {
      "application/vnd.jupyter.widget-view+json": {
       "model_id": "9fd833668a4a4ee995425f06e9abf0ae",
       "version_major": 2,
       "version_minor": 0
      },
      "text/plain": [
       "HBox(children=(IntProgress(value=0, max=10000), HTML(value='')))"
      ]
     },
     "metadata": {},
     "output_type": "display_data"
    },
    {
     "name": "stdout",
     "output_type": "stream",
     "text": [
      "\n"
     ]
    },
    {
     "data": {
      "application/vnd.jupyter.widget-view+json": {
       "model_id": "7029e38db87746f3878946efd10dc220",
       "version_major": 2,
       "version_minor": 0
      },
      "text/plain": [
       "HBox(children=(IntProgress(value=0, max=10000), HTML(value='')))"
      ]
     },
     "metadata": {},
     "output_type": "display_data"
    },
    {
     "name": "stdout",
     "output_type": "stream",
     "text": [
      "\n"
     ]
    },
    {
     "data": {
      "application/vnd.jupyter.widget-view+json": {
       "model_id": "33994d3812194a4d98d0dad0eef791f7",
       "version_major": 2,
       "version_minor": 0
      },
      "text/plain": [
       "HBox(children=(IntProgress(value=0, max=10000), HTML(value='')))"
      ]
     },
     "metadata": {},
     "output_type": "display_data"
    },
    {
     "name": "stdout",
     "output_type": "stream",
     "text": [
      "\n"
     ]
    },
    {
     "data": {
      "application/vnd.jupyter.widget-view+json": {
       "model_id": "7a0fffc89b384c6a882501becd6b42ae",
       "version_major": 2,
       "version_minor": 0
      },
      "text/plain": [
       "HBox(children=(IntProgress(value=0, max=10000), HTML(value='')))"
      ]
     },
     "metadata": {},
     "output_type": "display_data"
    },
    {
     "name": "stdout",
     "output_type": "stream",
     "text": [
      "\n"
     ]
    },
    {
     "data": {
      "application/vnd.jupyter.widget-view+json": {
       "model_id": "2c44221e0a534464b202af5179210a30",
       "version_major": 2,
       "version_minor": 0
      },
      "text/plain": [
       "HBox(children=(IntProgress(value=0, max=10000), HTML(value='')))"
      ]
     },
     "metadata": {},
     "output_type": "display_data"
    },
    {
     "name": "stdout",
     "output_type": "stream",
     "text": [
      "\n"
     ]
    },
    {
     "data": {
      "application/vnd.jupyter.widget-view+json": {
       "model_id": "9b45141a1f734a7e9d6652e2f547fc62",
       "version_major": 2,
       "version_minor": 0
      },
      "text/plain": [
       "HBox(children=(IntProgress(value=0, max=10000), HTML(value='')))"
      ]
     },
     "metadata": {},
     "output_type": "display_data"
    },
    {
     "name": "stdout",
     "output_type": "stream",
     "text": [
      "\n"
     ]
    },
    {
     "data": {
      "application/vnd.jupyter.widget-view+json": {
       "model_id": "17892e6b8ed441efac0421130ff4b84f",
       "version_major": 2,
       "version_minor": 0
      },
      "text/plain": [
       "HBox(children=(IntProgress(value=0, max=10000), HTML(value='')))"
      ]
     },
     "metadata": {},
     "output_type": "display_data"
    },
    {
     "name": "stdout",
     "output_type": "stream",
     "text": [
      "\n"
     ]
    },
    {
     "data": {
      "application/vnd.jupyter.widget-view+json": {
       "model_id": "eddf0e4d88e54f2a9ee1763a276a43d3",
       "version_major": 2,
       "version_minor": 0
      },
      "text/plain": [
       "HBox(children=(IntProgress(value=0, max=10000), HTML(value='')))"
      ]
     },
     "metadata": {},
     "output_type": "display_data"
    },
    {
     "name": "stdout",
     "output_type": "stream",
     "text": [
      "\n"
     ]
    },
    {
     "data": {
      "application/vnd.jupyter.widget-view+json": {
       "model_id": "1fe7370672fc47f4adda66d8aed0795b",
       "version_major": 2,
       "version_minor": 0
      },
      "text/plain": [
       "HBox(children=(IntProgress(value=0, max=10000), HTML(value='')))"
      ]
     },
     "metadata": {},
     "output_type": "display_data"
    },
    {
     "name": "stdout",
     "output_type": "stream",
     "text": [
      "\n"
     ]
    },
    {
     "data": {
      "application/vnd.jupyter.widget-view+json": {
       "model_id": "c937e9404d3f44b0b27d03ff617fa4f2",
       "version_major": 2,
       "version_minor": 0
      },
      "text/plain": [
       "HBox(children=(IntProgress(value=0, max=10000), HTML(value='')))"
      ]
     },
     "metadata": {},
     "output_type": "display_data"
    },
    {
     "name": "stdout",
     "output_type": "stream",
     "text": [
      "\n"
     ]
    },
    {
     "data": {
      "application/vnd.jupyter.widget-view+json": {
       "model_id": "8078ac691c8741f8948832a8321b4115",
       "version_major": 2,
       "version_minor": 0
      },
      "text/plain": [
       "HBox(children=(IntProgress(value=0, max=10000), HTML(value='')))"
      ]
     },
     "metadata": {},
     "output_type": "display_data"
    },
    {
     "name": "stdout",
     "output_type": "stream",
     "text": [
      "\n"
     ]
    },
    {
     "data": {
      "application/vnd.jupyter.widget-view+json": {
       "model_id": "ffd5b93960704b828e179e43156fe4d0",
       "version_major": 2,
       "version_minor": 0
      },
      "text/plain": [
       "HBox(children=(IntProgress(value=0, max=10000), HTML(value='')))"
      ]
     },
     "metadata": {},
     "output_type": "display_data"
    },
    {
     "name": "stdout",
     "output_type": "stream",
     "text": [
      "\n",
      "Saving Completed\n"
     ]
    }
   ],
   "source": [
    "for i in range(1,5):\n",
    "    print(\"head{}\".format(i))\n",
    "    mhead = multi_head.MultiHead.load_from_pickle(i)\n",
    "    calc_connections(mhead)\n",
    "    mhead.save()"
   ]
  },
  {
   "cell_type": "code",
   "execution_count": 18,
   "metadata": {},
   "outputs": [],
   "source": [
    "mhead = multi_head.MultiHead.load_from_pickle(4)"
   ]
  },
  {
   "cell_type": "code",
   "execution_count": 14,
   "metadata": {
    "scrolled": true
   },
   "outputs": [
    {
     "name": "stdout",
     "output_type": "stream",
     "text": [
      "any_head_positioned False\n",
      "2-1, Count=155, Err=0.0007\n"
     ]
    },
    {
     "data": {
      "application/vnd.jupyter.widget-view+json": {
       "model_id": "e2c4a2c92d6c46b38f72728882b5983f",
       "version_major": 2,
       "version_minor": 0
      },
      "text/plain": [
       "HBox(children=(IntProgress(value=0, max=3), HTML(value='')))"
      ]
     },
     "metadata": {},
     "output_type": "display_data"
    },
    {
     "name": "stdout",
     "output_type": "stream",
     "text": [
      "[1, 0, 0], -0.0, 7056 ,0|| 7056, 0 , 0\n",
      "[1, 0, 0], -0.0, 7056 ,0|| 7056, 7056 , 0\n",
      "[1, 0, 0], -0.0, 7056 ,0|| 7056, 7056 , 7056\n",
      "[1, 0, 0], -0.0, 7057 ,0|| 7057, 7056 , 7056\n",
      "[1, 0, 0], -0.1, 7057 ,0|| 7057, 7057 , 7056\n",
      "[1, 0, 0], -0.1, 7057 ,0|| 7057, 7057 , 7057\n",
      "[1, 0, 0], -0.1, 7058 ,0|| 7058, 7057 , 7057\n",
      "[1, 0, 0], -0.1, 7059 ,0|| 7059, 7058 , 7057\n",
      "[1, 0, 0], -0.1, 7060 ,0|| 7060, 7059 , 7058\n",
      "[1, 0, 0], -0.1, 7060 ,0|| 7060, 7060 , 7059\n",
      "[1, 0, 0], -0.1, 7060 ,0|| 7060, 7060 , 7060\n",
      "[1, 0, 0], -0.1, 7060 ,0|| 7060, 7060 , 7060\n",
      "[1, 0, 0], -0.1, 7060 ,0|| 7060, 7060 , 7060\n",
      "[1, 0, 0], -0.1, 7060 ,0|| 7060, 7060 , 7060\n",
      "[1, 0, 0], -0.2, 7060 ,0|| 7060, 7060 , 7060\n",
      "[1, 0, 0], -0.2, 7061 ,0|| 7061, 7060 , 7060\n",
      "[1, 0, 0], -0.2, 7061 ,0|| 7061, 7061 , 7060\n",
      "[1, 0, 0], -0.2, 7061 ,0|| 7061, 7061 , 7061\n",
      "[1, 0, 0], -0.2, 7062 ,0|| 7062, 7061 , 7061\n",
      "[1, 0, 0], -0.2, 7062 ,0|| 7062, 7062 , 7061\n",
      "[1, 0, 0], -0.2, 7062 ,0|| 7062, 7062 , 7062\n",
      "[1, 0, 0], -0.2, 7062 ,0|| 7062, 7062 , 7062\n",
      "[1, 0, 0], -0.2, 7062 ,0|| 7062, 7062 , 7062\n",
      "[1, 0, 0], -0.2, 7063 ,0|| 7063, 7062 , 7062\n",
      "[1, 0, 0], -0.3, 7063 ,0|| 7063, 7063 , 7062\n",
      "[1, 0, 0], -0.3, 7063 ,0|| 7063, 7063 , 7063\n",
      "[1, 0, 0], -0.3, 7063 ,0|| 7063, 7063 , 7063\n",
      "[1, 0, 0], -0.3, 7063 ,0|| 7063, 7063 , 7063\n",
      "[1, 0, 0], -0.3, 7063 ,0|| 7063, 7063 , 7063\n",
      "[1, 0, 0], -0.3, 7063 ,0|| 7063, 7063 , 7063\n",
      "[1, 0, 0], -0.3, 7064 ,0|| 7064, 7063 , 7063\n",
      "[1, 0, 0], -0.3, 7064 ,0|| 7064, 7064 , 7063\n",
      "[1, 0, 0], -0.3, 7064 ,0|| 7064, 7064 , 7064\n",
      "[1, 0, 0], -0.3, 7064 ,0|| 7064, 7064 , 7064\n",
      "[1, 0, 0], -0.4, 7064 ,0|| 7064, 7064 , 7064\n",
      "[1, 0, 0], -0.4, 7065 ,0|| 7065, 7064 , 7064\n",
      "[1, 0, 0], -0.4, 7065 ,0|| 7065, 7065 , 7064\n",
      "[1, 0, 0], -0.4, 7066 ,0|| 7066, 7065 , 7065\n",
      "[1, 0, 0], -0.4, 7066 ,0|| 7066, 7066 , 7065\n",
      "[1, 0, 0], -0.4, 7066 ,0|| 7066, 7066 , 7066\n",
      "[1, 0, 0], -0.4, 7066 ,0|| 7066, 7066 , 7066\n",
      "[1, 0, 0], -0.4, 7066 ,0|| 7066, 7066 , 7066\n",
      "[1, 0, 0], -0.4, 7066 ,0|| 7066, 7066 , 7066\n",
      "[1, 0, 0], -0.4, 7066 ,0|| 7066, 7066 , 7066\n",
      "[1, 0, 0], -0.5, 7066 ,0|| 7066, 7066 , 7066\n",
      "[1, 0, 0], -0.5, 7066 ,0|| 7066, 7066 , 7066\n",
      "[1, 0, 0], -0.5, 7066 ,0|| 7066, 7066 , 7066\n",
      "[1, 0, 0], -0.5, 7066 ,0|| 7066, 7066 , 7066\n",
      "[1, 0, 0], -0.5, 7066 ,0|| 7066, 7066 , 7066\n",
      "[1, 0, 0], -0.5, 7066 ,0|| 7066, 7066 , 7066\n",
      "[1, 0, 0], -0.5, 7066 ,0|| 7066, 7066 , 7066\n",
      "[1, 0, 0], -0.5, 7066 ,0|| 7066, 7066 , 7066\n",
      "[1, 0, 0], -0.5, 7066 ,0|| 7066, 7066 , 7066\n",
      "[1, 0, 0], -0.5, 7066 ,0|| 7066, 7066 , 7066\n",
      "[1, 0, 0], -0.6, 7066 ,0|| 7066, 7066 , 7066\n",
      "[1, 0, 0], -0.6, 7066 ,0|| 7066, 7066 , 7066\n",
      "[1, 0, 0], -0.6, 7066 ,0|| 7066, 7066 , 7066\n",
      "[1, 0, 0], -0.6, 7066 ,0|| 7066, 7066 , 7066\n",
      "[1, 0, 0], -0.6, 7066 ,0|| 7066, 7066 , 7066\n",
      "[1, 0, 0], -0.6, 7066 ,0|| 7066, 7066 , 7066\n",
      "[1, 0, 0], -0.6, 7066 ,0|| 7066, 7066 , 7066\n",
      "[1, 0, 0], -0.6, 7066 ,0|| 7066, 7066 , 7066\n",
      "[1, 0, 0], -0.6, 7066 ,0|| 7066, 7066 , 7066\n",
      "[1, 0, 0], -0.6, 7066 ,0|| 7066, 7066 , 7066\n",
      "[1, 0, 0], -0.7, 7066 ,0|| 7066, 7066 , 7066\n",
      "[1, 0, 0], -0.7, 7066 ,0|| 7066, 7066 , 7066\n",
      "[1, 0, 0], -0.7, 7066 ,0|| 7066, 7066 , 7066\n",
      "[1, 0, 0], -0.7, 7066 ,0|| 7066, 7066 , 7066\n",
      "[1, 0, 0], -0.7, 7066 ,0|| 7066, 7066 , 7066\n",
      "[1, 0, 0], -0.7, 7066 ,0|| 7066, 7066 , 7066\n",
      "[1, 0, 0], -0.7, 7066 ,0|| 7066, 7066 , 7066\n",
      "[1, 0, 0], -0.7, 7066 ,0|| 7066, 7066 , 7066\n",
      "[1, 0, 0], -0.7, 7066 ,0|| 7066, 7066 , 7066\n",
      "[1, 0, 0], -0.7, 7066 ,0|| 7066, 7066 , 7066\n",
      "[1, 0, 0], -0.7, 7066 ,0|| 7066, 7066 , 7066\n",
      "[1, 0, 0], -0.8, 7066 ,0|| 7066, 7066 , 7066\n",
      "[1, 0, 0], -0.8, 7066 ,0|| 7066, 7066 , 7066\n",
      "[1, 0, 0], -0.8, 7066 ,0|| 7066, 7066 , 7066\n",
      "[1, 0, 0], -0.8, 7065 ,0|| 7065, 7066 , 7066\n",
      "[1, 0, 0], -0.8, 7066 ,0|| 7066, 7066 , 7066\n",
      "[1, 0, 0], -0.8, 7065 ,1|| 7065, 7066 , 7066\n",
      "[1, 0, 0], -0.8, 7066 ,1|| 7066, 7066 , 7066\n",
      "[0, 1, 0], -0.0, 7062 ,0|| 7062, 0 , 0\n",
      "[0, 1, 0], -0.0, 7062 ,0|| 7062, 7062 , 0\n",
      "[0, 1, 0], -0.0, 7062 ,0|| 7062, 7062 , 7062\n",
      "[0, 1, 0], -0.0, 7062 ,0|| 7062, 7062 , 7062\n",
      "[0, 1, 0], -0.1, 7062 ,0|| 7062, 7062 , 7062\n",
      "[0, 1, 0], -0.1, 7062 ,0|| 7062, 7062 , 7062\n",
      "[0, 1, 0], -0.1, 7061 ,0|| 7061, 7062 , 7062\n",
      "[0, 1, 0], -0.1, 7062 ,0|| 7062, 7062 , 7062\n",
      "[0, 1, 0], -0.1, 7061 ,1|| 7061, 7062 , 7062\n",
      "[0, 1, 0], -0.1, 7062 ,1|| 7062, 7062 , 7062\n",
      "[0, 0, 1], -0.0, 6919 ,0|| 6919, 0 , 0\n",
      "[0, 0, 1], -0.0, 6919 ,0|| 6919, 6919 , 0\n",
      "[0, 0, 1], -0.0, 6919 ,0|| 6919, 6919 , 6919\n",
      "[0, 0, 1], -0.0, 6919 ,0|| 6919, 6919 , 6919\n",
      "[0, 0, 1], -0.1, 6919 ,0|| 6919, 6919 , 6919\n",
      "[0, 0, 1], -0.1, 6919 ,0|| 6919, 6919 , 6919\n",
      "[0, 0, 1], -0.1, 6919 ,0|| 6919, 6919 , 6919\n",
      "[0, 0, 1], -0.1, 6919 ,0|| 6919, 6919 , 6919\n",
      "[0, 0, 1], -0.1, 6920 ,0|| 6920, 6919 , 6919\n",
      "[0, 0, 1], -0.1, 6920 ,0|| 6920, 6920 , 6919\n",
      "[0, 0, 1], -0.1, 6920 ,0|| 6920, 6920 , 6920\n",
      "[0, 0, 1], -0.1, 6920 ,0|| 6920, 6920 , 6920\n",
      "[0, 0, 1], -0.1, 6920 ,0|| 6920, 6920 , 6920\n",
      "[0, 0, 1], -0.1, 6920 ,0|| 6920, 6920 , 6920\n",
      "[0, 0, 1], -0.2, 6920 ,0|| 6920, 6920 , 6920\n",
      "[0, 0, 1], -0.2, 6920 ,0|| 6920, 6920 , 6920\n",
      "[0, 0, 1], -0.2, 6920 ,0|| 6920, 6920 , 6920\n",
      "[0, 0, 1], -0.2, 6920 ,0|| 6920, 6920 , 6920\n",
      "[0, 0, 1], -0.2, 6920 ,0|| 6920, 6920 , 6920\n",
      "[0, 0, 1], -0.2, 6920 ,0|| 6920, 6920 , 6920\n",
      "[0, 0, 1], -0.2, 6920 ,0|| 6920, 6920 , 6920\n",
      "[0, 0, 1], -0.2, 6920 ,0|| 6920, 6920 , 6920\n",
      "[0, 0, 1], -0.2, 6920 ,0|| 6920, 6920 , 6920\n",
      "[0, 0, 1], -0.2, 6920 ,0|| 6920, 6920 , 6920\n",
      "[0, 0, 1], -0.3, 6919 ,0|| 6919, 6920 , 6920\n",
      "[0, 0, 1], -0.2, 6920 ,0|| 6920, 6920 , 6920\n",
      "[0, 0, 1], -0.3, 6919 ,1|| 6919, 6920 , 6920\n",
      "[0, 0, 1], -0.2, 6920 ,1|| 6920, 6920 , 6920\n",
      "\n",
      "any_head_positioned True\n",
      "3-2, Count=111, Err=0.0018\n"
     ]
    },
    {
     "data": {
      "application/vnd.jupyter.widget-view+json": {
       "model_id": "c092d56c387743f48a068ed2c5637bb6",
       "version_major": 2,
       "version_minor": 0
      },
      "text/plain": [
       "HBox(children=(IntProgress(value=0, max=3), HTML(value='')))"
      ]
     },
     "metadata": {},
     "output_type": "display_data"
    },
    {
     "name": "stdout",
     "output_type": "stream",
     "text": [
      "[1, 0, 0], -0.0, 7085 ,0|| 7085, 0 , 0\n",
      "[1, 0, 0], -0.0, 7085 ,0|| 7085, 7085 , 0\n",
      "[1, 0, 0], -0.0, 7085 ,0|| 7085, 7085 , 7085\n",
      "[1, 0, 0], -0.0, 7086 ,0|| 7086, 7085 , 7085\n",
      "[1, 0, 0], -0.1, 7085 ,0|| 7085, 7086 , 7085\n",
      "[0, 1, 0], -0.0, 6943 ,0|| 6943, 0 , 0\n",
      "[0, 1, 0], -0.0, 6945 ,0|| 6945, 6943 , 0\n",
      "[0, 1, 0], -0.0, 6946 ,0|| 6946, 6945 , 6943\n",
      "[0, 1, 0], -0.0, 6946 ,0|| 6946, 6946 , 6945\n",
      "[0, 1, 0], -0.1, 6947 ,0|| 6947, 6946 , 6946\n",
      "[0, 1, 0], -0.1, 6947 ,0|| 6947, 6947 , 6946\n",
      "[0, 1, 0], -0.1, 6947 ,0|| 6947, 6947 , 6947\n",
      "[0, 1, 0], -0.1, 6947 ,0|| 6947, 6947 , 6947\n",
      "[0, 1, 0], -0.1, 6948 ,0|| 6948, 6947 , 6947\n",
      "[0, 1, 0], -0.1, 6949 ,0|| 6949, 6948 , 6947\n",
      "[0, 1, 0], -0.1, 6951 ,0|| 6951, 6949 , 6948\n",
      "[0, 1, 0], -0.1, 6952 ,0|| 6952, 6951 , 6949\n",
      "[0, 1, 0], -0.1, 6952 ,0|| 6952, 6952 , 6951\n",
      "[0, 1, 0], -0.1, 6952 ,0|| 6952, 6952 , 6952\n",
      "[0, 1, 0], -0.2, 6952 ,0|| 6952, 6952 , 6952\n",
      "[0, 1, 0], -0.2, 6952 ,0|| 6952, 6952 , 6952\n",
      "[0, 1, 0], -0.2, 6953 ,0|| 6953, 6952 , 6952\n",
      "[0, 1, 0], -0.2, 6954 ,0|| 6954, 6953 , 6952\n",
      "[0, 1, 0], -0.2, 6954 ,0|| 6954, 6954 , 6953\n",
      "[0, 1, 0], -0.2, 6955 ,0|| 6955, 6954 , 6954\n",
      "[0, 1, 0], -0.2, 6955 ,0|| 6955, 6955 , 6954\n",
      "[0, 1, 0], -0.2, 6955 ,0|| 6955, 6955 , 6955\n",
      "[0, 1, 0], -0.2, 6956 ,0|| 6956, 6955 , 6955\n",
      "[0, 1, 0], -0.2, 6957 ,0|| 6957, 6956 , 6955\n",
      "[0, 1, 0], -0.3, 6957 ,0|| 6957, 6957 , 6956\n",
      "[0, 1, 0], -0.3, 6957 ,0|| 6957, 6957 , 6957\n",
      "[0, 1, 0], -0.3, 6957 ,0|| 6957, 6957 , 6957\n",
      "[0, 1, 0], -0.3, 6958 ,0|| 6958, 6957 , 6957\n",
      "[0, 1, 0], -0.3, 6958 ,0|| 6958, 6958 , 6957\n",
      "[0, 1, 0], -0.3, 6959 ,0|| 6959, 6958 , 6958\n",
      "[0, 1, 0], -0.3, 6962 ,0|| 6962, 6959 , 6958\n",
      "[0, 1, 0], -0.3, 6963 ,0|| 6963, 6962 , 6959\n",
      "[0, 1, 0], -0.3, 6963 ,0|| 6963, 6963 , 6962\n",
      "[0, 1, 0], -0.3, 6964 ,0|| 6964, 6963 , 6963\n",
      "[0, 1, 0], -0.4, 6964 ,0|| 6964, 6964 , 6963\n",
      "[0, 1, 0], -0.4, 6965 ,0|| 6965, 6964 , 6964\n",
      "[0, 1, 0], -0.4, 6965 ,0|| 6965, 6965 , 6964\n",
      "[0, 1, 0], -0.4, 6965 ,0|| 6965, 6965 , 6965\n",
      "[0, 1, 0], -0.4, 6965 ,0|| 6965, 6965 , 6965\n",
      "[0, 1, 0], -0.4, 6965 ,0|| 6965, 6965 , 6965\n",
      "[0, 1, 0], -0.4, 6965 ,0|| 6965, 6965 , 6965\n",
      "[0, 1, 0], -0.4, 6967 ,0|| 6967, 6965 , 6965\n",
      "[0, 1, 0], -0.4, 6967 ,0|| 6967, 6967 , 6965\n",
      "[0, 1, 0], -0.4, 6967 ,0|| 6967, 6967 , 6967\n",
      "[0, 1, 0], -0.5, 6967 ,0|| 6967, 6967 , 6967\n",
      "[0, 1, 0], -0.5, 6967 ,0|| 6967, 6967 , 6967\n",
      "[0, 1, 0], -0.5, 6968 ,0|| 6968, 6967 , 6967\n",
      "[0, 1, 0], -0.5, 6968 ,0|| 6968, 6968 , 6967\n",
      "[0, 1, 0], -0.5, 6969 ,0|| 6969, 6968 , 6968\n",
      "[0, 1, 0], -0.5, 6969 ,0|| 6969, 6969 , 6968\n",
      "[0, 1, 0], -0.5, 6970 ,0|| 6970, 6969 , 6969\n",
      "[0, 1, 0], -0.5, 6971 ,0|| 6971, 6970 , 6969\n",
      "[0, 1, 0], -0.5, 6971 ,0|| 6971, 6971 , 6970\n",
      "[0, 1, 0], -0.5, 6971 ,0|| 6971, 6971 , 6971\n",
      "[0, 1, 0], -0.6, 6971 ,0|| 6971, 6971 , 6971\n",
      "[0, 1, 0], -0.6, 6971 ,0|| 6971, 6971 , 6971\n",
      "[0, 1, 0], -0.6, 6971 ,0|| 6971, 6971 , 6971\n",
      "[0, 1, 0], -0.6, 6972 ,0|| 6972, 6971 , 6971\n",
      "[0, 1, 0], -0.6, 6972 ,0|| 6972, 6972 , 6971\n",
      "[0, 1, 0], -0.6, 6972 ,0|| 6972, 6972 , 6972\n",
      "[0, 1, 0], -0.6, 6972 ,0|| 6972, 6972 , 6972\n",
      "[0, 1, 0], -0.6, 6972 ,0|| 6972, 6972 , 6972\n",
      "[0, 1, 0], -0.6, 6972 ,0|| 6972, 6972 , 6972\n",
      "[0, 1, 0], -0.6, 6972 ,0|| 6972, 6972 , 6972\n",
      "[0, 1, 0], -0.7, 6972 ,0|| 6972, 6972 , 6972\n",
      "[0, 1, 0], -0.7, 6972 ,0|| 6972, 6972 , 6972\n",
      "[0, 1, 0], -0.7, 6972 ,0|| 6972, 6972 , 6972\n",
      "[0, 1, 0], -0.7, 6972 ,0|| 6972, 6972 , 6972\n",
      "[0, 1, 0], -0.7, 6973 ,0|| 6973, 6972 , 6972\n",
      "[0, 1, 0], -0.7, 6973 ,0|| 6973, 6973 , 6972\n",
      "[0, 1, 0], -0.7, 6972 ,0|| 6972, 6973 , 6973\n",
      "[0, 1, 0], -0.7, 6972 ,0|| 6973, 6973 , 6972\n",
      "[0, 1, 0], -0.7, 6972 ,1|| 6972, 6973 , 6973\n",
      "[0, 1, 0], -0.7, 6972 ,1|| 6973, 6973 , 6972\n",
      "[0, 0, 1], -0.0, 7078 ,0|| 7078, 0 , 0\n",
      "[0, 0, 1], -0.0, 7077 ,0|| 7077, 7078 , 0\n",
      "[0, 0, 1], -0.0, 7076 ,0|| 7076, 7077 , 7078\n",
      "[0, 0, 1], -0.0, 7078 ,0|| 7077, 7078 , 7078\n",
      "[0, 0, 1], -0.0, 7078 ,0|| 7078, 7078 , 7078\n",
      "[0, 0, 1], -0.0, 7077 ,1|| 7077, 7078 , 7078\n",
      "[0, 0, 1], -0.0, 7078 ,1|| 7078, 7078 , 7078\n",
      "\n",
      "any_head_positioned True\n",
      "4-3, Count=66, Err=0.0041\n"
     ]
    },
    {
     "data": {
      "application/vnd.jupyter.widget-view+json": {
       "model_id": "aba7c6ed9e614c3a87176d49ed6fb76d",
       "version_major": 2,
       "version_minor": 0
      },
      "text/plain": [
       "HBox(children=(IntProgress(value=0, max=3), HTML(value='')))"
      ]
     },
     "metadata": {},
     "output_type": "display_data"
    },
    {
     "name": "stdout",
     "output_type": "stream",
     "text": [
      "[1, 0, 0], -0.0, 6568 ,0|| 6568, 0 , 0\n",
      "[1, 0, 0], -0.0, 6568 ,0|| 6568, 6568 , 0\n",
      "[1, 0, 0], -0.0, 6566 ,0|| 6566, 6568 , 6568\n",
      "[1, 0, 0], -0.0, 6568 ,0|| 6568, 6568 , 6568\n",
      "[1, 0, 0], -0.0, 6566 ,1|| 6566, 6568 , 6568\n",
      "[1, 0, 0], -0.0, 6568 ,1|| 6568, 6568 , 6568\n",
      "[0, 1, 0], -0.0, 6703 ,0|| 6703, 0 , 0\n",
      "[0, 1, 0], -0.0, 6703 ,0|| 6703, 6703 , 0\n",
      "[0, 1, 0], -0.0, 6703 ,0|| 6703, 6703 , 6703\n",
      "[0, 1, 0], -0.0, 6702 ,0|| 6702, 6703 , 6703\n",
      "[0, 1, 0], -0.0, 6703 ,0|| 6703, 6703 , 6703\n",
      "[0, 1, 0], -0.0, 6702 ,1|| 6702, 6703 , 6703\n",
      "[0, 1, 0], -0.0, 6703 ,1|| 6703, 6703 , 6703\n",
      "[0, 0, 1], -0.0, 6756 ,0|| 6756, 0 , 0\n",
      "[0, 0, 1], -0.0, 6756 ,0|| 6756, 6756 , 0\n",
      "[0, 0, 1], -0.0, 6759 ,0|| 6759, 6756 , 6756\n",
      "[0, 0, 1], -0.0, 6759 ,0|| 6759, 6759 , 6756\n",
      "[0, 0, 1], -0.1, 6760 ,0|| 6760, 6759 , 6759\n",
      "[0, 0, 1], -0.1, 6760 ,0|| 6760, 6760 , 6759\n",
      "[0, 0, 1], -0.1, 6759 ,0|| 6759, 6760 , 6760\n",
      "[0, 0, 1], -0.1, 6759 ,0|| 6760, 6760 , 6759\n",
      "[0, 0, 1], -0.1, 6759 ,1|| 6759, 6760 , 6760\n",
      "[0, 0, 1], -0.1, 6759 ,1|| 6760, 6760 , 6759\n",
      "\n",
      "any_head_positioned True\n",
      "1-15, Count=65, Err=0.0044\n"
     ]
    },
    {
     "data": {
      "application/vnd.jupyter.widget-view+json": {
       "model_id": "1ed5fcbf7a214a72a9b4ccea375571d9",
       "version_major": 2,
       "version_minor": 0
      },
      "text/plain": [
       "HBox(children=(IntProgress(value=0, max=3), HTML(value='')))"
      ]
     },
     "metadata": {},
     "output_type": "display_data"
    },
    {
     "name": "stdout",
     "output_type": "stream",
     "text": [
      "[1, 0, 0], -0.0, 6577 ,0|| 6577, 0 , 0\n",
      "[1, 0, 0], -0.0, 6576 ,0|| 6576, 6577 , 0\n",
      "[1, 0, 0], -0.0, 6576 ,0|| 6576, 6576 , 6577\n",
      "[1, 0, 0], -0.0, 6580 ,0|| 6576, 6577 , 6580\n",
      "[1, 0, 0], -0.0, 6577 ,0|| 6577, 6580 , 6577\n",
      "[0, 1, 0], -0.0, 6617 ,0|| 6617, 0 , 0\n",
      "[0, 1, 0], -0.0, 6617 ,0|| 6617, 6617 , 0\n",
      "[0, 1, 0], -0.0, 6618 ,0|| 6618, 6617 , 6617\n",
      "[0, 1, 0], -0.0, 6618 ,0|| 6618, 6618 , 6617\n",
      "[0, 1, 0], -0.1, 6618 ,0|| 6618, 6618 , 6618\n",
      "[0, 1, 0], -0.1, 6618 ,0|| 6618, 6618 , 6618\n",
      "[0, 1, 0], -0.1, 6617 ,0|| 6617, 6618 , 6618\n",
      "[0, 1, 0], -0.1, 6618 ,0|| 6618, 6618 , 6618\n",
      "[0, 1, 0], -0.1, 6617 ,1|| 6617, 6618 , 6618\n",
      "[0, 1, 0], -0.1, 6618 ,1|| 6618, 6618 , 6618\n",
      "[0, 0, 1], -0.0, 6628 ,0|| 6628, 0 , 0\n",
      "[0, 0, 1], -0.0, 6627 ,0|| 6627, 6628 , 0\n",
      "[0, 0, 1], -0.0, 6626 ,0|| 6626, 6627 , 6628\n",
      "[0, 0, 1], -0.0, 6627 ,0|| 6627, 6628 , 6627\n",
      "\n",
      "any_head_positioned True\n",
      "15-14, Count=95, Err=0.0039\n"
     ]
    },
    {
     "data": {
      "application/vnd.jupyter.widget-view+json": {
       "model_id": "b1049c4bcab64f249f2189cccf40d416",
       "version_major": 2,
       "version_minor": 0
      },
      "text/plain": [
       "HBox(children=(IntProgress(value=0, max=3), HTML(value='')))"
      ]
     },
     "metadata": {},
     "output_type": "display_data"
    },
    {
     "name": "stdout",
     "output_type": "stream",
     "text": [
      "[1, 0, 0], -0.0, 6904 ,0|| 6904, 0 , 0\n",
      "[1, 0, 0], -0.0, 6904 ,0|| 6904, 6904 , 0\n",
      "[1, 0, 0], -0.0, 6905 ,0|| 6905, 6904 , 6904\n",
      "[1, 0, 0], -0.0, 6905 ,0|| 6905, 6905 , 6904\n",
      "[1, 0, 0], -0.1, 6907 ,0|| 6907, 6905 , 6905\n",
      "[1, 0, 0], -0.1, 6907 ,0|| 6907, 6907 , 6905\n",
      "[1, 0, 0], -0.1, 6905 ,0|| 6905, 6907 , 6907\n",
      "[1, 0, 0], -0.1, 6905 ,0|| 6907, 6907 , 6905\n",
      "[1, 0, 0], -0.1, 6905 ,1|| 6905, 6907 , 6907\n",
      "[1, 0, 0], -0.1, 6905 ,1|| 6907, 6907 , 6905\n",
      "[0, 1, 0], -0.0, 6901 ,0|| 6901, 0 , 0\n",
      "[0, 1, 0], -0.0, 6902 ,0|| 6902, 6901 , 0\n",
      "[0, 1, 0], -0.0, 6901 ,0|| 6901, 6902 , 6901\n",
      "[0, 0, 1], -0.0, 6973 ,0|| 6973, 0 , 0\n",
      "[0, 0, 1], -0.0, 6972 ,0|| 6972, 6973 , 0\n",
      "[0, 0, 1], -0.0, 6972 ,0|| 6972, 6972 , 6973\n",
      "[0, 0, 1], -0.0, 6973 ,0|| 6972, 6973 , 6973\n",
      "[0, 0, 1], -0.0, 6973 ,0|| 6973, 6973 , 6973\n",
      "[0, 0, 1], -0.0, 6972 ,1|| 6972, 6973 , 6973\n",
      "[0, 0, 1], -0.0, 6973 ,1|| 6973, 6973 , 6973\n",
      "\n",
      "any_head_positioned True\n",
      "5-4, Count=48, Err=0.0054\n"
     ]
    },
    {
     "data": {
      "application/vnd.jupyter.widget-view+json": {
       "model_id": "8a3d76df0fcd40e2891200c7cf1ecf05",
       "version_major": 2,
       "version_minor": 0
      },
      "text/plain": [
       "HBox(children=(IntProgress(value=0, max=3), HTML(value='')))"
      ]
     },
     "metadata": {},
     "output_type": "display_data"
    },
    {
     "name": "stdout",
     "output_type": "stream",
     "text": [
      "[1, 0, 0], -0.0, 5820 ,0|| 5820, 0 , 0\n",
      "[1, 0, 0], -0.0, 5821 ,0|| 5821, 5820 , 0\n",
      "[1, 0, 0], -0.0, 5819 ,0|| 5819, 5821 , 5820\n",
      "[0, 1, 0], -0.0, 5803 ,0|| 5803, 0 , 0\n",
      "[0, 1, 0], -0.0, 5803 ,0|| 5803, 5803 , 0\n",
      "[0, 1, 0], -0.0, 5804 ,0|| 5804, 5803 , 5803\n",
      "[0, 1, 0], -0.0, 5804 ,0|| 5804, 5804 , 5803\n",
      "[0, 1, 0], -0.1, 5804 ,0|| 5804, 5804 , 5804\n",
      "[0, 1, 0], -0.1, 5803 ,0|| 5803, 5804 , 5804\n",
      "[0, 1, 0], -0.1, 5804 ,0|| 5804, 5804 , 5804\n",
      "[0, 1, 0], -0.1, 5803 ,1|| 5803, 5804 , 5804\n",
      "[0, 1, 0], -0.1, 5804 ,1|| 5804, 5804 , 5804\n",
      "[0, 0, 1], -0.0, 5864 ,0|| 5864, 0 , 0\n",
      "[0, 0, 1], -0.0, 5865 ,0|| 5865, 5864 , 0\n",
      "[0, 0, 1], -0.0, 5864 ,0|| 5864, 5865 , 5864\n",
      "\n",
      "any_head_positioned True\n",
      "6-5, Count=53, Err=0.0055\n"
     ]
    },
    {
     "data": {
      "application/vnd.jupyter.widget-view+json": {
       "model_id": "404c7350eeaa4e8fbdbb2e66c5570a5e",
       "version_major": 2,
       "version_minor": 0
      },
      "text/plain": [
       "HBox(children=(IntProgress(value=0, max=3), HTML(value='')))"
      ]
     },
     "metadata": {},
     "output_type": "display_data"
    },
    {
     "name": "stdout",
     "output_type": "stream",
     "text": [
      "[1, 0, 0], -0.0, 5227 ,0|| 5227, 0 , 0\n",
      "[1, 0, 0], -0.0, 5226 ,0|| 5226, 5227 , 0\n",
      "[1, 0, 0], -0.0, 5226 ,0|| 5226, 5226 , 5227\n",
      "[1, 0, 0], -0.0, 5228 ,0|| 5226, 5227 , 5228\n",
      "[1, 0, 0], -0.0, 5229 ,0|| 5227, 5228 , 5229\n",
      "[1, 0, 0], -0.0, 5229 ,0|| 5228, 5229 , 5229\n",
      "[1, 0, 0], 0.0, 5229 ,0|| 5229, 5229 , 5229\n",
      "[1, 0, 0], -0.0, 5228 ,1|| 5228, 5229 , 5229\n",
      "[1, 0, 0], 0.0, 5229 ,1|| 5229, 5229 , 5229\n",
      "[0, 1, 0], -0.0, 4949 ,0|| 4949, 0 , 0\n",
      "[0, 1, 0], -0.0, 4949 ,0|| 4949, 4949 , 0\n",
      "[0, 1, 0], -0.0, 4950 ,0|| 4950, 4949 , 4949\n",
      "[0, 1, 0], -0.0, 4948 ,0|| 4948, 4950 , 4949\n",
      "[0, 0, 1], -0.0, 5191 ,0|| 5191, 0 , 0\n",
      "[0, 0, 1], -0.0, 5189 ,0|| 5189, 5191 , 0\n",
      "[0, 0, 1], -0.0, 5190 ,0|| 5190, 5189 , 5191\n",
      "[0, 0, 1], -0.0, 5191 ,0|| 5191, 5190 , 5189\n",
      "[0, 0, 1], -0.1, 5194 ,0|| 5194, 5191 , 5190\n",
      "[0, 0, 1], -0.1, 5193 ,0|| 5193, 5194 , 5191\n",
      "\n",
      "any_head_positioned True\n",
      "7-6, Count=55, Err=0.0024\n"
     ]
    },
    {
     "data": {
      "application/vnd.jupyter.widget-view+json": {
       "model_id": "3f2b6a8fd8164800919cd715090bf41e",
       "version_major": 2,
       "version_minor": 0
      },
      "text/plain": [
       "HBox(children=(IntProgress(value=0, max=3), HTML(value='')))"
      ]
     },
     "metadata": {},
     "output_type": "display_data"
    },
    {
     "name": "stdout",
     "output_type": "stream",
     "text": [
      "[1, 0, 0], -0.0, 4515 ,0|| 4515, 0 , 0\n",
      "[1, 0, 0], -0.0, 4514 ,0|| 4514, 4515 , 0\n",
      "[1, 0, 0], -0.0, 4514 ,0|| 4514, 4514 , 4515\n",
      "[1, 0, 0], -0.0, 4513 ,0|| 4514, 4515 , 4513\n",
      "[0, 1, 0], -0.0, 4476 ,0|| 4476, 0 , 0\n",
      "[0, 1, 0], -0.0, 4476 ,0|| 4476, 4476 , 0\n",
      "[0, 1, 0], -0.0, 4474 ,0|| 4474, 4476 , 4476\n",
      "[0, 1, 0], -0.0, 4478 ,0|| 4476, 4476 , 4478\n",
      "[0, 1, 0], -0.0, 4479 ,0|| 4476, 4478 , 4479\n",
      "[0, 1, 0], -0.0, 4479 ,0|| 4478, 4479 , 4479\n",
      "[0, 1, 0], 0.0, 4481 ,0|| 4479, 4479 , 4481\n",
      "[0, 1, 0], 0.0, 4484 ,0|| 4479, 4481 , 4484\n",
      "[0, 1, 0], 0.0, 4485 ,0|| 4481, 4484 , 4485\n",
      "[0, 1, 0], 0.0, 4488 ,0|| 4484, 4485 , 4488\n",
      "[0, 1, 0], 0.1, 4487 ,0|| 4485, 4488 , 4487\n",
      "[0, 0, 1], -0.0, 4522 ,0|| 4522, 0 , 0\n",
      "[0, 0, 1], -0.0, 4522 ,0|| 4522, 4522 , 0\n",
      "[0, 0, 1], -0.0, 4525 ,0|| 4525, 4522 , 4522\n",
      "[0, 0, 1], -0.0, 4523 ,0|| 4523, 4525 , 4522\n",
      "\n",
      "any_head_positioned True\n",
      "8-7, Count=26, Err=0.0031\n"
     ]
    },
    {
     "data": {
      "application/vnd.jupyter.widget-view+json": {
       "model_id": "6295562a61d14c4f9f2e42eb902ae295",
       "version_major": 2,
       "version_minor": 0
      },
      "text/plain": [
       "HBox(children=(IntProgress(value=0, max=3), HTML(value='')))"
      ]
     },
     "metadata": {},
     "output_type": "display_data"
    },
    {
     "name": "stdout",
     "output_type": "stream",
     "text": [
      "[1, 0, 0], -0.0, 6180 ,0|| 6180, 0 , 0\n",
      "[1, 0, 0], -0.0, 6178 ,0|| 6178, 6180 , 0\n",
      "[1, 0, 0], -0.0, 6177 ,0|| 6177, 6178 , 6180\n",
      "[1, 0, 0], -0.0, 6178 ,0|| 6178, 6180 , 6178\n",
      "[0, 1, 0], -0.0, 6124 ,0|| 6124, 0 , 0\n",
      "[0, 1, 0], -0.0, 6123 ,0|| 6123, 6124 , 0\n",
      "[0, 1, 0], -0.0, 6122 ,0|| 6122, 6123 , 6124\n",
      "[0, 1, 0], -0.0, 6125 ,0|| 6123, 6124 , 6125\n",
      "[0, 1, 0], -0.0, 6129 ,0|| 6124, 6125 , 6129\n",
      "[0, 1, 0], -0.0, 6131 ,0|| 6125, 6129 , 6131\n",
      "[0, 1, 0], 0.0, 6132 ,0|| 6129, 6131 , 6132\n",
      "[0, 1, 0], 0.0, 6134 ,0|| 6131, 6132 , 6134\n",
      "[0, 1, 0], 0.0, 6135 ,0|| 6132, 6134 , 6135\n",
      "[0, 1, 0], 0.0, 6139 ,0|| 6134, 6135 , 6139\n",
      "[0, 1, 0], 0.1, 6141 ,0|| 6135, 6139 , 6141\n",
      "[0, 1, 0], 0.1, 6142 ,0|| 6139, 6141 , 6142\n",
      "[0, 1, 0], 0.1, 6149 ,0|| 6141, 6142 , 6149\n",
      "[0, 1, 0], 0.1, 6152 ,0|| 6142, 6149 , 6152\n",
      "[0, 1, 0], 0.1, 6153 ,0|| 6149, 6152 , 6153\n",
      "[0, 1, 0], 0.1, 6160 ,0|| 6152, 6153 , 6160\n",
      "[0, 1, 0], 0.1, 6158 ,0|| 6153, 6160 , 6158\n",
      "[0, 0, 1], -0.0, 6158 ,0|| 6158, 0 , 0\n",
      "[0, 0, 1], -0.0, 6156 ,0|| 6156, 6158 , 0\n",
      "[0, 0, 1], -0.0, 6155 ,0|| 6155, 6156 , 6158\n",
      "[0, 0, 1], -0.0, 6163 ,0|| 6156, 6158 , 6163\n",
      "[0, 0, 1], -0.0, 6170 ,0|| 6158, 6163 , 6170\n",
      "[0, 0, 1], -0.0, 6172 ,0|| 6163, 6170 , 6172\n",
      "[0, 0, 1], 0.0, 6176 ,0|| 6170, 6172 , 6176\n",
      "[0, 0, 1], 0.0, 6176 ,0|| 6172, 6176 , 6176\n",
      "[0, 0, 1], 0.0, 6179 ,0|| 6176, 6176 , 6179\n",
      "[0, 0, 1], 0.0, 6183 ,0|| 6176, 6179 , 6183\n",
      "[0, 0, 1], 0.1, 6185 ,0|| 6179, 6183 , 6185\n",
      "[0, 0, 1], 0.1, 6186 ,0|| 6183, 6185 , 6186\n",
      "[0, 0, 1], 0.1, 6184 ,0|| 6185, 6186 , 6184\n",
      "\n",
      "any_head_positioned True\n",
      "14-13, Count=36, Err=0.0057\n"
     ]
    },
    {
     "data": {
      "application/vnd.jupyter.widget-view+json": {
       "model_id": "f68037603a7d444889a51161c2497c4a",
       "version_major": 2,
       "version_minor": 0
      },
      "text/plain": [
       "HBox(children=(IntProgress(value=0, max=3), HTML(value='')))"
      ]
     },
     "metadata": {},
     "output_type": "display_data"
    },
    {
     "name": "stdout",
     "output_type": "stream",
     "text": [
      "[1, 0, 0], -0.0, 6042 ,0|| 6042, 0 , 0\n",
      "[1, 0, 0], -0.0, 6044 ,0|| 6044, 6042 , 0\n",
      "[1, 0, 0], -0.0, 6045 ,0|| 6045, 6044 , 6042\n",
      "[1, 0, 0], -0.0, 6048 ,0|| 6048, 6045 , 6044\n",
      "[1, 0, 0], -0.1, 6049 ,0|| 6049, 6048 , 6045\n",
      "[1, 0, 0], -0.1, 6048 ,0|| 6048, 6049 , 6048\n",
      "[0, 1, 0], -0.0, 6017 ,0|| 6017, 0 , 0\n",
      "[0, 1, 0], -0.0, 6014 ,0|| 6014, 6017 , 0\n",
      "[0, 1, 0], -0.0, 6014 ,0|| 6014, 6014 , 6017\n",
      "[0, 1, 0], -0.0, 6019 ,0|| 6014, 6017 , 6019\n",
      "[0, 1, 0], -0.0, 6020 ,0|| 6017, 6019 , 6020\n",
      "[0, 1, 0], -0.0, 6022 ,0|| 6019, 6020 , 6022\n",
      "[0, 1, 0], 0.0, 6022 ,0|| 6020, 6022 , 6022\n",
      "[0, 1, 0], 0.0, 6024 ,0|| 6022, 6022 , 6024\n",
      "[0, 1, 0], 0.0, 6026 ,0|| 6022, 6024 , 6026\n",
      "[0, 1, 0], 0.0, 6026 ,0|| 6024, 6026 , 6026\n",
      "[0, 1, 0], 0.1, 6028 ,0|| 6026, 6026 , 6028\n",
      "[0, 1, 0], 0.1, 6032 ,0|| 6026, 6028 , 6032\n",
      "[0, 1, 0], 0.1, 6033 ,0|| 6028, 6032 , 6033\n",
      "[0, 1, 0], 0.1, 6034 ,0|| 6032, 6033 , 6034\n",
      "[0, 1, 0], 0.1, 6035 ,0|| 6033, 6034 , 6035\n",
      "[0, 1, 0], 0.1, 6039 ,0|| 6034, 6035 , 6039\n",
      "[0, 1, 0], 0.1, 6041 ,0|| 6035, 6039 , 6041\n",
      "[0, 1, 0], 0.1, 6043 ,0|| 6039, 6041 , 6043\n",
      "[0, 1, 0], 0.1, 6043 ,0|| 6041, 6043 , 6043\n",
      "[0, 1, 0], 0.1, 6045 ,0|| 6043, 6043 , 6045\n",
      "[0, 1, 0], 0.1, 6046 ,0|| 6043, 6045 , 6046\n",
      "[0, 1, 0], 0.2, 6047 ,0|| 6045, 6046 , 6047\n",
      "[0, 1, 0], 0.2, 6047 ,0|| 6046, 6047 , 6047\n",
      "[0, 1, 0], 0.2, 6047 ,0|| 6047, 6047 , 6047\n",
      "[0, 1, 0], 0.2, 6046 ,1|| 6046, 6047 , 6047\n",
      "[0, 1, 0], 0.2, 6047 ,1|| 6047, 6047 , 6047\n",
      "[0, 0, 1], -0.0, 6160 ,0|| 6160, 0 , 0\n",
      "[0, 0, 1], -0.0, 6160 ,0|| 6160, 6160 , 0\n",
      "[0, 0, 1], -0.0, 6161 ,0|| 6161, 6160 , 6160\n",
      "[0, 0, 1], -0.0, 6160 ,0|| 6160, 6161 , 6160\n",
      "\n",
      "any_head_positioned True\n",
      "13-12, Count=56, Err=0.0038\n"
     ]
    },
    {
     "data": {
      "application/vnd.jupyter.widget-view+json": {
       "model_id": "8de7dcca9f244c198c3a635ae1629f0e",
       "version_major": 2,
       "version_minor": 0
      },
      "text/plain": [
       "HBox(children=(IntProgress(value=0, max=3), HTML(value='')))"
      ]
     },
     "metadata": {},
     "output_type": "display_data"
    },
    {
     "name": "stdout",
     "output_type": "stream",
     "text": [
      "[1, 0, 0], -0.0, 5331 ,0|| 5331, 0 , 0\n",
      "[1, 0, 0], -0.0, 5328 ,0|| 5328, 5331 , 0\n",
      "[1, 0, 0], -0.0, 5328 ,0|| 5328, 5328 , 5331\n",
      "[1, 0, 0], -0.0, 5328 ,0|| 5328, 5331 , 5328\n",
      "[0, 1, 0], -0.0, 5362 ,0|| 5362, 0 , 0\n",
      "[0, 1, 0], -0.0, 5361 ,0|| 5361, 5362 , 0\n",
      "[0, 1, 0], -0.0, 5363 ,0|| 5363, 5361 , 5362\n",
      "[0, 1, 0], -0.0, 5368 ,0|| 5368, 5363 , 5361\n",
      "[0, 1, 0], -0.1, 5373 ,0|| 5373, 5368 , 5363\n",
      "[0, 1, 0], -0.1, 5372 ,0|| 5372, 5373 , 5368\n",
      "[0, 0, 1], -0.0, 5253 ,0|| 5253, 0 , 0\n",
      "[0, 0, 1], -0.0, 5255 ,0|| 5255, 5253 , 0\n",
      "[0, 0, 1], -0.0, 5256 ,0|| 5256, 5255 , 5253\n",
      "[0, 0, 1], -0.0, 5257 ,0|| 5257, 5256 , 5255\n",
      "[0, 0, 1], -0.1, 5254 ,0|| 5254, 5257 , 5256\n",
      "\n",
      "any_head_positioned True\n",
      "12-11, Count=46, Err=0.0039\n"
     ]
    },
    {
     "data": {
      "application/vnd.jupyter.widget-view+json": {
       "model_id": "65a042fd428847ffb372d054688c4fa2",
       "version_major": 2,
       "version_minor": 0
      },
      "text/plain": [
       "HBox(children=(IntProgress(value=0, max=3), HTML(value='')))"
      ]
     },
     "metadata": {},
     "output_type": "display_data"
    },
    {
     "name": "stdout",
     "output_type": "stream",
     "text": [
      "[1, 0, 0], -0.0, 2905 ,0|| 2905, 0 , 0\n",
      "[1, 0, 0], -0.0, 2904 ,0|| 2904, 2905 , 0\n",
      "[1, 0, 0], -0.0, 2902 ,0|| 2902, 2904 , 2905\n",
      "[1, 0, 0], -0.0, 2905 ,0|| 2904, 2905 , 2905\n",
      "[1, 0, 0], -0.0, 2905 ,0|| 2905, 2905 , 2905\n",
      "[1, 0, 0], -0.0, 2904 ,1|| 2904, 2905 , 2905\n",
      "[1, 0, 0], -0.0, 2905 ,1|| 2905, 2905 , 2905\n",
      "[0, 1, 0], -0.0, 2920 ,0|| 2920, 0 , 0\n",
      "[0, 1, 0], -0.0, 2921 ,0|| 2921, 2920 , 0\n",
      "[0, 1, 0], -0.0, 2919 ,0|| 2919, 2921 , 2920\n",
      "[0, 0, 1], -0.0, 2923 ,0|| 2923, 0 , 0\n",
      "[0, 0, 1], -0.0, 2920 ,0|| 2920, 2923 , 0\n",
      "[0, 0, 1], -0.0, 2922 ,0|| 2922, 2920 , 2923\n",
      "[0, 0, 1], -0.0, 2924 ,0|| 2924, 2922 , 2920\n",
      "[0, 0, 1], -0.1, 2923 ,0|| 2923, 2924 , 2922\n",
      "\n",
      "any_head_positioned True\n",
      "11-10, Count=18, Err=0.0063\n"
     ]
    },
    {
     "data": {
      "application/vnd.jupyter.widget-view+json": {
       "model_id": "def77f137f794ba6ab89208769f5c9c7",
       "version_major": 2,
       "version_minor": 0
      },
      "text/plain": [
       "HBox(children=(IntProgress(value=0, max=3), HTML(value='')))"
      ]
     },
     "metadata": {},
     "output_type": "display_data"
    },
    {
     "name": "stdout",
     "output_type": "stream",
     "text": [
      "[1, 0, 0], -0.0, 2223 ,0|| 2223, 0 , 0\n",
      "[1, 0, 0], -0.0, 2225 ,0|| 2225, 2223 , 0\n",
      "[1, 0, 0], -0.0, 2227 ,0|| 2227, 2225 , 2223\n",
      "[1, 0, 0], -0.0, 2224 ,0|| 2224, 2227 , 2225\n",
      "[0, 1, 0], -0.0, 2210 ,0|| 2210, 0 , 0\n",
      "[0, 1, 0], -0.0, 2212 ,0|| 2212, 2210 , 0\n",
      "[0, 1, 0], -0.0, 2216 ,0|| 2216, 2212 , 2210\n",
      "[0, 1, 0], -0.0, 2216 ,0|| 2216, 2216 , 2212\n",
      "[0, 1, 0], -0.1, 2216 ,0|| 2216, 2216 , 2216\n",
      "[0, 1, 0], -0.1, 2218 ,0|| 2218, 2216 , 2216\n",
      "[0, 1, 0], -0.1, 2219 ,0|| 2219, 2218 , 2216\n",
      "[0, 1, 0], -0.1, 2220 ,0|| 2220, 2219 , 2218\n",
      "[0, 1, 0], -0.1, 2219 ,0|| 2219, 2220 , 2219\n",
      "[0, 0, 1], -0.0, 2226 ,0|| 2226, 0 , 0\n",
      "[0, 0, 1], -0.0, 2228 ,0|| 2228, 2226 , 0\n",
      "[0, 0, 1], -0.0, 2232 ,0|| 2232, 2228 , 2226\n",
      "[0, 0, 1], -0.0, 2230 ,0|| 2230, 2232 , 2228\n",
      "\n",
      "any_head_positioned True\n",
      "9-8, Count=10, Err=0.0248\n"
     ]
    },
    {
     "data": {
      "application/vnd.jupyter.widget-view+json": {
       "model_id": "d1f87f4b19d143f483265fdede888fe2",
       "version_major": 2,
       "version_minor": 0
      },
      "text/plain": [
       "HBox(children=(IntProgress(value=0, max=3), HTML(value='')))"
      ]
     },
     "metadata": {},
     "output_type": "display_data"
    },
    {
     "name": "stdout",
     "output_type": "stream",
     "text": [
      "[1, 0, 0], -0.0, 6531 ,0|| 6531, 0 , 0\n",
      "[1, 0, 0], -0.0, 6532 ,0|| 6532, 6531 , 0\n",
      "[1, 0, 0], -0.0, 6535 ,0|| 6535, 6532 , 6531\n",
      "[1, 0, 0], -0.0, 6535 ,0|| 6535, 6535 , 6532\n",
      "[1, 0, 0], -0.1, 6540 ,0|| 6540, 6535 , 6535\n",
      "[1, 0, 0], -0.1, 6540 ,0|| 6540, 6540 , 6535\n",
      "[1, 0, 0], -0.1, 6542 ,0|| 6542, 6540 , 6540\n",
      "[1, 0, 0], -0.1, 6538 ,0|| 6538, 6542 , 6540\n",
      "[0, 1, 0], -0.0, 6406 ,0|| 6406, 0 , 0\n",
      "[0, 1, 0], -0.0, 6403 ,0|| 6403, 6406 , 0\n",
      "[0, 1, 0], -0.0, 6398 ,0|| 6398, 6403 , 6406\n",
      "[0, 1, 0], -0.0, 6406 ,0|| 6403, 6406 , 6406\n",
      "[0, 1, 0], -0.0, 6407 ,0|| 6406, 6406 , 6407\n",
      "[0, 1, 0], -0.0, 6409 ,0|| 6406, 6407 , 6409\n",
      "[0, 1, 0], 0.0, 6411 ,0|| 6407, 6409 , 6411\n",
      "[0, 1, 0], 0.0, 6411 ,0|| 6409, 6411 , 6411\n",
      "[0, 1, 0], 0.0, 6414 ,0|| 6411, 6411 , 6414\n",
      "[0, 1, 0], 0.0, 6418 ,0|| 6411, 6414 , 6418\n",
      "[0, 1, 0], 0.1, 6419 ,0|| 6414, 6418 , 6419\n",
      "[0, 1, 0], 0.1, 6419 ,0|| 6418, 6419 , 6419\n",
      "[0, 1, 0], 0.1, 6418 ,0|| 6419, 6419 , 6418\n",
      "[0, 1, 0], 0.1, 6418 ,1|| 6418, 6419 , 6419\n",
      "[0, 1, 0], 0.1, 6418 ,1|| 6419, 6419 , 6418\n",
      "[0, 0, 1], -0.0, 6631 ,0|| 6631, 0 , 0\n",
      "[0, 0, 1], -0.0, 6633 ,0|| 6633, 6631 , 0\n",
      "[0, 0, 1], -0.0, 6633 ,0|| 6633, 6633 , 6631\n",
      "[0, 0, 1], -0.0, 6629 ,0|| 6629, 6633 , 6633\n",
      "[0, 0, 1], -0.0, 6631 ,0|| 6633, 6633 , 6631\n",
      "[0, 0, 1], -0.0, 6629 ,1|| 6629, 6633 , 6633\n",
      "[0, 0, 1], -0.0, 6631 ,1|| 6633, 6633 , 6631\n",
      "\n",
      "any_head_positioned True\n",
      "[1, 2, 3, 4, 5, 6, 7, 8, 9, 10, 11, 12, 13, 14, 15]\n"
     ]
    }
   ],
   "source": [
    "# transform from links\n",
    "only_first_n=15\n",
    "mhead.reset_all_head_positions()\n",
    "link_index,err=mhead.get_next_unpositioned_link()\n",
    "positioned_head_count=0\n",
    "joined_heads=set() \n",
    "while(not link_index is None) and (positioned_head_count<only_first_n or only_first_n==-1):\n",
    "    mhead.links[link_index].print_short()\n",
    "    joined_heads.add(mhead.links[link_index].left)\n",
    "    joined_heads.add(mhead.links[link_index].right)\n",
    "    foo= mhead.transform_from_link(mhead.links[link_index])\n",
    "    link_index,err=mhead.get_next_unpositioned_link()\n",
    "    positioned_head_count=max(positioned_head_count+1,2)\n",
    "joined_heads=sorted(joined_heads)\n",
    "print(joined_heads)\n",
    "no_heads= len(joined_heads)\n",
    "joined_heads=[str(h) for h in joined_heads]\n",
    "name= f\"Seq_{mhead.heads[0].sequence_id}_frames_{'_'.join(joined_heads)}\"\n",
    "mhead.create_spheres(min(2/max(no_heads,0.2),1),name=name)"
   ]
  },
  {
   "cell_type": "code",
   "execution_count": 7,
   "metadata": {},
   "outputs": [
    {
     "data": {
      "application/vnd.jupyter.widget-view+json": {
       "model_id": "b0f0373a91e543e2b28ad24946d23327",
       "version_major": 2,
       "version_minor": 0
      },
      "text/plain": [
       "HBox(children=(IntProgress(value=0, max=184), HTML(value='')))"
      ]
     },
     "metadata": {},
     "output_type": "display_data"
    },
    {
     "name": "stdout",
     "output_type": "stream",
     "text": [
      "\n",
      "completed\n"
     ]
    }
   ],
   "source": [
    "mhead.create_mesh('mesh')"
   ]
  },
  {
   "cell_type": "code",
   "execution_count": 19,
   "metadata": {},
   "outputs": [
    {
     "name": "stdout",
     "output_type": "stream",
     "text": [
      "0\n",
      "2-1, Count=155, Err=0.0007\n",
      "1\n",
      "3-2, Count=111, Err=0.0018\n",
      "2\n",
      "4-3, Count=66, Err=0.0041\n",
      "3\n",
      "5-4, Count=48, Err=0.0054\n",
      "4\n",
      "6-5, Count=53, Err=0.0055\n",
      "5\n",
      "7-6, Count=55, Err=0.0024\n",
      "6\n",
      "8-7, Count=26, Err=0.0031\n",
      "7\n",
      "9-8, Count=10, Err=0.0248\n",
      "8\n",
      "10-9, Count=5, Err=nan\n",
      "9\n",
      "11-10, Count=18, Err=0.0063\n",
      "10\n",
      "12-11, Count=46, Err=0.0039\n",
      "11\n",
      "13-12, Count=56, Err=0.0038\n",
      "12\n",
      "14-13, Count=36, Err=0.0057\n",
      "13\n",
      "15-14, Count=95, Err=0.0039\n",
      "14\n",
      "1-15, Count=65, Err=0.0044\n"
     ]
    }
   ],
   "source": [
    "for i, link in enumerate(mhead.links):\n",
    "    print (i)\n",
    "    link.print_short()"
   ]
  },
  {
   "cell_type": "code",
   "execution_count": 20,
   "metadata": {},
   "outputs": [
    {
     "data": {
      "application/vnd.jupyter.widget-view+json": {
       "model_id": "5befb4a123e64cb4a0ff39b6da673864",
       "version_major": 2,
       "version_minor": 0
      },
      "text/plain": [
       "HBox(children=(IntProgress(value=0, max=3), HTML(value='')))"
      ]
     },
     "metadata": {},
     "output_type": "display_data"
    },
    {
     "name": "stdout",
     "output_type": "stream",
     "text": [
      "[1, 0, 0], -0.0, 5948 ,0|| 5948, 0 , 0\n",
      "[1, 0, 0], -0.0, 5948 ,0|| 5948, 5948 , 0\n",
      "[1, 0, 0], -0.0, 5948 ,0|| 5948, 5948 , 5948\n",
      "[1, 0, 0], -0.0, 5948 ,0|| 5948, 5948 , 5948\n",
      "[1, 0, 0], -0.1, 5949 ,0|| 5949, 5948 , 5948\n",
      "[1, 0, 0], -0.1, 5953 ,0|| 5953, 5949 , 5948\n",
      "[1, 0, 0], -0.1, 5955 ,0|| 5955, 5953 , 5949\n",
      "[1, 0, 0], -0.1, 5956 ,0|| 5956, 5955 , 5953\n",
      "[1, 0, 0], -0.1, 5956 ,0|| 5956, 5956 , 5955\n",
      "[1, 0, 0], -0.1, 5959 ,0|| 5959, 5956 , 5956\n",
      "[1, 0, 0], -0.1, 5960 ,0|| 5960, 5959 , 5956\n",
      "[1, 0, 0], -0.1, 5959 ,0|| 5959, 5960 , 5959\n",
      "[0, 1, 0], -0.0, 6052 ,0|| 6052, 0 , 0\n",
      "[0, 1, 0], -0.0, 6052 ,0|| 6052, 6052 , 0\n",
      "[0, 1, 0], -0.0, 6048 ,0|| 6048, 6052 , 6052\n",
      "[0, 1, 0], -0.0, 6053 ,0|| 6052, 6052 , 6053\n",
      "[0, 1, 0], -0.0, 6055 ,0|| 6052, 6053 , 6055\n",
      "[0, 1, 0], -0.0, 6054 ,0|| 6053, 6055 , 6054\n",
      "[0, 0, 1], -0.0, 5894 ,0|| 5894, 0 , 0\n",
      "[0, 0, 1], -0.0, 5890 ,0|| 5890, 5894 , 0\n",
      "[0, 0, 1], -0.0, 5890 ,0|| 5890, 5890 , 5894\n",
      "[0, 0, 1], -0.0, 5898 ,0|| 5890, 5894 , 5898\n",
      "[0, 0, 1], -0.0, 5898 ,0|| 5894, 5898 , 5898\n",
      "[0, 0, 1], -0.0, 5898 ,0|| 5898, 5898 , 5898\n",
      "[0, 0, 1], -0.0, 5894 ,1|| 5894, 5898 , 5898\n",
      "[0, 0, 1], -0.0, 5898 ,1|| 5898, 5898 , 5898\n",
      "\n"
     ]
    }
   ],
   "source": [
    "mhead.reset_all_head_positions()\n",
    "mhead.transform_from_link(mhead.links[8])\n",
    "mhead.create_spheres()"
   ]
  },
  {
   "cell_type": "code",
   "execution_count": 32,
   "metadata": {
    "scrolled": true
   },
   "outputs": [
    {
     "data": {
      "application/vnd.jupyter.widget-view+json": {
       "model_id": "c8316ab3694b477eb53da3ef5a776f89",
       "version_major": 2,
       "version_minor": 0
      },
      "text/plain": [
       "HBox(children=(IntProgress(value=0, max=184), HTML(value='')))"
      ]
     },
     "metadata": {},
     "output_type": "display_data"
    },
    {
     "name": "stdout",
     "output_type": "stream",
     "text": [
      "\n",
      "completed\n"
     ]
    }
   ],
   "source": [
    "mhead.create_mesh(\"mesh_head\")"
   ]
  },
  {
   "cell_type": "code",
   "execution_count": null,
   "metadata": {},
   "outputs": [],
   "source": [
    "# bad 11 12\n",
    "# 12-11, Count=53, Err=0.0077"
   ]
  },
  {
   "cell_type": "markdown",
   "metadata": {},
   "source": [
    "second"
   ]
  },
  {
   "cell_type": "code",
   "execution_count": null,
   "metadata": {},
   "outputs": [],
   "source": [
    "#using edge diameter 20, 2 nearest neighbors, 0.9 threshold\n",
    "#using edge diameter 20, 1 nearest neighbors, 0.4 threshold"
   ]
  },
  {
   "cell_type": "code",
   "execution_count": 31,
   "metadata": {},
   "outputs": [
    {
     "name": "stdout",
     "output_type": "stream",
     "text": [
      "2-1, matches=967, Count=820, Err=0.0015\n",
      "3-2, matches=812, Count=591, Err=0.0024\n",
      "4-3, matches=702, Count=494, Err=0.0027\n",
      "5-4, matches=652, Count=445, Err=0.0028\n",
      "6-5, matches=606, Count=461, Err=0.0023\n",
      "7-6, matches=308, Count=177, Err=0.0038\n",
      "8-7, matches=168, Count=109, Err=0.0025\n",
      "9-8, matches=134, Count=85, Err=0.0024\n",
      "10-9, matches=161, Count=64, Err=0.0036\n",
      "11-10, matches=165, Count=85, Err=0.0023\n",
      "12-11, matches=85, Count=14, Err=0.0160\n",
      "13-12, matches=211, Count=28, Err=0.0145\n",
      "14-13, matches=741, Count=474, Err=0.0031\n",
      "15-14, matches=1060, Count=927, Err=0.0012\n",
      "1-15, matches=1017, Count=851, Err=0.0015\n",
      "0 153974\n",
      "coordinate of the left eye: [ 0.00277377 -0.09670738 -0.06905971] in frame 0\n",
      "1 150143\n",
      "coordinate of the left eye: [ 0.03848441 -0.14546269 -0.00836436] in frame 1\n",
      "2 150124\n",
      "coordinate of the left eye: [ 0.03808846 -0.14535251 -0.00839116] in frame 2\n",
      "13 147576\n",
      "coordinate of the left eye: [ 0.00752822 -0.09694682 -0.0707703 ] in frame 13\n",
      "14 150775\n",
      "coordinate of the left eye: [ 0.00410045 -0.09507336 -0.07305265] in frame 14\n",
      "[ 0.01819506 -0.11590855 -0.04592764]\n",
      "[[-0.0154213   0.01920117 -0.02313208]\n",
      " [ 0.02028935 -0.02955414  0.03756328]\n",
      " [ 0.0198934  -0.02944396  0.03753647]\n",
      " [-0.01066684  0.01896174 -0.02484266]\n",
      " [-0.01409461  0.02083519 -0.02712501]]\n",
      "mean coordinate: [ 0.01819506 -0.11590855 -0.04592764]. Distance to each points: [0.03378749 0.05192403 0.0516883  0.03302252 0.03699364].\n"
     ]
    }
   ],
   "source": [
    "mhead.reset_all_head_positions()\n",
    "maxhead = 15\n",
    "for idx in range(maxhead):\n",
    "    mhead.transform_from_link(mhead.links[idx])\n",
    "    mhead.links[idx].print_short()\n",
    "center, distances=mhead.left_eye_deviation()\n",
    "np.mean(distances)\n",
    "\n",
    "mhead.create_spheres(0.5,\"seq_2_mergeSet_{}\".format(maxhead))"
   ]
  },
  {
   "cell_type": "code",
   "execution_count": null,
   "metadata": {},
   "outputs": [],
   "source": []
  }
 ],
 "metadata": {
  "kernelspec": {
   "display_name": "Python 3",
   "language": "python",
   "name": "python3"
  },
  "language_info": {
   "codemirror_mode": {
    "name": "ipython",
    "version": 3
   },
   "file_extension": ".py",
   "mimetype": "text/x-python",
   "name": "python",
   "nbconvert_exporter": "python",
   "pygments_lexer": "ipython3",
   "version": "3.7.4"
  }
 },
 "nbformat": 4,
 "nbformat_minor": 2
}
