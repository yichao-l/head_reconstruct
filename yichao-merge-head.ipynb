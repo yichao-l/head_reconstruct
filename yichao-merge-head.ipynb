{
 "cells": [
  {
   "cell_type": "code",
   "execution_count": 1,
   "metadata": {},
   "outputs": [
    {
     "data": {
      "text/html": [
       "<div id=\"glowscript\" class=\"glowscript\"></div>"
      ],
      "text/plain": [
       "<IPython.core.display.HTML object>"
      ]
     },
     "metadata": {},
     "output_type": "display_data"
    },
    {
     "data": {
      "application/javascript": [
       "if (typeof Jupyter !== \"undefined\") { window.__context = { glowscript_container: $(\"#glowscript\").removeAttr(\"id\")};}else{ element.textContent = ' ';}"
      ],
      "text/plain": [
       "<IPython.core.display.Javascript object>"
      ]
     },
     "metadata": {},
     "output_type": "display_data"
    }
   ],
   "source": [
    "import single_head\n",
    "import multi_head\n",
    "import copy\n",
    "import numpy as np\n",
    "import matplotlib.pyplot as plt\n",
    "import cv2\n",
    "from scipy.ndimage.morphology import binary_fill_holes\n",
    "import sys\n",
    "import pickle\n",
    "np.set_printoptions(threshold=sys.maxsize)\n",
    "\n",
    "%load_ext autoreload\n",
    "%autoreload 2"
   ]
  },
  {
   "cell_type": "code",
   "execution_count": 33,
   "metadata": {},
   "outputs": [],
   "source": [
    "# load heads\n",
    "all_heads=[single_head.SingleHead.load_from_pickle(2,i) for i in range (1,16)]"
   ]
  },
  {
   "cell_type": "code",
   "execution_count": 34,
   "metadata": {},
   "outputs": [
    {
     "name": "stdout",
     "output_type": "stream",
     "text": [
      "completed\n"
     ]
    }
   ],
   "source": [
    "# make head from first to last\n",
    "def make_mhead(all_heads, first, last):\n",
    "    all_heads[first].reset_positions()\n",
    "    all_heads[first].reset_colors()\n",
    "    all_heads[first+1].reset_positions()\n",
    "    all_heads[first+1].reset_colors()   \n",
    "    heads = multi_head.MultiHead.joined_heads(all_heads[first], all_heads[first+1])\n",
    "    heads.links.append(multi_head.Link(left=all_heads[first+1].frame_id,right=all_heads[first].frame_id))\n",
    "    for i in range(first+2,last+1):\n",
    "        heads.links.append(multi_head.Link(left=all_heads[i].frame_id,right=all_heads[i-1].frame_id))\n",
    "        all_heads[i].reset_positions()\n",
    "        all_heads[i].reset_colors()\n",
    "        heads.append(all_heads[i])        \n",
    "        if i==last:\n",
    "             heads.links.append(multi_head.Link(left=all_heads[first].frame_id,right=all_heads[i].frame_id))\n",
    "    print (\"completed\")\n",
    "    return heads\n",
    "mhead = make_mhead(all_heads, 0,14)\n",
    "mhead.calc_keypoints()"
   ]
  },
  {
   "cell_type": "code",
   "execution_count": 35,
   "metadata": {
    "scrolled": true
   },
   "outputs": [
    {
     "data": {
      "application/vnd.jupyter.widget-view+json": {
       "model_id": "ed6f960df52c467c97f7761024c09d35",
       "version_major": 2,
       "version_minor": 0
      },
      "text/plain": [
       "HBox(children=(IntProgress(value=0, max=10000), HTML(value='')))"
      ]
     },
     "metadata": {},
     "output_type": "display_data"
    },
    {
     "name": "stdout",
     "output_type": "stream",
     "text": [
      "\n"
     ]
    },
    {
     "data": {
      "application/vnd.jupyter.widget-view+json": {
       "model_id": "3400f8603911433cb61ed892533a3ff9",
       "version_major": 2,
       "version_minor": 0
      },
      "text/plain": [
       "HBox(children=(IntProgress(value=0, max=10000), HTML(value='')))"
      ]
     },
     "metadata": {},
     "output_type": "display_data"
    },
    {
     "name": "stdout",
     "output_type": "stream",
     "text": [
      "\n"
     ]
    },
    {
     "data": {
      "application/vnd.jupyter.widget-view+json": {
       "model_id": "870f0a93f4784823b0df86785968343c",
       "version_major": 2,
       "version_minor": 0
      },
      "text/plain": [
       "HBox(children=(IntProgress(value=0, max=10000), HTML(value='')))"
      ]
     },
     "metadata": {},
     "output_type": "display_data"
    },
    {
     "name": "stdout",
     "output_type": "stream",
     "text": [
      "\n"
     ]
    },
    {
     "data": {
      "application/vnd.jupyter.widget-view+json": {
       "model_id": "87137477ec57483bae0596692b4ea354",
       "version_major": 2,
       "version_minor": 0
      },
      "text/plain": [
       "HBox(children=(IntProgress(value=0, max=10000), HTML(value='')))"
      ]
     },
     "metadata": {},
     "output_type": "display_data"
    },
    {
     "name": "stdout",
     "output_type": "stream",
     "text": [
      "\n"
     ]
    },
    {
     "data": {
      "application/vnd.jupyter.widget-view+json": {
       "model_id": "d3c99f7a97cb485e95599d690c99a7a4",
       "version_major": 2,
       "version_minor": 0
      },
      "text/plain": [
       "HBox(children=(IntProgress(value=0, max=10000), HTML(value='')))"
      ]
     },
     "metadata": {},
     "output_type": "display_data"
    },
    {
     "name": "stdout",
     "output_type": "stream",
     "text": [
      "\n"
     ]
    },
    {
     "data": {
      "application/vnd.jupyter.widget-view+json": {
       "model_id": "fbbf974f2f3d4e85a8531629a17a25ee",
       "version_major": 2,
       "version_minor": 0
      },
      "text/plain": [
       "HBox(children=(IntProgress(value=0, max=10000), HTML(value='')))"
      ]
     },
     "metadata": {},
     "output_type": "display_data"
    },
    {
     "name": "stdout",
     "output_type": "stream",
     "text": [
      "\n"
     ]
    },
    {
     "data": {
      "application/vnd.jupyter.widget-view+json": {
       "model_id": "bfec79d82e254ca0b786fa56b1048e76",
       "version_major": 2,
       "version_minor": 0
      },
      "text/plain": [
       "HBox(children=(IntProgress(value=0, max=10000), HTML(value='')))"
      ]
     },
     "metadata": {},
     "output_type": "display_data"
    },
    {
     "name": "stdout",
     "output_type": "stream",
     "text": [
      "\n"
     ]
    },
    {
     "data": {
      "application/vnd.jupyter.widget-view+json": {
       "model_id": "228b85fe55044daf9fa0bdb95da0f9a2",
       "version_major": 2,
       "version_minor": 0
      },
      "text/plain": [
       "HBox(children=(IntProgress(value=0, max=10000), HTML(value='')))"
      ]
     },
     "metadata": {},
     "output_type": "display_data"
    },
    {
     "name": "stdout",
     "output_type": "stream",
     "text": [
      "\n"
     ]
    },
    {
     "data": {
      "application/vnd.jupyter.widget-view+json": {
       "model_id": "9121dcfb503b4d85bb3177b26eef0637",
       "version_major": 2,
       "version_minor": 0
      },
      "text/plain": [
       "HBox(children=(IntProgress(value=0, max=10000), HTML(value='')))"
      ]
     },
     "metadata": {},
     "output_type": "display_data"
    },
    {
     "name": "stdout",
     "output_type": "stream",
     "text": [
      "\n"
     ]
    },
    {
     "data": {
      "application/vnd.jupyter.widget-view+json": {
       "model_id": "a0772715e22e443fb135a103853e7bee",
       "version_major": 2,
       "version_minor": 0
      },
      "text/plain": [
       "HBox(children=(IntProgress(value=0, max=10000), HTML(value='')))"
      ]
     },
     "metadata": {},
     "output_type": "display_data"
    },
    {
     "name": "stdout",
     "output_type": "stream",
     "text": [
      "\n"
     ]
    },
    {
     "data": {
      "application/vnd.jupyter.widget-view+json": {
       "model_id": "513da32dc252405db863b936f1044b76",
       "version_major": 2,
       "version_minor": 0
      },
      "text/plain": [
       "HBox(children=(IntProgress(value=0, max=10000), HTML(value='')))"
      ]
     },
     "metadata": {},
     "output_type": "display_data"
    },
    {
     "name": "stdout",
     "output_type": "stream",
     "text": [
      "\n"
     ]
    },
    {
     "data": {
      "application/vnd.jupyter.widget-view+json": {
       "model_id": "dd020e1325544ed7883a4ac3584979b7",
       "version_major": 2,
       "version_minor": 0
      },
      "text/plain": [
       "HBox(children=(IntProgress(value=0, max=10000), HTML(value='')))"
      ]
     },
     "metadata": {},
     "output_type": "display_data"
    },
    {
     "name": "stdout",
     "output_type": "stream",
     "text": [
      "\n"
     ]
    },
    {
     "data": {
      "application/vnd.jupyter.widget-view+json": {
       "model_id": "63dc967db4244f51b4e9d34690e2a2c8",
       "version_major": 2,
       "version_minor": 0
      },
      "text/plain": [
       "HBox(children=(IntProgress(value=0, max=10000), HTML(value='')))"
      ]
     },
     "metadata": {},
     "output_type": "display_data"
    },
    {
     "name": "stdout",
     "output_type": "stream",
     "text": [
      "\n"
     ]
    },
    {
     "data": {
      "application/vnd.jupyter.widget-view+json": {
       "model_id": "56797d4db1fa4f0089827b640c1e73b8",
       "version_major": 2,
       "version_minor": 0
      },
      "text/plain": [
       "HBox(children=(IntProgress(value=0, max=10000), HTML(value='')))"
      ]
     },
     "metadata": {},
     "output_type": "display_data"
    },
    {
     "name": "stdout",
     "output_type": "stream",
     "text": [
      "\n"
     ]
    },
    {
     "data": {
      "application/vnd.jupyter.widget-view+json": {
       "model_id": "1b4f4b10ce3f46de9147a86d85c4373c",
       "version_major": 2,
       "version_minor": 0
      },
      "text/plain": [
       "HBox(children=(IntProgress(value=0, max=10000), HTML(value='')))"
      ]
     },
     "metadata": {},
     "output_type": "display_data"
    },
    {
     "name": "stdout",
     "output_type": "stream",
     "text": [
      "\n"
     ]
    }
   ],
   "source": [
    "def calc_connections(mhead):\n",
    "    for link in mhead.links:\n",
    "        link.reset()\n",
    "        mhead.ransac_from_link(link)        \n",
    "calc_connections(mhead)"
   ]
  },
  {
   "cell_type": "code",
   "execution_count": 36,
   "metadata": {
    "scrolled": false
   },
   "outputs": [
    {
     "name": "stdout",
     "output_type": "stream",
     "text": [
      "any_head_positioned False\n",
      "15-14, matches=1060, Count=927, Err=0.0012\n",
      "any_head_positioned True\n",
      "1-15, matches=1017, Count=851, Err=0.0015\n",
      "any_head_positioned True\n",
      "2-1, matches=967, Count=820, Err=0.0015\n",
      "any_head_positioned True\n",
      "3-2, matches=812, Count=592, Err=0.0024\n",
      "any_head_positioned True\n",
      "4-3, matches=702, Count=494, Err=0.0027\n",
      "any_head_positioned True\n",
      "5-4, matches=652, Count=449, Err=0.0028\n",
      "any_head_positioned True\n",
      "6-5, matches=606, Count=462, Err=0.0023\n",
      "any_head_positioned True\n",
      "14-13, matches=741, Count=473, Err=0.0031\n",
      "any_head_positioned True\n",
      "7-6, matches=308, Count=172, Err=0.0037\n",
      "any_head_positioned True\n",
      "8-7, matches=168, Count=109, Err=0.0025\n",
      "any_head_positioned True\n",
      "9-8, matches=134, Count=86, Err=0.0023\n",
      "any_head_positioned True\n",
      "10-9, matches=161, Count=64, Err=0.0037\n",
      "any_head_positioned True\n",
      "11-10, matches=165, Count=85, Err=0.0023\n",
      "any_head_positioned True\n",
      "13-12, matches=211, Count=24, Err=0.0159\n",
      "any_head_positioned True\n",
      "[1, 2, 3, 4, 5, 6, 7, 8, 9, 10, 11, 12, 13, 14, 15]\n"
     ]
    }
   ],
   "source": [
    "only_first_n=15\n",
    "mhead.reset_all_head_positions()\n",
    "link_index,err=mhead.get_next_unpositioned_link()\n",
    "positioned_head_count=0\n",
    "joined_heads=set() \n",
    "while(not link_index is None) and (positioned_head_count<only_first_n or only_first_n==-1):\n",
    "    mhead.links[link_index].print_short()\n",
    "    joined_heads.add(mhead.links[link_index].left)\n",
    "    joined_heads.add(mhead.links[link_index].right)\n",
    "    foo= mhead.transform_from_link(mhead.links[link_index])\n",
    "    link_index,err=mhead.get_next_unpositioned_link()\n",
    "    positioned_head_count=max(positioned_head_count+1,2)\n",
    "joined_heads=sorted(joined_heads)\n",
    "print(joined_heads)\n",
    "no_heads= len(joined_heads)\n",
    "joined_heads=[str(h) for h in joined_heads]\n",
    "name= f\"Seq_{mhead.heads[0].sequence_id}_frames_{'_'.join(joined_heads)}\"\n",
    "mhead.create_spheres(min(2/max(no_heads,0.2),1),name=name)"
   ]
  },
  {
   "cell_type": "code",
   "execution_count": 37,
   "metadata": {},
   "outputs": [
    {
     "data": {
      "application/vnd.jupyter.widget-view+json": {
       "model_id": "57306a9f708a4796a04f0d4295e0de83",
       "version_major": 2,
       "version_minor": 0
      },
      "text/plain": [
       "HBox(children=(IntProgress(value=0, max=184), HTML(value='')))"
      ]
     },
     "metadata": {},
     "output_type": "display_data"
    },
    {
     "name": "stdout",
     "output_type": "stream",
     "text": [
      "\n",
      "completed\n"
     ]
    }
   ],
   "source": [
    "mhead.create_mesh('mesh')"
   ]
  },
  {
   "cell_type": "code",
   "execution_count": 85,
   "metadata": {},
   "outputs": [
    {
     "name": "stdout",
     "output_type": "stream",
     "text": [
      "0\n",
      "2-1, Count=78, Err=0.0029\n",
      "1\n",
      "3-2, Count=86, Err=0.0037\n",
      "2\n",
      "4-3, Count=53, Err=0.0053\n",
      "3\n",
      "5-4, Count=80, Err=0.0028\n",
      "4\n",
      "6-5, Count=67, Err=0.0051\n",
      "5\n",
      "7-6, Count=52, Err=0.0055\n",
      "6\n",
      "8-7, Count=39, Err=0.0030\n",
      "7\n",
      "9-8, Count=12, Err=0.0130\n",
      "8\n",
      "10-9, Count=5, Err=nan\n",
      "9\n",
      "11-10, Count=19, Err=0.0028\n",
      "10\n",
      "12-11, Count=27, Err=0.0076\n",
      "11\n",
      "13-12, Count=39, Err=0.0030\n",
      "12\n",
      "14-13, Count=34, Err=0.0068\n",
      "13\n",
      "15-14, Count=42, Err=0.0076\n",
      "14\n",
      "1-15, Count=92, Err=0.0028\n"
     ]
    }
   ],
   "source": [
    "for i, link in enumerate(mhead.links):\n",
    "    print (i)\n",
    "    link.print_short()"
   ]
  },
  {
   "cell_type": "code",
   "execution_count": 100,
   "metadata": {},
   "outputs": [],
   "source": [
    "mhead.reset_all_head_positions()\n",
    "mhead.transform_from_link(mhead.links[13])\n",
    "mhead.create_spheres()"
   ]
  },
  {
   "cell_type": "code",
   "execution_count": 32,
   "metadata": {
    "scrolled": true
   },
   "outputs": [
    {
     "data": {
      "application/vnd.jupyter.widget-view+json": {
       "model_id": "c8316ab3694b477eb53da3ef5a776f89",
       "version_major": 2,
       "version_minor": 0
      },
      "text/plain": [
       "HBox(children=(IntProgress(value=0, max=184), HTML(value='')))"
      ]
     },
     "metadata": {},
     "output_type": "display_data"
    },
    {
     "name": "stdout",
     "output_type": "stream",
     "text": [
      "\n",
      "completed\n"
     ]
    }
   ],
   "source": [
    "mhead.create_mesh(\"mesh_head\")"
   ]
  },
  {
   "cell_type": "code",
   "execution_count": null,
   "metadata": {},
   "outputs": [],
   "source": [
    "# bad 11 12\n",
    "# 12-11, Count=53, Err=0.0077"
   ]
  },
  {
   "cell_type": "markdown",
   "metadata": {},
   "source": [
    "second"
   ]
  },
  {
   "cell_type": "code",
   "execution_count": null,
   "metadata": {},
   "outputs": [],
   "source": [
    "#using edge diameter 20, 2 nearest neighbors, 0.9 threshold\n",
    "#using edge diameter 20, 1 nearest neighbors, 0.4 threshold"
   ]
  },
  {
   "cell_type": "code",
   "execution_count": 31,
   "metadata": {},
   "outputs": [
    {
     "name": "stdout",
     "output_type": "stream",
     "text": [
      "2-1, matches=967, Count=820, Err=0.0015\n",
      "3-2, matches=812, Count=591, Err=0.0024\n",
      "4-3, matches=702, Count=494, Err=0.0027\n",
      "5-4, matches=652, Count=445, Err=0.0028\n",
      "6-5, matches=606, Count=461, Err=0.0023\n",
      "7-6, matches=308, Count=177, Err=0.0038\n",
      "8-7, matches=168, Count=109, Err=0.0025\n",
      "9-8, matches=134, Count=85, Err=0.0024\n",
      "10-9, matches=161, Count=64, Err=0.0036\n",
      "11-10, matches=165, Count=85, Err=0.0023\n",
      "12-11, matches=85, Count=14, Err=0.0160\n",
      "13-12, matches=211, Count=28, Err=0.0145\n",
      "14-13, matches=741, Count=474, Err=0.0031\n",
      "15-14, matches=1060, Count=927, Err=0.0012\n",
      "1-15, matches=1017, Count=851, Err=0.0015\n",
      "0 153974\n",
      "coordinate of the left eye: [ 0.00277377 -0.09670738 -0.06905971] in frame 0\n",
      "1 150143\n",
      "coordinate of the left eye: [ 0.03848441 -0.14546269 -0.00836436] in frame 1\n",
      "2 150124\n",
      "coordinate of the left eye: [ 0.03808846 -0.14535251 -0.00839116] in frame 2\n",
      "13 147576\n",
      "coordinate of the left eye: [ 0.00752822 -0.09694682 -0.0707703 ] in frame 13\n",
      "14 150775\n",
      "coordinate of the left eye: [ 0.00410045 -0.09507336 -0.07305265] in frame 14\n",
      "[ 0.01819506 -0.11590855 -0.04592764]\n",
      "[[-0.0154213   0.01920117 -0.02313208]\n",
      " [ 0.02028935 -0.02955414  0.03756328]\n",
      " [ 0.0198934  -0.02944396  0.03753647]\n",
      " [-0.01066684  0.01896174 -0.02484266]\n",
      " [-0.01409461  0.02083519 -0.02712501]]\n",
      "mean coordinate: [ 0.01819506 -0.11590855 -0.04592764]. Distance to each points: [0.03378749 0.05192403 0.0516883  0.03302252 0.03699364].\n"
     ]
    }
   ],
   "source": [
    "mhead.reset_all_head_positions()\n",
    "maxhead = 15\n",
    "for idx in range(maxhead):\n",
    "    mhead.transform_from_link(mhead.links[idx])\n",
    "    mhead.links[idx].print_short()\n",
    "center, distances=mhead.left_eye_deviation()\n",
    "np.mean(distances)\n",
    "\n",
    "mhead.create_spheres(0.5,\"seq_2_mergeSet_{}\".format(maxhead))"
   ]
  },
  {
   "cell_type": "code",
   "execution_count": null,
   "metadata": {},
   "outputs": [],
   "source": []
  }
 ],
 "metadata": {
  "kernelspec": {
   "display_name": "Python 3",
   "language": "python",
   "name": "python3"
  },
  "language_info": {
   "codemirror_mode": {
    "name": "ipython",
    "version": 3
   },
   "file_extension": ".py",
   "mimetype": "text/x-python",
   "name": "python",
   "nbconvert_exporter": "python",
   "pygments_lexer": "ipython3",
   "version": "3.7.4"
  }
 },
 "nbformat": 4,
 "nbformat_minor": 2
}
