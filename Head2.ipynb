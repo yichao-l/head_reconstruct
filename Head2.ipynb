{
 "cells": [
  {
   "cell_type": "code",
   "execution_count": 15,
   "metadata": {},
   "outputs": [
    {
     "name": "stdout",
     "output_type": "stream",
     "text": [
      "The autoreload extension is already loaded. To reload it, use:\n",
      "  %reload_ext autoreload\n"
     ]
    }
   ],
   "source": [
    "import single_head\n",
    "import multi_head\n",
    "import copy\n",
    "import numpy as np\n",
    "import matplotlib.pyplot as plt\n",
    "import cv2\n",
    "from scipy.ndimage.morphology import binary_fill_holes\n",
    "import sys\n",
    "np.set_printoptions(threshold=sys.maxsize)\n",
    "from scipy.signal import detrend\n",
    "from single_head import SingleHead\n",
    "from multi_head import MultiHead\n",
    "import matplotlib.gridspec as gridspec\n",
    "%load_ext autoreload\n",
    "%autoreload 2"
   ]
  },
  {
   "cell_type": "code",
   "execution_count": 97,
   "metadata": {},
   "outputs": [
    {
     "name": "stdout",
     "output_type": "stream",
     "text": [
      "Loading Sequence 2...done\n"
     ]
    }
   ],
   "source": [
    "# gen pickled heads\n",
    "Sequence=2\n",
    "mhead=MultiHead.load_from_pickle(Sequence)"
   ]
  },
  {
   "cell_type": "markdown",
   "metadata": {},
   "source": [
    "experiments:\n",
    "SIFT_contrastThreshold=0.02 SIFT_edgeThreshold 14, max_dist_matches 0.01 Prob 0.6 : More or Less OK\n",
    "unravelled matches = bf.knnMatch(head1.des, head2.des, k=2)\n",
    "knn=2 SIFT_contrastThreshold=0.01 EdgeThreshold 14, max_dist_matches 0.007 Prob 0.6 :\n",
    "\n",
    "knn=2 SIFT_contrastThreshold=0.02 EdgeThreshold 14, max_dist_matches 0.007 Prob 0.6 :\n"
   ]
  },
  {
   "cell_type": "code",
   "execution_count": 111,
   "metadata": {},
   "outputs": [
    {
     "name": "stdout",
     "output_type": "stream",
     "text": [
      "1585\n"
     ]
    },
    {
     "data": {
      "application/vnd.jupyter.widget-view+json": {
       "model_id": "fc71600be5a74f85a1b3f6019a165967",
       "version_major": 2,
       "version_minor": 0
      },
      "text/plain": [
       "HBox(children=(FloatProgress(value=0.0, max=10000.0), HTML(value='')))"
      ]
     },
     "metadata": {},
     "output_type": "display_data"
    },
    {
     "name": "stdout",
     "output_type": "stream",
     "text": [
      "\n",
      "1681\n"
     ]
    },
    {
     "data": {
      "application/vnd.jupyter.widget-view+json": {
       "model_id": "ae4b194bb1384335a53912bf20b72518",
       "version_major": 2,
       "version_minor": 0
      },
      "text/plain": [
       "HBox(children=(FloatProgress(value=0.0, max=10000.0), HTML(value='')))"
      ]
     },
     "metadata": {},
     "output_type": "display_data"
    },
    {
     "name": "stdout",
     "output_type": "stream",
     "text": [
      "\n",
      "1546\n"
     ]
    },
    {
     "data": {
      "application/vnd.jupyter.widget-view+json": {
       "model_id": "bbc0d04a7a724d0286d203e1c0a4fa8b",
       "version_major": 2,
       "version_minor": 0
      },
      "text/plain": [
       "HBox(children=(FloatProgress(value=0.0, max=10000.0), HTML(value='')))"
      ]
     },
     "metadata": {},
     "output_type": "display_data"
    },
    {
     "name": "stdout",
     "output_type": "stream",
     "text": [
      "\n",
      "1568\n"
     ]
    },
    {
     "data": {
      "application/vnd.jupyter.widget-view+json": {
       "model_id": "d1c734bec3424bb2a0de036ac561a5df",
       "version_major": 2,
       "version_minor": 0
      },
      "text/plain": [
       "HBox(children=(FloatProgress(value=0.0, max=10000.0), HTML(value='')))"
      ]
     },
     "metadata": {},
     "output_type": "display_data"
    },
    {
     "name": "stdout",
     "output_type": "stream",
     "text": [
      "\n",
      "1415\n"
     ]
    },
    {
     "data": {
      "application/vnd.jupyter.widget-view+json": {
       "model_id": "1a05795e13e74a6091dc8633fd49d724",
       "version_major": 2,
       "version_minor": 0
      },
      "text/plain": [
       "HBox(children=(FloatProgress(value=0.0, max=10000.0), HTML(value='')))"
      ]
     },
     "metadata": {},
     "output_type": "display_data"
    },
    {
     "name": "stdout",
     "output_type": "stream",
     "text": [
      "\n",
      "1309\n"
     ]
    },
    {
     "data": {
      "application/vnd.jupyter.widget-view+json": {
       "model_id": "8a91b5f4af1f4178bd3d46e779bdba05",
       "version_major": 2,
       "version_minor": 0
      },
      "text/plain": [
       "HBox(children=(FloatProgress(value=0.0, max=10000.0), HTML(value='')))"
      ]
     },
     "metadata": {},
     "output_type": "display_data"
    },
    {
     "name": "stdout",
     "output_type": "stream",
     "text": [
      "\n",
      "762\n"
     ]
    },
    {
     "data": {
      "application/vnd.jupyter.widget-view+json": {
       "model_id": "741c78d87425465da6fe27b374d0a82d",
       "version_major": 2,
       "version_minor": 0
      },
      "text/plain": [
       "HBox(children=(FloatProgress(value=0.0, max=10000.0), HTML(value='')))"
      ]
     },
     "metadata": {},
     "output_type": "display_data"
    },
    {
     "name": "stdout",
     "output_type": "stream",
     "text": [
      "\n",
      "604\n"
     ]
    },
    {
     "data": {
      "application/vnd.jupyter.widget-view+json": {
       "model_id": "07d7ab14bc094212a2ea551b1a2cff72",
       "version_major": 2,
       "version_minor": 0
      },
      "text/plain": [
       "HBox(children=(FloatProgress(value=0.0, max=10000.0), HTML(value='')))"
      ]
     },
     "metadata": {},
     "output_type": "display_data"
    },
    {
     "name": "stdout",
     "output_type": "stream",
     "text": [
      "\n",
      "529\n"
     ]
    },
    {
     "data": {
      "application/vnd.jupyter.widget-view+json": {
       "model_id": "a6e945f08ac1415cbe545e509a0b3c96",
       "version_major": 2,
       "version_minor": 0
      },
      "text/plain": [
       "HBox(children=(FloatProgress(value=0.0, max=10000.0), HTML(value='')))"
      ]
     },
     "metadata": {},
     "output_type": "display_data"
    },
    {
     "name": "stdout",
     "output_type": "stream",
     "text": [
      "\n",
      "495\n"
     ]
    },
    {
     "data": {
      "application/vnd.jupyter.widget-view+json": {
       "model_id": "c30063c3be46423a8e11e46ea790548a",
       "version_major": 2,
       "version_minor": 0
      },
      "text/plain": [
       "HBox(children=(FloatProgress(value=0.0, max=10000.0), HTML(value='')))"
      ]
     },
     "metadata": {},
     "output_type": "display_data"
    },
    {
     "name": "stdout",
     "output_type": "stream",
     "text": [
      "\n",
      "757\n"
     ]
    },
    {
     "data": {
      "application/vnd.jupyter.widget-view+json": {
       "model_id": "d17214109c1a49bc999ba7e9fef35c54",
       "version_major": 2,
       "version_minor": 0
      },
      "text/plain": [
       "HBox(children=(FloatProgress(value=0.0, max=10000.0), HTML(value='')))"
      ]
     },
     "metadata": {},
     "output_type": "display_data"
    },
    {
     "name": "stdout",
     "output_type": "stream",
     "text": [
      "\n",
      "1014\n"
     ]
    },
    {
     "data": {
      "application/vnd.jupyter.widget-view+json": {
       "model_id": "0aff60d1944b4857b831a94b700590d9",
       "version_major": 2,
       "version_minor": 0
      },
      "text/plain": [
       "HBox(children=(FloatProgress(value=0.0, max=10000.0), HTML(value='')))"
      ]
     },
     "metadata": {},
     "output_type": "display_data"
    },
    {
     "name": "stdout",
     "output_type": "stream",
     "text": [
      "\n",
      "1676\n"
     ]
    },
    {
     "data": {
      "application/vnd.jupyter.widget-view+json": {
       "model_id": "af2f89a8881b443b94c4a1334baf575b",
       "version_major": 2,
       "version_minor": 0
      },
      "text/plain": [
       "HBox(children=(FloatProgress(value=0.0, max=10000.0), HTML(value='')))"
      ]
     },
     "metadata": {},
     "output_type": "display_data"
    },
    {
     "name": "stdout",
     "output_type": "stream",
     "text": [
      "\n",
      "1704\n"
     ]
    },
    {
     "data": {
      "application/vnd.jupyter.widget-view+json": {
       "model_id": "e5069fea9cb34babbe7a4b38288316b3",
       "version_major": 2,
       "version_minor": 0
      },
      "text/plain": [
       "HBox(children=(FloatProgress(value=0.0, max=10000.0), HTML(value='')))"
      ]
     },
     "metadata": {},
     "output_type": "display_data"
    },
    {
     "name": "stdout",
     "output_type": "stream",
     "text": [
      "\n",
      "1722\n"
     ]
    },
    {
     "data": {
      "application/vnd.jupyter.widget-view+json": {
       "model_id": "91a21d9278a941b69ece4be388b1781a",
       "version_major": 2,
       "version_minor": 0
      },
      "text/plain": [
       "HBox(children=(FloatProgress(value=0.0, max=10000.0), HTML(value='')))"
      ]
     },
     "metadata": {},
     "output_type": "display_data"
    },
    {
     "name": "stdout",
     "output_type": "stream",
     "text": [
      "\n"
     ]
    }
   ],
   "source": [
    "# def calc_all_sift_keypoints(self, SIFT_contrastThreshold=0.02, SIFT_edgeThreshold=10, SIFT_sigma=0.50):\n",
    "mhead.calc_all_sift_keypoints()\n",
    "mhead.reset_all_head_positions()\n",
    "for idx in range(15):          \n",
    "    link=mhead.links[idx]\n",
    "    link.reset()\n",
    "    mhead.ransac_from_link(link)"
   ]
  },
  {
   "cell_type": "code",
   "execution_count": 108,
   "metadata": {},
   "outputs": [
    {
     "name": "stdout",
     "output_type": "stream",
     "text": [
      "\\begin{tabular}{lrrll}\n",
      "\\toprule\n",
      "    Pair &  Matches &  Inliers &     Err &  Coverage \\\\\n",
      "\\midrule\n",
      "   2 - 1 &     1023 &      421 &  0.0027 &  -100.00\\% \\\\\n",
      "   3 - 2 &      849 &      323 &  0.0037 &  -100.00\\% \\\\\n",
      "   4 - 3 &      824 &      311 &  0.0038 &  -100.00\\% \\\\\n",
      "   5 - 4 &      747 &      302 &  0.0040 &  -100.00\\% \\\\\n",
      "   6 - 5 &      713 &      278 &  0.0039 &  -100.00\\% \\\\\n",
      "   7 - 6 &      430 &      174 &  0.0043 &  -100.00\\% \\\\\n",
      "   8 - 7 &      239 &       90 &  0.0041 &  -100.00\\% \\\\\n",
      "   9 - 8 &      202 &       85 &  0.0041 &  -100.00\\% \\\\\n",
      "  10 - 9 &      255 &      108 &  0.0053 &  -100.00\\% \\\\\n",
      " 11 - 10 &      229 &       92 &  0.0031 &  -100.00\\% \\\\\n",
      " 12 - 11 &      125 &       50 &  0.0095 &  -100.00\\% \\\\\n",
      " 13 - 12 &      269 &      108 &  0.0075 &  -100.00\\% \\\\\n",
      " 14 - 13 &      759 &      304 &  0.0046 &  -100.00\\% \\\\\n",
      " 15 - 14 &     1124 &      427 &  0.0021 &  -100.00\\% \\\\\n",
      "  1 - 15 &     1101 &      420 &  0.0030 &  -100.00\\% \\\\\n",
      "\\bottomrule\n",
      "\\end{tabular}\n",
      "\n"
     ]
    },
    {
     "data": {
      "text/html": [
       "<div>\n",
       "<style scoped>\n",
       "    .dataframe tbody tr th:only-of-type {\n",
       "        vertical-align: middle;\n",
       "    }\n",
       "\n",
       "    .dataframe tbody tr th {\n",
       "        vertical-align: top;\n",
       "    }\n",
       "\n",
       "    .dataframe thead th {\n",
       "        text-align: right;\n",
       "    }\n",
       "</style>\n",
       "<table border=\"1\" class=\"dataframe\">\n",
       "  <thead>\n",
       "    <tr style=\"text-align: right;\">\n",
       "      <th></th>\n",
       "      <th>Pair</th>\n",
       "      <th>Matches</th>\n",
       "      <th>Inliers</th>\n",
       "      <th>Err</th>\n",
       "      <th>Coverage</th>\n",
       "    </tr>\n",
       "  </thead>\n",
       "  <tbody>\n",
       "    <tr>\n",
       "      <th>0</th>\n",
       "      <td>2 - 1</td>\n",
       "      <td>1023</td>\n",
       "      <td>421</td>\n",
       "      <td>0.0027</td>\n",
       "      <td>-100.00%</td>\n",
       "    </tr>\n",
       "    <tr>\n",
       "      <th>1</th>\n",
       "      <td>3 - 2</td>\n",
       "      <td>849</td>\n",
       "      <td>323</td>\n",
       "      <td>0.0037</td>\n",
       "      <td>-100.00%</td>\n",
       "    </tr>\n",
       "    <tr>\n",
       "      <th>2</th>\n",
       "      <td>4 - 3</td>\n",
       "      <td>824</td>\n",
       "      <td>311</td>\n",
       "      <td>0.0038</td>\n",
       "      <td>-100.00%</td>\n",
       "    </tr>\n",
       "    <tr>\n",
       "      <th>3</th>\n",
       "      <td>5 - 4</td>\n",
       "      <td>747</td>\n",
       "      <td>302</td>\n",
       "      <td>0.0040</td>\n",
       "      <td>-100.00%</td>\n",
       "    </tr>\n",
       "    <tr>\n",
       "      <th>4</th>\n",
       "      <td>6 - 5</td>\n",
       "      <td>713</td>\n",
       "      <td>278</td>\n",
       "      <td>0.0039</td>\n",
       "      <td>-100.00%</td>\n",
       "    </tr>\n",
       "    <tr>\n",
       "      <th>5</th>\n",
       "      <td>7 - 6</td>\n",
       "      <td>430</td>\n",
       "      <td>174</td>\n",
       "      <td>0.0043</td>\n",
       "      <td>-100.00%</td>\n",
       "    </tr>\n",
       "    <tr>\n",
       "      <th>6</th>\n",
       "      <td>8 - 7</td>\n",
       "      <td>239</td>\n",
       "      <td>90</td>\n",
       "      <td>0.0041</td>\n",
       "      <td>-100.00%</td>\n",
       "    </tr>\n",
       "    <tr>\n",
       "      <th>7</th>\n",
       "      <td>9 - 8</td>\n",
       "      <td>202</td>\n",
       "      <td>85</td>\n",
       "      <td>0.0041</td>\n",
       "      <td>-100.00%</td>\n",
       "    </tr>\n",
       "    <tr>\n",
       "      <th>8</th>\n",
       "      <td>10 - 9</td>\n",
       "      <td>255</td>\n",
       "      <td>108</td>\n",
       "      <td>0.0053</td>\n",
       "      <td>-100.00%</td>\n",
       "    </tr>\n",
       "    <tr>\n",
       "      <th>9</th>\n",
       "      <td>11 - 10</td>\n",
       "      <td>229</td>\n",
       "      <td>92</td>\n",
       "      <td>0.0031</td>\n",
       "      <td>-100.00%</td>\n",
       "    </tr>\n",
       "    <tr>\n",
       "      <th>10</th>\n",
       "      <td>12 - 11</td>\n",
       "      <td>125</td>\n",
       "      <td>50</td>\n",
       "      <td>0.0095</td>\n",
       "      <td>-100.00%</td>\n",
       "    </tr>\n",
       "    <tr>\n",
       "      <th>11</th>\n",
       "      <td>13 - 12</td>\n",
       "      <td>269</td>\n",
       "      <td>108</td>\n",
       "      <td>0.0075</td>\n",
       "      <td>-100.00%</td>\n",
       "    </tr>\n",
       "    <tr>\n",
       "      <th>12</th>\n",
       "      <td>14 - 13</td>\n",
       "      <td>759</td>\n",
       "      <td>304</td>\n",
       "      <td>0.0046</td>\n",
       "      <td>-100.00%</td>\n",
       "    </tr>\n",
       "    <tr>\n",
       "      <th>13</th>\n",
       "      <td>15 - 14</td>\n",
       "      <td>1124</td>\n",
       "      <td>427</td>\n",
       "      <td>0.0021</td>\n",
       "      <td>-100.00%</td>\n",
       "    </tr>\n",
       "    <tr>\n",
       "      <th>14</th>\n",
       "      <td>1 - 15</td>\n",
       "      <td>1101</td>\n",
       "      <td>420</td>\n",
       "      <td>0.0030</td>\n",
       "      <td>-100.00%</td>\n",
       "    </tr>\n",
       "  </tbody>\n",
       "</table>\n",
       "</div>"
      ],
      "text/plain": [
       "       Pair  Matches  Inliers     Err  Coverage\n",
       "0     2 - 1     1023      421  0.0027  -100.00%\n",
       "1     3 - 2      849      323  0.0037  -100.00%\n",
       "2     4 - 3      824      311  0.0038  -100.00%\n",
       "3     5 - 4      747      302  0.0040  -100.00%\n",
       "4     6 - 5      713      278  0.0039  -100.00%\n",
       "5     7 - 6      430      174  0.0043  -100.00%\n",
       "6     8 - 7      239       90  0.0041  -100.00%\n",
       "7     9 - 8      202       85  0.0041  -100.00%\n",
       "8    10 - 9      255      108  0.0053  -100.00%\n",
       "9   11 - 10      229       92  0.0031  -100.00%\n",
       "10  12 - 11      125       50  0.0095  -100.00%\n",
       "11  13 - 12      269      108  0.0075  -100.00%\n",
       "12  14 - 13      759      304  0.0046  -100.00%\n",
       "13  15 - 14     1124      427  0.0021  -100.00%\n",
       "14   1 - 15     1101      420  0.0030  -100.00%"
      ]
     },
     "execution_count": 108,
     "metadata": {},
     "output_type": "execute_result"
    }
   ],
   "source": [
    "mhead.create_df_for_report()"
   ]
  },
  {
   "cell_type": "code",
   "execution_count": 119,
   "metadata": {},
   "outputs": [
    {
     "name": "stdout",
     "output_type": "stream",
     "text": [
      "2-1, Count=429, Err Matches=0.0027, Cov=99.0\n",
      "3-2, Count=327, Err Matches=0.0037, Cov=92.8\n",
      "4-3, Count=315, Err Matches=0.0038, Cov=95.7\n",
      "5-4, Count=308, Err Matches=0.0039, Cov=89.0\n",
      "6-5, Count=283, Err Matches=0.0039, Cov=96.5\n",
      "7-6, Count=171, Err Matches=0.0047, Cov=65.4\n",
      "8-7, Count=88, Err Matches=0.0041, Cov=66.0\n",
      "9-8, Count=89, Err Matches=0.0040, Cov=85.0\n",
      "10-9, Count=92, Err Matches=0.0058, Cov=47.3\n",
      "11-10, Count=95, Err Matches=0.0030, Cov=33.6\n",
      "12-11, Count=47, Err Matches=0.0114, Cov=24.1\n",
      "13-12, Count=109, Err Matches=0.0073, Cov=63.7\n",
      "14-13, Count=295, Err Matches=0.0047, Cov=94.2\n",
      "15-14, Count=444, Err Matches=0.0020, Cov=97.9\n",
      "mean distance: 0.09315832788365681\n"
     ]
    },
    {
     "data": {
      "text/plain": [
       "0.09315832788365681"
      ]
     },
     "execution_count": 119,
     "metadata": {},
     "output_type": "execute_result"
    }
   ],
   "source": [
    "mhead.reset_all_head_positions()\n",
    "mhead.Method_A(sift_transform_method=\"dynamic\", icp=False, refine_range=False, refine_local=False)\n",
    "mhead.left_eye_deviation()"
   ]
  },
  {
   "cell_type": "code",
   "execution_count": null,
   "metadata": {},
   "outputs": [],
   "source": [
    "mhead.show_spheres(sparcity=0.15, name=None, alpha=0)"
   ]
  },
  {
   "cell_type": "code",
   "execution_count": 106,
   "metadata": {},
   "outputs": [],
   "source": [
    "for i in range (15):\n",
    "     mhead.heads[i].visible=False\n",
    "for i in  [8,9]:\n",
    "    mhead.heads[i].visible=True"
   ]
  },
  {
   "cell_type": "code",
   "execution_count": 66,
   "metadata": {},
   "outputs": [
    {
     "name": "stderr",
     "output_type": "stream",
     "text": [
      "C:\\Data Science\\Advanced Vision\\Coursework\\AV_CW\\procrustes.py:48: RuntimeWarning: Mean of empty slice.\n",
      "  muX = X.mean(0)\n",
      "c:\\datasc~1\\advanc~1\\course~1\\av_cw\\av\\lib\\site-packages\\numpy\\core\\_methods.py:154: RuntimeWarning: invalid value encountered in true_divide\n",
      "  ret, rcount, out=ret, casting='unsafe', subok=False)\n",
      "C:\\Data Science\\Advanced Vision\\Coursework\\AV_CW\\procrustes.py:49: RuntimeWarning: Mean of empty slice.\n",
      "  muY = Y.mean(0)\n",
      "C:\\Data Science\\Advanced Vision\\Coursework\\AV_CW\\procrustes.py:100: RuntimeWarning: invalid value encountered in double_scalars\n",
      "  d = 1 + ssY/ssX - 2 * traceTA * normY / normX\n"
     ]
    },
    {
     "ename": "AttributeError",
     "evalue": "'list' object has no attribute 'ravel'",
     "output_type": "error",
     "traceback": [
      "\u001b[1;31m---------------------------------------------------------------------------\u001b[0m",
      "\u001b[1;31mAttributeError\u001b[0m                            Traceback (most recent call last)",
      "\u001b[1;32m<ipython-input-66-5bc88afaab79>\u001b[0m in \u001b[0;36m<module>\u001b[1;34m\u001b[0m\n\u001b[1;32m----> 1\u001b[1;33m \u001b[0mmhead\u001b[0m\u001b[1;33m.\u001b[0m\u001b[0mtry_methods\u001b[0m\u001b[1;33m(\u001b[0m\u001b[1;33m)\u001b[0m\u001b[1;33m\u001b[0m\u001b[0m\n\u001b[0m",
      "\u001b[1;32mC:\\Data Science\\Advanced Vision\\Coursework\\AV_CW\\multi_head.py\u001b[0m in \u001b[0;36mtry_methods\u001b[1;34m(self, refine_range, refine_local)\u001b[0m\n\u001b[0;32m    568\u001b[0m                     \u001b[1;32mif\u001b[0m \u001b[0mmethod\u001b[0m \u001b[1;33m==\u001b[0m \u001b[1;34m'A'\u001b[0m\u001b[1;33m:\u001b[0m\u001b[1;33m\u001b[0m\u001b[0m\n\u001b[0;32m    569\u001b[0m                         \u001b[1;31m# Method A\u001b[0m\u001b[1;33m\u001b[0m\u001b[1;33m\u001b[0m\u001b[0m\n\u001b[1;32m--> 570\u001b[1;33m                         \u001b[0mself\u001b[0m\u001b[1;33m.\u001b[0m\u001b[0mMethod_A\u001b[0m\u001b[1;33m(\u001b[0m\u001b[0msift_transform_method\u001b[0m\u001b[1;33m=\u001b[0m\u001b[0msift_transform_method\u001b[0m\u001b[1;33m,\u001b[0m \u001b[0micp\u001b[0m\u001b[1;33m=\u001b[0m\u001b[0micp\u001b[0m\u001b[1;33m,\u001b[0m \u001b[0mrefine_range\u001b[0m\u001b[1;33m=\u001b[0m\u001b[0mrefine_range\u001b[0m\u001b[1;33m,\u001b[0m \u001b[0mrefine_local\u001b[0m\u001b[1;33m=\u001b[0m\u001b[0mrefine_local\u001b[0m\u001b[1;33m,\u001b[0m \u001b[0mverbose\u001b[0m\u001b[1;33m=\u001b[0m\u001b[1;32mFalse\u001b[0m\u001b[1;33m)\u001b[0m\u001b[1;33m\u001b[0m\u001b[0m\n\u001b[0m\u001b[0;32m    571\u001b[0m                     \u001b[1;32melif\u001b[0m \u001b[0mmethod\u001b[0m \u001b[1;33m==\u001b[0m \u001b[1;34m'B'\u001b[0m\u001b[1;33m:\u001b[0m\u001b[1;33m\u001b[0m\u001b[0m\n\u001b[0;32m    572\u001b[0m                         \u001b[1;31m# Method B\u001b[0m\u001b[1;33m\u001b[0m\u001b[1;33m\u001b[0m\u001b[0m\n",
      "\u001b[1;32mC:\\Data Science\\Advanced Vision\\Coursework\\AV_CW\\multi_head.py\u001b[0m in \u001b[0;36mMethod_A\u001b[1;34m(self, sift_transform_method, icp, refine_range, refine_local, verbose)\u001b[0m\n\u001b[0;32m    493\u001b[0m             \u001b[1;32mif\u001b[0m \u001b[0mverbose\u001b[0m\u001b[1;33m:\u001b[0m\u001b[1;33m\u001b[0m\u001b[0m\n\u001b[0;32m    494\u001b[0m                 \u001b[0mself\u001b[0m\u001b[1;33m.\u001b[0m\u001b[0mlinks\u001b[0m\u001b[1;33m[\u001b[0m\u001b[0mlink_idx\u001b[0m\u001b[1;33m]\u001b[0m\u001b[1;33m.\u001b[0m\u001b[0mprint_short\u001b[0m\u001b[1;33m(\u001b[0m\u001b[1;33m)\u001b[0m\u001b[1;33m\u001b[0m\u001b[0m\n\u001b[1;32m--> 495\u001b[1;33m             \u001b[0mself\u001b[0m\u001b[1;33m.\u001b[0m\u001b[0mall_transforms_from_link\u001b[0m\u001b[1;33m(\u001b[0m\u001b[0mself\u001b[0m\u001b[1;33m.\u001b[0m\u001b[0mlinks\u001b[0m\u001b[1;33m[\u001b[0m\u001b[0mlink_idx\u001b[0m\u001b[1;33m]\u001b[0m\u001b[1;33m,\u001b[0m \u001b[0msift_transform_method\u001b[0m\u001b[1;33m=\u001b[0m\u001b[0msift_transform_method\u001b[0m\u001b[1;33m,\u001b[0m \u001b[0micp\u001b[0m\u001b[1;33m=\u001b[0m\u001b[0micp\u001b[0m\u001b[1;33m,\u001b[0m \u001b[0mrefine_range\u001b[0m\u001b[1;33m=\u001b[0m\u001b[0mrefine_range\u001b[0m\u001b[1;33m,\u001b[0m \u001b[0mrefine_local\u001b[0m\u001b[1;33m=\u001b[0m\u001b[0mrefine_local\u001b[0m\u001b[1;33m)\u001b[0m\u001b[1;33m\u001b[0m\u001b[0m\n\u001b[0m\u001b[0;32m    496\u001b[0m \u001b[1;33m\u001b[0m\u001b[0m\n\u001b[0;32m    497\u001b[0m     \u001b[1;32mdef\u001b[0m \u001b[0mMethod_B\u001b[0m\u001b[1;33m(\u001b[0m\u001b[0mself\u001b[0m\u001b[1;33m,\u001b[0m \u001b[0msift_transform_method\u001b[0m\u001b[1;33m=\u001b[0m\u001b[1;34m\"coverage\"\u001b[0m\u001b[1;33m,\u001b[0m \u001b[0micp\u001b[0m\u001b[1;33m=\u001b[0m\u001b[1;32mTrue\u001b[0m\u001b[1;33m,\u001b[0m \u001b[0mrefine_range\u001b[0m\u001b[1;33m=\u001b[0m\u001b[1;32mTrue\u001b[0m\u001b[1;33m,\u001b[0m \u001b[0mrefine_local\u001b[0m\u001b[1;33m=\u001b[0m\u001b[1;32mTrue\u001b[0m\u001b[1;33m,\u001b[0m \u001b[0mverbose\u001b[0m\u001b[1;33m=\u001b[0m\u001b[1;32mTrue\u001b[0m\u001b[1;33m)\u001b[0m\u001b[1;33m:\u001b[0m\u001b[1;33m\u001b[0m\u001b[0m\n",
      "\u001b[1;32mC:\\Data Science\\Advanced Vision\\Coursework\\AV_CW\\multi_head.py\u001b[0m in \u001b[0;36mall_transforms_from_link\u001b[1;34m(self, link, sift_transform_method, icp, refine_range, refine_local)\u001b[0m\n\u001b[0;32m    298\u001b[0m \u001b[1;33m\u001b[0m\u001b[0m\n\u001b[0;32m    299\u001b[0m         \u001b[1;31m# perform the transformation based on the calculated SIFT matches:\u001b[0m\u001b[1;33m\u001b[0m\u001b[1;33m\u001b[0m\u001b[0m\n\u001b[1;32m--> 300\u001b[1;33m         \u001b[0mself\u001b[0m\u001b[1;33m.\u001b[0m\u001b[0msift_transform_from_link\u001b[0m\u001b[1;33m(\u001b[0m\u001b[0mlink\u001b[0m\u001b[1;33m,\u001b[0m \u001b[0mright_to_left\u001b[0m\u001b[1;33m,\u001b[0m \u001b[0msift_transform_method\u001b[0m\u001b[1;33m=\u001b[0m\u001b[0msift_transform_method\u001b[0m\u001b[1;33m)\u001b[0m\u001b[1;33m\u001b[0m\u001b[0m\n\u001b[0m\u001b[0;32m    301\u001b[0m         \u001b[1;31m# perform the ICP transformation\u001b[0m\u001b[1;33m\u001b[0m\u001b[1;33m\u001b[0m\u001b[0m\n\u001b[0;32m    302\u001b[0m         \u001b[1;32mif\u001b[0m \u001b[0micp\u001b[0m\u001b[1;33m:\u001b[0m\u001b[1;33m\u001b[0m\u001b[0m\n",
      "\u001b[1;32mC:\\Data Science\\Advanced Vision\\Coursework\\AV_CW\\multi_head.py\u001b[0m in \u001b[0;36msift_transform_from_link\u001b[1;34m(self, link, right_to_left, sift_transform_method)\u001b[0m\n\u001b[0;32m    243\u001b[0m \u001b[1;33m\u001b[0m\u001b[0m\n\u001b[0;32m    244\u001b[0m             \u001b[0mhead2\u001b[0m\u001b[1;33m.\u001b[0m\u001b[0mtransform\u001b[0m\u001b[1;33m(\u001b[0m\u001b[0mtform21\u001b[0m\u001b[1;33m)\u001b[0m\u001b[1;33m\u001b[0m\u001b[0m\n\u001b[1;32m--> 245\u001b[1;33m         \u001b[0mdraw_matches\u001b[0m\u001b[1;33m(\u001b[0m\u001b[0mhead1\u001b[0m\u001b[1;33m,\u001b[0m \u001b[0mhead2\u001b[0m\u001b[1;33m,\u001b[0m \u001b[0mlink\u001b[0m\u001b[1;33m.\u001b[0m\u001b[0mmatches\u001b[0m\u001b[1;33m,\u001b[0m \u001b[0minliers\u001b[0m\u001b[1;33m)\u001b[0m\u001b[1;33m\u001b[0m\u001b[0m\n\u001b[0m\u001b[0;32m    246\u001b[0m         \u001b[1;32mreturn\u001b[0m \u001b[0mlink\u001b[0m\u001b[1;33m\u001b[0m\u001b[0m\n\u001b[0;32m    247\u001b[0m \u001b[1;33m\u001b[0m\u001b[0m\n",
      "\u001b[1;32mC:\\Data Science\\Advanced Vision\\Coursework\\AV_CW\\SIFT.py\u001b[0m in \u001b[0;36mdraw_matches\u001b[1;34m(head1, head2, matches, inliers)\u001b[0m\n\u001b[0;32m    179\u001b[0m     draw_params = dict(matchColor=(0, 255, 0),\n\u001b[0;32m    180\u001b[0m                        \u001b[0msinglePointColor\u001b[0m\u001b[1;33m=\u001b[0m\u001b[1;33m(\u001b[0m\u001b[1;36m0\u001b[0m\u001b[1;33m,\u001b[0m \u001b[1;36m0\u001b[0m\u001b[1;33m,\u001b[0m \u001b[1;36m255\u001b[0m\u001b[1;33m)\u001b[0m\u001b[1;33m,\u001b[0m\u001b[1;33m\u001b[0m\u001b[0m\n\u001b[1;32m--> 181\u001b[1;33m                        \u001b[0mmatchesMask\u001b[0m\u001b[1;33m=\u001b[0m\u001b[0minliers\u001b[0m\u001b[1;33m.\u001b[0m\u001b[0mravel\u001b[0m\u001b[1;33m(\u001b[0m\u001b[1;33m)\u001b[0m\u001b[1;33m.\u001b[0m\u001b[0mtolist\u001b[0m\u001b[1;33m(\u001b[0m\u001b[1;33m)\u001b[0m\u001b[1;33m,\u001b[0m\u001b[1;33m\u001b[0m\u001b[0m\n\u001b[0m\u001b[0;32m    182\u001b[0m                        flags=0)\n\u001b[0;32m    183\u001b[0m \u001b[1;33m\u001b[0m\u001b[0m\n",
      "\u001b[1;31mAttributeError\u001b[0m: 'list' object has no attribute 'ravel'"
     ]
    }
   ],
   "source": [
    "mhead.try_methods()"
   ]
  },
  {
   "cell_type": "code",
   "execution_count": null,
   "metadata": {},
   "outputs": [],
   "source": []
  },
  {
   "cell_type": "code",
   "execution_count": 4,
   "metadata": {},
   "outputs": [
    {
     "name": "stdout",
     "output_type": "stream",
     "text": [
      "mean distance: 0.044562617757272535\n",
      "mean distance: 0.04883324973189866\n",
      "mean distance: 0.0486417817322522\n",
      "mean distance: 0.04511143518091311\n",
      "mean distance: 0.06759678426157688\n",
      "mean distance: 0.07374235378735006\n",
      "mean distance: 0.0032572919726481875\n",
      "mean distance: 0.00290217149260057\n",
      "mean distance: 0.0025628200013247493\n",
      "mean distance: 0.002104340656408771\n",
      "mean distance: 0.016566897972625543\n",
      "mean distance: 0.016566897972625543\n"
     ]
    },
    {
     "data": {
      "text/html": [
       "<div>\n",
       "<style scoped>\n",
       "    .dataframe tbody tr th:only-of-type {\n",
       "        vertical-align: middle;\n",
       "    }\n",
       "\n",
       "    .dataframe tbody tr th {\n",
       "        vertical-align: top;\n",
       "    }\n",
       "\n",
       "    .dataframe thead th {\n",
       "        text-align: right;\n",
       "    }\n",
       "</style>\n",
       "<table border=\"1\" class=\"dataframe\">\n",
       "  <thead>\n",
       "    <tr style=\"text-align: right;\">\n",
       "      <th></th>\n",
       "      <th>method</th>\n",
       "      <th>sift_transform_method</th>\n",
       "      <th>icp</th>\n",
       "      <th>refine_range</th>\n",
       "      <th>refine_local</th>\n",
       "      <th>mean_dist</th>\n",
       "    </tr>\n",
       "  </thead>\n",
       "  <tbody>\n",
       "    <tr>\n",
       "      <th>0</th>\n",
       "      <td>A</td>\n",
       "      <td>coverage</td>\n",
       "      <td>True</td>\n",
       "      <td>False</td>\n",
       "      <td>False</td>\n",
       "      <td>0.044563</td>\n",
       "    </tr>\n",
       "    <tr>\n",
       "      <th>1</th>\n",
       "      <td>A</td>\n",
       "      <td>coverage</td>\n",
       "      <td>False</td>\n",
       "      <td>False</td>\n",
       "      <td>False</td>\n",
       "      <td>0.048833</td>\n",
       "    </tr>\n",
       "    <tr>\n",
       "      <th>2</th>\n",
       "      <td>A</td>\n",
       "      <td>matches</td>\n",
       "      <td>True</td>\n",
       "      <td>False</td>\n",
       "      <td>False</td>\n",
       "      <td>0.048642</td>\n",
       "    </tr>\n",
       "    <tr>\n",
       "      <th>3</th>\n",
       "      <td>A</td>\n",
       "      <td>matches</td>\n",
       "      <td>False</td>\n",
       "      <td>False</td>\n",
       "      <td>False</td>\n",
       "      <td>0.045111</td>\n",
       "    </tr>\n",
       "    <tr>\n",
       "      <th>4</th>\n",
       "      <td>A</td>\n",
       "      <td>dynamic</td>\n",
       "      <td>True</td>\n",
       "      <td>False</td>\n",
       "      <td>False</td>\n",
       "      <td>0.067597</td>\n",
       "    </tr>\n",
       "    <tr>\n",
       "      <th>5</th>\n",
       "      <td>A</td>\n",
       "      <td>dynamic</td>\n",
       "      <td>False</td>\n",
       "      <td>False</td>\n",
       "      <td>False</td>\n",
       "      <td>0.073742</td>\n",
       "    </tr>\n",
       "    <tr>\n",
       "      <th>6</th>\n",
       "      <td>C</td>\n",
       "      <td>coverage</td>\n",
       "      <td>True</td>\n",
       "      <td>False</td>\n",
       "      <td>False</td>\n",
       "      <td>0.003257</td>\n",
       "    </tr>\n",
       "    <tr>\n",
       "      <th>7</th>\n",
       "      <td>C</td>\n",
       "      <td>coverage</td>\n",
       "      <td>False</td>\n",
       "      <td>False</td>\n",
       "      <td>False</td>\n",
       "      <td>0.002902</td>\n",
       "    </tr>\n",
       "    <tr>\n",
       "      <th>8</th>\n",
       "      <td>C</td>\n",
       "      <td>matches</td>\n",
       "      <td>True</td>\n",
       "      <td>False</td>\n",
       "      <td>False</td>\n",
       "      <td>0.002563</td>\n",
       "    </tr>\n",
       "    <tr>\n",
       "      <th>9</th>\n",
       "      <td>C</td>\n",
       "      <td>matches</td>\n",
       "      <td>False</td>\n",
       "      <td>False</td>\n",
       "      <td>False</td>\n",
       "      <td>0.002104</td>\n",
       "    </tr>\n",
       "    <tr>\n",
       "      <th>10</th>\n",
       "      <td>C</td>\n",
       "      <td>dynamic</td>\n",
       "      <td>True</td>\n",
       "      <td>False</td>\n",
       "      <td>False</td>\n",
       "      <td>0.016567</td>\n",
       "    </tr>\n",
       "    <tr>\n",
       "      <th>11</th>\n",
       "      <td>C</td>\n",
       "      <td>dynamic</td>\n",
       "      <td>False</td>\n",
       "      <td>False</td>\n",
       "      <td>False</td>\n",
       "      <td>0.016567</td>\n",
       "    </tr>\n",
       "  </tbody>\n",
       "</table>\n",
       "</div>"
      ],
      "text/plain": [
       "   method sift_transform_method    icp refine_range refine_local  mean_dist\n",
       "0       A              coverage   True        False        False   0.044563\n",
       "1       A              coverage  False        False        False   0.048833\n",
       "2       A               matches   True        False        False   0.048642\n",
       "3       A               matches  False        False        False   0.045111\n",
       "4       A               dynamic   True        False        False   0.067597\n",
       "5       A               dynamic  False        False        False   0.073742\n",
       "6       C              coverage   True        False        False   0.003257\n",
       "7       C              coverage  False        False        False   0.002902\n",
       "8       C               matches   True        False        False   0.002563\n",
       "9       C               matches  False        False        False   0.002104\n",
       "10      C               dynamic   True        False        False   0.016567\n",
       "11      C               dynamic  False        False        False   0.016567"
      ]
     },
     "execution_count": 4,
     "metadata": {},
     "output_type": "execute_result"
    }
   ],
   "source": [
    "mhead.try_methods()"
   ]
  },
  {
   "cell_type": "code",
   "execution_count": 57,
   "metadata": {},
   "outputs": [
    {
     "name": "stdout",
     "output_type": "stream",
     "text": [
      "\\begin{tabular}{lllr}\n",
      "\\toprule\n",
      "method &    method &    icp &  mean\\_dist \\\\\n",
      "\\midrule\n",
      "     A &  coverage &   True &   0.031942 \\\\\n",
      "     A &  coverage &  False &   0.028552 \\\\\n",
      "     A &   matches &   True &   0.051022 \\\\\n",
      "     A &   matches &  False &   0.061901 \\\\\n",
      "     A &   dynamic &   True &   0.060328 \\\\\n",
      "     A &   dynamic &  False &   0.058243 \\\\\n",
      "     C &  coverage &   True &   0.003782 \\\\\n",
      "     C &  coverage &  False &   0.003698 \\\\\n",
      "     C &   matches &   True &   0.002665 \\\\\n",
      "     C &   matches &  False &   0.002458 \\\\\n",
      "     C &   dynamic &   True &   0.016567 \\\\\n",
      "     C &   dynamic &  False &   0.016567 \\\\\n",
      "\\bottomrule\n",
      "\\end{tabular}\n",
      "\n"
     ]
    },
    {
     "data": {
      "text/html": [
       "<div>\n",
       "<style scoped>\n",
       "    .dataframe tbody tr th:only-of-type {\n",
       "        vertical-align: middle;\n",
       "    }\n",
       "\n",
       "    .dataframe tbody tr th {\n",
       "        vertical-align: top;\n",
       "    }\n",
       "\n",
       "    .dataframe thead th {\n",
       "        text-align: right;\n",
       "    }\n",
       "</style>\n",
       "<table border=\"1\" class=\"dataframe\">\n",
       "  <thead>\n",
       "    <tr style=\"text-align: right;\">\n",
       "      <th></th>\n",
       "      <th>method</th>\n",
       "      <th>method</th>\n",
       "      <th>icp</th>\n",
       "      <th>mean_dist</th>\n",
       "    </tr>\n",
       "  </thead>\n",
       "  <tbody>\n",
       "    <tr>\n",
       "      <th>0</th>\n",
       "      <td>A</td>\n",
       "      <td>coverage</td>\n",
       "      <td>True</td>\n",
       "      <td>0.031942</td>\n",
       "    </tr>\n",
       "    <tr>\n",
       "      <th>1</th>\n",
       "      <td>A</td>\n",
       "      <td>coverage</td>\n",
       "      <td>False</td>\n",
       "      <td>0.028552</td>\n",
       "    </tr>\n",
       "    <tr>\n",
       "      <th>2</th>\n",
       "      <td>A</td>\n",
       "      <td>matches</td>\n",
       "      <td>True</td>\n",
       "      <td>0.051022</td>\n",
       "    </tr>\n",
       "    <tr>\n",
       "      <th>3</th>\n",
       "      <td>A</td>\n",
       "      <td>matches</td>\n",
       "      <td>False</td>\n",
       "      <td>0.061901</td>\n",
       "    </tr>\n",
       "    <tr>\n",
       "      <th>4</th>\n",
       "      <td>A</td>\n",
       "      <td>dynamic</td>\n",
       "      <td>True</td>\n",
       "      <td>0.060328</td>\n",
       "    </tr>\n",
       "    <tr>\n",
       "      <th>5</th>\n",
       "      <td>A</td>\n",
       "      <td>dynamic</td>\n",
       "      <td>False</td>\n",
       "      <td>0.058243</td>\n",
       "    </tr>\n",
       "    <tr>\n",
       "      <th>6</th>\n",
       "      <td>C</td>\n",
       "      <td>coverage</td>\n",
       "      <td>True</td>\n",
       "      <td>0.003782</td>\n",
       "    </tr>\n",
       "    <tr>\n",
       "      <th>7</th>\n",
       "      <td>C</td>\n",
       "      <td>coverage</td>\n",
       "      <td>False</td>\n",
       "      <td>0.003698</td>\n",
       "    </tr>\n",
       "    <tr>\n",
       "      <th>8</th>\n",
       "      <td>C</td>\n",
       "      <td>matches</td>\n",
       "      <td>True</td>\n",
       "      <td>0.002665</td>\n",
       "    </tr>\n",
       "    <tr>\n",
       "      <th>9</th>\n",
       "      <td>C</td>\n",
       "      <td>matches</td>\n",
       "      <td>False</td>\n",
       "      <td>0.002458</td>\n",
       "    </tr>\n",
       "    <tr>\n",
       "      <th>10</th>\n",
       "      <td>C</td>\n",
       "      <td>dynamic</td>\n",
       "      <td>True</td>\n",
       "      <td>0.016567</td>\n",
       "    </tr>\n",
       "    <tr>\n",
       "      <th>11</th>\n",
       "      <td>C</td>\n",
       "      <td>dynamic</td>\n",
       "      <td>False</td>\n",
       "      <td>0.016567</td>\n",
       "    </tr>\n",
       "  </tbody>\n",
       "</table>\n",
       "</div>"
      ],
      "text/plain": [
       "   method    method    icp  mean_dist\n",
       "0       A  coverage   True   0.031942\n",
       "1       A  coverage  False   0.028552\n",
       "2       A   matches   True   0.051022\n",
       "3       A   matches  False   0.061901\n",
       "4       A   dynamic   True   0.060328\n",
       "5       A   dynamic  False   0.058243\n",
       "6       C  coverage   True   0.003782\n",
       "7       C  coverage  False   0.003698\n",
       "8       C   matches   True   0.002665\n",
       "9       C   matches  False   0.002458\n",
       "10      C   dynamic   True   0.016567\n",
       "11      C   dynamic  False   0.016567"
      ]
     },
     "execution_count": 57,
     "metadata": {},
     "output_type": "execute_result"
    }
   ],
   "source": [
    "mhead.create_res_for_report()"
   ]
  },
  {
   "cell_type": "code",
   "execution_count": 39,
   "metadata": {},
   "outputs": [
    {
     "name": "stdout",
     "output_type": "stream",
     "text": [
      "Saving Completed\n"
     ]
    }
   ],
   "source": [
    "mhead.save()"
   ]
  },
  {
   "cell_type": "code",
   "execution_count": 12,
   "metadata": {},
   "outputs": [
    {
     "name": "stdout",
     "output_type": "stream",
     "text": [
      "15-14, Count=440, Err Matches=0.0014, Cov=0.0\n",
      "1-15, Count=400, Err Matches=0.0018, Cov=0.0\n",
      "2-1, Count=353, Err Matches=0.0018, Cov=0.0\n",
      "3-2, Count=311, Err Matches=0.0025, Cov=0.0\n",
      "4-3, Count=290, Err Matches=0.0028, Cov=0.0\n",
      "5-4, Count=258, Err Matches=0.0029, Cov=0.0\n",
      "6-5, Count=207, Err Matches=0.0024, Cov=0.0\n",
      "14-13, Count=280, Err Matches=0.0032, Cov=0.0\n",
      "7-6, Count=114, Err Matches=0.0039, Cov=0.0\n",
      "8-7, Count=49, Err Matches=0.0026, Cov=0.0\n",
      "9-8, Count=43, Err Matches=0.0023, Cov=0.0\n",
      "10-9, Count=77, Err Matches=0.0037, Cov=0.0\n",
      "11-10, Count=63, Err Matches=0.0026, Cov=0.0\n",
      "12-11, Count=25, Err Matches=0.0056, Cov=0.0\n",
      "mean distance: 0.0025729387971295463\n"
     ]
    },
    {
     "data": {
      "text/plain": [
       "0.0025729387971295463"
      ]
     },
     "execution_count": 12,
     "metadata": {},
     "output_type": "execute_result"
    }
   ],
   "source": [
    "mhead.reset_all_head_positions()\n",
    "mhead.Method_C(sift_transform_method=\"matches\", icp=False, refine_range=False, refine_local=False)\n",
    "mhead.left_eye_deviation()\n"
   ]
  },
  {
   "cell_type": "code",
   "execution_count": 5,
   "metadata": {},
   "outputs": [],
   "source": [
    "mhead.show_spheres(sparcity=0.2)"
   ]
  },
  {
   "cell_type": "code",
   "execution_count": 6,
   "metadata": {},
   "outputs": [
    {
     "name": "stdout",
     "output_type": "stream",
     "text": [
      "[14, 15, 1, 2, 3, 4, 5, 6, 13, 7, 8, 9, 10, 11]\n"
     ]
    }
   ],
   "source": [
    "mhead.create_png_series(name=\"C\")"
   ]
  },
  {
   "cell_type": "code",
   "execution_count": 38,
   "metadata": {},
   "outputs": [
    {
     "name": "stdout",
     "output_type": "stream",
     "text": [
      "Saving Completed\n"
     ]
    }
   ],
   "source": [
    "mhead.save()"
   ]
  },
  {
   "cell_type": "code",
   "execution_count": 65,
   "metadata": {},
   "outputs": [
    {
     "name": "stdout",
     "output_type": "stream",
     "text": [
      "15-14, Count=440, Err Matches=0.0014, Cov=0.0\n",
      "1-15, Count=400, Err Matches=0.0018, Cov=0.0\n",
      "2-1, Count=353, Err Matches=0.0018, Cov=0.0\n",
      "3-2, Count=311, Err Matches=0.0026, Cov=0.0\n",
      "4-3, Count=290, Err Matches=0.0027, Cov=0.0\n",
      "5-4, Count=258, Err Matches=0.0029, Cov=0.0\n",
      "6-5, Count=207, Err Matches=0.0024, Cov=0.0\n",
      "14-13, Count=280, Err Matches=0.0032, Cov=0.0\n",
      "7-6, Count=114, Err Matches=0.0039, Cov=0.0\n",
      "8-7, Count=49, Err Matches=0.0026, Cov=0.0\n",
      "9-8, Count=43, Err Matches=0.0023, Cov=0.0\n",
      "10-9, Count=77, Err Matches=0.0037, Cov=0.0\n",
      "11-10, Count=63, Err Matches=0.0026, Cov=0.0\n",
      "12-11, Count=25, Err Matches=0.0056, Cov=0.0\n"
     ]
    }
   ],
   "source": [
    "mhead.Method_C(sift_transform_method=\"matches\", icp=True, refine_range=False, refine_local=False)"
   ]
  },
  {
   "cell_type": "code",
   "execution_count": 36,
   "metadata": {},
   "outputs": [
    {
     "name": "stdout",
     "output_type": "stream",
     "text": [
      "mean distance: 0.022836855443804347\n",
      "mean distance: 0.024896425912206428\n",
      "mean distance: 0.11108569647725974\n",
      "mean distance: 0.09473689357921358\n",
      "mean distance: 0.020802552257035388\n",
      "mean distance: 0.024851129459496534\n",
      "mean distance: 0.002994968233989574\n",
      "mean distance: 0.0025788335320753833\n",
      "mean distance: 0.0029214525144129876\n",
      "mean distance: 0.0025917509568462874\n",
      "mean distance: 0.016566897972625543\n",
      "mean distance: 0.016566897972625543\n"
     ]
    },
    {
     "data": {
      "text/html": [
       "<div>\n",
       "<style scoped>\n",
       "    .dataframe tbody tr th:only-of-type {\n",
       "        vertical-align: middle;\n",
       "    }\n",
       "\n",
       "    .dataframe tbody tr th {\n",
       "        vertical-align: top;\n",
       "    }\n",
       "\n",
       "    .dataframe thead th {\n",
       "        text-align: right;\n",
       "    }\n",
       "</style>\n",
       "<table border=\"1\" class=\"dataframe\">\n",
       "  <thead>\n",
       "    <tr style=\"text-align: right;\">\n",
       "      <th></th>\n",
       "      <th>method</th>\n",
       "      <th>sift_transform_method</th>\n",
       "      <th>icp</th>\n",
       "      <th>refine_range</th>\n",
       "      <th>refine_local</th>\n",
       "      <th>mean_dist</th>\n",
       "    </tr>\n",
       "  </thead>\n",
       "  <tbody>\n",
       "    <tr>\n",
       "      <th>0</th>\n",
       "      <td>A</td>\n",
       "      <td>coverage</td>\n",
       "      <td>True</td>\n",
       "      <td>False</td>\n",
       "      <td>False</td>\n",
       "      <td>0.022837</td>\n",
       "    </tr>\n",
       "    <tr>\n",
       "      <th>1</th>\n",
       "      <td>A</td>\n",
       "      <td>coverage</td>\n",
       "      <td>False</td>\n",
       "      <td>False</td>\n",
       "      <td>False</td>\n",
       "      <td>0.024896</td>\n",
       "    </tr>\n",
       "    <tr>\n",
       "      <th>2</th>\n",
       "      <td>A</td>\n",
       "      <td>matches</td>\n",
       "      <td>True</td>\n",
       "      <td>False</td>\n",
       "      <td>False</td>\n",
       "      <td>0.111086</td>\n",
       "    </tr>\n",
       "    <tr>\n",
       "      <th>3</th>\n",
       "      <td>A</td>\n",
       "      <td>matches</td>\n",
       "      <td>False</td>\n",
       "      <td>False</td>\n",
       "      <td>False</td>\n",
       "      <td>0.094737</td>\n",
       "    </tr>\n",
       "    <tr>\n",
       "      <th>4</th>\n",
       "      <td>A</td>\n",
       "      <td>dynamic</td>\n",
       "      <td>True</td>\n",
       "      <td>False</td>\n",
       "      <td>False</td>\n",
       "      <td>0.020803</td>\n",
       "    </tr>\n",
       "    <tr>\n",
       "      <th>5</th>\n",
       "      <td>A</td>\n",
       "      <td>dynamic</td>\n",
       "      <td>False</td>\n",
       "      <td>False</td>\n",
       "      <td>False</td>\n",
       "      <td>0.024851</td>\n",
       "    </tr>\n",
       "    <tr>\n",
       "      <th>6</th>\n",
       "      <td>C</td>\n",
       "      <td>coverage</td>\n",
       "      <td>True</td>\n",
       "      <td>False</td>\n",
       "      <td>False</td>\n",
       "      <td>0.002995</td>\n",
       "    </tr>\n",
       "    <tr>\n",
       "      <th>7</th>\n",
       "      <td>C</td>\n",
       "      <td>coverage</td>\n",
       "      <td>False</td>\n",
       "      <td>False</td>\n",
       "      <td>False</td>\n",
       "      <td>0.002579</td>\n",
       "    </tr>\n",
       "    <tr>\n",
       "      <th>8</th>\n",
       "      <td>C</td>\n",
       "      <td>matches</td>\n",
       "      <td>True</td>\n",
       "      <td>False</td>\n",
       "      <td>False</td>\n",
       "      <td>0.002921</td>\n",
       "    </tr>\n",
       "    <tr>\n",
       "      <th>9</th>\n",
       "      <td>C</td>\n",
       "      <td>matches</td>\n",
       "      <td>False</td>\n",
       "      <td>False</td>\n",
       "      <td>False</td>\n",
       "      <td>0.002592</td>\n",
       "    </tr>\n",
       "    <tr>\n",
       "      <th>10</th>\n",
       "      <td>C</td>\n",
       "      <td>dynamic</td>\n",
       "      <td>True</td>\n",
       "      <td>False</td>\n",
       "      <td>False</td>\n",
       "      <td>0.016567</td>\n",
       "    </tr>\n",
       "    <tr>\n",
       "      <th>11</th>\n",
       "      <td>C</td>\n",
       "      <td>dynamic</td>\n",
       "      <td>False</td>\n",
       "      <td>False</td>\n",
       "      <td>False</td>\n",
       "      <td>0.016567</td>\n",
       "    </tr>\n",
       "  </tbody>\n",
       "</table>\n",
       "</div>"
      ],
      "text/plain": [
       "   method sift_transform_method    icp refine_range refine_local  mean_dist\n",
       "0       A              coverage   True        False        False   0.022837\n",
       "1       A              coverage  False        False        False   0.024896\n",
       "2       A               matches   True        False        False   0.111086\n",
       "3       A               matches  False        False        False   0.094737\n",
       "4       A               dynamic   True        False        False   0.020803\n",
       "5       A               dynamic  False        False        False   0.024851\n",
       "6       C              coverage   True        False        False   0.002995\n",
       "7       C              coverage  False        False        False   0.002579\n",
       "8       C               matches   True        False        False   0.002921\n",
       "9       C               matches  False        False        False   0.002592\n",
       "10      C               dynamic   True        False        False   0.016567\n",
       "11      C               dynamic  False        False        False   0.016567"
      ]
     },
     "execution_count": 36,
     "metadata": {},
     "output_type": "execute_result"
    }
   ],
   "source": [
    "mhead.try_methods()"
   ]
  },
  {
   "cell_type": "code",
   "execution_count": null,
   "metadata": {},
   "outputs": [],
   "source": [
    "mhead.show"
   ]
  }
 ],
 "metadata": {
  "kernelspec": {
   "display_name": "Python 3",
   "language": "python",
   "name": "python3"
  },
  "language_info": {
   "codemirror_mode": {
    "name": "ipython",
    "version": 3
   },
   "file_extension": ".py",
   "mimetype": "text/x-python",
   "name": "python",
   "nbconvert_exporter": "python",
   "pygments_lexer": "ipython3",
   "version": "3.7.0"
  }
 },
 "nbformat": 4,
 "nbformat_minor": 4
}
