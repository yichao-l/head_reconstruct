{
 "cells": [
  {
   "cell_type": "code",
   "execution_count": 1,
   "metadata": {
    "scrolled": true
   },
   "outputs": [
    {
     "data": {
      "text/html": [
       "<div id=\"glowscript\" class=\"glowscript\"></div>"
      ],
      "text/plain": [
       "<IPython.core.display.HTML object>"
      ]
     },
     "metadata": {},
     "output_type": "display_data"
    },
    {
     "data": {
      "application/javascript": [
       "if (typeof Jupyter !== \"undefined\") { window.__context = { glowscript_container: $(\"#glowscript\").removeAttr(\"id\")};}else{ element.textContent = ' ';}"
      ],
      "text/plain": [
       "<IPython.core.display.Javascript object>"
      ]
     },
     "metadata": {},
     "output_type": "display_data"
    },
    {
     "name": "stderr",
     "output_type": "stream",
     "text": [
      "C:\\Data Science\\Advanced Vision\\Coursework\\AV_CW\\SIFT.py:3: TqdmExperimentalWarning: Using `tqdm.autonotebook.tqdm` in notebook mode. Use `tqdm.tqdm` instead to force console mode (e.g. in jupyter console)\n",
      "  from tqdm.autonotebook import tqdm\n"
     ]
    }
   ],
   "source": [
    "import single_head\n",
    "import multi_head\n",
    "import copy\n",
    "import numpy as np\n",
    "import matplotlib.pyplot as plt\n",
    "import cv2\n",
    "from scipy.ndimage.morphology import binary_fill_holes\n",
    "import sys\n",
    "np.set_printoptions(threshold=sys.maxsize)\n",
    "from scipy.signal import detrend\n",
    "from single_head import SingleHead\n",
    "from multi_head import MultiHead\n",
    "import matplotlib.gridspec as gridspec\n",
    "%load_ext autoreload\n",
    "%autoreload 2"
   ]
  },
  {
   "cell_type": "code",
   "execution_count": 2,
   "metadata": {},
   "outputs": [],
   "source": [
    "# gen pickled heads\n",
    "Sequence=1"
   ]
  },
  {
   "cell_type": "code",
   "execution_count": 3,
   "metadata": {},
   "outputs": [
    {
     "name": "stdout",
     "output_type": "stream",
     "text": [
      "Loading Sequence 1...done\n"
     ]
    }
   ],
   "source": [
    "mhead=MultiHead.load_from_pickle(Sequence)"
   ]
  },
  {
   "cell_type": "code",
   "execution_count": 16,
   "metadata": {},
   "outputs": [
    {
     "data": {
      "application/vnd.jupyter.widget-view+json": {
       "model_id": "b72da786bb37432f81b853fd97508902",
       "version_major": 2,
       "version_minor": 0
      },
      "text/plain": [
       "HBox(children=(FloatProgress(value=0.0, max=5000.0), HTML(value='')))"
      ]
     },
     "metadata": {},
     "output_type": "display_data"
    },
    {
     "name": "stdout",
     "output_type": "stream",
     "text": [
      "\n",
      "[[ 0.95514895 -0.08752369 -0.2828959 ]\n",
      " [ 0.07780377  0.99593282 -0.04543555]\n",
      " [ 0.285722    0.02138735  0.95807386]]\n"
     ]
    },
    {
     "data": {
      "application/vnd.jupyter.widget-view+json": {
       "model_id": "1e0ff8e46ead41038a97c8769c130f9b",
       "version_major": 2,
       "version_minor": 0
      },
      "text/plain": [
       "HBox(children=(FloatProgress(value=0.0, max=5000.0), HTML(value='')))"
      ]
     },
     "metadata": {},
     "output_type": "display_data"
    },
    {
     "name": "stdout",
     "output_type": "stream",
     "text": [
      "\n",
      "[[ 0.83645022 -0.14903191 -0.52739029]\n",
      " [ 0.13212496  0.9887684  -0.06985736]\n",
      " [ 0.53187783 -0.01124922  0.84674638]]\n"
     ]
    },
    {
     "data": {
      "application/vnd.jupyter.widget-view+json": {
       "model_id": "12a3637fddc34e16b3b0945cdb146e3d",
       "version_major": 2,
       "version_minor": 0
      },
      "text/plain": [
       "HBox(children=(FloatProgress(value=0.0, max=5000.0), HTML(value='')))"
      ]
     },
     "metadata": {},
     "output_type": "display_data"
    },
    {
     "name": "stdout",
     "output_type": "stream",
     "text": [
      "\n",
      "[[ 0.61829474 -0.20725739 -0.75812663]\n",
      " [ 0.19250093  0.97515768 -0.10959425]\n",
      " [ 0.76200722 -0.07817853  0.6428321 ]]\n"
     ]
    },
    {
     "data": {
      "application/vnd.jupyter.widget-view+json": {
       "model_id": "ccab6455085e44a8a12a2091d5fbe134",
       "version_major": 2,
       "version_minor": 0
      },
      "text/plain": [
       "HBox(children=(FloatProgress(value=0.0, max=5000.0), HTML(value='')))"
      ]
     },
     "metadata": {},
     "output_type": "display_data"
    },
    {
     "name": "stdout",
     "output_type": "stream",
     "text": [
      "\n",
      "[[ 0.34801244 -0.21877396 -0.91160589]\n",
      " [ 0.23777433  0.96119239 -0.13990195]\n",
      " [ 0.90683555 -0.16806886  0.38652574]]\n"
     ]
    },
    {
     "data": {
      "application/vnd.jupyter.widget-view+json": {
       "model_id": "4ad6568420574f2399c21fdea4c3a6fa",
       "version_major": 2,
       "version_minor": 0
      },
      "text/plain": [
       "HBox(children=(FloatProgress(value=0.0, max=5000.0), HTML(value='')))"
      ]
     },
     "metadata": {},
     "output_type": "display_data"
    },
    {
     "name": "stdout",
     "output_type": "stream",
     "text": [
      "\n",
      "[[-0.07001489 -0.25506812 -0.96438487]\n",
      " [ 0.23737993  0.93472612 -0.26445766]\n",
      " [ 0.96889044 -0.24744158 -0.0048967 ]]\n"
     ]
    },
    {
     "data": {
      "application/vnd.jupyter.widget-view+json": {
       "model_id": "88869082cf76431fab76a1df46bb0c31",
       "version_major": 2,
       "version_minor": 0
      },
      "text/plain": [
       "HBox(children=(FloatProgress(value=0.0, max=5000.0), HTML(value='')))"
      ]
     },
     "metadata": {},
     "output_type": "display_data"
    },
    {
     "name": "stdout",
     "output_type": "stream",
     "text": [
      "\n",
      "[[-0.44289997 -0.25910018 -0.85831621]\n",
      " [ 0.25847946  0.87978421 -0.39895878]\n",
      " [ 0.85850334 -0.39855594 -0.32268433]]\n"
     ]
    },
    {
     "data": {
      "application/vnd.jupyter.widget-view+json": {
       "model_id": "0b128c8109d44173bcceef070f28d46b",
       "version_major": 2,
       "version_minor": 0
      },
      "text/plain": [
       "HBox(children=(FloatProgress(value=0.0, max=5000.0), HTML(value='')))"
      ]
     },
     "metadata": {},
     "output_type": "display_data"
    },
    {
     "name": "stdout",
     "output_type": "stream",
     "text": [
      "\n",
      "[[-0.74114751 -0.2282718  -0.63134171]\n",
      " [ 0.13721173  0.86905933 -0.47529867]\n",
      " [ 0.65717068 -0.43889391 -0.61277959]]\n"
     ]
    },
    {
     "data": {
      "application/vnd.jupyter.widget-view+json": {
       "model_id": "ac93610f7681486cb2d6f41b6abd70b0",
       "version_major": 2,
       "version_minor": 0
      },
      "text/plain": [
       "HBox(children=(FloatProgress(value=0.0, max=5000.0), HTML(value='')))"
      ]
     },
     "metadata": {},
     "output_type": "display_data"
    },
    {
     "name": "stdout",
     "output_type": "stream",
     "text": [
      "\n",
      "[[ 0.99104356  0.09635911  0.09245314]\n",
      " [-0.0572444   0.93204404 -0.35779461]\n",
      " [-0.12064717  0.34929762  0.92921227]]\n"
     ]
    },
    {
     "data": {
      "application/vnd.jupyter.widget-view+json": {
       "model_id": "38820c8380744781a01eac990c79ce49",
       "version_major": 2,
       "version_minor": 0
      },
      "text/plain": [
       "HBox(children=(FloatProgress(value=0.0, max=5000.0), HTML(value='')))"
      ]
     },
     "metadata": {},
     "output_type": "display_data"
    },
    {
     "name": "stdout",
     "output_type": "stream",
     "text": [
      "\n",
      "[[ 0.90811445 -0.22258495 -0.35466051]\n",
      " [ 0.0937374   0.93357819 -0.34589747]\n",
      " [ 0.40809489  0.28086954  0.86866038]]\n"
     ]
    },
    {
     "data": {
      "application/vnd.jupyter.widget-view+json": {
       "model_id": "ce9b618c64764489b6c8933b45aaeb91",
       "version_major": 2,
       "version_minor": 0
      },
      "text/plain": [
       "HBox(children=(FloatProgress(value=0.0, max=5000.0), HTML(value='')))"
      ]
     },
     "metadata": {},
     "output_type": "display_data"
    },
    {
     "name": "stdout",
     "output_type": "stream",
     "text": [
      "\n",
      "[[ 0.76098358 -0.3045431  -0.57285033]\n",
      " [ 0.13350975  0.93758994 -0.32109229]\n",
      " [ 0.63488514  0.16786485  0.75415002]]\n"
     ]
    },
    {
     "data": {
      "application/vnd.jupyter.widget-view+json": {
       "model_id": "d58a61e6ad614c6688c140c2050dcd0e",
       "version_major": 2,
       "version_minor": 0
      },
      "text/plain": [
       "HBox(children=(FloatProgress(value=0.0, max=5000.0), HTML(value='')))"
      ]
     },
     "metadata": {},
     "output_type": "display_data"
    },
    {
     "name": "stdout",
     "output_type": "stream",
     "text": [
      "\n",
      "[[ 0.46185552 -0.49949544 -0.73293504]\n",
      " [ 0.20096759  0.86379132 -0.46203526]\n",
      " [ 0.86388744  0.06609735  0.49932919]]\n"
     ]
    },
    {
     "data": {
      "application/vnd.jupyter.widget-view+json": {
       "model_id": "44681acda2c54beea8eadfb9b0f1c429",
       "version_major": 2,
       "version_minor": 0
      },
      "text/plain": [
       "HBox(children=(FloatProgress(value=0.0, max=5000.0), HTML(value='')))"
      ]
     },
     "metadata": {},
     "output_type": "display_data"
    },
    {
     "name": "stdout",
     "output_type": "stream",
     "text": [
      "\n",
      "[[ 0.06231695 -0.59080436 -0.80440463]\n",
      " [ 0.24391645  0.79054668 -0.5617301 ]\n",
      " [ 0.967792   -0.16120222  0.19337136]]\n"
     ]
    },
    {
     "data": {
      "application/vnd.jupyter.widget-view+json": {
       "model_id": "6d89ed74d22d479f95033d702246d2e1",
       "version_major": 2,
       "version_minor": 0
      },
      "text/plain": [
       "HBox(children=(FloatProgress(value=0.0, max=5000.0), HTML(value='')))"
      ]
     },
     "metadata": {},
     "output_type": "display_data"
    },
    {
     "name": "stdout",
     "output_type": "stream",
     "text": [
      "\n",
      "[[-0.38148747 -0.53564573 -0.75335979]\n",
      " [ 0.16313656  0.76318871 -0.62524352]\n",
      " [ 0.9098647  -0.36142309 -0.20376353]]\n"
     ]
    },
    {
     "data": {
      "application/vnd.jupyter.widget-view+json": {
       "model_id": "9f0a55ac53b84326a691d5729e7ad383",
       "version_major": 2,
       "version_minor": 0
      },
      "text/plain": [
       "HBox(children=(FloatProgress(value=0.0, max=5000.0), HTML(value='')))"
      ]
     },
     "metadata": {},
     "output_type": "display_data"
    },
    {
     "name": "stdout",
     "output_type": "stream",
     "text": [
      "\n",
      "[[-0.78232067 -0.38273648 -0.49141343]\n",
      " [ 0.10614206  0.69548751 -0.71065532]\n",
      " [ 0.61376562 -0.60811998 -0.50346982]]\n"
     ]
    }
   ],
   "source": [
    "mhead.reset_all_head_positions()\n",
    "\n",
    "for idx in range(14:15):\n",
    "    \n",
    "    for head in mhead.heads:\n",
    "        head.visible=False\n",
    "    \n",
    "    \n",
    "    link=mhead.links[idx]\n",
    "    link.reset()\n",
    "    mhead.ransac_from_link(link)\n",
    "\n",
    "    head1 = mhead.heads[mhead.head_id_from_frame_id(link.right)]\n",
    "    head2 = mhead.heads[mhead.head_id_from_frame_id(link.left)]\n",
    "\n",
    "    right_to_left = head2.visible and not head1.visible\n",
    "    if right_to_left:\n",
    "        mhead.last_head_id = mhead.head_id_from_frame_id(link.right)\n",
    "    else:\n",
    "        mhead.last_head_id = mhead.head_id_from_frame_id(link.left)\n",
    "\n",
    "    # perform the transformation based on the calculated SIFT matches:\n",
    "    mhead.sift_transform_from_link(link, right_to_left,all_points=False)\n",
    "    \n",
    "    mhead.reset_all_head_colors()\n",
    "    mhead.heads[mhead.last_head_id].paint([.2,.2,1])\n",
    "    head1.visible=True\n",
    "    head2.visible=True\n",
    "\n",
    "#     mhead.show_spheres(sparcity=0.5, name=None, alpha=0)\n",
    "    "
   ]
  },
  {
   "cell_type": "code",
   "execution_count": 8,
   "metadata": {},
   "outputs": [],
   "source": [
    "mhead.show_spheres(sparcity=0.1, name=None, alpha=0)"
   ]
  },
  {
   "cell_type": "code",
   "execution_count": 48,
   "metadata": {},
   "outputs": [
    {
     "data": {
      "application/vnd.jupyter.widget-view+json": {
       "model_id": "2a5571a7df314363b208739951231202",
       "version_major": 2,
       "version_minor": 0
      },
      "text/plain": [
       "HBox(children=(FloatProgress(value=0.0, max=5000.0), HTML(value='')))"
      ]
     },
     "metadata": {},
     "output_type": "display_data"
    },
    {
     "name": "stdout",
     "output_type": "stream",
     "text": [
      "\n"
     ]
    }
   ],
   "source": [
    "mhead.reset_all_head_positions()\n",
    "for idx in range(15):          \n",
    "    link=mhead.links[idx]\n",
    "    link.reset()\n",
    "    mhead.ransac_from_link(link)\n",
    "\n",
    "#     mhead.show_spheres(sparcity=0.5, name=None, alpha=0)\n",
    "    "
   ]
  },
  {
   "cell_type": "code",
   "execution_count": 56,
   "metadata": {},
   "outputs": [
    {
     "name": "stdout",
     "output_type": "stream",
     "text": [
      "0 172576\n",
      "coordinate of the left eye: [ 0.03712042 -0.17596338 -0.02675966] in frame 0\n",
      "1 172581\n",
      "coordinate of the left eye: [ 0.04217981 -0.17425815 -0.02888578] in frame 1\n",
      "12 169336\n",
      "coordinate of the left eye: [ 0.0728925  -0.16635418 -0.017214  ] in frame 12\n",
      "13 170000\n",
      "coordinate of the left eye: [ 0.08236277 -0.16437182  0.00105739] in frame 13\n",
      "14 169380\n",
      "coordinate of the left eye: [ 0.07872695 -0.16538889  0.00188269] in frame 14\n",
      "[ 0.06265649 -0.16926728 -0.01398387]\n",
      "[[-0.02553607 -0.0066961  -0.01277579]\n",
      " [-0.02047668 -0.00499087 -0.01490191]\n",
      " [ 0.01023601  0.00291311 -0.00323013]\n",
      " [ 0.01970628  0.00489547  0.01504126]\n",
      " [ 0.01607046  0.0038784   0.01586656]]\n",
      "mean coordinate: [ 0.06265649 -0.16926728 -0.01398387]. Distance to each points: [0.0293283  0.02581221 0.01112186 0.0252694  0.02291395].\n",
      "mean distance: 0.022889144048579797\n"
     ]
    },
    {
     "data": {
      "text/plain": [
       "0.022889144048579797"
      ]
     },
     "execution_count": 56,
     "metadata": {},
     "output_type": "execute_result"
    }
   ],
   "source": [
    "mhead.reset_all_head_positions()\n",
    "\n",
    "for idx in range(14):\n",
    "    link=mhead.links[idx]\n",
    "    mhead.all_transforms_from_link(link, method=\"dynamic\", ICP=True, Refine_Range=False, Refine_local=False)\n",
    "    show=False\n",
    "    if show:\n",
    "        mhead.reset_all_head_colors()\n",
    "        mhead.heads[mhead.last_head_id].paint([.2,.2,1])\n",
    "        mhead.show_spheres(sparcity=0.5, name=None, alpha=0)\n",
    "mhead.left_eye_deviation()        \n",
    "    "
   ]
  },
  {
   "cell_type": "markdown",
   "metadata": {},
   "source": [
    "Head 1:\n",
    "\n",
    "coverage_based=True, ICP=False, Refine_Range=False, Refine_local=False : 0.044216206828466526\n",
    "coverage_based=True, ICP=True, Refine_Range=False, Refine_local=False : 0.030542624222510785\n",
    "coverage_based=False, ICP=False, Refine_Range=False, Refine_local=False : 0.1697366724304663\n",
    "coverage_based=False, ICP=True, Refine_Range=False, Refine_local=False : 0.13215766825297925\n",
    "coverage_based=True, ICP=True, Refine_Range=False, Refine_local=True : 0.039201063664484274\n",
    "method=\"dynamic\", ICP=True, Refine_Range=False, Refine_local=False : 0.022889144048579797\n",
    "\n",
    "\n",
    "\n"
   ]
  },
  {
   "cell_type": "code",
   "execution_count": 68,
   "metadata": {},
   "outputs": [],
   "source": [
    "mhead.show_spheres(sparcity=0.2, name=None, alpha=0)"
   ]
  },
  {
   "cell_type": "code",
   "execution_count": 45,
   "metadata": {},
   "outputs": [
    {
     "name": "stdout",
     "output_type": "stream",
     "text": [
      "Saving Completed\n"
     ]
    }
   ],
   "source": [
    "mhead.save()"
   ]
  },
  {
   "cell_type": "code",
   "execution_count": 36,
   "metadata": {},
   "outputs": [],
   "source": [
    "for head in mhead.heads:\n",
    "    mhead.reset_all_head_colors()\n",
    "    head.visible=True\n",
    "# mhead.create_png_of_spheres(sparcity=0.4, name=f\"Seq_{Sequence}_test_{idx}\", alpha=-10+idx*360/15 )\n",
    "    "
   ]
  },
  {
   "cell_type": "code",
   "execution_count": 133,
   "metadata": {},
   "outputs": [
    {
     "ename": "AttributeError",
     "evalue": "'MultiHead' object has no attribute 'transform_from_link'",
     "output_type": "error",
     "traceback": [
      "\u001b[1;31m---------------------------------------------------------------------------\u001b[0m",
      "\u001b[1;31mAttributeError\u001b[0m                            Traceback (most recent call last)",
      "\u001b[1;32m<ipython-input-133-13e3d6ead8b3>\u001b[0m in \u001b[0;36m<module>\u001b[1;34m\u001b[0m\n\u001b[0;32m      1\u001b[0m \u001b[0mmhead\u001b[0m\u001b[1;33m.\u001b[0m\u001b[0mreset_all_head_positions\u001b[0m\u001b[1;33m(\u001b[0m\u001b[1;33m)\u001b[0m\u001b[1;33m\u001b[0m\u001b[0m\n\u001b[0;32m      2\u001b[0m \u001b[1;32mfor\u001b[0m \u001b[0midx\u001b[0m \u001b[1;32min\u001b[0m \u001b[0mrange\u001b[0m\u001b[1;33m(\u001b[0m\u001b[1;36m0\u001b[0m\u001b[1;33m,\u001b[0m\u001b[1;36m7\u001b[0m\u001b[1;33m)\u001b[0m\u001b[1;33m:\u001b[0m\u001b[1;33m\u001b[0m\u001b[0m\n\u001b[1;32m----> 3\u001b[1;33m     \u001b[0mmhead\u001b[0m\u001b[1;33m.\u001b[0m\u001b[0mtransform_from_link\u001b[0m\u001b[1;33m(\u001b[0m\u001b[0mmhead\u001b[0m\u001b[1;33m.\u001b[0m\u001b[0mlinks\u001b[0m\u001b[1;33m[\u001b[0m\u001b[0midx\u001b[0m\u001b[1;33m]\u001b[0m\u001b[1;33m)\u001b[0m\u001b[1;33m\u001b[0m\u001b[0m\n\u001b[0m\u001b[0;32m      4\u001b[0m     \u001b[0mmhead\u001b[0m\u001b[1;33m.\u001b[0m\u001b[0mlinks\u001b[0m\u001b[1;33m[\u001b[0m\u001b[0midx\u001b[0m\u001b[1;33m]\u001b[0m\u001b[1;33m.\u001b[0m\u001b[0mprint_short\u001b[0m\u001b[1;33m(\u001b[0m\u001b[1;33m)\u001b[0m\u001b[1;33m\u001b[0m\u001b[0m\n\u001b[0;32m      5\u001b[0m \u001b[1;32mfor\u001b[0m \u001b[0midx\u001b[0m \u001b[1;32min\u001b[0m \u001b[0mrange\u001b[0m\u001b[1;33m(\u001b[0m\u001b[1;36m14\u001b[0m\u001b[1;33m,\u001b[0m\u001b[1;36m6\u001b[0m\u001b[1;33m,\u001b[0m\u001b[1;33m-\u001b[0m\u001b[1;36m1\u001b[0m\u001b[1;33m)\u001b[0m\u001b[1;33m:\u001b[0m\u001b[1;33m\u001b[0m\u001b[0m\n",
      "\u001b[1;31mAttributeError\u001b[0m: 'MultiHead' object has no attribute 'transform_from_link'"
     ]
    }
   ],
   "source": [
    "mhead.reset_all_head_positions()\n",
    "for idx in range(0,7):\n",
    "    mhead.transform_from_link(mhead.links[idx])\n",
    "    mhead.links[idx].print_short()\n",
    "for idx in range(14,6,-1):\n",
    "    mhead.transform_from_link(mhead.links[idx])\n",
    "    mhead.links[idx].print_short()\n",
    "# center, distances=mhead.left_eye_deviation()\n",
    "# np.mean(distances)    "
   ]
  },
  {
   "cell_type": "code",
   "execution_count": 116,
   "metadata": {},
   "outputs": [],
   "source": [
    "xmhead.create_spheres(0.1 ,\"name\")"
   ]
  },
  {
   "cell_type": "code",
   "execution_count": 32,
   "metadata": {},
   "outputs": [
    {
     "name": "stdout",
     "output_type": "stream",
     "text": [
      "0 172576\n",
      "coordinate of the left eye: [ 0.03712042 -0.17596338 -0.02675966] in frame 0\n",
      "1 172581\n",
      "coordinate of the left eye: [ 0.04215503 -0.17657004 -0.02096971] in frame 1\n",
      "12 169336\n",
      "coordinate of the left eye: [ 0.0762687  -0.16833622  0.01106154] in frame 12\n",
      "13 170000\n",
      "coordinate of the left eye: [ 0.08453297 -0.16809037  0.03073257] in frame 13\n",
      "14 169380\n",
      "coordinate of the left eye: [ 0.08157821 -0.16881599  0.03106292] in frame 14\n",
      "[ 0.06433107 -0.1715552   0.00502553]\n",
      "[[-0.02721064 -0.00440818 -0.03178519]\n",
      " [-0.02217604 -0.00501484 -0.02599524]\n",
      " [ 0.01193764  0.00321898  0.00603601]\n",
      " [ 0.02020191  0.00346483  0.02570703]\n",
      " [ 0.01724714  0.00273921  0.02603739]]\n",
      "mean coordinate: [ 0.06433107 -0.1715552   0.00502553]. Distance to each points: [0.04207315 0.03453517 0.01375872 0.03287816 0.03135144].\n",
      "mean distance: 0.030919327543611697\n"
     ]
    },
    {
     "data": {
      "text/plain": [
       "0.030919327543611697"
      ]
     },
     "execution_count": 32,
     "metadata": {},
     "output_type": "execute_result"
    }
   ],
   "source": []
  },
  {
   "cell_type": "code",
   "execution_count": 246,
   "metadata": {},
   "outputs": [
    {
     "data": {
      "application/vnd.jupyter.widget-view+json": {
       "model_id": "0ebbb4aaf2f24e99888be7979a15ff35",
       "version_major": 2,
       "version_minor": 0
      },
      "text/plain": [
       "HBox(children=(FloatProgress(value=0.0, max=9.0), HTML(value='')))"
      ]
     },
     "metadata": {},
     "output_type": "display_data"
    },
    {
     "name": "stdout",
     "output_type": "stream",
     "text": [
      "\n",
      "8-7, matches=57, Count=34, Err=0.0030\n"
     ]
    },
    {
     "data": {
      "application/vnd.jupyter.widget-view+json": {
       "model_id": "5ad8e66c121a4372b3b5cc01083ef80e",
       "version_major": 2,
       "version_minor": 0
      },
      "text/plain": [
       "HBox(children=(FloatProgress(value=0.0, max=9.0), HTML(value='')))"
      ]
     },
     "metadata": {},
     "output_type": "display_data"
    },
    {
     "name": "stdout",
     "output_type": "stream",
     "text": [
      "\n",
      "9-8, matches=15, Count=9, Err=0.0299\n"
     ]
    },
    {
     "data": {
      "application/vnd.jupyter.widget-view+json": {
       "model_id": "92f162de596a4b0e98e735858afc78a4",
       "version_major": 2,
       "version_minor": 0
      },
      "text/plain": [
       "HBox(children=(FloatProgress(value=0.0, max=9.0), HTML(value='')))"
      ]
     },
     "metadata": {},
     "output_type": "display_data"
    },
    {
     "name": "stdout",
     "output_type": "stream",
     "text": [
      "\n",
      "10-9, matches=7, Count=5, Err=nan\n"
     ]
    },
    {
     "data": {
      "application/vnd.jupyter.widget-view+json": {
       "model_id": "9f3ca05a7e574288a0cdcc034c5858ab",
       "version_major": 2,
       "version_minor": 0
      },
      "text/plain": [
       "HBox(children=(FloatProgress(value=0.0, max=9.0), HTML(value='')))"
      ]
     },
     "metadata": {},
     "output_type": "display_data"
    },
    {
     "name": "stdout",
     "output_type": "stream",
     "text": [
      "\n",
      "11-10, matches=18, Count=12, Err=0.0075\n"
     ]
    },
    {
     "data": {
      "application/vnd.jupyter.widget-view+json": {
       "model_id": "5f8d18a45026431090d0259b46f506a8",
       "version_major": 2,
       "version_minor": 0
      },
      "text/plain": [
       "HBox(children=(FloatProgress(value=0.0, max=9.0), HTML(value='')))"
      ]
     },
     "metadata": {},
     "output_type": "display_data"
    },
    {
     "name": "stdout",
     "output_type": "stream",
     "text": [
      "\n",
      "12-11, matches=55, Count=33, Err=0.0040\n"
     ]
    },
    {
     "data": {
      "application/vnd.jupyter.widget-view+json": {
       "model_id": "56e658d8dd974936b6cf0bdeb400c662",
       "version_major": 2,
       "version_minor": 0
      },
      "text/plain": [
       "HBox(children=(FloatProgress(value=0.0, max=9.0), HTML(value='')))"
      ]
     },
     "metadata": {},
     "output_type": "display_data"
    },
    {
     "name": "stdout",
     "output_type": "stream",
     "text": [
      "\n",
      "13-12, matches=67, Count=36, Err=0.0035\n"
     ]
    },
    {
     "data": {
      "application/vnd.jupyter.widget-view+json": {
       "model_id": "7e9241fe373c45f8a5e0064eda9117f4",
       "version_major": 2,
       "version_minor": 0
      },
      "text/plain": [
       "HBox(children=(FloatProgress(value=0.0, max=9.0), HTML(value='')))"
      ]
     },
     "metadata": {},
     "output_type": "display_data"
    },
    {
     "name": "stdout",
     "output_type": "stream",
     "text": [
      "\n",
      "14-13, matches=71, Count=33, Err=0.0065\n"
     ]
    },
    {
     "data": {
      "application/vnd.jupyter.widget-view+json": {
       "model_id": "bbe0fc6afab247da817466fe844d0e96",
       "version_major": 2,
       "version_minor": 0
      },
      "text/plain": [
       "HBox(children=(FloatProgress(value=0.0, max=9.0), HTML(value='')))"
      ]
     },
     "metadata": {},
     "output_type": "display_data"
    },
    {
     "name": "stdout",
     "output_type": "stream",
     "text": [
      "\n",
      "15-14, matches=65, Count=37, Err=0.0112\n"
     ]
    },
    {
     "data": {
      "application/vnd.jupyter.widget-view+json": {
       "model_id": "11555e9d0d0e467e8fe548b11d8c0f23",
       "version_major": 2,
       "version_minor": 0
      },
      "text/plain": [
       "HBox(children=(FloatProgress(value=0.0, max=9.0), HTML(value='')))"
      ]
     },
     "metadata": {},
     "output_type": "display_data"
    },
    {
     "name": "stdout",
     "output_type": "stream",
     "text": [
      "\n",
      "7-6, matches=85, Count=57, Err=0.0034\n"
     ]
    },
    {
     "data": {
      "application/vnd.jupyter.widget-view+json": {
       "model_id": "ddac2c9881a7446cb774e60c1025720a",
       "version_major": 2,
       "version_minor": 0
      },
      "text/plain": [
       "HBox(children=(FloatProgress(value=0.0, max=9.0), HTML(value='')))"
      ]
     },
     "metadata": {},
     "output_type": "display_data"
    },
    {
     "name": "stdout",
     "output_type": "stream",
     "text": [
      "\n",
      "6-5, matches=98, Count=65, Err=0.0030\n"
     ]
    },
    {
     "data": {
      "application/vnd.jupyter.widget-view+json": {
       "model_id": "8ab8cd1231544a5bb7c4a05125b096da",
       "version_major": 2,
       "version_minor": 0
      },
      "text/plain": [
       "HBox(children=(FloatProgress(value=0.0, max=9.0), HTML(value='')))"
      ]
     },
     "metadata": {},
     "output_type": "display_data"
    },
    {
     "name": "stdout",
     "output_type": "stream",
     "text": [
      "\n",
      "5-4, matches=107, Count=78, Err=0.0027\n"
     ]
    },
    {
     "data": {
      "application/vnd.jupyter.widget-view+json": {
       "model_id": "d7b914ecca224e259240f99b4a2b215b",
       "version_major": 2,
       "version_minor": 0
      },
      "text/plain": [
       "HBox(children=(FloatProgress(value=0.0, max=9.0), HTML(value='')))"
      ]
     },
     "metadata": {},
     "output_type": "display_data"
    },
    {
     "name": "stdout",
     "output_type": "stream",
     "text": [
      "\n",
      "4-3, matches=99, Count=58, Err=0.0048\n"
     ]
    },
    {
     "data": {
      "application/vnd.jupyter.widget-view+json": {
       "model_id": "c13afac18d0e4782854ae642a1f5bfd2",
       "version_major": 2,
       "version_minor": 0
      },
      "text/plain": [
       "HBox(children=(FloatProgress(value=0.0, max=9.0), HTML(value='')))"
      ]
     },
     "metadata": {},
     "output_type": "display_data"
    },
    {
     "name": "stdout",
     "output_type": "stream",
     "text": [
      "\n",
      "3-2, matches=129, Count=87, Err=0.0053\n"
     ]
    },
    {
     "data": {
      "application/vnd.jupyter.widget-view+json": {
       "model_id": "29e2058b0a7546ca8d2a7a482a0cec65",
       "version_major": 2,
       "version_minor": 0
      },
      "text/plain": [
       "HBox(children=(FloatProgress(value=0.0, max=9.0), HTML(value='')))"
      ]
     },
     "metadata": {},
     "output_type": "display_data"
    },
    {
     "name": "stdout",
     "output_type": "stream",
     "text": [
      "\n",
      "2-1, matches=109, Count=68, Err=0.0058\n",
      "0 172576\n",
      "coordinate of the left eye: [ 0.05802867 -0.1112326   0.1986909 ] in frame 0\n",
      "1 172581\n",
      "coordinate of the left eye: [ 0.05610711 -0.10592204  0.19808803] in frame 1\n",
      "12 169336\n",
      "coordinate of the left eye: [-0.10952395  0.02883137  0.22973919] in frame 12\n",
      "13 170000\n",
      "coordinate of the left eye: [-0.10996653  0.02697497  0.23506629] in frame 13\n",
      "14 169380\n",
      "coordinate of the left eye: [-0.1071064   0.01737836  0.23768785] in frame 14\n",
      "[-0.04249222 -0.02879399  0.21985445]\n",
      "[[ 0.10052089 -0.08243861 -0.02116355]\n",
      " [ 0.09859933 -0.07712805 -0.02176642]\n",
      " [-0.06703173  0.05762536  0.00988474]\n",
      " [-0.06747431  0.05576896  0.01521184]\n",
      " [-0.06461418  0.04617235  0.0178334 ]]\n",
      "mean coordinate: [-0.04249222 -0.02879399  0.21985445]. Distance to each points: [0.13171359 0.12706039 0.08894742 0.0888502  0.08139354].\n"
     ]
    },
    {
     "data": {
      "text/plain": [
       "0.1035930282595802"
      ]
     },
     "execution_count": 246,
     "metadata": {},
     "output_type": "execute_result"
    }
   ],
   "source": [
    "mhead.reset_all_head_positions()\n",
    "for idx in range(6,14):\n",
    "    mhead.transform_from_link(mhead.links[idx])\n",
    "    mhead.links[idx].print_short()\n",
    "for idx in range(5,-1,-1):\n",
    "    mhead.transform_from_link(mhead.links[idx])\n",
    "    mhead.links[idx].print_short()\n",
    "center, distances=mhead.left_eye_deviation()\n",
    "np.mean(distances)"
   ]
  },
  {
   "cell_type": "code",
   "execution_count": 79,
   "metadata": {},
   "outputs": [
    {
     "name": "stdout",
     "output_type": "stream",
     "text": [
      "5-4, Count=35, Err Matches=0.0028, Cov=99.5\n",
      "4-3, Count=32, Err Matches=0.0075, Cov=99.2\n",
      "3-2, Count=50, Err Matches=0.0045, Cov=99.1\n",
      "2-1, Count=41, Err Matches=0.0049, Cov=99.3\n",
      "1-15, Count=40, Err Matches=0.0039, Cov=99.2\n",
      "6-5, Count=38, Err Matches=0.0074, Cov=95.1\n",
      "15-14, Count=20, Err Matches=0.0117, Cov=94.2\n",
      "14-13, Count=26, Err Matches=0.0127, Cov=89.7\n",
      "7-6, Count=30, Err Matches=0.0081, Cov=77.3\n",
      "8-7, Count=16, Err Matches=0.0072, Cov=88.3\n",
      "13-12, Count=25, Err Matches=0.0052, Cov=74.4\n",
      "12-11, Count=15, Err Matches=0.0127, Cov=80.5\n",
      "11-10, Count=11, Err Matches=0.0068, Cov=90.3\n",
      "10-9, Count=6, Err Matches=nan, Cov=95.5\n",
      "0 172576\n",
      "coordinate of the left eye: [ 0.11941367 -0.14799087  0.05481895] in frame 0\n",
      "1 172581\n",
      "coordinate of the left eye: [ 0.1212572  -0.14884598  0.06013289] in frame 1\n",
      "12 169336\n",
      "coordinate of the left eye: [ 0.10311168 -0.14579274  0.05821601] in frame 12\n",
      "13 170000\n",
      "coordinate of the left eye: [ 0.11891502 -0.14557913  0.06979886] in frame 13\n",
      "14 169380\n",
      "coordinate of the left eye: [ 0.11776129 -0.14657233  0.06881406] in frame 14\n",
      "[ 0.11609177 -0.14695621  0.06235615]\n",
      "[[ 0.0033219  -0.00103466 -0.0075372 ]\n",
      " [ 0.00516543 -0.00188977 -0.00222327]\n",
      " [-0.0129801   0.00116347 -0.00414015]\n",
      " [ 0.00282325  0.00137708  0.00744271]\n",
      " [ 0.00166952  0.00038388  0.0064579 ]]\n",
      "mean coordinate: [ 0.11609177 -0.14695621  0.06235615]. Distance to each points: [0.0083015  0.0059326  0.01367397 0.00807843 0.00668126].\n",
      "mean distance: 0.00853355094987288\n"
     ]
    },
    {
     "data": {
      "text/plain": [
       "0.00853355094987288"
      ]
     },
     "execution_count": 79,
     "metadata": {},
     "output_type": "execute_result"
    }
   ],
   "source": [
    "only_first_n=15\n",
    "mhead.reset_all_head_positions()\n",
    "link_index,err=mhead.get_next_unpositioned_link(method=\"coverage\")\n",
    "positioned_head_count=0\n",
    "joined_heads=set() \n",
    "while(not link_index is None) and (positioned_head_count<only_first_n or only_first_n==-1):\n",
    "    mhead.links[link_index].print_short()\n",
    "    joined_heads.add(mhead.links[link_index].left)\n",
    "    joined_heads.add(mhead.links[link_index].right)\n",
    "    mhead.heads[mhead.links[link_index].right-1].background_color=np.asarray([0,0,1])\n",
    "    mhead.heads[mhead.links[link_index].left-1].background_color=np.asarray([0,0,1]) \n",
    "    foo= mhead.all_transforms_from_link(mhead.links[link_index], method=\"coverage\", ICP=True, Refine_Range=False, Refine_local=False)\n",
    "    link_index,err=mhead.get_next_unpositioned_link(method=\"coverage\")\n",
    "    positioned_head_count=max(positioned_head_count+1,2)\n",
    "joined_heads=sorted(joined_heads)\n",
    "no_heads= len(joined_heads)\n",
    "joined_heads=[str(h) for h in joined_heads]\n",
    "name= f\"Seq_{mhead.heads[0].sequence_id}_frames_{'_'.join(joined_heads)}\"\n",
    "mhead.create_spheres(min(2/max(no_heads,0.2),1),name=name)\n",
    "mhead.left_eye_deviation()"
   ]
  },
  {
   "cell_type": "code",
   "execution_count": 78,
   "metadata": {},
   "outputs": [
    {
     "ename": "SyntaxError",
     "evalue": "invalid syntax (<ipython-input-78-435bbaa0d732>, line 1)",
     "output_type": "error",
     "traceback": [
      "\u001b[1;36m  File \u001b[1;32m\"<ipython-input-78-435bbaa0d732>\"\u001b[1;36m, line \u001b[1;32m1\u001b[0m\n\u001b[1;33m    Method C:\u001b[0m\n\u001b[1;37m           ^\u001b[0m\n\u001b[1;31mSyntaxError\u001b[0m\u001b[1;31m:\u001b[0m invalid syntax\n"
     ]
    }
   ],
   "source": [
    "Method C:\n",
    "method=\"matches\", ICP=True, Refine_Range=False, Refine_local=False 0.006911578285536816\n",
    "method=\"matches\", ICP=False, Refine_Range=False, Refine_local=False :0.004007484446217772\n",
    "method=\"coverage\", ICP=True, Refine_Range=False, Refine_local=False :0.004007484446217772\n",
    "method=\"coverage\", ICP=False, Refine_Range=False, Refine_local=False :0.009462496208674395\n",
    "\n",
    "    \n",
    "    \n",
    "    "
   ]
  },
  {
   "cell_type": "code",
   "execution_count": 67,
   "metadata": {},
   "outputs": [
    {
     "name": "stdout",
     "output_type": "stream",
     "text": [
      "0 172576\n",
      "coordinate of the left eye: [ 0.12036087 -0.15750652  0.04906706] in frame 0\n",
      "1 172581\n",
      "coordinate of the left eye: [ 0.12396184 -0.15325211  0.05266019] in frame 1\n",
      "12 169336\n",
      "coordinate of the left eye: [ 0.11192407 -0.15587695  0.04906065] in frame 12\n",
      "13 170000\n",
      "coordinate of the left eye: [ 0.12362564 -0.15202059  0.05404017] in frame 13\n",
      "14 169380\n",
      "coordinate of the left eye: [ 0.11960109 -0.15403977  0.06415198] in frame 14\n",
      "[ 0.1198947  -0.15453919  0.05379601]\n",
      "[[ 0.00046617 -0.00296733 -0.00472895]\n",
      " [ 0.00406714  0.00128708 -0.00113582]\n",
      " [-0.00797063 -0.00133776 -0.00473536]\n",
      " [ 0.00373094  0.00251859  0.00024416]\n",
      " [-0.00029361  0.00049942  0.01035597]]\n",
      "mean coordinate: [ 0.1198947  -0.15453919  0.05379601]. Distance to each points: [0.00560226 0.00441455 0.00936719 0.00450808 0.01037216].\n",
      "mean distance: 0.006852848643014155\n"
     ]
    },
    {
     "data": {
      "text/plain": [
       "0.006852848643014155"
      ]
     },
     "execution_count": 67,
     "metadata": {},
     "output_type": "execute_result"
    }
   ],
   "source": [
    "mean = mhead.left_eye_deviation()\n",
    "mean"
   ]
  },
  {
   "cell_type": "code",
   "execution_count": 149,
   "metadata": {},
   "outputs": [
    {
     "name": "stdout",
     "output_type": "stream",
     "text": [
      "0 153974\n",
      "coordinate of the left eye: [ 0.03267466 -0.1476853  -0.00702484] in frame 0\n",
      "1 150143\n",
      "coordinate of the left eye: [ 0.0338468  -0.15073654 -0.01064756] in frame 1\n",
      "2 150124\n",
      "coordinate of the left eye: [ 0.03606221 -0.15308934 -0.01531575] in frame 2\n",
      "13 147576\n",
      "coordinate of the left eye: [ 0.02978849 -0.15166735 -0.01006346] in frame 13\n",
      "14 150775\n",
      "coordinate of the left eye: [ 0.03689615 -0.14980135 -0.01361271] in frame 14\n",
      "[ 0.03385366 -0.15059598 -0.01133286]\n",
      "[[-1.17900690e-03  2.91067665e-03  4.30802802e-03]\n",
      " [-6.86292176e-06 -1.40567106e-04  6.85308128e-04]\n",
      " [ 2.20855219e-03 -2.49336069e-03 -3.98289000e-03]\n",
      " [-4.06516833e-03 -1.07137201e-03  1.26940030e-03]\n",
      " [ 3.04248596e-03  7.94623154e-04 -2.27984645e-03]]\n",
      "mean coordinate: [ 0.03385366 -0.15059598 -0.01133286]. Distance to each points: [0.00533115 0.00069961 0.00519211 0.00439145 0.00388405].\n",
      "mean distance: 0.0038996733365901\n",
      "0.0038996733365901\n"
     ]
    }
   ],
   "source": [
    "distance=mhead.left_eye_deviation()\n",
    "print(distance)\n",
    "mhead.show_spheres(sparcity=0.2, name=f\"Seq_{Sequence}_test_{idx}\", alpha=alpha )"
   ]
  },
  {
   "cell_type": "code",
   "execution_count": null,
   "metadata": {},
   "outputs": [],
   "source": [
    "for i, link in enumerate(mhead.links):\n",
    "    print (i)\n",
    "    link.print_short()"
   ]
  },
  {
   "cell_type": "code",
   "execution_count": null,
   "metadata": {},
   "outputs": [],
   "source": [
    "    link_index,err=mhead.get_next_unpositioned_link()\n",
    "    positioned_head_count=max(positioned_head_count+1,2)\n",
    "joined_heads=sorted(joined_heads)\n",
    "print(joined_heads)\n",
    "no_heads= len(joined_heads)\n",
    "joined_heads=[str(h) for h in joined_heads]\n",
    "name= f\"Seq_{mhead.heads[0].sequence_id}_frames_{'_'.join(joined_heads)}\"\n",
    "mhead.create_spheres(min(2/max(no_heads,0.2),1),name=name)"
   ]
  },
  {
   "cell_type": "code",
   "execution_count": null,
   "metadata": {},
   "outputs": [],
   "source": [
    "foo= mhead.transform_from_link(mhead.links[link_index])"
   ]
  },
  {
   "cell_type": "code",
   "execution_count": null,
   "metadata": {},
   "outputs": [],
   "source": [
    "mhead.reset_all_head_positions()\n",
    "mhead.transform_from_link(mhead.links[0])\n",
    "mhead.transform_from_link(mhead.links[1])\n",
    "mhead.create_spheres(0.3)\n"
   ]
  },
  {
   "cell_type": "code",
   "execution_count": 24,
   "metadata": {},
   "outputs": [
    {
     "name": "stdout",
     "output_type": "stream",
     "text": [
      "\\begin{tabular}{rrrrrrr}\n",
      "\\toprule\n",
      " Right &  Left &       Err &  Matches &  Inliers Matches &  Inliers Points &  Coverage \\\\\n",
      "\\midrule\n",
      "   1.0 &   2.0 &  0.004948 &    104.0 &             32.0 &            36.0 &  0.992952 \\\\\n",
      "   2.0 &   3.0 &  0.004540 &    124.0 &             52.0 &            48.0 &  0.991059 \\\\\n",
      "   3.0 &   4.0 &  0.007453 &     90.0 &             29.0 &            36.0 &  0.992410 \\\\\n",
      "   4.0 &   5.0 &  0.002788 &    100.0 &             48.0 &            41.0 &  0.994517 \\\\\n",
      "   5.0 &   6.0 &  0.007409 &     91.0 &             35.0 &            27.0 &  0.950892 \\\\\n",
      "   6.0 &   7.0 &  0.008077 &     78.0 &             30.0 &            26.0 &  0.773012 \\\\\n",
      "   7.0 &   8.0 &  0.007199 &     55.0 &             20.0 &            20.0 &  0.883464 \\\\\n",
      "   8.0 &   9.0 &  0.019275 &     16.0 &              6.0 &             6.0 &  0.681879 \\\\\n",
      "   9.0 &  10.0 &       NaN &      8.0 &              6.0 &             7.0 &  0.954591 \\\\\n",
      "  10.0 &  11.0 &  0.006762 &     20.0 &              7.0 &             9.0 &  0.903207 \\\\\n",
      "  11.0 &  12.0 &  0.012664 &     45.0 &             15.0 &            14.0 &  0.804625 \\\\\n",
      "  12.0 &  13.0 &  0.005178 &     63.0 &             21.0 &            28.0 &  0.743522 \\\\\n",
      "  13.0 &  14.0 &  0.012691 &     73.0 &             27.0 &            29.0 &  0.897298 \\\\\n",
      "  14.0 &  15.0 &  0.011685 &     55.0 &             19.0 &            26.0 &  0.941636 \\\\\n",
      "\\bottomrule\n",
      "\\end{tabular}\n",
      "\n"
     ]
    }
   ],
   "source": [
    "import pandas as pd\n",
    "df=pd.DataFrame(columns=['Right', 'Left',  'Err', 'Matches','Inliers Matches','Inliers Points','Coverage'])\n",
    "for link in mhead.links[:14]:\n",
    "    df = df.append({'Right' : int(link.right) ,\n",
    "                    'Left' : int(link.left) ,\n",
    "                    'Err' : link.err_matches,\n",
    "                    'Matches' : len(link.matches),\n",
    "                    'Inliers Matches' : sum(link.inliers_matches),\n",
    "                    'Inliers Points' : sum(link.inliers_all_points),\n",
    "                    'Coverage' : link.coverage_all_points} ,\n",
    "                   ignore_index=True)\n",
    "print(df.to_latex(index=False))"
   ]
  },
  {
   "cell_type": "code",
   "execution_count": 25,
   "metadata": {},
   "outputs": [
    {
     "data": {
      "text/html": [
       "<div>\n",
       "<style scoped>\n",
       "    .dataframe tbody tr th:only-of-type {\n",
       "        vertical-align: middle;\n",
       "    }\n",
       "\n",
       "    .dataframe tbody tr th {\n",
       "        vertical-align: top;\n",
       "    }\n",
       "\n",
       "    .dataframe thead th {\n",
       "        text-align: right;\n",
       "    }\n",
       "</style>\n",
       "<table border=\"1\" class=\"dataframe\">\n",
       "  <thead>\n",
       "    <tr style=\"text-align: right;\">\n",
       "      <th></th>\n",
       "      <th>Right</th>\n",
       "      <th>Left</th>\n",
       "      <th>Err</th>\n",
       "      <th>Matches</th>\n",
       "      <th>Inliers Matches</th>\n",
       "      <th>Inliers Points</th>\n",
       "      <th>Coverage</th>\n",
       "    </tr>\n",
       "  </thead>\n",
       "  <tbody>\n",
       "    <tr>\n",
       "      <th>0</th>\n",
       "      <td>1.0</td>\n",
       "      <td>2.0</td>\n",
       "      <td>0.004948</td>\n",
       "      <td>104.0</td>\n",
       "      <td>32.0</td>\n",
       "      <td>36.0</td>\n",
       "      <td>0.992952</td>\n",
       "    </tr>\n",
       "    <tr>\n",
       "      <th>1</th>\n",
       "      <td>2.0</td>\n",
       "      <td>3.0</td>\n",
       "      <td>0.004540</td>\n",
       "      <td>124.0</td>\n",
       "      <td>52.0</td>\n",
       "      <td>48.0</td>\n",
       "      <td>0.991059</td>\n",
       "    </tr>\n",
       "    <tr>\n",
       "      <th>2</th>\n",
       "      <td>3.0</td>\n",
       "      <td>4.0</td>\n",
       "      <td>0.007453</td>\n",
       "      <td>90.0</td>\n",
       "      <td>29.0</td>\n",
       "      <td>36.0</td>\n",
       "      <td>0.992410</td>\n",
       "    </tr>\n",
       "    <tr>\n",
       "      <th>3</th>\n",
       "      <td>4.0</td>\n",
       "      <td>5.0</td>\n",
       "      <td>0.002788</td>\n",
       "      <td>100.0</td>\n",
       "      <td>48.0</td>\n",
       "      <td>41.0</td>\n",
       "      <td>0.994517</td>\n",
       "    </tr>\n",
       "    <tr>\n",
       "      <th>4</th>\n",
       "      <td>5.0</td>\n",
       "      <td>6.0</td>\n",
       "      <td>0.007409</td>\n",
       "      <td>91.0</td>\n",
       "      <td>35.0</td>\n",
       "      <td>27.0</td>\n",
       "      <td>0.950892</td>\n",
       "    </tr>\n",
       "    <tr>\n",
       "      <th>5</th>\n",
       "      <td>6.0</td>\n",
       "      <td>7.0</td>\n",
       "      <td>0.008077</td>\n",
       "      <td>78.0</td>\n",
       "      <td>30.0</td>\n",
       "      <td>26.0</td>\n",
       "      <td>0.773012</td>\n",
       "    </tr>\n",
       "    <tr>\n",
       "      <th>6</th>\n",
       "      <td>7.0</td>\n",
       "      <td>8.0</td>\n",
       "      <td>0.007199</td>\n",
       "      <td>55.0</td>\n",
       "      <td>20.0</td>\n",
       "      <td>20.0</td>\n",
       "      <td>0.883464</td>\n",
       "    </tr>\n",
       "    <tr>\n",
       "      <th>7</th>\n",
       "      <td>8.0</td>\n",
       "      <td>9.0</td>\n",
       "      <td>0.019275</td>\n",
       "      <td>16.0</td>\n",
       "      <td>6.0</td>\n",
       "      <td>6.0</td>\n",
       "      <td>0.681879</td>\n",
       "    </tr>\n",
       "    <tr>\n",
       "      <th>8</th>\n",
       "      <td>9.0</td>\n",
       "      <td>10.0</td>\n",
       "      <td>NaN</td>\n",
       "      <td>8.0</td>\n",
       "      <td>6.0</td>\n",
       "      <td>7.0</td>\n",
       "      <td>0.954591</td>\n",
       "    </tr>\n",
       "    <tr>\n",
       "      <th>9</th>\n",
       "      <td>10.0</td>\n",
       "      <td>11.0</td>\n",
       "      <td>0.006762</td>\n",
       "      <td>20.0</td>\n",
       "      <td>7.0</td>\n",
       "      <td>9.0</td>\n",
       "      <td>0.903207</td>\n",
       "    </tr>\n",
       "    <tr>\n",
       "      <th>10</th>\n",
       "      <td>11.0</td>\n",
       "      <td>12.0</td>\n",
       "      <td>0.012664</td>\n",
       "      <td>45.0</td>\n",
       "      <td>15.0</td>\n",
       "      <td>14.0</td>\n",
       "      <td>0.804625</td>\n",
       "    </tr>\n",
       "    <tr>\n",
       "      <th>11</th>\n",
       "      <td>12.0</td>\n",
       "      <td>13.0</td>\n",
       "      <td>0.005178</td>\n",
       "      <td>63.0</td>\n",
       "      <td>21.0</td>\n",
       "      <td>28.0</td>\n",
       "      <td>0.743522</td>\n",
       "    </tr>\n",
       "    <tr>\n",
       "      <th>12</th>\n",
       "      <td>13.0</td>\n",
       "      <td>14.0</td>\n",
       "      <td>0.012691</td>\n",
       "      <td>73.0</td>\n",
       "      <td>27.0</td>\n",
       "      <td>29.0</td>\n",
       "      <td>0.897298</td>\n",
       "    </tr>\n",
       "    <tr>\n",
       "      <th>13</th>\n",
       "      <td>14.0</td>\n",
       "      <td>15.0</td>\n",
       "      <td>0.011685</td>\n",
       "      <td>55.0</td>\n",
       "      <td>19.0</td>\n",
       "      <td>26.0</td>\n",
       "      <td>0.941636</td>\n",
       "    </tr>\n",
       "  </tbody>\n",
       "</table>\n",
       "</div>"
      ],
      "text/plain": [
       "    Right  Left       Err  Matches  Inliers Matches  Inliers Points  Coverage\n",
       "0     1.0   2.0  0.004948    104.0             32.0            36.0  0.992952\n",
       "1     2.0   3.0  0.004540    124.0             52.0            48.0  0.991059\n",
       "2     3.0   4.0  0.007453     90.0             29.0            36.0  0.992410\n",
       "3     4.0   5.0  0.002788    100.0             48.0            41.0  0.994517\n",
       "4     5.0   6.0  0.007409     91.0             35.0            27.0  0.950892\n",
       "5     6.0   7.0  0.008077     78.0             30.0            26.0  0.773012\n",
       "6     7.0   8.0  0.007199     55.0             20.0            20.0  0.883464\n",
       "7     8.0   9.0  0.019275     16.0              6.0             6.0  0.681879\n",
       "8     9.0  10.0       NaN      8.0              6.0             7.0  0.954591\n",
       "9    10.0  11.0  0.006762     20.0              7.0             9.0  0.903207\n",
       "10   11.0  12.0  0.012664     45.0             15.0            14.0  0.804625\n",
       "11   12.0  13.0  0.005178     63.0             21.0            28.0  0.743522\n",
       "12   13.0  14.0  0.012691     73.0             27.0            29.0  0.897298\n",
       "13   14.0  15.0  0.011685     55.0             19.0            26.0  0.941636"
      ]
     },
     "execution_count": 25,
     "metadata": {},
     "output_type": "execute_result"
    }
   ],
   "source": [
    "df"
   ]
  },
  {
   "cell_type": "code",
   "execution_count": 168,
   "metadata": {},
   "outputs": [
    {
     "data": {
      "text/plain": [
       "2"
      ]
     },
     "execution_count": 168,
     "metadata": {},
     "output_type": "execute_result"
    }
   ],
   "source": [
    "mhead.links[0].left"
   ]
  },
  {
   "cell_type": "code",
   "execution_count": null,
   "metadata": {},
   "outputs": [],
   "source": [
    "mhead.create_mesh(f\"{Sequence}_mesh\")"
   ]
  },
  {
   "cell_type": "code",
   "execution_count": 102,
   "metadata": {},
   "outputs": [
    {
     "data": {
      "image/png": "[encoded data removed]",
      "text/plain": [
       "<Figure size 864x972 with 6 Axes>"
      ]
     },
     "metadata": {
      "needs_background": "light"
     },
     "output_type": "display_data"
    }
   ],
   "source": [
    "nrows,ncols=3,2\n",
    "screenwidth=12\n",
    "plt.figure(figsize = (screenwidth,3/4*nrows*screenwidth/ncols))\n",
    "gs1 = gridspec.GridSpec(nrows, ncols)\n",
    "gs1.update(wspace=0.1, hspace=0.1)\n",
    "for row in range(nrows):\n",
    "    for col in range(ncols):\n",
    "        idx=ncols*row+col\n",
    "        ax=plt.subplot(gs1[idx])\n",
    "        mhead.heads[idx].background_color=np.array([0,0,1])\n",
    "        img= mhead.heads[idx].get_filtered_image()\n",
    "        ax.imshow(img)\n",
    "        ax.set_axis_off()        \n",
    "        ax.text(x=10, y=463 , s=f\"S_{Sequence}:{idx+1}/15\",horizontalalignment='left',\n",
    "                              verticalalignment='bottom',  bbox=dict(facecolor='white', alpha=1))        \n",
    "        del ax\n",
    "plt.savefig(f\"2d_filtered_seq_{Sequence}\")\n",
    "plt.show()"
   ]
  },
  {
   "cell_type": "code",
   "execution_count": 104,
   "metadata": {},
   "outputs": [
    {
     "name": "stderr",
     "output_type": "stream",
     "text": [
      "C:\\Data Science\\Advanced Vision\\Coursework\\AV_CW\\single_head.py:297: RuntimeWarning: invalid value encountered in less\n",
      "  depth_filter = self.xyz[:, 2] < depth\n"
     ]
    },
    {
     "data": {
      "image/png": "[encoded data removed]",
      "text/plain": [
       "<Figure size 864x486 with 12 Axes>"
      ]
     },
     "metadata": {
      "needs_background": "light"
     },
     "output_type": "display_data"
    }
   ],
   "source": [
    "sequence_ids=[0,1,2]\n",
    "head_ids=[0,5,7]\n",
    "abcd=\"abcd\"\n",
    "nrows,ncols=3,4\n",
    "screenwidth=12\n",
    "plt.figure(figsize = (screenwidth,3/4*nrows*screenwidth/ncols))\n",
    "gs1 = gridspec.GridSpec(nrows, ncols)\n",
    "gs1.update(wspace=0.1, hspace=0.1)\n",
    "for row in range(nrows):\n",
    "    head = sequence_ids[row]\n",
    "    head = sequence_ids[row]\n",
    "    sequence= sequence_ids[row]\n",
    "    head_idx=head_ids[row]\n",
    "    for col in range(ncols):\n",
    "#         print (sequence, head_idx, col)\n",
    "        head=mhead.heads[head_idx]\n",
    "        if col==0:\n",
    "            img= head.twoD_image            \n",
    "            \n",
    "        elif col==1:\n",
    "            head.reset_filters()\n",
    "            head.filter_depth(1)\n",
    "            head.background_color=np.array([0,0,1])\n",
    "            img= head.get_filtered_image()\n",
    "        elif col==2:\n",
    "            head.remove_dangling()\n",
    "            img= head.get_filtered_image()\n",
    "        elif col==3:\n",
    "            head.remove_background_color()\n",
    "            head.background_color=np.array([0,0,1])\n",
    "            img= head.get_filtered_image()\n",
    "        idx=ncols*row+col\n",
    "        ax=plt.subplot(gs1[idx])\n",
    "        ax.imshow(img)\n",
    "        ax.set_axis_off()        \n",
    "        if col==0:\n",
    "            ax.text(x=20, y=20 , s=f\"S_{sequence+1}:{head_idx+1}/15\",horizontalalignment='left',\n",
    "                                  verticalalignment='top',  bbox=dict(facecolor='white', alpha=1))        \n",
    "\n",
    "        ax.text(x=20, y=453 , s=f\"{abcd[col]}\",horizontalalignment='left',\n",
    "                              verticalalignment='bottom',  bbox=dict(facecolor='white', alpha=1))        \n",
    "        \n",
    "        del ax\n",
    "        \n",
    "plt.savefig(f\"2d_full_seq_{Sequence}\")\n",
    "plt.show()"
   ]
  },
  {
   "cell_type": "code",
   "execution_count": null,
   "metadata": {},
   "outputs": [],
   "source": [
    "linkindex=6\n",
    "mhead.reset_all_head_positions()\n",
    "foo= mhead.transform_from_link(mhead.links[linkindex])\n",
    "mhead.links[linkindex].print_short()\n",
    "mhead.create_spheres(0.4)"
   ]
  },
  {
   "cell_type": "code",
   "execution_count": null,
   "metadata": {},
   "outputs": [],
   "source": [
    "import glob"
   ]
  },
  {
   "cell_type": "code",
   "execution_count": null,
   "metadata": {},
   "outputs": [],
   "source": [
    "glob.glob(\"images\\Seq_1_frames_SIFT*.png\")"
   ]
  },
  {
   "cell_type": "code",
   "execution_count": 65,
   "metadata": {},
   "outputs": [
    {
     "data": {
      "application/vnd.jupyter.widget-view+json": {
       "model_id": "b01893d42f244affb6ca76caa4c6847f",
       "version_major": 2,
       "version_minor": 0
      },
      "text/plain": [
       "HBox(children=(FloatProgress(value=0.0, max=184.0), HTML(value='')))"
      ]
     },
     "metadata": {},
     "output_type": "display_data"
    },
    {
     "name": "stdout",
     "output_type": "stream",
     "text": [
      "\n",
      "completed\n"
     ]
    }
   ],
   "source": [
    "mhead.create_mesh(\"hi\")"
   ]
  },
  {
   "cell_type": "code",
   "execution_count": null,
   "metadata": {},
   "outputs": [],
   "source": []
  }
 ],
 "metadata": {
  "kernelspec": {
   "display_name": "Python 3",
   "language": "python",
   "name": "python3"
  },
  "language_info": {
   "codemirror_mode": {
    "name": "ipython",
    "version": 3
   },
   "file_extension": ".py",
   "mimetype": "text/x-python",
   "name": "python",
   "nbconvert_exporter": "python",
   "pygments_lexer": "ipython3",
   "version": "3.7.0"
  }
 },
 "nbformat": 4,
 "nbformat_minor": 4
}
