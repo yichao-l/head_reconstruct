{
 "cells": [
  {
   "cell_type": "code",
   "execution_count": null,
   "metadata": {
    "scrolled": true
   },
   "outputs": [],
   "source": [
    "import HEAD_RECON\n",
    "import multi_head\n",
    "import copy\n",
    "import numpy as np\n",
    "import matplotlib.pyplot as plt\n",
    "import cv2\n",
    "from scipy.ndimage.morphology import binary_fill_holes\n",
    "import sys\n",
    "np.set_printoptions(threshold=sys.maxsize)\n",
    "from scipy.signal import detrend\n",
    "import matplotlib.gridspec as gridspec\n",
    "%load_ext autoreload\n",
    "%autoreload 2"
   ]
  },
  {
   "cell_type": "code",
   "execution_count": null,
   "metadata": {
    "scrolled": false
   },
   "outputs": [],
   "source": [
    "for i in range(1,16):\n",
    "    print(i)\n",
    "    head = HEAD_RECON.threeD_head.read_from_file(Sequence,i)\n",
    "    head.full_filter()\n",
    "    head.save()"
   ]
  },
  {
   "cell_type": "code",
   "execution_count": 17,
   "metadata": {},
   "outputs": [],
   "source": [
    "# gen pickled heads\n",
    "Sequence=1"
   ]
  },
  {
   "cell_type": "code",
   "execution_count": 18,
   "metadata": {
    "scrolled": true
   },
   "outputs": [],
   "source": [
    "# load heads\n",
    "all_heads=[HEAD_RECON.threeD_head.load_from_pickle(Sequence,i) for i in range (1,16)]"
   ]
  },
  {
   "cell_type": "code",
   "execution_count": 20,
   "metadata": {},
   "outputs": [
    {
     "name": "stdout",
     "output_type": "stream",
     "text": [
      "completed\n"
     ]
    }
   ],
   "source": [
    "# make head from first to last\n",
    "def make_mhead(all_heads, first, last):\n",
    "    all_heads[first].reset_positions()\n",
    "    all_heads[first].reset_colors()\n",
    "    all_heads[first+1].reset_positions()\n",
    "    all_heads[first+1].reset_colors()   \n",
    "    heads = multi_head.MultiHead.joined_heads(all_heads[first], all_heads[first+1])\n",
    "    heads.links.append(multi_head.Link(left=all_heads[first+1].frame_id,right=all_heads[first].frame_id))\n",
    "    for i in range(first+2,last+1):\n",
    "        heads.links.append(multi_head.Link(left=all_heads[i].frame_id,right=all_heads[i-1].frame_id))\n",
    "        all_heads[i].reset_positions()\n",
    "        all_heads[i].reset_colors()\n",
    "        heads.append(all_heads[i])        \n",
    "        if i==last:\n",
    "             heads.links.append(multi_head.Link(left=all_heads[first].frame_id,right=all_heads[i].frame_id))\n",
    "    print (\"completed\")\n",
    "    return heads\n",
    "mhead = make_mhead(all_heads, 0, 14)\n",
    "mhead.calc_keypoints()"
   ]
  },
  {
   "cell_type": "code",
   "execution_count": 22,
   "metadata": {},
   "outputs": [
    {
     "data": {
      "application/vnd.jupyter.widget-view+json": {
       "model_id": "fca8d4eeb7644e109fe7bb2e0a43c49c",
       "version_major": 2,
       "version_minor": 0
      },
      "text/plain": [
       "HBox(children=(FloatProgress(value=0.0, max=5000.0), HTML(value='')))"
      ]
     },
     "metadata": {},
     "output_type": "display_data"
    },
    {
     "name": "stdout",
     "output_type": "stream",
     "text": [
      "\n"
     ]
    },
    {
     "data": {
      "application/vnd.jupyter.widget-view+json": {
       "model_id": "91fe989079aa4a72bd0ddcc87ba591d8",
       "version_major": 2,
       "version_minor": 0
      },
      "text/plain": [
       "HBox(children=(FloatProgress(value=0.0, max=5000.0), HTML(value='')))"
      ]
     },
     "metadata": {},
     "output_type": "display_data"
    },
    {
     "name": "stdout",
     "output_type": "stream",
     "text": [
      "\n"
     ]
    },
    {
     "data": {
      "application/vnd.jupyter.widget-view+json": {
       "model_id": "877130166d2443608f7d217cfe5846a1",
       "version_major": 2,
       "version_minor": 0
      },
      "text/plain": [
       "HBox(children=(FloatProgress(value=0.0, max=5000.0), HTML(value='')))"
      ]
     },
     "metadata": {},
     "output_type": "display_data"
    },
    {
     "name": "stdout",
     "output_type": "stream",
     "text": [
      "\n"
     ]
    },
    {
     "data": {
      "application/vnd.jupyter.widget-view+json": {
       "model_id": "82285a9da2474ab3bee5afc01292d4c5",
       "version_major": 2,
       "version_minor": 0
      },
      "text/plain": [
       "HBox(children=(FloatProgress(value=0.0, max=5000.0), HTML(value='')))"
      ]
     },
     "metadata": {},
     "output_type": "display_data"
    },
    {
     "name": "stdout",
     "output_type": "stream",
     "text": [
      "\n"
     ]
    },
    {
     "data": {
      "application/vnd.jupyter.widget-view+json": {
       "model_id": "016ae4a56d4149fc975f8c48e426b6f2",
       "version_major": 2,
       "version_minor": 0
      },
      "text/plain": [
       "HBox(children=(FloatProgress(value=0.0, max=5000.0), HTML(value='')))"
      ]
     },
     "metadata": {},
     "output_type": "display_data"
    },
    {
     "name": "stdout",
     "output_type": "stream",
     "text": [
      "\n"
     ]
    },
    {
     "data": {
      "application/vnd.jupyter.widget-view+json": {
       "model_id": "553647bc0ed34f1281f91b5a08092a4c",
       "version_major": 2,
       "version_minor": 0
      },
      "text/plain": [
       "HBox(children=(FloatProgress(value=0.0, max=5000.0), HTML(value='')))"
      ]
     },
     "metadata": {},
     "output_type": "display_data"
    },
    {
     "name": "stdout",
     "output_type": "stream",
     "text": [
      "\n"
     ]
    },
    {
     "data": {
      "application/vnd.jupyter.widget-view+json": {
       "model_id": "ab2b5c530d1c4a29a0a6a7a386f1406b",
       "version_major": 2,
       "version_minor": 0
      },
      "text/plain": [
       "HBox(children=(FloatProgress(value=0.0, max=5000.0), HTML(value='')))"
      ]
     },
     "metadata": {},
     "output_type": "display_data"
    },
    {
     "name": "stdout",
     "output_type": "stream",
     "text": [
      "\n"
     ]
    },
    {
     "data": {
      "application/vnd.jupyter.widget-view+json": {
       "model_id": "2ee1b23d464d461eb0675a3ffe18264f",
       "version_major": 2,
       "version_minor": 0
      },
      "text/plain": [
       "HBox(children=(FloatProgress(value=0.0, max=5000.0), HTML(value='')))"
      ]
     },
     "metadata": {},
     "output_type": "display_data"
    },
    {
     "name": "stdout",
     "output_type": "stream",
     "text": [
      "\n"
     ]
    },
    {
     "data": {
      "application/vnd.jupyter.widget-view+json": {
       "model_id": "cfeed0b7f01d48c4ac666d5d39dc6230",
       "version_major": 2,
       "version_minor": 0
      },
      "text/plain": [
       "HBox(children=(FloatProgress(value=0.0, max=5000.0), HTML(value='')))"
      ]
     },
     "metadata": {},
     "output_type": "display_data"
    },
    {
     "name": "stdout",
     "output_type": "stream",
     "text": [
      "\n"
     ]
    },
    {
     "data": {
      "application/vnd.jupyter.widget-view+json": {
       "model_id": "42bc63a1a0e442db8cb4743d09d82563",
       "version_major": 2,
       "version_minor": 0
      },
      "text/plain": [
       "HBox(children=(FloatProgress(value=0.0, max=5000.0), HTML(value='')))"
      ]
     },
     "metadata": {},
     "output_type": "display_data"
    },
    {
     "name": "stdout",
     "output_type": "stream",
     "text": [
      "\n"
     ]
    },
    {
     "data": {
      "application/vnd.jupyter.widget-view+json": {
       "model_id": "cdf4677c2aee4f1bae92f79940575476",
       "version_major": 2,
       "version_minor": 0
      },
      "text/plain": [
       "HBox(children=(FloatProgress(value=0.0, max=5000.0), HTML(value='')))"
      ]
     },
     "metadata": {},
     "output_type": "display_data"
    },
    {
     "name": "stdout",
     "output_type": "stream",
     "text": [
      "\n"
     ]
    },
    {
     "data": {
      "application/vnd.jupyter.widget-view+json": {
       "model_id": "3907f518d54148fb8527e1f3895063a9",
       "version_major": 2,
       "version_minor": 0
      },
      "text/plain": [
       "HBox(children=(FloatProgress(value=0.0, max=5000.0), HTML(value='')))"
      ]
     },
     "metadata": {},
     "output_type": "display_data"
    },
    {
     "name": "stdout",
     "output_type": "stream",
     "text": [
      "\n"
     ]
    },
    {
     "data": {
      "application/vnd.jupyter.widget-view+json": {
       "model_id": "b69fcbdc2e394bb48e08d05075efe4f2",
       "version_major": 2,
       "version_minor": 0
      },
      "text/plain": [
       "HBox(children=(FloatProgress(value=0.0, max=5000.0), HTML(value='')))"
      ]
     },
     "metadata": {},
     "output_type": "display_data"
    },
    {
     "name": "stdout",
     "output_type": "stream",
     "text": [
      "\n"
     ]
    },
    {
     "data": {
      "application/vnd.jupyter.widget-view+json": {
       "model_id": "759f8446c8334c4da2924a7130d015d0",
       "version_major": 2,
       "version_minor": 0
      },
      "text/plain": [
       "HBox(children=(FloatProgress(value=0.0, max=5000.0), HTML(value='')))"
      ]
     },
     "metadata": {},
     "output_type": "display_data"
    },
    {
     "name": "stdout",
     "output_type": "stream",
     "text": [
      "\n"
     ]
    },
    {
     "data": {
      "application/vnd.jupyter.widget-view+json": {
       "model_id": "c62d1664cd474e6399f8084024bc6785",
       "version_major": 2,
       "version_minor": 0
      },
      "text/plain": [
       "HBox(children=(FloatProgress(value=0.0, max=5000.0), HTML(value='')))"
      ]
     },
     "metadata": {},
     "output_type": "display_data"
    },
    {
     "name": "stdout",
     "output_type": "stream",
     "text": [
      "\n"
     ]
    }
   ],
   "source": [
    "def calc_connections(mhead):\n",
    "    for link in mhead.links:\n",
    "        link.reset()\n",
    "        mhead.ransac_from_link(link)        \n",
    "calc_connections(mhead)"
   ]
  },
  {
   "cell_type": "code",
   "execution_count": 115,
   "metadata": {},
   "outputs": [
    {
     "name": "stdout",
     "output_type": "stream",
     "text": [
      "any_head_positioned False\n",
      "5-4, Count=137, Err=0.0031\n",
      "any_head_positioned True\n",
      "6-5, Count=113, Err=0.0045\n",
      "any_head_positioned True\n",
      "7-6, Count=90, Err=0.0069\n",
      "any_head_positioned True\n",
      "4-3, Count=107, Err=0.0071\n",
      "any_head_positioned True\n",
      "3-2, Count=147, Err=0.0067\n",
      "any_head_positioned True\n",
      "8-7, Count=64, Err=0.0080\n",
      "any_head_positioned True\n",
      "2-1, Count=101, Err=0.0098\n",
      "any_head_positioned True\n",
      "1-15, Count=154, Err=0.0076\n",
      "any_head_positioned True\n",
      "15-14, Count=70, Err=0.0126\n",
      "any_head_positioned True\n",
      "14-13, Count=52, Err=0.0077\n",
      "any_head_positioned True\n",
      "13-12, Count=76, Err=0.0095\n",
      "any_head_positioned True\n",
      "12-11, Count=58, Err=0.0047\n",
      "any_head_positioned True\n",
      "11-10, Count=25, Err=0.0189\n",
      "any_head_positioned True\n",
      "[1, 2, 3, 4, 5, 6, 7, 8, 10, 11, 12, 13, 14, 15]\n"
     ]
    }
   ],
   "source": [
    "only_first_n=14\n",
    "mhead.reset_all_head_positions()\n",
    "link_index,err=mhead.get_next_unpositioned_link()\n",
    "positioned_head_count=0\n",
    "joined_heads=set() \n",
    "while(not link_index is None) and (positioned_head_count<only_first_n or only_first_n==-1):\n",
    "    mhead.links[link_index].print_short()\n",
    "    joined_heads.add(mhead.links[link_index].left)\n",
    "    joined_heads.add(mhead.links[link_index].right)\n",
    "    foo= mhead.transform_from_link(mhead.links[link_index])\n",
    "    link_index,err=mhead.get_next_unpositioned_link()\n",
    "    positioned_head_count=max(positioned_head_count+1,2)\n",
    "joined_heads=sorted(joined_heads)\n",
    "print(joined_heads)\n",
    "no_heads= len(joined_heads)\n",
    "joined_heads=[str(h) for h in joined_heads]\n",
    "name= f\"Seq_{mhead.heads[0].sequence_id}_frames_{'_'.join(joined_heads)}\"\n",
    "mhead.create_spheres(min(2/max(no_heads,0.2),1),name=name)"
   ]
  },
  {
   "cell_type": "code",
   "execution_count": 145,
   "metadata": {},
   "outputs": [
    {
     "name": "stdout",
     "output_type": "stream",
     "text": [
      "\\begin{tabular}{lrrrrr}\n",
      "\\toprule\n",
      "{} &  Right &  Left &  Matches &  Inliers &  Variance \\\\\n",
      "\\midrule\n",
      "0  &      1 &     2 &      254 &      101 &  0.009788 \\\\\n",
      "1  &      2 &     3 &      300 &      147 &  0.006730 \\\\\n",
      "2  &      3 &     4 &      262 &      107 &  0.007085 \\\\\n",
      "3  &      4 &     5 &      246 &      137 &  0.003069 \\\\\n",
      "4  &      5 &     6 &      239 &      113 &  0.004493 \\\\\n",
      "5  &      6 &     7 &      181 &       90 &  0.006948 \\\\\n",
      "6  &      7 &     8 &      138 &       64 &  0.007980 \\\\\n",
      "7  &      8 &     9 &      104 &       18 &  0.027298 \\\\\n",
      "8  &      9 &    10 &      116 &       27 &  0.018986 \\\\\n",
      "9  &     10 &    11 &      104 &       25 &  0.018863 \\\\\n",
      "10 &     11 &    12 &      137 &       58 &  0.004724 \\\\\n",
      "11 &     12 &    13 &      193 &       76 &  0.009457 \\\\\n",
      "12 &     13 &    14 &      168 &       52 &  0.007739 \\\\\n",
      "13 &     14 &    15 &      198 &       70 &  0.012636 \\\\\n",
      "14 &     15 &     1 &      283 &      154 &  0.007570 \\\\\n",
      "\\bottomrule\n",
      "\\end{tabular}\n",
      "\n"
     ]
    }
   ],
   "source": [
    "import pandas as pd\n",
    "df=pd.DataFrame(columns=['Right', 'Left',  'Matches', 'Inliers','Variance'])\n",
    "for link in mhead.links:\n",
    "    df = df.append({'Right' : int(link.right) , 'Left' : int(link.left) ,  'Variance' : link.err, 'Inliers' : sum(link.inliers), 'Matches' : len(link.matches)} , ignore_index=True)\n",
    "df[['Right', 'Left',  'Matches', 'Inliers']] = df[['Right', 'Left',  'Matches', 'Inliers']].astype(int)\n",
    "print(df.to_latex())"
   ]
  },
  {
   "cell_type": "code",
   "execution_count": 124,
   "metadata": {},
   "outputs": [
    {
     "data": {
      "text/plain": [
       "0.009787951290177649"
      ]
     },
     "execution_count": 124,
     "metadata": {},
     "output_type": "execute_result"
    }
   ],
   "source": []
  },
  {
   "cell_type": "code",
   "execution_count": 45,
   "metadata": {},
   "outputs": [
    {
     "data": {
      "text/plain": [
       "2"
      ]
     },
     "execution_count": 45,
     "metadata": {},
     "output_type": "execute_result"
    }
   ],
   "source": [
    "mhead.links[0].left"
   ]
  },
  {
   "cell_type": "code",
   "execution_count": 99,
   "metadata": {},
   "outputs": [
    {
     "data": {
      "application/vnd.jupyter.widget-view+json": {
       "model_id": "3f2bb038968e4d759ce1ac05ee184b3a",
       "version_major": 2,
       "version_minor": 0
      },
      "text/plain": [
       "HBox(children=(FloatProgress(value=0.0, max=184.0), HTML(value='')))"
      ]
     },
     "metadata": {},
     "output_type": "display_data"
    },
    {
     "name": "stdout",
     "output_type": "stream",
     "text": [
      "\n",
      "completed\n"
     ]
    }
   ],
   "source": [
    "mhead.create_mesh(f\"{Sequence}_mesh\")"
   ]
  },
  {
   "cell_type": "code",
   "execution_count": null,
   "metadata": {},
   "outputs": [],
   "source": [
    "nrows,ncols=3,2\n",
    "screenwidth=12\n",
    "plt.figure(figsize = (screenwidth,3/4*nrows*screenwidth/ncols))\n",
    "gs1 = gridspec.GridSpec(nrows, ncols)\n",
    "gs1.update(wspace=0.1, hspace=0.1)\n",
    "for row in range(nrows):\n",
    "    for col in range(ncols):\n",
    "        idx=ncols*row+col\n",
    "        ax=plt.subplot(gs1[idx])\n",
    "        mhead.heads[idx].background_color=np.array([0,0,1])\n",
    "        img= mhead.heads[idx].get_filtered_image()\n",
    "        ax.imshow(img)\n",
    "        ax.set_axis_off()        \n",
    "        ax.text(x=10, y=463 , s=f\"S_{Sequence}:{idx+1}/15\",horizontalalignment='left',\n",
    "                              verticalalignment='bottom',  bbox=dict(facecolor='white', alpha=1))        \n",
    "        del ax\n",
    "plt.savefig(f\"2d_filtered_seq_{Sequence}\")\n",
    "plt.show()"
   ]
  },
  {
   "cell_type": "code",
   "execution_count": null,
   "metadata": {},
   "outputs": [],
   "source": [
    "sequence_ids=[0,1,2]\n",
    "head_ids=[0,5,7]\n",
    "abcd=\"abcd\"\n",
    "nrows,ncols=3,4\n",
    "screenwidth=12\n",
    "plt.figure(figsize = (screenwidth,3/4*nrows*screenwidth/ncols))\n",
    "gs1 = gridspec.GridSpec(nrows, ncols)\n",
    "gs1.update(wspace=0.1, hspace=0.1)\n",
    "for row in range(nrows):\n",
    "    head = sequence_ids[row]\n",
    "    head = sequence_ids[row]\n",
    "    sequence= sequence_ids[row]\n",
    "    head_idx=head_ids[row]\n",
    "    for col in range(ncols):\n",
    "#         print (sequence, head_idx, col)\n",
    "        head=mheads[sequence].heads[head_idx]\n",
    "        if col==0:\n",
    "            img= head.twoD_image            \n",
    "            \n",
    "        elif col==1:\n",
    "            head.reset_filters()\n",
    "            head.filter_depth(1)\n",
    "            head.background_color=np.array([0,0,1])\n",
    "            img= head.get_filtered_image()\n",
    "        elif col==2:\n",
    "            head.remove_dangling()\n",
    "            img= head.get_filtered_image()\n",
    "        elif col==3:\n",
    "            head.remove_background_color()\n",
    "            head.background_color=np.array([0,0,1])\n",
    "            img= head.get_filtered_image()\n",
    "        idx=ncols*row+col\n",
    "        ax=plt.subplot(gs1[idx])\n",
    "        ax.imshow(img)\n",
    "        ax.set_axis_off()        \n",
    "        if col==0:\n",
    "            ax.text(x=20, y=20 , s=f\"S_{sequence+1}:{head_idx+1}/15\",horizontalalignment='left',\n",
    "                                  verticalalignment='top',  bbox=dict(facecolor='white', alpha=1))        \n",
    "\n",
    "        ax.text(x=20, y=453 , s=f\"{abcd[col]}\",horizontalalignment='left',\n",
    "                              verticalalignment='bottom',  bbox=dict(facecolor='white', alpha=1))        \n",
    "        \n",
    "        del ax\n",
    "        \n",
    "plt.savefig(f\"2d_full_seq_{Sequence}\")\n",
    "plt.show()"
   ]
  },
  {
   "cell_type": "code",
   "execution_count": null,
   "metadata": {},
   "outputs": [],
   "source": [
    "linkindex=6\n",
    "mhead.reset_all_head_positions()\n",
    "foo= mhead.transform_from_link(mhead.links[linkindex])\n",
    "mhead.links[linkindex].print_short()\n",
    "mhead.create_spheres(0.4)"
   ]
  },
  {
   "cell_type": "code",
   "execution_count": 100,
   "metadata": {},
   "outputs": [],
   "source": [
    "import glob"
   ]
  },
  {
   "cell_type": "code",
   "execution_count": 109,
   "metadata": {},
   "outputs": [
    {
     "data": {
      "text/plain": [
       "['images\\\\Seq_1_frames_SIFT_10_11.png',\n",
       " 'images\\\\Seq_1_frames_SIFT_11_12.png',\n",
       " 'images\\\\Seq_1_frames_SIFT_12_13.png',\n",
       " 'images\\\\Seq_1_frames_SIFT_13_14.png',\n",
       " 'images\\\\Seq_1_frames_SIFT_14_15.png',\n",
       " 'images\\\\Seq_1_frames_SIFT_15_1.png',\n",
       " 'images\\\\Seq_1_frames_SIFT_1_2.png',\n",
       " 'images\\\\Seq_1_frames_SIFT_2_3.png',\n",
       " 'images\\\\Seq_1_frames_SIFT_3_4.png',\n",
       " 'images\\\\Seq_1_frames_SIFT_4_5.png',\n",
       " 'images\\\\Seq_1_frames_SIFT_5_6.png',\n",
       " 'images\\\\Seq_1_frames_SIFT_6_7.png',\n",
       " 'images\\\\Seq_1_frames_SIFT_7_8.png',\n",
       " 'images\\\\Seq_1_frames_SIFT_9_10.png']"
      ]
     },
     "execution_count": 109,
     "metadata": {},
     "output_type": "execute_result"
    }
   ],
   "source": [
    "glob.glob(\"images\\Seq_1_frames_SIFT*.png\")"
   ]
  },
  {
   "cell_type": "code",
   "execution_count": null,
   "metadata": {},
   "outputs": [],
   "source": []
  }
 ],
 "metadata": {
  "kernelspec": {
   "display_name": "Python 3",
   "language": "python",
   "name": "python3"
  },
  "language_info": {
   "codemirror_mode": {
    "name": "ipython",
    "version": 3
   },
   "file_extension": ".py",
   "mimetype": "text/x-python",
   "name": "python",
   "nbconvert_exporter": "python",
   "pygments_lexer": "ipython3",
   "version": "3.7.4"
  }
 },
 "nbformat": 4,
 "nbformat_minor": 4
}
