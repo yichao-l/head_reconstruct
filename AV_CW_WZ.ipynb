{
 "cells": [
  {
   "cell_type": "code",
   "execution_count": 147,
   "metadata": {
    "scrolled": true
   },
   "outputs": [
    {
     "name": "stdout",
     "output_type": "stream",
     "text": [
      "The autoreload extension is already loaded. To reload it, use:\n",
      "  %reload_ext autoreload\n"
     ]
    }
   ],
   "source": [
    "import single_head\n",
    "import multi_head\n",
    "import copy\n",
    "import numpy as np\n",
    "import matplotlib.pyplot as plt\n",
    "import cv2\n",
    "from scipy.ndimage.morphology import binary_fill_holes\n",
    "import sys\n",
    "np.set_printoptions(threshold=sys.maxsize)\n",
    "from scipy.signal import detrend\n",
    "import matplotlib.gridspec as gridspec\n",
    "%load_ext autoreload\n",
    "%autoreload 2"
   ]
  },
  {
   "cell_type": "code",
   "execution_count": 150,
   "metadata": {
    "scrolled": false
   },
   "outputs": [
    {
     "name": "stdout",
     "output_type": "stream",
     "text": [
      "1\n",
      "depth filter done.\n",
      "dangling removal done\n",
      "color filter done.\n",
      "2\n",
      "depth filter done.\n",
      "dangling removal done\n",
      "color filter done.\n",
      "3\n",
      "depth filter done.\n",
      "dangling removal done\n",
      "color filter done.\n",
      "4\n",
      "depth filter done.\n",
      "dangling removal done\n",
      "color filter done.\n",
      "5\n",
      "depth filter done.\n",
      "dangling removal done\n",
      "color filter done.\n",
      "6\n",
      "depth filter done.\n",
      "dangling removal done\n",
      "color filter done.\n",
      "7\n",
      "depth filter done.\n",
      "dangling removal done\n",
      "color filter done.\n",
      "8\n",
      "depth filter done.\n",
      "dangling removal done\n",
      "color filter done.\n",
      "9\n",
      "depth filter done.\n",
      "dangling removal done\n",
      "color filter done.\n",
      "10\n",
      "depth filter done.\n",
      "dangling removal done\n",
      "color filter done.\n",
      "11\n",
      "depth filter done.\n",
      "dangling removal done\n",
      "color filter done.\n",
      "12\n",
      "depth filter done.\n",
      "dangling removal done\n",
      "color filter done.\n",
      "13\n",
      "depth filter done.\n",
      "dangling removal done\n",
      "color filter done.\n",
      "14\n",
      "depth filter done.\n",
      "dangling removal done\n",
      "color filter done.\n",
      "15\n",
      "depth filter done.\n",
      "dangling removal done\n",
      "color filter done.\n"
     ]
    }
   ],
   "source": [
    "for i in range(1,16):\n",
    "    print(i)\n",
    "    head = single_head.SingleHead.read_from_file(Sequence,i)\n",
    "    head.full_filter()\n",
    "    head.save()"
   ]
  },
  {
   "cell_type": "code",
   "execution_count": 17,
   "metadata": {},
   "outputs": [],
   "source": [
    "# gen pickled heads\n",
    "Sequence=1"
   ]
  },
  {
   "cell_type": "code",
   "execution_count": 151,
   "metadata": {
    "scrolled": true
   },
   "outputs": [],
   "source": [
    "# load heads\n",
    "all_heads=[single_head.SingleHead.load_from_pickle(Sequence,i) for i in range (1,16)]"
   ]
  },
  {
   "cell_type": "code",
   "execution_count": 152,
   "metadata": {},
   "outputs": [
    {
     "name": "stdout",
     "output_type": "stream",
     "text": [
      "completed\n"
     ]
    }
   ],
   "source": [
    "# make head from first to last\n",
    "def make_mhead(all_heads, first, last):\n",
    "    all_heads[first].reset_positions()\n",
    "    all_heads[first].reset_colors()\n",
    "    all_heads[first+1].reset_positions()\n",
    "    all_heads[first+1].reset_colors()   \n",
    "    heads = multi_head.MultiHead.joined_heads(all_heads[first], all_heads[first+1])\n",
    "    heads.links.append(multi_head.Link(left=all_heads[first+1].frame_id,right=all_heads[first].frame_id))\n",
    "    for i in range(first+2,last+1):\n",
    "        heads.links.append(multi_head.Link(left=all_heads[i].frame_id,right=all_heads[i-1].frame_id))\n",
    "        all_heads[i].reset_positions()\n",
    "        all_heads[i].reset_colors()\n",
    "        heads.append(all_heads[i])        \n",
    "        if i==last:\n",
    "             heads.links.append(multi_head.Link(left=all_heads[first].frame_id,right=all_heads[i].frame_id))\n",
    "    print (\"completed\")\n",
    "    return heads\n",
    "mhead = make_mhead(all_heads, 0, 14)\n",
    "mhead.calc_keypoints()"
   ]
  },
  {
   "cell_type": "code",
   "execution_count": 154,
   "metadata": {},
   "outputs": [
    {
     "data": {
      "application/vnd.jupyter.widget-view+json": {
       "model_id": "84d0939f1ffa47359b1707ed6bc473d2",
       "version_major": 2,
       "version_minor": 0
      },
      "text/plain": [
       "HBox(children=(FloatProgress(value=0.0, max=5000.0), HTML(value='')))"
      ]
     },
     "metadata": {},
     "output_type": "display_data"
    },
    {
     "name": "stderr",
     "output_type": "stream",
     "text": [
      "C:\\Data Science\\Advanced Vision\\Coursework\\AV_CW\\SIFT.py:85: RuntimeWarning: divide by zero encountered in double_scalars\n",
      "  best_tform = tform\n"
     ]
    },
    {
     "name": "stdout",
     "output_type": "stream",
     "text": [
      "\n"
     ]
    },
    {
     "data": {
      "application/vnd.jupyter.widget-view+json": {
       "model_id": "d405054b80384718aba3589bf6b4c7eb",
       "version_major": 2,
       "version_minor": 0
      },
      "text/plain": [
       "HBox(children=(FloatProgress(value=0.0, max=5000.0), HTML(value='')))"
      ]
     },
     "metadata": {},
     "output_type": "display_data"
    },
    {
     "name": "stdout",
     "output_type": "stream",
     "text": [
      "\n"
     ]
    },
    {
     "data": {
      "application/vnd.jupyter.widget-view+json": {
       "model_id": "38b390d408e64ca78cd8de904e41cf47",
       "version_major": 2,
       "version_minor": 0
      },
      "text/plain": [
       "HBox(children=(FloatProgress(value=0.0, max=5000.0), HTML(value='')))"
      ]
     },
     "metadata": {},
     "output_type": "display_data"
    },
    {
     "name": "stdout",
     "output_type": "stream",
     "text": [
      "\n"
     ]
    },
    {
     "data": {
      "application/vnd.jupyter.widget-view+json": {
       "model_id": "9fb68bf5dfbf464482dca18dded43f53",
       "version_major": 2,
       "version_minor": 0
      },
      "text/plain": [
       "HBox(children=(FloatProgress(value=0.0, max=5000.0), HTML(value='')))"
      ]
     },
     "metadata": {},
     "output_type": "display_data"
    },
    {
     "name": "stdout",
     "output_type": "stream",
     "text": [
      "\n"
     ]
    },
    {
     "data": {
      "application/vnd.jupyter.widget-view+json": {
       "model_id": "0a64c72cb7b74d439a001eb44b1eb19e",
       "version_major": 2,
       "version_minor": 0
      },
      "text/plain": [
       "HBox(children=(FloatProgress(value=0.0, max=5000.0), HTML(value='')))"
      ]
     },
     "metadata": {},
     "output_type": "display_data"
    },
    {
     "name": "stdout",
     "output_type": "stream",
     "text": [
      "\n"
     ]
    },
    {
     "data": {
      "application/vnd.jupyter.widget-view+json": {
       "model_id": "37ac62bb14b54aa8bd1809fbd2666889",
       "version_major": 2,
       "version_minor": 0
      },
      "text/plain": [
       "HBox(children=(FloatProgress(value=0.0, max=5000.0), HTML(value='')))"
      ]
     },
     "metadata": {},
     "output_type": "display_data"
    },
    {
     "name": "stderr",
     "output_type": "stream",
     "text": [
      "C:\\Data Science\\Advanced Vision\\Coursework\\AV_CW\\SIFT.py:85: RuntimeWarning: invalid value encountered in sqrt\n",
      "  best_tform = tform\n"
     ]
    },
    {
     "name": "stdout",
     "output_type": "stream",
     "text": [
      "\n"
     ]
    },
    {
     "data": {
      "application/vnd.jupyter.widget-view+json": {
       "model_id": "5143676ad1154b70b4e155142a474c73",
       "version_major": 2,
       "version_minor": 0
      },
      "text/plain": [
       "HBox(children=(FloatProgress(value=0.0, max=5000.0), HTML(value='')))"
      ]
     },
     "metadata": {},
     "output_type": "display_data"
    },
    {
     "name": "stdout",
     "output_type": "stream",
     "text": [
      "\n"
     ]
    },
    {
     "data": {
      "application/vnd.jupyter.widget-view+json": {
       "model_id": "29037f803a324f3bbd5cdc6f744ae821",
       "version_major": 2,
       "version_minor": 0
      },
      "text/plain": [
       "HBox(children=(FloatProgress(value=0.0, max=5000.0), HTML(value='')))"
      ]
     },
     "metadata": {},
     "output_type": "display_data"
    },
    {
     "name": "stdout",
     "output_type": "stream",
     "text": [
      "\n"
     ]
    },
    {
     "data": {
      "application/vnd.jupyter.widget-view+json": {
       "model_id": "5d15c517f34b484cad853d2cc4cb0113",
       "version_major": 2,
       "version_minor": 0
      },
      "text/plain": [
       "HBox(children=(FloatProgress(value=0.0, max=5000.0), HTML(value='')))"
      ]
     },
     "metadata": {},
     "output_type": "display_data"
    },
    {
     "name": "stdout",
     "output_type": "stream",
     "text": [
      "\n"
     ]
    },
    {
     "data": {
      "application/vnd.jupyter.widget-view+json": {
       "model_id": "30ceca387bfb4db18eccc34402636a88",
       "version_major": 2,
       "version_minor": 0
      },
      "text/plain": [
       "HBox(children=(FloatProgress(value=0.0, max=5000.0), HTML(value='')))"
      ]
     },
     "metadata": {},
     "output_type": "display_data"
    },
    {
     "name": "stdout",
     "output_type": "stream",
     "text": [
      "\n"
     ]
    },
    {
     "data": {
      "application/vnd.jupyter.widget-view+json": {
       "model_id": "097d8fda8b724a548ee37416651eea27",
       "version_major": 2,
       "version_minor": 0
      },
      "text/plain": [
       "HBox(children=(FloatProgress(value=0.0, max=5000.0), HTML(value='')))"
      ]
     },
     "metadata": {},
     "output_type": "display_data"
    },
    {
     "name": "stdout",
     "output_type": "stream",
     "text": [
      "\n"
     ]
    },
    {
     "data": {
      "application/vnd.jupyter.widget-view+json": {
       "model_id": "b5ce15ce452e4275bbf1928776962ce9",
       "version_major": 2,
       "version_minor": 0
      },
      "text/plain": [
       "HBox(children=(FloatProgress(value=0.0, max=5000.0), HTML(value='')))"
      ]
     },
     "metadata": {},
     "output_type": "display_data"
    },
    {
     "name": "stdout",
     "output_type": "stream",
     "text": [
      "\n"
     ]
    },
    {
     "data": {
      "application/vnd.jupyter.widget-view+json": {
       "model_id": "8bfd9fa8725b4410902f7bdb1a9c1b2e",
       "version_major": 2,
       "version_minor": 0
      },
      "text/plain": [
       "HBox(children=(FloatProgress(value=0.0, max=5000.0), HTML(value='')))"
      ]
     },
     "metadata": {},
     "output_type": "display_data"
    },
    {
     "name": "stdout",
     "output_type": "stream",
     "text": [
      "\n"
     ]
    },
    {
     "data": {
      "application/vnd.jupyter.widget-view+json": {
       "model_id": "3fc25337af2140f3be79f262e83e34ce",
       "version_major": 2,
       "version_minor": 0
      },
      "text/plain": [
       "HBox(children=(FloatProgress(value=0.0, max=5000.0), HTML(value='')))"
      ]
     },
     "metadata": {},
     "output_type": "display_data"
    },
    {
     "name": "stdout",
     "output_type": "stream",
     "text": [
      "\n"
     ]
    },
    {
     "data": {
      "application/vnd.jupyter.widget-view+json": {
       "model_id": "b4b45cf4f8bf47ac9cc9cb264cd14d53",
       "version_major": 2,
       "version_minor": 0
      },
      "text/plain": [
       "HBox(children=(FloatProgress(value=0.0, max=5000.0), HTML(value='')))"
      ]
     },
     "metadata": {},
     "output_type": "display_data"
    },
    {
     "name": "stdout",
     "output_type": "stream",
     "text": [
      "\n"
     ]
    }
   ],
   "source": [
    "def calc_connections(mhead):\n",
    "    for link in mhead.links:\n",
    "        link.reset()\n",
    "        mhead.ransac_from_link(link)        \n",
    "calc_connections(mhead)"
   ]
  },
  {
   "cell_type": "code",
   "execution_count": 155,
   "metadata": {},
   "outputs": [
    {
     "name": "stdout",
     "output_type": "stream",
     "text": [
      "any_head_positioned False\n",
      "6-5, Count=109, Err=0.0033\n",
      "any_head_positioned True\n",
      "5-4, Count=141, Err=0.0039\n",
      "any_head_positioned True\n",
      "4-3, Count=124, Err=0.0040\n",
      "any_head_positioned True\n",
      "3-2, Count=153, Err=0.0050\n",
      "any_head_positioned True\n",
      "2-1, Count=111, Err=0.0036\n",
      "any_head_positioned True\n",
      "1-15, Count=147, Err=0.0052\n",
      "any_head_positioned True\n",
      "15-14, Count=51, Err=0.0087\n",
      "any_head_positioned True\n",
      "14-13, Count=70, Err=0.0053\n",
      "any_head_positioned True\n",
      "7-6, Count=62, Err=0.0121\n",
      "any_head_positioned True\n",
      "8-7, Count=65, Err=0.0057\n",
      "any_head_positioned True\n",
      "9-8, Count=31, Err=0.0077\n",
      "any_head_positioned True\n",
      "13-12, Count=18, Err=0.0137\n",
      "any_head_positioned True\n",
      "12-11, Count=30, Err=0.0097\n",
      "any_head_positioned True\n",
      "[1, 2, 3, 4, 5, 6, 7, 8, 9, 11, 12, 13, 14, 15]\n"
     ]
    }
   ],
   "source": [
    "only_first_n=14\n",
    "mhead.reset_all_head_positions()\n",
    "link_index,err=mhead.get_next_unpositioned_link()\n",
    "positioned_head_count=0\n",
    "joined_heads=set() \n",
    "while(not link_index is None) and (positioned_head_count<only_first_n or only_first_n==-1):\n",
    "    mhead.links[link_index].print_short()\n",
    "    joined_heads.add(mhead.links[link_index].left)\n",
    "    joined_heads.add(mhead.links[link_index].right)\n",
    "    foo= mhead.transform_from_link(mhead.links[link_index])\n",
    "    link_index,err=mhead.get_next_unpositioned_link()\n",
    "    positioned_head_count=max(positioned_head_count+1,2)\n",
    "joined_heads=sorted(joined_heads)\n",
    "print(joined_heads)\n",
    "no_heads= len(joined_heads)\n",
    "joined_heads=[str(h) for h in joined_heads]\n",
    "name= f\"Seq_{mhead.heads[0].sequence_id}_frames_{'_'.join(joined_heads)}\"\n",
    "mhead.create_spheres(min(2/max(no_heads,0.2),1),name=name)"
   ]
  },
  {
   "cell_type": "code",
   "execution_count": 156,
   "metadata": {},
   "outputs": [
    {
     "name": "stdout",
     "output_type": "stream",
     "text": [
      "\\begin{tabular}{lrrrrr}\n",
      "\\toprule\n",
      "{} &  Right &  Left &  Matches &  Inliers &  Variance \\\\\n",
      "\\midrule\n",
      "0  &      1 &     2 &      222 &      111 &  0.003641 \\\\\n",
      "1  &      2 &     3 &      293 &      153 &  0.005046 \\\\\n",
      "2  &      3 &     4 &      243 &      124 &  0.003963 \\\\\n",
      "3  &      4 &     5 &      233 &      141 &  0.003874 \\\\\n",
      "4  &      5 &     6 &      220 &      109 &  0.003306 \\\\\n",
      "5  &      6 &     7 &      184 &       62 &  0.012052 \\\\\n",
      "6  &      7 &     8 &      168 &       65 &  0.005736 \\\\\n",
      "7  &      8 &     9 &      154 &       31 &  0.007741 \\\\\n",
      "8  &      9 &    10 &       94 &       35 &  0.017506 \\\\\n",
      "9  &     10 &    11 &      108 &       37 &  0.004231 \\\\\n",
      "10 &     11 &    12 &      142 &       30 &  0.009726 \\\\\n",
      "11 &     12 &    13 &      209 &       18 &  0.013730 \\\\\n",
      "12 &     13 &    14 &      198 &       70 &  0.005328 \\\\\n",
      "13 &     14 &    15 &      184 &       51 &  0.008700 \\\\\n",
      "14 &     15 &     1 &      255 &      147 &  0.005233 \\\\\n",
      "\\bottomrule\n",
      "\\end{tabular}\n",
      "\n"
     ]
    }
   ],
   "source": [
    "import pandas as pd\n",
    "df=pd.DataFrame(columns=['Right', 'Left',  'Matches', 'Inliers','Variance'])\n",
    "for link in mhead.links:\n",
    "    df = df.append({'Right' : int(link.right) , 'Left' : int(link.left) ,  'Variance' : link.err, 'Inliers' : sum(link.inliers), 'Matches' : len(link.matches)} , ignore_index=True)\n",
    "df[['Right', 'Left',  'Matches', 'Inliers']] = df[['Right', 'Left',  'Matches', 'Inliers']].astype(int)\n",
    "print(df.to_latex())"
   ]
  },
  {
   "cell_type": "code",
   "execution_count": 124,
   "metadata": {},
   "outputs": [
    {
     "data": {
      "text/plain": [
       "0.009787951290177649"
      ]
     },
     "execution_count": 124,
     "metadata": {},
     "output_type": "execute_result"
    }
   ],
   "source": []
  },
  {
   "cell_type": "code",
   "execution_count": 45,
   "metadata": {},
   "outputs": [
    {
     "data": {
      "text/plain": [
       "2"
      ]
     },
     "execution_count": 45,
     "metadata": {},
     "output_type": "execute_result"
    }
   ],
   "source": [
    "mhead.links[0].left"
   ]
  },
  {
   "cell_type": "code",
   "execution_count": 99,
   "metadata": {},
   "outputs": [
    {
     "data": {
      "application/vnd.jupyter.widget-view+json": {
       "model_id": "3f2bb038968e4d759ce1ac05ee184b3a",
       "version_major": 2,
       "version_minor": 0
      },
      "text/plain": [
       "HBox(children=(FloatProgress(value=0.0, max=184.0), HTML(value='')))"
      ]
     },
     "metadata": {},
     "output_type": "display_data"
    },
    {
     "name": "stdout",
     "output_type": "stream",
     "text": [
      "\n",
      "completed\n"
     ]
    }
   ],
   "source": [
    "mhead.create_mesh(f\"{Sequence}_mesh\")"
   ]
  },
  {
   "cell_type": "code",
   "execution_count": null,
   "metadata": {},
   "outputs": [],
   "source": [
    "nrows,ncols=3,2\n",
    "screenwidth=12\n",
    "plt.figure(figsize = (screenwidth,3/4*nrows*screenwidth/ncols))\n",
    "gs1 = gridspec.GridSpec(nrows, ncols)\n",
    "gs1.update(wspace=0.1, hspace=0.1)\n",
    "for row in range(nrows):\n",
    "    for col in range(ncols):\n",
    "        idx=ncols*row+col\n",
    "        ax=plt.subplot(gs1[idx])\n",
    "        mhead.heads[idx].background_color=np.array([0,0,1])\n",
    "        img= mhead.heads[idx].get_filtered_image()\n",
    "        ax.imshow(img)\n",
    "        ax.set_axis_off()        \n",
    "        ax.text(x=10, y=463 , s=f\"S_{Sequence}:{idx+1}/15\",horizontalalignment='left',\n",
    "                              verticalalignment='bottom',  bbox=dict(facecolor='white', alpha=1))        \n",
    "        del ax\n",
    "plt.savefig(f\"2d_filtered_seq_{Sequence}\")\n",
    "plt.show()"
   ]
  },
  {
   "cell_type": "code",
   "execution_count": null,
   "metadata": {},
   "outputs": [],
   "source": [
    "sequence_ids=[0,1,2]\n",
    "head_ids=[0,5,7]\n",
    "abcd=\"abcd\"\n",
    "nrows,ncols=3,4\n",
    "screenwidth=12\n",
    "plt.figure(figsize = (screenwidth,3/4*nrows*screenwidth/ncols))\n",
    "gs1 = gridspec.GridSpec(nrows, ncols)\n",
    "gs1.update(wspace=0.1, hspace=0.1)\n",
    "for row in range(nrows):\n",
    "    head = sequence_ids[row]\n",
    "    head = sequence_ids[row]\n",
    "    sequence= sequence_ids[row]\n",
    "    head_idx=head_ids[row]\n",
    "    for col in range(ncols):\n",
    "#         print (sequence, head_idx, col)\n",
    "        head=mheads[sequence].heads[head_idx]\n",
    "        if col==0:\n",
    "            img= head.twoD_image            \n",
    "            \n",
    "        elif col==1:\n",
    "            head.reset_filters()\n",
    "            head.filter_depth(1)\n",
    "            head.background_color=np.array([0,0,1])\n",
    "            img= head.get_filtered_image()\n",
    "        elif col==2:\n",
    "            head.remove_dangling()\n",
    "            img= head.get_filtered_image()\n",
    "        elif col==3:\n",
    "            head.remove_background_color()\n",
    "            head.background_color=np.array([0,0,1])\n",
    "            img= head.get_filtered_image()\n",
    "        idx=ncols*row+col\n",
    "        ax=plt.subplot(gs1[idx])\n",
    "        ax.imshow(img)\n",
    "        ax.set_axis_off()        \n",
    "        if col==0:\n",
    "            ax.text(x=20, y=20 , s=f\"S_{sequence+1}:{head_idx+1}/15\",horizontalalignment='left',\n",
    "                                  verticalalignment='top',  bbox=dict(facecolor='white', alpha=1))        \n",
    "\n",
    "        ax.text(x=20, y=453 , s=f\"{abcd[col]}\",horizontalalignment='left',\n",
    "                              verticalalignment='bottom',  bbox=dict(facecolor='white', alpha=1))        \n",
    "        \n",
    "        del ax\n",
    "        \n",
    "plt.savefig(f\"2d_full_seq_{Sequence}\")\n",
    "plt.show()"
   ]
  },
  {
   "cell_type": "code",
   "execution_count": null,
   "metadata": {},
   "outputs": [],
   "source": [
    "linkindex=6\n",
    "mhead.reset_all_head_positions()\n",
    "foo= mhead.transform_from_link(mhead.links[linkindex])\n",
    "mhead.links[linkindex].print_short()\n",
    "mhead.create_spheres(0.4)"
   ]
  },
  {
   "cell_type": "code",
   "execution_count": 100,
   "metadata": {},
   "outputs": [],
   "source": [
    "import glob"
   ]
  },
  {
   "cell_type": "code",
   "execution_count": 109,
   "metadata": {},
   "outputs": [
    {
     "data": {
      "text/plain": [
       "['images\\\\Seq_1_frames_SIFT_10_11.png',\n",
       " 'images\\\\Seq_1_frames_SIFT_11_12.png',\n",
       " 'images\\\\Seq_1_frames_SIFT_12_13.png',\n",
       " 'images\\\\Seq_1_frames_SIFT_13_14.png',\n",
       " 'images\\\\Seq_1_frames_SIFT_14_15.png',\n",
       " 'images\\\\Seq_1_frames_SIFT_15_1.png',\n",
       " 'images\\\\Seq_1_frames_SIFT_1_2.png',\n",
       " 'images\\\\Seq_1_frames_SIFT_2_3.png',\n",
       " 'images\\\\Seq_1_frames_SIFT_3_4.png',\n",
       " 'images\\\\Seq_1_frames_SIFT_4_5.png',\n",
       " 'images\\\\Seq_1_frames_SIFT_5_6.png',\n",
       " 'images\\\\Seq_1_frames_SIFT_6_7.png',\n",
       " 'images\\\\Seq_1_frames_SIFT_7_8.png',\n",
       " 'images\\\\Seq_1_frames_SIFT_9_10.png']"
      ]
     },
     "execution_count": 109,
     "metadata": {},
     "output_type": "execute_result"
    }
   ],
   "source": [
    "glob.glob(\"images\\Seq_1_frames_SIFT*.png\")"
   ]
  },
  {
   "cell_type": "code",
   "execution_count": null,
   "metadata": {},
   "outputs": [],
   "source": []
  }
 ],
 "metadata": {
  "kernelspec": {
   "display_name": "Python 3",
   "language": "python",
   "name": "python3"
  },
  "language_info": {
   "codemirror_mode": {
    "name": "ipython",
    "version": 3
   },
   "file_extension": ".py",
   "mimetype": "text/x-python",
   "name": "python",
   "nbconvert_exporter": "python",
   "pygments_lexer": "ipython3",
   "version": "3.7.4"
  }
 },
 "nbformat": 4,
 "nbformat_minor": 4
}
