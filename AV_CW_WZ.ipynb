{
 "cells": [
  {
   "cell_type": "code",
   "execution_count": null,
   "metadata": {
    "scrolled": true
   },
   "outputs": [],
   "source": [
    "import HEAD_RECON\n",
    "import multi_head\n",
    "import copy\n",
    "import numpy as np\n",
    "import matplotlib.pyplot as plt\n",
    "import cv2\n",
    "from scipy.ndimage.morphology import binary_fill_holes\n",
    "import sys\n",
    "np.set_printoptions(threshold=sys.maxsize)\n",
    "from scipy.signal import detrend\n",
    "%load_ext autoreload\n",
    "%autoreload 2"
   ]
  },
  {
   "cell_type": "code",
   "execution_count": 63,
   "metadata": {
    "scrolled": false
   },
   "outputs": [
    {
     "name": "stdout",
     "output_type": "stream",
     "text": [
      "1\n",
      "depth filter done.\n",
      "dangling removal done\n",
      "color filter done.\n",
      "2\n",
      "depth filter done.\n",
      "dangling removal done\n",
      "color filter done.\n",
      "3\n",
      "depth filter done.\n",
      "dangling removal done\n",
      "color filter done.\n",
      "4\n",
      "depth filter done.\n",
      "dangling removal done\n",
      "color filter done.\n",
      "5\n",
      "depth filter done.\n",
      "dangling removal done\n",
      "color filter done.\n",
      "6\n",
      "depth filter done.\n",
      "dangling removal done\n",
      "color filter done.\n",
      "7\n",
      "depth filter done.\n",
      "dangling removal done\n",
      "color filter done.\n",
      "8\n",
      "depth filter done.\n",
      "dangling removal done\n",
      "color filter done.\n",
      "9\n",
      "depth filter done.\n",
      "dangling removal done\n",
      "color filter done.\n",
      "10\n",
      "depth filter done.\n",
      "dangling removal done\n",
      "color filter done.\n",
      "11\n",
      "depth filter done.\n",
      "dangling removal done\n",
      "color filter done.\n",
      "12\n",
      "depth filter done.\n",
      "dangling removal done\n",
      "color filter done.\n",
      "13\n",
      "depth filter done.\n",
      "dangling removal done\n",
      "color filter done.\n",
      "14\n",
      "depth filter done.\n",
      "dangling removal done\n",
      "color filter done.\n",
      "15\n",
      "depth filter done.\n",
      "dangling removal done\n",
      "color filter done.\n"
     ]
    }
   ],
   "source": [
    "# gen pickled heads\n",
    "Sequence=3\n",
    "for i in range(1,16):\n",
    "    print(i)\n",
    "    head = HEAD_RECON.threeD_head.read_from_file(Sequence,i)\n",
    "    head.full_filter()\n",
    "    head.save()"
   ]
  },
  {
   "cell_type": "code",
   "execution_count": 64,
   "metadata": {
    "scrolled": true
   },
   "outputs": [],
   "source": [
    "# load heads\n",
    "all_heads=[HEAD_RECON.threeD_head.load_from_pickle(Sequence,i) for i in range (1,16)]"
   ]
  },
  {
   "cell_type": "code",
   "execution_count": 65,
   "metadata": {},
   "outputs": [
    {
     "name": "stdout",
     "output_type": "stream",
     "text": [
      "completed\n"
     ]
    }
   ],
   "source": [
    "# make head from first to last\n",
    "def make_mhead(all_heads, first, last):\n",
    "    all_heads[first].reset_positions()\n",
    "    all_heads[first].reset_colors()\n",
    "    all_heads[first+1].reset_positions()\n",
    "    all_heads[first+1].reset_colors()   \n",
    "    heads = multi_head.MultiHead.joined_heads(all_heads[first], all_heads[first+1])\n",
    "    heads.links.append(multi_head.Link(left=all_heads[first+1].frame_id,right=all_heads[first].frame_id))\n",
    "    for i in range(first+2,last+1):\n",
    "        heads.links.append(multi_head.Link(left=all_heads[i].frame_id,right=all_heads[i-1].frame_id))\n",
    "        all_heads[i].reset_positions()\n",
    "        all_heads[i].reset_colors()\n",
    "        heads.append(all_heads[i])        \n",
    "        if i==last:\n",
    "             heads.links.append(multi_head.Link(left=all_heads[first].frame_id,right=all_heads[i].frame_id))\n",
    "    print (\"completed\")\n",
    "    return heads\n",
    "\n",
    "mhead = make_mhead(all_heads, 0, 14)\n",
    "mhead.calc_keypoints()"
   ]
  },
  {
   "cell_type": "code",
   "execution_count": 66,
   "metadata": {},
   "outputs": [
    {
     "data": {
      "application/vnd.jupyter.widget-view+json": {
       "model_id": "f365989f5b4e4704a278199e954c5cf4",
       "version_major": 2,
       "version_minor": 0
      },
      "text/plain": [
       "HBox(children=(FloatProgress(value=0.0, max=5000.0), HTML(value='')))"
      ]
     },
     "metadata": {},
     "output_type": "display_data"
    },
    {
     "name": "stdout",
     "output_type": "stream",
     "text": [
      "\n"
     ]
    },
    {
     "data": {
      "application/vnd.jupyter.widget-view+json": {
       "model_id": "cada9e70f4b2411baf7cae4d872c4aab",
       "version_major": 2,
       "version_minor": 0
      },
      "text/plain": [
       "HBox(children=(FloatProgress(value=0.0, max=5000.0), HTML(value='')))"
      ]
     },
     "metadata": {},
     "output_type": "display_data"
    },
    {
     "name": "stdout",
     "output_type": "stream",
     "text": [
      "\n"
     ]
    },
    {
     "data": {
      "application/vnd.jupyter.widget-view+json": {
       "model_id": "276cd65ddd4b4a2dace5b00a9e3690dc",
       "version_major": 2,
       "version_minor": 0
      },
      "text/plain": [
       "HBox(children=(FloatProgress(value=0.0, max=5000.0), HTML(value='')))"
      ]
     },
     "metadata": {},
     "output_type": "display_data"
    },
    {
     "name": "stdout",
     "output_type": "stream",
     "text": [
      "\n"
     ]
    },
    {
     "data": {
      "application/vnd.jupyter.widget-view+json": {
       "model_id": "62a708ecc59f46498f74d5568f2f772d",
       "version_major": 2,
       "version_minor": 0
      },
      "text/plain": [
       "HBox(children=(FloatProgress(value=0.0, max=5000.0), HTML(value='')))"
      ]
     },
     "metadata": {},
     "output_type": "display_data"
    },
    {
     "name": "stdout",
     "output_type": "stream",
     "text": [
      "\n"
     ]
    },
    {
     "data": {
      "application/vnd.jupyter.widget-view+json": {
       "model_id": "6546618041b54579aceb91c085c98aaf",
       "version_major": 2,
       "version_minor": 0
      },
      "text/plain": [
       "HBox(children=(FloatProgress(value=0.0, max=5000.0), HTML(value='')))"
      ]
     },
     "metadata": {},
     "output_type": "display_data"
    },
    {
     "name": "stdout",
     "output_type": "stream",
     "text": [
      "\n"
     ]
    },
    {
     "data": {
      "application/vnd.jupyter.widget-view+json": {
       "model_id": "d0c88ed7964f414e9be94b23703a3ba0",
       "version_major": 2,
       "version_minor": 0
      },
      "text/plain": [
       "HBox(children=(FloatProgress(value=0.0, max=5000.0), HTML(value='')))"
      ]
     },
     "metadata": {},
     "output_type": "display_data"
    },
    {
     "name": "stderr",
     "output_type": "stream",
     "text": [
      "C:\\Data Science\\Advanced Vision\\Coursework\\AV_CW\\SIFT.py:73: RuntimeWarning: divide by zero encountered in double_scalars\n",
      "  err = np.sqrt(np.var(dist) / (np.sum(inliers) - min_num_inliers))\n"
     ]
    },
    {
     "name": "stdout",
     "output_type": "stream",
     "text": [
      "\n"
     ]
    },
    {
     "data": {
      "application/vnd.jupyter.widget-view+json": {
       "model_id": "dfe87ae650d34c2c9e7b3fcb27db9c5b",
       "version_major": 2,
       "version_minor": 0
      },
      "text/plain": [
       "HBox(children=(FloatProgress(value=0.0, max=5000.0), HTML(value='')))"
      ]
     },
     "metadata": {},
     "output_type": "display_data"
    },
    {
     "name": "stdout",
     "output_type": "stream",
     "text": [
      "\n"
     ]
    },
    {
     "data": {
      "application/vnd.jupyter.widget-view+json": {
       "model_id": "3c73bf467aaf4d51b486233532c19cc6",
       "version_major": 2,
       "version_minor": 0
      },
      "text/plain": [
       "HBox(children=(FloatProgress(value=0.0, max=5000.0), HTML(value='')))"
      ]
     },
     "metadata": {},
     "output_type": "display_data"
    },
    {
     "name": "stdout",
     "output_type": "stream",
     "text": [
      "\n"
     ]
    },
    {
     "data": {
      "application/vnd.jupyter.widget-view+json": {
       "model_id": "fe8fd3cd67094ada9e017dc58fc8fe70",
       "version_major": 2,
       "version_minor": 0
      },
      "text/plain": [
       "HBox(children=(FloatProgress(value=0.0, max=5000.0), HTML(value='')))"
      ]
     },
     "metadata": {},
     "output_type": "display_data"
    },
    {
     "name": "stdout",
     "output_type": "stream",
     "text": [
      "\n"
     ]
    },
    {
     "data": {
      "application/vnd.jupyter.widget-view+json": {
       "model_id": "230b3fd1ea64489cb7691a4e4ed25fa0",
       "version_major": 2,
       "version_minor": 0
      },
      "text/plain": [
       "HBox(children=(FloatProgress(value=0.0, max=5000.0), HTML(value='')))"
      ]
     },
     "metadata": {},
     "output_type": "display_data"
    },
    {
     "name": "stdout",
     "output_type": "stream",
     "text": [
      "\n"
     ]
    },
    {
     "data": {
      "application/vnd.jupyter.widget-view+json": {
       "model_id": "79ad2a4e36454434b844378322bab3ba",
       "version_major": 2,
       "version_minor": 0
      },
      "text/plain": [
       "HBox(children=(FloatProgress(value=0.0, max=5000.0), HTML(value='')))"
      ]
     },
     "metadata": {},
     "output_type": "display_data"
    },
    {
     "name": "stdout",
     "output_type": "stream",
     "text": [
      "\n"
     ]
    },
    {
     "data": {
      "application/vnd.jupyter.widget-view+json": {
       "model_id": "ba08aea23c60459ba319c4be5681d2a9",
       "version_major": 2,
       "version_minor": 0
      },
      "text/plain": [
       "HBox(children=(FloatProgress(value=0.0, max=5000.0), HTML(value='')))"
      ]
     },
     "metadata": {},
     "output_type": "display_data"
    },
    {
     "name": "stdout",
     "output_type": "stream",
     "text": [
      "\n"
     ]
    },
    {
     "data": {
      "application/vnd.jupyter.widget-view+json": {
       "model_id": "9d4390ca4d8749bebee88eb0e1931a80",
       "version_major": 2,
       "version_minor": 0
      },
      "text/plain": [
       "HBox(children=(FloatProgress(value=0.0, max=5000.0), HTML(value='')))"
      ]
     },
     "metadata": {},
     "output_type": "display_data"
    },
    {
     "name": "stdout",
     "output_type": "stream",
     "text": [
      "\n"
     ]
    },
    {
     "data": {
      "application/vnd.jupyter.widget-view+json": {
       "model_id": "981ec3aea28e47638e57ffe67a10c976",
       "version_major": 2,
       "version_minor": 0
      },
      "text/plain": [
       "HBox(children=(FloatProgress(value=0.0, max=5000.0), HTML(value='')))"
      ]
     },
     "metadata": {},
     "output_type": "display_data"
    },
    {
     "name": "stdout",
     "output_type": "stream",
     "text": [
      "\n"
     ]
    },
    {
     "data": {
      "application/vnd.jupyter.widget-view+json": {
       "model_id": "8947d7970f374cb48997eade01200254",
       "version_major": 2,
       "version_minor": 0
      },
      "text/plain": [
       "HBox(children=(FloatProgress(value=0.0, max=5000.0), HTML(value='')))"
      ]
     },
     "metadata": {},
     "output_type": "display_data"
    },
    {
     "name": "stdout",
     "output_type": "stream",
     "text": [
      "\n"
     ]
    }
   ],
   "source": [
    "def calc_connections(mhead):\n",
    "    for link in mhead.links:\n",
    "        link.reset()\n",
    "        mhead.ransac_from_link(link)        \n",
    "calc_connections(mhead)"
   ]
  },
  {
   "cell_type": "code",
   "execution_count": 70,
   "metadata": {},
   "outputs": [
    {
     "name": "stdout",
     "output_type": "stream",
     "text": [
      "Saving Completed\n"
     ]
    }
   ],
   "source": [
    "mhead.reset_all_head_positions()\n",
    "foo= mhead.transform_from_link(mhead.links[0])\n",
    "foo= mhead.transform_from_link(mhead.links[1])\n",
    "foo= mhead.transform_from_link(mhead.links[2])\n",
    "foo= mhead.transform_from_link(mhead.links[-1])\n",
    "foo= mhead.transform_from_link(mhead.links[-2])\n",
    "mhead.save()"
   ]
  },
  {
   "cell_type": "code",
   "execution_count": 74,
   "metadata": {},
   "outputs": [
    {
     "name": "stdout",
     "output_type": "stream",
     "text": [
      "any_head_positioned True\n",
      "5-4, Count=144, Err=0.0047\n",
      "any_head_positioned True\n",
      "6-5, Count=101, Err=0.0046\n",
      "any_head_positioned True\n",
      "14-13, Count=57, Err=0.0073\n",
      "any_head_positioned True\n",
      "13-12, Count=88, Err=0.0052\n",
      "any_head_positioned True\n",
      "12-11, Count=55, Err=0.0070\n",
      "any_head_positioned True\n",
      "7-6, Count=71, Err=0.0083\n",
      "any_head_positioned True\n",
      "11-10, Count=43, Err=0.0099\n",
      "any_head_positioned True\n",
      "10-9, Count=41, Err=0.0088\n",
      "any_head_positioned True\n",
      "9-8, Count=31, Err=0.0068\n",
      "any_head_positioned True\n"
     ]
    }
   ],
   "source": [
    "link_index,err=mhead.get_next_unpositioned_link()\n",
    "while(link_index):\n",
    "    mhead.links[link_index].print_short()\n",
    "    foo= mhead.transform_from_link(mhead.links[link_index])\n",
    "    link_index,err=mhead.get_next_unpositioned_link()"
   ]
  },
  {
   "cell_type": "code",
   "execution_count": 75,
   "metadata": {},
   "outputs": [],
   "source": [
    "mhead.create_spheres(0.2)"
   ]
  },
  {
   "cell_type": "code",
   "execution_count": 76,
   "metadata": {},
   "outputs": [
    {
     "data": {
      "application/vnd.jupyter.widget-view+json": {
       "model_id": "c4c8eae26a694e3e9f60a550aa38ef6a",
       "version_major": 2,
       "version_minor": 0
      },
      "text/plain": [
       "HBox(children=(FloatProgress(value=0.0, max=184.0), HTML(value='')))"
      ]
     },
     "metadata": {},
     "output_type": "display_data"
    },
    {
     "name": "stdout",
     "output_type": "stream",
     "text": [
      "\n",
      "completed\n"
     ]
    }
   ],
   "source": [
    "mhead.create_mesh()"
   ]
  },
  {
   "cell_type": "code",
   "execution_count": 34,
   "metadata": {},
   "outputs": [
    {
     "data": {
      "text/plain": [
       "<matplotlib.image.AxesImage at 0x203861d74a8>"
      ]
     },
     "execution_count": 34,
     "metadata": {},
     "output_type": "execute_result"
    },
    {
     "data": {
      "image/png": "[encoded data removed]",
      "text/plain": [
       "<Figure size 432x288 with 1 Axes>"
      ]
     },
     "metadata": {
      "needs_background": "light"
     },
     "output_type": "display_data"
    }
   ],
   "source": [
    "img= mhead.heads[8].get_filtered_image()\n",
    "plt.imshow(img)"
   ]
  },
  {
   "cell_type": "code",
   "execution_count": 53,
   "metadata": {},
   "outputs": [
    {
     "name": "stdout",
     "output_type": "stream",
     "text": [
      "8-7, Count=192, Err=0.0032\n"
     ]
    }
   ],
   "source": [
    "linkindex=6\n",
    "mhead.reset_all_head_positions()\n",
    "foo= mhead.transform_from_link(mhead.links[linkindex])\n",
    "mhead.links[linkindex].print_short()\n",
    "mhead.create_spheres(0.4)"
   ]
  }
 ],
 "metadata": {
  "kernelspec": {
   "display_name": "Python 3",
   "language": "python",
   "name": "python3"
  },
  "language_info": {
   "codemirror_mode": {
    "name": "ipython",
    "version": 3
   },
   "file_extension": ".py",
   "mimetype": "text/x-python",
   "name": "python",
   "nbconvert_exporter": "python",
   "pygments_lexer": "ipython3",
   "version": "3.7.4"
  }
 },
 "nbformat": 4,
 "nbformat_minor": 4
}
