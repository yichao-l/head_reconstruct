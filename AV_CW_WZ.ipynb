{
 "cells": [
  {
   "cell_type": "code",
   "execution_count": 1,
   "metadata": {
    "scrolled": true
   },
   "outputs": [
    {
     "data": {
      "text/html": [
       "<div id=\"glowscript\" class=\"glowscript\"></div>"
      ],
      "text/plain": [
       "<IPython.core.display.HTML object>"
      ]
     },
     "metadata": {},
     "output_type": "display_data"
    },
    {
     "data": {
      "application/javascript": [
       "if (typeof Jupyter !== \"undefined\") { window.__context = { glowscript_container: $(\"#glowscript\").removeAttr(\"id\")};}else{ element.textContent = ' ';}"
      ],
      "text/plain": [
       "<IPython.core.display.Javascript object>"
      ]
     },
     "metadata": {},
     "output_type": "display_data"
    }
   ],
   "source": [
    "import single_head\n",
    "import multi_head\n",
    "import copy\n",
    "import numpy as np\n",
    "import matplotlib.pyplot as plt\n",
    "import cv2\n",
    "from scipy.ndimage.morphology import binary_fill_holes\n",
    "import sys\n",
    "np.set_printoptions(threshold=sys.maxsize)\n",
    "from scipy.signal import detrend\n",
    "import matplotlib.gridspec as gridspec\n",
    "%load_ext autoreload\n",
    "%autoreload 2"
   ]
  },
  {
   "cell_type": "code",
   "execution_count": 2,
   "metadata": {},
   "outputs": [],
   "source": [
    "# gen pickled heads\n",
    "Sequence=1"
   ]
  },
  {
   "cell_type": "code",
   "execution_count": 6,
   "metadata": {
    "scrolled": false
   },
   "outputs": [
    {
     "name": "stdout",
     "output_type": "stream",
     "text": [
      "1\n",
      "depth filter done.\n",
      "dangling removal done\n",
      "color filter done.\n"
     ]
    }
   ],
   "source": [
    "for i in range(1,16):\n",
    "    print(i)\n",
    "    head = single_head.SingleHead.read_from_file(Sequence,i)\n",
    "    head.full_filter()\n",
    "    head.save()"
   ]
  },
  {
   "cell_type": "code",
   "execution_count": 7,
   "metadata": {
    "scrolled": true
   },
   "outputs": [],
   "source": [
    "# load heads\n",
    "all_heads=[single_head.SingleHead.load_from_pickle(Sequence,i) for i in range (1,16)]"
   ]
  },
  {
   "cell_type": "code",
   "execution_count": 3,
   "metadata": {},
   "outputs": [],
   "source": [
    "mhead=multi_head.MultiHead.load_from_pickle(1)"
   ]
  },
  {
   "cell_type": "code",
   "execution_count": 36,
   "metadata": {},
   "outputs": [
    {
     "name": "stdout",
     "output_type": "stream",
     "text": [
      "completed\n"
     ]
    }
   ],
   "source": [
    "# make head from first to last\n",
    "def make_mhead(all_heads, first, last):\n",
    "    all_heads[first].reset_positions()\n",
    "    all_heads[first].reset_colors()\n",
    "    all_heads[first+1].reset_positions()\n",
    "    all_heads[first+1].reset_colors()   \n",
    "    heads = multi_head.MultiHead.joined_heads(all_heads[first], all_heads[first+1])\n",
    "    heads.links.append(multi_head.Link(left=all_heads[first+1].frame_id,right=all_heads[first].frame_id))\n",
    "    for i in range(first+2,last+1):\n",
    "        heads.links.append(multi_head.Link(left=all_heads[i].frame_id,right=all_heads[i-1].frame_id))\n",
    "        all_heads[i].reset_positions()\n",
    "        all_heads[i].reset_colors()\n",
    "        heads.append(all_heads[i])        \n",
    "        if i==last:\n",
    "             heads.links.append(multi_head.Link(left=all_heads[first].frame_id,right=all_heads[i].frame_id))\n",
    "    print (\"completed\")\n",
    "    return heads\n",
    "mhead = make_mhead(all_heads, 0, 14)\n",
    "mhead.calc_keypoints()"
   ]
  },
  {
   "cell_type": "code",
   "execution_count": 39,
   "metadata": {},
   "outputs": [
    {
     "data": {
      "application/vnd.jupyter.widget-view+json": {
       "model_id": "c5f3718db7b0404c8716d4fb4c7a28af",
       "version_major": 2,
       "version_minor": 0
      },
      "text/plain": [
       "HBox(children=(FloatProgress(value=0.0, max=10000.0), HTML(value='')))"
      ]
     },
     "metadata": {},
     "output_type": "display_data"
    },
    {
     "name": "stderr",
     "output_type": "stream",
     "text": [
      "C:\\Data Science\\Advanced Vision\\Coursework\\AV_CW\\SIFT.py:89: RuntimeWarning: invalid value encountered in sqrt\n",
      "  err = np.sqrt(np.var(dist) / (np.sum(inliers) - min_num_inliers))\n"
     ]
    },
    {
     "name": "stdout",
     "output_type": "stream",
     "text": [
      "\n"
     ]
    },
    {
     "data": {
      "application/vnd.jupyter.widget-view+json": {
       "model_id": "531c5f91e5964b52ac137bf057f5c839",
       "version_major": 2,
       "version_minor": 0
      },
      "text/plain": [
       "HBox(children=(FloatProgress(value=0.0, max=10000.0), HTML(value='')))"
      ]
     },
     "metadata": {},
     "output_type": "display_data"
    },
    {
     "name": "stderr",
     "output_type": "stream",
     "text": [
      "C:\\Data Science\\Advanced Vision\\Coursework\\AV_CW\\SIFT.py:89: RuntimeWarning: divide by zero encountered in double_scalars\n",
      "  err = np.sqrt(np.var(dist) / (np.sum(inliers) - min_num_inliers))\n"
     ]
    },
    {
     "name": "stdout",
     "output_type": "stream",
     "text": [
      "\n"
     ]
    },
    {
     "data": {
      "application/vnd.jupyter.widget-view+json": {
       "model_id": "560c35a532f04332a3daa38930ca4724",
       "version_major": 2,
       "version_minor": 0
      },
      "text/plain": [
       "HBox(children=(FloatProgress(value=0.0, max=10000.0), HTML(value='')))"
      ]
     },
     "metadata": {},
     "output_type": "display_data"
    },
    {
     "name": "stdout",
     "output_type": "stream",
     "text": [
      "\n"
     ]
    },
    {
     "data": {
      "application/vnd.jupyter.widget-view+json": {
       "model_id": "fefd079ca640491d8e96114ff3a8acef",
       "version_major": 2,
       "version_minor": 0
      },
      "text/plain": [
       "HBox(children=(FloatProgress(value=0.0, max=10000.0), HTML(value='')))"
      ]
     },
     "metadata": {},
     "output_type": "display_data"
    },
    {
     "name": "stdout",
     "output_type": "stream",
     "text": [
      "\n"
     ]
    },
    {
     "data": {
      "application/vnd.jupyter.widget-view+json": {
       "model_id": "78cf5491e72449c9baa0c0aab6cf9c55",
       "version_major": 2,
       "version_minor": 0
      },
      "text/plain": [
       "HBox(children=(FloatProgress(value=0.0, max=10000.0), HTML(value='')))"
      ]
     },
     "metadata": {},
     "output_type": "display_data"
    },
    {
     "name": "stdout",
     "output_type": "stream",
     "text": [
      "\n"
     ]
    },
    {
     "data": {
      "application/vnd.jupyter.widget-view+json": {
       "model_id": "fcc13231b61d4cdc95b064c846f0ec1f",
       "version_major": 2,
       "version_minor": 0
      },
      "text/plain": [
       "HBox(children=(FloatProgress(value=0.0, max=10000.0), HTML(value='')))"
      ]
     },
     "metadata": {},
     "output_type": "display_data"
    },
    {
     "name": "stdout",
     "output_type": "stream",
     "text": [
      "\n"
     ]
    },
    {
     "data": {
      "application/vnd.jupyter.widget-view+json": {
       "model_id": "dbfbcf1eb128431491881f08ccfd6fd3",
       "version_major": 2,
       "version_minor": 0
      },
      "text/plain": [
       "HBox(children=(FloatProgress(value=0.0, max=10000.0), HTML(value='')))"
      ]
     },
     "metadata": {},
     "output_type": "display_data"
    },
    {
     "name": "stdout",
     "output_type": "stream",
     "text": [
      "\n"
     ]
    }
   ],
   "source": [
    "idx=5\n",
    "def calc_connections(mhead):\n",
    "    for link in mhead.links[8:]:\n",
    "        link.reset()\n",
    "        mhead.ransac_from_link(link)        \n",
    "calc_connections(mhead)"
   ]
  },
  {
   "cell_type": "code",
   "execution_count": 138,
   "metadata": {},
   "outputs": [
    {
     "name": "stdout",
     "output_type": "stream",
     "text": [
      "2-1, matches=111, Count=78, Err=0.0030\n",
      "3-2, matches=132, Count=86, Err=0.0036\n",
      "4-3, matches=91, Count=54, Err=0.0053\n",
      "5-4, matches=105, Count=80, Err=0.0027\n",
      "6-5, matches=94, Count=67, Err=0.0051\n",
      "7-6, matches=83, Count=53, Err=0.0056\n",
      "8-7, matches=62, Count=39, Err=0.0030\n",
      "9-8, matches=16, Count=12, Err=0.0131\n",
      "10-9, matches=8, Count=5, Err=nan\n",
      "11-10, matches=22, Count=19, Err=0.0030\n",
      "12-11, matches=55, Count=27, Err=0.0073\n",
      "13-12, matches=66, Count=38, Err=0.0031\n",
      "14-13, matches=78, Count=33, Err=0.0070\n",
      "15-14, matches=73, Count=43, Err=0.0079\n",
      "0 172576\n",
      "coordinate of the left eye: [ 0.03719031 -0.17593989 -0.02675807] in frame 0\n",
      "1 172581\n",
      "coordinate of the left eye: [ 0.03680702 -0.17636296 -0.02357704] in frame 1\n",
      "12 169336\n",
      "coordinate of the left eye: [ 0.14236855 -0.09913899  0.07720867] in frame 12\n",
      "13 170000\n",
      "coordinate of the left eye: [ 0.14360099 -0.09760023  0.07927651] in frame 13\n",
      "14 169380\n",
      "coordinate of the left eye: [ 0.14376631 -0.10052259  0.08204838] in frame 14\n",
      "[ 0.10074664 -0.12991293  0.03763969]\n",
      "[[-0.06355633 -0.04602696 -0.06439776]\n",
      " [-0.06393962 -0.04645003 -0.06121673]\n",
      " [ 0.04162191  0.03077394  0.03956898]\n",
      " [ 0.04285436  0.0323127   0.04163682]\n",
      " [ 0.04301967  0.02939034  0.0444087 ]]\n",
      "mean coordinate: [ 0.10074664 -0.12991293  0.03763969]. Distance to each points: [0.10151335 0.09996683 0.06515461 0.06792813 0.06845887].\n"
     ]
    },
    {
     "data": {
      "text/plain": [
       "0.08060435827744963"
      ]
     },
     "execution_count": 138,
     "metadata": {},
     "output_type": "execute_result"
    }
   ],
   "source": [
    "mhead.reset_all_head_positions()\n",
    "for idx in range(14):\n",
    "    mhead.transform_from_link(mhead.links[idx])\n",
    "    mhead.links[idx].print_short()\n",
    "center, distances=mhead.left_eye_deviation()\n",
    "np.mean(distances)    "
   ]
  },
  {
   "cell_type": "code",
   "execution_count": 114,
   "metadata": {},
   "outputs": [],
   "source": [
    "mhead.create_spheres(0.1 ,\"name\")"
   ]
  },
  {
   "cell_type": "code",
   "execution_count": 139,
   "metadata": {},
   "outputs": [
    {
     "name": "stdout",
     "output_type": "stream",
     "text": [
      "8-7, matches=62, Count=39, Err=0.0030\n",
      "9-8, matches=16, Count=12, Err=0.0131\n",
      "10-9, matches=8, Count=5, Err=nan\n",
      "11-10, matches=22, Count=19, Err=0.0030\n",
      "12-11, matches=55, Count=27, Err=0.0073\n",
      "13-12, matches=66, Count=38, Err=0.0031\n",
      "14-13, matches=78, Count=33, Err=0.0070\n",
      "15-14, matches=73, Count=43, Err=0.0079\n",
      "7-6, matches=83, Count=53, Err=0.0056\n",
      "6-5, matches=94, Count=67, Err=0.0051\n",
      "5-4, matches=105, Count=80, Err=0.0027\n",
      "4-3, matches=91, Count=54, Err=0.0053\n",
      "3-2, matches=132, Count=86, Err=0.0036\n",
      "2-1, matches=111, Count=78, Err=0.0030\n",
      "0 172576\n",
      "coordinate of the left eye: [ 0.11007199 -0.08181692  0.19095517] in frame 0\n",
      "1 172581\n",
      "coordinate of the left eye: [ 0.10754545 -0.08363845  0.19009292] in frame 1\n",
      "12 169336\n",
      "coordinate of the left eye: [-0.04264685 -0.03317539  0.23657184] in frame 12\n",
      "13 170000\n",
      "coordinate of the left eye: [-0.04539751 -0.03241294  0.2366952 ] in frame 13\n",
      "14 169380\n",
      "coordinate of the left eye: [-0.04691279 -0.03609478  0.23732675] in frame 14\n",
      "[ 0.01653206 -0.05342769  0.21832837]\n",
      "[[ 0.09353993 -0.02838922 -0.02737321]\n",
      " [ 0.09101339 -0.03021076 -0.02823546]\n",
      " [-0.05917891  0.02025231  0.01824347]\n",
      " [-0.06192957  0.02101475  0.01836682]\n",
      " [-0.06344485  0.01733292  0.01899837]]\n",
      "mean coordinate: [ 0.01653206 -0.05342769  0.21832837]. Distance to each points: [0.10151335 0.09996683 0.06515461 0.06792813 0.06845887].\n"
     ]
    },
    {
     "data": {
      "text/plain": [
       "0.08060435827744986"
      ]
     },
     "execution_count": 139,
     "metadata": {},
     "output_type": "execute_result"
    }
   ],
   "source": [
    "mhead.reset_all_head_positions()\n",
    "for idx in range(6,14):\n",
    "    mhead.transform_from_link(mhead.links[idx])\n",
    "    mhead.links[idx].print_short()\n",
    "for idx in range(5,-1,-1):\n",
    "    mhead.transform_from_link(mhead.links[idx])\n",
    "    mhead.links[idx].print_short()\n",
    "center, distances=mhead.left_eye_deviation()\n",
    "np.mean(distances)"
   ]
  },
  {
   "cell_type": "code",
   "execution_count": 137,
   "metadata": {},
   "outputs": [
    {
     "name": "stdout",
     "output_type": "stream",
     "text": [
      "any_head_positioned False\n",
      "1-15, matches=124, Count=91, Err=0.0024\n",
      "any_head_positioned True\n",
      "2-1, matches=111, Count=78, Err=0.0030\n",
      "any_head_positioned True\n",
      "3-2, matches=132, Count=86, Err=0.0036\n",
      "any_head_positioned True\n",
      "4-3, matches=91, Count=54, Err=0.0053\n",
      "any_head_positioned True\n",
      "5-4, matches=105, Count=80, Err=0.0027\n",
      "any_head_positioned True\n",
      "6-5, matches=94, Count=67, Err=0.0051\n",
      "any_head_positioned True\n",
      "7-6, matches=83, Count=53, Err=0.0056\n",
      "any_head_positioned True\n",
      "8-7, matches=62, Count=39, Err=0.0030\n",
      "any_head_positioned True\n",
      "15-14, matches=73, Count=43, Err=0.0079\n",
      "any_head_positioned True\n",
      "14-13, matches=78, Count=33, Err=0.0070\n",
      "any_head_positioned True\n",
      "13-12, matches=66, Count=38, Err=0.0031\n",
      "any_head_positioned True\n",
      "12-11, matches=55, Count=27, Err=0.0073\n",
      "any_head_positioned True\n",
      "11-10, matches=22, Count=19, Err=0.0030\n",
      "any_head_positioned True\n",
      "9-8, matches=16, Count=12, Err=0.0131\n",
      "any_head_positioned True\n",
      "[1, 2, 3, 4, 5, 6, 7, 8, 9, 10, 11, 12, 13, 14, 15]\n",
      "0 172576\n",
      "coordinate of the left eye: [ 0.02258465 -0.17727231 -0.02484168] in frame 0\n",
      "1 172581\n",
      "coordinate of the left eye: [ 0.02263994 -0.17768757 -0.02163709] in frame 1\n",
      "12 169336\n",
      "coordinate of the left eye: [ 0.01876831 -0.17449002 -0.02302209] in frame 12\n",
      "13 170000\n",
      "coordinate of the left eye: [ 0.0213527  -0.17451289 -0.02423989] in frame 13\n",
      "14 169380\n",
      "coordinate of the left eye: [ 0.02261835 -0.17800342 -0.02266981] in frame 14\n",
      "[ 0.02159279 -0.17639324 -0.02328211]\n",
      "[[ 0.00099186 -0.00087906 -0.00155957]\n",
      " [ 0.00104715 -0.00129433  0.00164502]\n",
      " [-0.00282448  0.00190322  0.00026002]\n",
      " [-0.00024009  0.00188035 -0.00095778]\n",
      " [ 0.00102556 -0.00161018  0.0006123 ]]\n",
      "mean coordinate: [ 0.02159279 -0.17639324 -0.02328211]. Distance to each points: [0.00204665 0.00234049 0.00341578 0.00212384 0.00200484].\n"
     ]
    },
    {
     "data": {
      "text/plain": [
       "0.002386321508537089"
      ]
     },
     "execution_count": 137,
     "metadata": {},
     "output_type": "execute_result"
    }
   ],
   "source": [
    "only_first_n=15\n",
    "mhead.reset_all_head_positions()\n",
    "link_index,err=mhead.get_next_unpositioned_link()\n",
    "positioned_head_count=0\n",
    "joined_heads=set() \n",
    "while(not link_index is None) and (positioned_head_count<only_first_n or only_first_n==-1):\n",
    "    mhead.links[link_index].print_short()\n",
    "    joined_heads.add(mhead.links[link_index].left)\n",
    "    joined_heads.add(mhead.links[link_index].right)\n",
    "    mhead.heads[mhead.links[link_index].right-1].background_color=np.asarray([0,0,1])\n",
    "    mhead.heads[mhead.links[link_index].left-1].background_color=np.asarray([0,0,1]) \n",
    "    foo= mhead.transform_from_link(mhead.links[link_index])   \n",
    "    link_index,err=mhead.get_next_unpositioned_link()\n",
    "    positioned_head_count=max(positioned_head_count+1,2)\n",
    "joined_heads=sorted(joined_heads)\n",
    "print(joined_heads)\n",
    "no_heads= len(joined_heads)\n",
    "joined_heads=[str(h) for h in joined_heads]\n",
    "name= f\"Seq_{mhead.heads[0].sequence_id}_frames_{'_'.join(joined_heads)}\"\n",
    "mhead.create_spheres(min(2/max(no_heads,0.2),1),name=name)\n",
    "center, distances=mhead.left_eye_deviation()\n",
    "np.mean(distances)"
   ]
  },
  {
   "cell_type": "code",
   "execution_count": 51,
   "metadata": {},
   "outputs": [],
   "source": [
    "mhead.create_spheres(min(2/max(no_heads,0.2),1),name=name)\n",
    "mhead.save_spheres(\"boe\")"
   ]
  },
  {
   "cell_type": "code",
   "execution_count": 117,
   "metadata": {},
   "outputs": [
    {
     "name": "stdout",
     "output_type": "stream",
     "text": [
      "0 153974\n",
      "coordinate of the left eye: [-0.04270943 -0.22482576 -0.0096941 ] in frame 0\n",
      "1 150143\n",
      "coordinate of the left eye: [-0.046029   -0.23158732 -0.01141736] in frame 1\n",
      "2 150124\n",
      "coordinate of the left eye: [-0.07649181 -0.22327776  0.02547467] in frame 2\n",
      "13 147576\n",
      "coordinate of the left eye: [-0.01553875 -0.23271609 -0.01817739] in frame 13\n",
      "14 150775\n",
      "coordinate of the left eye: [-0.04775565 -0.22426942 -0.00866981] in frame 14\n",
      "[-0.04570493 -0.22733527 -0.0044968 ]\n",
      "[[ 0.0029955   0.00250951 -0.0051973 ]\n",
      " [-0.00032407 -0.00425205 -0.00692056]\n",
      " [-0.03078688  0.00405751  0.02997147]\n",
      " [ 0.03016618 -0.00538082 -0.01368059]\n",
      " [-0.00205072  0.00306585 -0.00417301]]\n",
      "mean coordinate: [-0.04570493 -0.22733527 -0.0044968 ]. Distance to each points: [0.00650251 0.00812891 0.04315767 0.03355756 0.00556946].\n"
     ]
    },
    {
     "data": {
      "text/plain": [
       "0.019383222972255216"
      ]
     },
     "execution_count": 117,
     "metadata": {},
     "output_type": "execute_result"
    }
   ],
   "source": [
    "center, distances=mhead.left_eye_deviation(1)\n",
    "np.mean(distances)"
   ]
  },
  {
   "cell_type": "code",
   "execution_count": null,
   "metadata": {},
   "outputs": [],
   "source": [
    "for i, link in enumerate(mhead.links):\n",
    "    print (i)\n",
    "    link.print_short()"
   ]
  },
  {
   "cell_type": "code",
   "execution_count": null,
   "metadata": {},
   "outputs": [],
   "source": [
    "    link_index,err=mhead.get_next_unpositioned_link()\n",
    "    positioned_head_count=max(positioned_head_count+1,2)\n",
    "joined_heads=sorted(joined_heads)\n",
    "print(joined_heads)\n",
    "no_heads= len(joined_heads)\n",
    "joined_heads=[str(h) for h in joined_heads]\n",
    "name= f\"Seq_{mhead.heads[0].sequence_id}_frames_{'_'.join(joined_heads)}\"\n",
    "mhead.create_spheres(min(2/max(no_heads,0.2),1),name=name)"
   ]
  },
  {
   "cell_type": "code",
   "execution_count": null,
   "metadata": {},
   "outputs": [],
   "source": [
    "foo= mhead.transform_from_link(mhead.links[link_index])"
   ]
  },
  {
   "cell_type": "code",
   "execution_count": null,
   "metadata": {},
   "outputs": [],
   "source": [
    "mhead.reset_all_head_positions()\n",
    "mhead.transform_from_link(mhead.links[0])\n",
    "mhead.transform_from_link(mhead.links[1])\n",
    "mhead.create_spheres(0.3)\n"
   ]
  },
  {
   "cell_type": "code",
   "execution_count": 123,
   "metadata": {},
   "outputs": [
    {
     "name": "stdout",
     "output_type": "stream",
     "text": [
      "\\begin{tabular}{rrrrr}\n",
      "\\toprule\n",
      " Right &  Left &  Matches &  Inliers &    \\textbackslash sigma \\\\\n",
      "\\midrule\n",
      "     1 &     2 &      111 &       78 &  0.002994 \\\\\n",
      "     2 &     3 &      132 &       86 &  0.003627 \\\\\n",
      "     3 &     4 &       91 &       54 &  0.005317 \\\\\n",
      "     4 &     5 &      105 &       80 &  0.002748 \\\\\n",
      "     5 &     6 &       94 &       67 &  0.005150 \\\\\n",
      "     6 &     7 &       83 &       53 &  0.005607 \\\\\n",
      "     7 &     8 &       62 &       39 &  0.003021 \\\\\n",
      "     8 &     9 &       16 &       12 &  0.013064 \\\\\n",
      "     9 &    10 &        8 &        5 &       NaN \\\\\n",
      "    10 &    11 &       22 &       19 &  0.002995 \\\\\n",
      "    11 &    12 &       55 &       27 &  0.007341 \\\\\n",
      "    12 &    13 &       66 &       38 &  0.003067 \\\\\n",
      "    13 &    14 &       78 &       33 &  0.007001 \\\\\n",
      "    14 &    15 &       73 &       43 &  0.007859 \\\\\n",
      "    15 &     1 &      124 &       91 &  0.002372 \\\\\n",
      "\\bottomrule\n",
      "\\end{tabular}\n",
      "\n"
     ]
    }
   ],
   "source": [
    "import pandas as pd\n",
    "df=pd.DataFrame(columns=['Right', 'Left',  'Matches', 'Inliers','Variance'])\n",
    "for link in mhead.links:\n",
    "    df = df.append({'Right' : int(link.right) , 'Left' : int(link.left) ,  'Variance' : link.err, 'Inliers' : sum(link.inliers), 'Matches' : len(link.matches)} , ignore_index=True)\n",
    "df[['Right', 'Left',  'Matches', 'Inliers']] = df[['Right', 'Left',  'Matches', 'Inliers']].astype(int)\n",
    "df=df.rename(columns={'Variance':\"Transformation MSE\"})\n",
    "print(df.to_latex(index=False))"
   ]
  },
  {
   "cell_type": "code",
   "execution_count": 119,
   "metadata": {},
   "outputs": [
    {
     "data": {
      "text/html": [
       "<div>\n",
       "<style scoped>\n",
       "    .dataframe tbody tr th:only-of-type {\n",
       "        vertical-align: middle;\n",
       "    }\n",
       "\n",
       "    .dataframe tbody tr th {\n",
       "        vertical-align: top;\n",
       "    }\n",
       "\n",
       "    .dataframe thead th {\n",
       "        text-align: right;\n",
       "    }\n",
       "</style>\n",
       "<table border=\"1\" class=\"dataframe\">\n",
       "  <thead>\n",
       "    <tr style=\"text-align: right;\">\n",
       "      <th></th>\n",
       "      <th>Right</th>\n",
       "      <th>Left</th>\n",
       "      <th>Matches</th>\n",
       "      <th>Inliers</th>\n",
       "      <th>Variance</th>\n",
       "    </tr>\n",
       "  </thead>\n",
       "  <tbody>\n",
       "    <tr>\n",
       "      <th>0</th>\n",
       "      <td>1</td>\n",
       "      <td>2</td>\n",
       "      <td>111</td>\n",
       "      <td>78</td>\n",
       "      <td>0.002994</td>\n",
       "    </tr>\n",
       "    <tr>\n",
       "      <th>1</th>\n",
       "      <td>2</td>\n",
       "      <td>3</td>\n",
       "      <td>132</td>\n",
       "      <td>86</td>\n",
       "      <td>0.003627</td>\n",
       "    </tr>\n",
       "    <tr>\n",
       "      <th>2</th>\n",
       "      <td>3</td>\n",
       "      <td>4</td>\n",
       "      <td>91</td>\n",
       "      <td>54</td>\n",
       "      <td>0.005317</td>\n",
       "    </tr>\n",
       "    <tr>\n",
       "      <th>3</th>\n",
       "      <td>4</td>\n",
       "      <td>5</td>\n",
       "      <td>105</td>\n",
       "      <td>80</td>\n",
       "      <td>0.002748</td>\n",
       "    </tr>\n",
       "    <tr>\n",
       "      <th>4</th>\n",
       "      <td>5</td>\n",
       "      <td>6</td>\n",
       "      <td>94</td>\n",
       "      <td>67</td>\n",
       "      <td>0.005150</td>\n",
       "    </tr>\n",
       "    <tr>\n",
       "      <th>5</th>\n",
       "      <td>6</td>\n",
       "      <td>7</td>\n",
       "      <td>83</td>\n",
       "      <td>53</td>\n",
       "      <td>0.005607</td>\n",
       "    </tr>\n",
       "    <tr>\n",
       "      <th>6</th>\n",
       "      <td>7</td>\n",
       "      <td>8</td>\n",
       "      <td>62</td>\n",
       "      <td>39</td>\n",
       "      <td>0.003021</td>\n",
       "    </tr>\n",
       "    <tr>\n",
       "      <th>7</th>\n",
       "      <td>8</td>\n",
       "      <td>9</td>\n",
       "      <td>16</td>\n",
       "      <td>12</td>\n",
       "      <td>0.013064</td>\n",
       "    </tr>\n",
       "    <tr>\n",
       "      <th>8</th>\n",
       "      <td>9</td>\n",
       "      <td>10</td>\n",
       "      <td>8</td>\n",
       "      <td>5</td>\n",
       "      <td>NaN</td>\n",
       "    </tr>\n",
       "    <tr>\n",
       "      <th>9</th>\n",
       "      <td>10</td>\n",
       "      <td>11</td>\n",
       "      <td>22</td>\n",
       "      <td>19</td>\n",
       "      <td>0.002995</td>\n",
       "    </tr>\n",
       "    <tr>\n",
       "      <th>10</th>\n",
       "      <td>11</td>\n",
       "      <td>12</td>\n",
       "      <td>55</td>\n",
       "      <td>27</td>\n",
       "      <td>0.007341</td>\n",
       "    </tr>\n",
       "    <tr>\n",
       "      <th>11</th>\n",
       "      <td>12</td>\n",
       "      <td>13</td>\n",
       "      <td>66</td>\n",
       "      <td>38</td>\n",
       "      <td>0.003067</td>\n",
       "    </tr>\n",
       "    <tr>\n",
       "      <th>12</th>\n",
       "      <td>13</td>\n",
       "      <td>14</td>\n",
       "      <td>78</td>\n",
       "      <td>33</td>\n",
       "      <td>0.007001</td>\n",
       "    </tr>\n",
       "    <tr>\n",
       "      <th>13</th>\n",
       "      <td>14</td>\n",
       "      <td>15</td>\n",
       "      <td>73</td>\n",
       "      <td>43</td>\n",
       "      <td>0.007859</td>\n",
       "    </tr>\n",
       "    <tr>\n",
       "      <th>14</th>\n",
       "      <td>15</td>\n",
       "      <td>1</td>\n",
       "      <td>124</td>\n",
       "      <td>91</td>\n",
       "      <td>0.002372</td>\n",
       "    </tr>\n",
       "  </tbody>\n",
       "</table>\n",
       "</div>"
      ],
      "text/plain": [
       "    Right  Left  Matches  Inliers  Variance\n",
       "0       1     2      111       78  0.002994\n",
       "1       2     3      132       86  0.003627\n",
       "2       3     4       91       54  0.005317\n",
       "3       4     5      105       80  0.002748\n",
       "4       5     6       94       67  0.005150\n",
       "5       6     7       83       53  0.005607\n",
       "6       7     8       62       39  0.003021\n",
       "7       8     9       16       12  0.013064\n",
       "8       9    10        8        5       NaN\n",
       "9      10    11       22       19  0.002995\n",
       "10     11    12       55       27  0.007341\n",
       "11     12    13       66       38  0.003067\n",
       "12     13    14       78       33  0.007001\n",
       "13     14    15       73       43  0.007859\n",
       "14     15     1      124       91  0.002372"
      ]
     },
     "execution_count": 119,
     "metadata": {},
     "output_type": "execute_result"
    }
   ],
   "source": [
    "df"
   ]
  },
  {
   "cell_type": "code",
   "execution_count": null,
   "metadata": {},
   "outputs": [],
   "source": [
    "mhead.links[0].left"
   ]
  },
  {
   "cell_type": "code",
   "execution_count": null,
   "metadata": {},
   "outputs": [],
   "source": [
    "mhead.create_mesh(f\"{Sequence}_mesh\")"
   ]
  },
  {
   "cell_type": "code",
   "execution_count": null,
   "metadata": {},
   "outputs": [],
   "source": [
    "nrows,ncols=3,2\n",
    "screenwidth=12\n",
    "plt.figure(figsize = (screenwidth,3/4*nrows*screenwidth/ncols))\n",
    "gs1 = gridspec.GridSpec(nrows, ncols)\n",
    "gs1.update(wspace=0.1, hspace=0.1)\n",
    "for row in range(nrows):\n",
    "    for col in range(ncols):\n",
    "        idx=ncols*row+col\n",
    "        ax=plt.subplot(gs1[idx])\n",
    "        mhead.heads[idx].background_color=np.array([0,0,1])\n",
    "        img= mhead.heads[idx].get_filtered_image()\n",
    "        ax.imshow(img)\n",
    "        ax.set_axis_off()        \n",
    "        ax.text(x=10, y=463 , s=f\"S_{Sequence}:{idx+1}/15\",horizontalalignment='left',\n",
    "                              verticalalignment='bottom',  bbox=dict(facecolor='white', alpha=1))        \n",
    "        del ax\n",
    "plt.savefig(f\"2d_filtered_seq_{Sequence}\")\n",
    "plt.show()"
   ]
  },
  {
   "cell_type": "code",
   "execution_count": null,
   "metadata": {},
   "outputs": [],
   "source": [
    "sequence_ids=[0,1,2]\n",
    "head_ids=[0,5,7]\n",
    "abcd=\"abcd\"\n",
    "nrows,ncols=3,4\n",
    "screenwidth=12\n",
    "plt.figure(figsize = (screenwidth,3/4*nrows*screenwidth/ncols))\n",
    "gs1 = gridspec.GridSpec(nrows, ncols)\n",
    "gs1.update(wspace=0.1, hspace=0.1)\n",
    "for row in range(nrows):\n",
    "    head = sequence_ids[row]\n",
    "    head = sequence_ids[row]\n",
    "    sequence= sequence_ids[row]\n",
    "    head_idx=head_ids[row]\n",
    "    for col in range(ncols):\n",
    "#         print (sequence, head_idx, col)\n",
    "        head=mheads[sequence].heads[head_idx]\n",
    "        if col==0:\n",
    "            img= head.twoD_image            \n",
    "            \n",
    "        elif col==1:\n",
    "            head.reset_filters()\n",
    "            head.filter_depth(1)\n",
    "            head.background_color=np.array([0,0,1])\n",
    "            img= head.get_filtered_image()\n",
    "        elif col==2:\n",
    "            head.remove_dangling()\n",
    "            img= head.get_filtered_image()\n",
    "        elif col==3:\n",
    "            head.remove_background_color()\n",
    "            head.background_color=np.array([0,0,1])\n",
    "            img= head.get_filtered_image()\n",
    "        idx=ncols*row+col\n",
    "        ax=plt.subplot(gs1[idx])\n",
    "        ax.imshow(img)\n",
    "        ax.set_axis_off()        \n",
    "        if col==0:\n",
    "            ax.text(x=20, y=20 , s=f\"S_{sequence+1}:{head_idx+1}/15\",horizontalalignment='left',\n",
    "                                  verticalalignment='top',  bbox=dict(facecolor='white', alpha=1))        \n",
    "\n",
    "        ax.text(x=20, y=453 , s=f\"{abcd[col]}\",horizontalalignment='left',\n",
    "                              verticalalignment='bottom',  bbox=dict(facecolor='white', alpha=1))        \n",
    "        \n",
    "        del ax\n",
    "        \n",
    "plt.savefig(f\"2d_full_seq_{Sequence}\")\n",
    "plt.show()"
   ]
  },
  {
   "cell_type": "code",
   "execution_count": null,
   "metadata": {},
   "outputs": [],
   "source": [
    "linkindex=6\n",
    "mhead.reset_all_head_positions()\n",
    "foo= mhead.transform_from_link(mhead.links[linkindex])\n",
    "mhead.links[linkindex].print_short()\n",
    "mhead.create_spheres(0.4)"
   ]
  },
  {
   "cell_type": "code",
   "execution_count": null,
   "metadata": {},
   "outputs": [],
   "source": [
    "import glob"
   ]
  },
  {
   "cell_type": "code",
   "execution_count": null,
   "metadata": {},
   "outputs": [],
   "source": [
    "glob.glob(\"images\\Seq_1_frames_SIFT*.png\")"
   ]
  },
  {
   "cell_type": "code",
   "execution_count": null,
   "metadata": {},
   "outputs": [],
   "source": []
  }
 ],
 "metadata": {
  "kernelspec": {
   "display_name": "Python 3",
   "language": "python",
   "name": "python3"
  },
  "language_info": {
   "codemirror_mode": {
    "name": "ipython",
    "version": 3
   },
   "file_extension": ".py",
   "mimetype": "text/x-python",
   "name": "python",
   "nbconvert_exporter": "python",
   "pygments_lexer": "ipython3",
   "version": "3.7.0"
  }
 },
 "nbformat": 4,
 "nbformat_minor": 4
}
