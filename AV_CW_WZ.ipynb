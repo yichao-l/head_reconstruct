{
 "cells": [
  {
   "cell_type": "code",
   "execution_count": 1,
   "metadata": {
    "scrolled": true
   },
   "outputs": [
    {
     "data": {
      "text/html": [
       "<div id=\"glowscript\" class=\"glowscript\"></div>"
      ],
      "text/plain": [
       "<IPython.core.display.HTML object>"
      ]
     },
     "metadata": {},
     "output_type": "display_data"
    },
    {
     "data": {
      "application/javascript": [
       "if (typeof Jupyter !== \"undefined\") { window.__context = { glowscript_container: $(\"#glowscript\").removeAttr(\"id\")};}else{ element.textContent = ' ';}"
      ],
      "text/plain": [
       "<IPython.core.display.Javascript object>"
      ]
     },
     "metadata": {},
     "output_type": "display_data"
    }
   ],
   "source": [
    "import single_head\n",
    "import multi_head\n",
    "import copy\n",
    "import numpy as np\n",
    "import matplotlib.pyplot as plt\n",
    "import cv2\n",
    "from scipy.ndimage.morphology import binary_fill_holes\n",
    "import sys\n",
    "np.set_printoptions(threshold=sys.maxsize)\n",
    "from scipy.signal import detrend\n",
    "import matplotlib.gridspec as gridspec\n",
    "%load_ext autoreload\n",
    "%autoreload 2"
   ]
  },
  {
   "cell_type": "code",
   "execution_count": 2,
   "metadata": {},
   "outputs": [],
   "source": [
    "# gen pickled heads\n",
    "Sequence=1"
   ]
  },
  {
   "cell_type": "code",
   "execution_count": 6,
   "metadata": {
    "scrolled": false
   },
   "outputs": [
    {
     "name": "stdout",
     "output_type": "stream",
     "text": [
      "1\n",
      "depth filter done.\n",
      "dangling removal done\n",
      "color filter done.\n"
     ]
    }
   ],
   "source": [
    "for i in range(1,16):\n",
    "    print(i)\n",
    "    head = single_head.SingleHead.read_from_file(Sequence,i)\n",
    "    head.full_filter()\n",
    "    head.save()"
   ]
  },
  {
   "cell_type": "code",
   "execution_count": 4,
   "metadata": {
    "scrolled": true
   },
   "outputs": [],
   "source": [
    "# load heads\n",
    "all_heads=[single_head.SingleHead.load_from_pickle(Sequence,i) for i in range (1,16)]"
   ]
  },
  {
   "cell_type": "code",
   "execution_count": 3,
   "metadata": {},
   "outputs": [],
   "source": [
    "mhead=multi_head.MultiHead.load_from_pickle(Sequence)"
   ]
  },
  {
   "cell_type": "code",
   "execution_count": 31,
   "metadata": {},
   "outputs": [
    {
     "name": "stdout",
     "output_type": "stream",
     "text": [
      "Saving Completed\n"
     ]
    }
   ],
   "source": [
    "mhead.save()"
   ]
  },
  {
   "cell_type": "code",
   "execution_count": 29,
   "metadata": {},
   "outputs": [
    {
     "name": "stdout",
     "output_type": "stream",
     "text": [
      "completed\n"
     ]
    }
   ],
   "source": [
    "# make head from first to last\n",
    "def make_mhead(all_heads, first, last):\n",
    "    all_heads[first].reset_positions()\n",
    "    all_heads[first].reset_colors()\n",
    "    all_heads[first+1].reset_positions()\n",
    "    all_heads[first+1].reset_colors()   \n",
    "    heads = multi_head.MultiHead.joined_heads(all_heads[first], all_heads[first+1])\n",
    "    heads.links.append(multi_head.Link(left=all_heads[first+1].frame_id,right=all_heads[first].frame_id))\n",
    "    for i in range(first+2,last+1):\n",
    "        heads.links.append(multi_head.Link(left=all_heads[i].frame_id,right=all_heads[i-1].frame_id))\n",
    "        all_heads[i].reset_positions()\n",
    "        all_heads[i].reset_colors()\n",
    "        heads.append(all_heads[i])        \n",
    "        if i==last:\n",
    "             heads.links.append(multi_head.Link(left=all_heads[first].frame_id,right=all_heads[i].frame_id))\n",
    "    print (\"completed\")\n",
    "    return heads\n",
    "mhead = make_mhead(all_heads, 0, 14)\n",
    "mhead.calc_keypoints()"
   ]
  },
  {
   "cell_type": "code",
   "execution_count": 30,
   "metadata": {},
   "outputs": [
    {
     "data": {
      "application/vnd.jupyter.widget-view+json": {
       "model_id": "d4fcf5b8fbb7403abddf58b5ff11c2fe",
       "version_major": 2,
       "version_minor": 0
      },
      "text/plain": [
       "HBox(children=(FloatProgress(value=0.0, max=10000.0), HTML(value='')))"
      ]
     },
     "metadata": {},
     "output_type": "display_data"
    },
    {
     "name": "stderr",
     "output_type": "stream",
     "text": [
      "C:\\Data Science\\Advanced Vision\\Coursework\\AV_CW\\SIFT.py:89: RuntimeWarning: divide by zero encountered in double_scalars\n",
      "  err = np.sqrt(np.var(dist) / (np.sum(inliers) - min_num_inliers))\n",
      "C:\\Data Science\\Advanced Vision\\Coursework\\AV_CW\\SIFT.py:89: RuntimeWarning: invalid value encountered in sqrt\n",
      "  err = np.sqrt(np.var(dist) / (np.sum(inliers) - min_num_inliers))\n"
     ]
    },
    {
     "name": "stdout",
     "output_type": "stream",
     "text": [
      "\n"
     ]
    },
    {
     "data": {
      "application/vnd.jupyter.widget-view+json": {
       "model_id": "1430d9f0ed864846b12f9ad275d113fc",
       "version_major": 2,
       "version_minor": 0
      },
      "text/plain": [
       "HBox(children=(FloatProgress(value=0.0, max=10000.0), HTML(value='')))"
      ]
     },
     "metadata": {},
     "output_type": "display_data"
    },
    {
     "name": "stdout",
     "output_type": "stream",
     "text": [
      "\n"
     ]
    },
    {
     "data": {
      "application/vnd.jupyter.widget-view+json": {
       "model_id": "da6a390c783c4b05a18b14de4196a00e",
       "version_major": 2,
       "version_minor": 0
      },
      "text/plain": [
       "HBox(children=(FloatProgress(value=0.0, max=10000.0), HTML(value='')))"
      ]
     },
     "metadata": {},
     "output_type": "display_data"
    },
    {
     "name": "stdout",
     "output_type": "stream",
     "text": [
      "\n"
     ]
    },
    {
     "data": {
      "application/vnd.jupyter.widget-view+json": {
       "model_id": "1c01c5ab9b684279aa1387158003156f",
       "version_major": 2,
       "version_minor": 0
      },
      "text/plain": [
       "HBox(children=(FloatProgress(value=0.0, max=10000.0), HTML(value='')))"
      ]
     },
     "metadata": {},
     "output_type": "display_data"
    },
    {
     "name": "stdout",
     "output_type": "stream",
     "text": [
      "\n"
     ]
    },
    {
     "data": {
      "application/vnd.jupyter.widget-view+json": {
       "model_id": "558e1972078a4a4eaf17bd69ccf3f175",
       "version_major": 2,
       "version_minor": 0
      },
      "text/plain": [
       "HBox(children=(FloatProgress(value=0.0, max=10000.0), HTML(value='')))"
      ]
     },
     "metadata": {},
     "output_type": "display_data"
    },
    {
     "name": "stdout",
     "output_type": "stream",
     "text": [
      "\n"
     ]
    },
    {
     "data": {
      "application/vnd.jupyter.widget-view+json": {
       "model_id": "7b8070dda6b54c19bfa8abe900bce9db",
       "version_major": 2,
       "version_minor": 0
      },
      "text/plain": [
       "HBox(children=(FloatProgress(value=0.0, max=10000.0), HTML(value='')))"
      ]
     },
     "metadata": {},
     "output_type": "display_data"
    },
    {
     "name": "stdout",
     "output_type": "stream",
     "text": [
      "\n"
     ]
    },
    {
     "data": {
      "application/vnd.jupyter.widget-view+json": {
       "model_id": "98fab9b1a25b47d0b285b5205441dbd9",
       "version_major": 2,
       "version_minor": 0
      },
      "text/plain": [
       "HBox(children=(FloatProgress(value=0.0, max=10000.0), HTML(value='')))"
      ]
     },
     "metadata": {},
     "output_type": "display_data"
    },
    {
     "name": "stdout",
     "output_type": "stream",
     "text": [
      "\n"
     ]
    },
    {
     "data": {
      "application/vnd.jupyter.widget-view+json": {
       "model_id": "2564655f5aa34581af463c602659fed6",
       "version_major": 2,
       "version_minor": 0
      },
      "text/plain": [
       "HBox(children=(FloatProgress(value=0.0, max=10000.0), HTML(value='')))"
      ]
     },
     "metadata": {},
     "output_type": "display_data"
    },
    {
     "name": "stdout",
     "output_type": "stream",
     "text": [
      "\n"
     ]
    },
    {
     "data": {
      "application/vnd.jupyter.widget-view+json": {
       "model_id": "d7d29abfeed7468096d0087777428910",
       "version_major": 2,
       "version_minor": 0
      },
      "text/plain": [
       "HBox(children=(FloatProgress(value=0.0, max=10000.0), HTML(value='')))"
      ]
     },
     "metadata": {},
     "output_type": "display_data"
    },
    {
     "name": "stdout",
     "output_type": "stream",
     "text": [
      "\n"
     ]
    },
    {
     "data": {
      "application/vnd.jupyter.widget-view+json": {
       "model_id": "9c9afde19f924a408fdd77c67a3a61bf",
       "version_major": 2,
       "version_minor": 0
      },
      "text/plain": [
       "HBox(children=(FloatProgress(value=0.0, max=10000.0), HTML(value='')))"
      ]
     },
     "metadata": {},
     "output_type": "display_data"
    },
    {
     "name": "stdout",
     "output_type": "stream",
     "text": [
      "\n"
     ]
    },
    {
     "data": {
      "application/vnd.jupyter.widget-view+json": {
       "model_id": "68468d9aff134e169a1a026f9eb3d627",
       "version_major": 2,
       "version_minor": 0
      },
      "text/plain": [
       "HBox(children=(FloatProgress(value=0.0, max=10000.0), HTML(value='')))"
      ]
     },
     "metadata": {},
     "output_type": "display_data"
    },
    {
     "name": "stdout",
     "output_type": "stream",
     "text": [
      "\n"
     ]
    },
    {
     "data": {
      "application/vnd.jupyter.widget-view+json": {
       "model_id": "3171fc06f97140dca679be31382d045c",
       "version_major": 2,
       "version_minor": 0
      },
      "text/plain": [
       "HBox(children=(FloatProgress(value=0.0, max=10000.0), HTML(value='')))"
      ]
     },
     "metadata": {},
     "output_type": "display_data"
    },
    {
     "name": "stdout",
     "output_type": "stream",
     "text": [
      "\n"
     ]
    },
    {
     "data": {
      "application/vnd.jupyter.widget-view+json": {
       "model_id": "9cbea68a84a64bc6b6c956ffe4eb5e96",
       "version_major": 2,
       "version_minor": 0
      },
      "text/plain": [
       "HBox(children=(FloatProgress(value=0.0, max=10000.0), HTML(value='')))"
      ]
     },
     "metadata": {},
     "output_type": "display_data"
    },
    {
     "name": "stdout",
     "output_type": "stream",
     "text": [
      "\n"
     ]
    },
    {
     "data": {
      "application/vnd.jupyter.widget-view+json": {
       "model_id": "f80618e9f6044db8bea4b165fde73cab",
       "version_major": 2,
       "version_minor": 0
      },
      "text/plain": [
       "HBox(children=(FloatProgress(value=0.0, max=10000.0), HTML(value='')))"
      ]
     },
     "metadata": {},
     "output_type": "display_data"
    },
    {
     "name": "stdout",
     "output_type": "stream",
     "text": [
      "\n"
     ]
    },
    {
     "data": {
      "application/vnd.jupyter.widget-view+json": {
       "model_id": "65b98809ebc3475db57fd154dd3a54d8",
       "version_major": 2,
       "version_minor": 0
      },
      "text/plain": [
       "HBox(children=(FloatProgress(value=0.0, max=10000.0), HTML(value='')))"
      ]
     },
     "metadata": {},
     "output_type": "display_data"
    },
    {
     "name": "stdout",
     "output_type": "stream",
     "text": [
      "\n"
     ]
    }
   ],
   "source": [
    "idx=5\n",
    "def calc_connections(mhead):\n",
    "    for link in mhead.links:\n",
    "        link.reset()\n",
    "        mhead.ransac_from_link(link)        \n",
    "calc_connections(mhead)"
   ]
  },
  {
   "cell_type": "code",
   "execution_count": null,
   "metadata": {},
   "outputs": [],
   "source": []
  },
  {
   "cell_type": "code",
   "execution_count": 50,
   "metadata": {},
   "outputs": [
    {
     "name": "stdout",
     "output_type": "stream",
     "text": [
      "2-1, matches=109, Count=68, Err=0.0058\n",
      "3-2, matches=129, Count=87, Err=0.0053\n",
      "4-3, matches=99, Count=58, Err=0.0048\n",
      "5-4, matches=107, Count=78, Err=0.0027\n",
      "6-5, matches=98, Count=65, Err=0.0030\n",
      "7-6, matches=85, Count=57, Err=0.0034\n",
      "8-7, matches=57, Count=34, Err=0.0030\n",
      "9-8, matches=15, Count=9, Err=0.0299\n",
      "10-9, matches=7, Count=5, Err=nan\n",
      "11-10, matches=18, Count=12, Err=0.0075\n",
      "12-11, matches=55, Count=33, Err=0.0040\n",
      "13-12, matches=67, Count=36, Err=0.0035\n",
      "14-13, matches=71, Count=33, Err=0.0065\n",
      "15-14, matches=65, Count=37, Err=0.0112\n",
      "0 172576\n",
      "coordinate of the left eye: [ 0.03719031 -0.17593989 -0.02675807] in frame 0\n",
      "1 172581\n",
      "coordinate of the left eye: [ 0.03787625 -0.17573168 -0.02416361] in frame 1\n",
      "12 169336\n",
      "coordinate of the left eye: [ 0.14740933 -0.08301224  0.06097668] in frame 12\n",
      "13 170000\n",
      "coordinate of the left eye: [ 0.14839883 -0.0825091   0.06507843] in frame 13\n",
      "14 169380\n",
      "coordinate of the left eye: [ 0.14840943 -0.08538188  0.06688029] in frame 14\n",
      "[ 0.10385683 -0.12051496  0.02840274]\n",
      "[[-0.06666652 -0.05542493 -0.05516082]\n",
      " [-0.06598058 -0.05521672 -0.05256635]\n",
      " [ 0.0435525   0.03750272  0.03257394]\n",
      " [ 0.044542    0.03800586  0.03667568]\n",
      " [ 0.0445526   0.03513307  0.03847754]]\n",
      "mean coordinate: [ 0.10385683 -0.12051496  0.02840274]. Distance to each points: [0.1027573  0.10082433 0.06606312 0.06909082 0.068555  ].\n"
     ]
    },
    {
     "data": {
      "text/plain": [
       "0.08145811445378431"
      ]
     },
     "execution_count": 50,
     "metadata": {},
     "output_type": "execute_result"
    }
   ],
   "source": [
    "mhead.reset_all_head_positions()\n",
    "for idx in range(14):\n",
    "    mhead.transform_from_link(mhead.links[idx])\n",
    "    mhead.links[idx].print_short()\n",
    "center, distances=mhead.left_eye_deviation()\n",
    "np.mean(distances)    "
   ]
  },
  {
   "cell_type": "code",
   "execution_count": 51,
   "metadata": {},
   "outputs": [],
   "source": [
    "mhead.create_spheres(0.1 ,\"name\")"
   ]
  },
  {
   "cell_type": "code",
   "execution_count": 246,
   "metadata": {},
   "outputs": [
    {
     "data": {
      "application/vnd.jupyter.widget-view+json": {
       "model_id": "0ebbb4aaf2f24e99888be7979a15ff35",
       "version_major": 2,
       "version_minor": 0
      },
      "text/plain": [
       "HBox(children=(FloatProgress(value=0.0, max=9.0), HTML(value='')))"
      ]
     },
     "metadata": {},
     "output_type": "display_data"
    },
    {
     "name": "stdout",
     "output_type": "stream",
     "text": [
      "\n",
      "8-7, matches=57, Count=34, Err=0.0030\n"
     ]
    },
    {
     "data": {
      "application/vnd.jupyter.widget-view+json": {
       "model_id": "5ad8e66c121a4372b3b5cc01083ef80e",
       "version_major": 2,
       "version_minor": 0
      },
      "text/plain": [
       "HBox(children=(FloatProgress(value=0.0, max=9.0), HTML(value='')))"
      ]
     },
     "metadata": {},
     "output_type": "display_data"
    },
    {
     "name": "stdout",
     "output_type": "stream",
     "text": [
      "\n",
      "9-8, matches=15, Count=9, Err=0.0299\n"
     ]
    },
    {
     "data": {
      "application/vnd.jupyter.widget-view+json": {
       "model_id": "92f162de596a4b0e98e735858afc78a4",
       "version_major": 2,
       "version_minor": 0
      },
      "text/plain": [
       "HBox(children=(FloatProgress(value=0.0, max=9.0), HTML(value='')))"
      ]
     },
     "metadata": {},
     "output_type": "display_data"
    },
    {
     "name": "stdout",
     "output_type": "stream",
     "text": [
      "\n",
      "10-9, matches=7, Count=5, Err=nan\n"
     ]
    },
    {
     "data": {
      "application/vnd.jupyter.widget-view+json": {
       "model_id": "9f3ca05a7e574288a0cdcc034c5858ab",
       "version_major": 2,
       "version_minor": 0
      },
      "text/plain": [
       "HBox(children=(FloatProgress(value=0.0, max=9.0), HTML(value='')))"
      ]
     },
     "metadata": {},
     "output_type": "display_data"
    },
    {
     "name": "stdout",
     "output_type": "stream",
     "text": [
      "\n",
      "11-10, matches=18, Count=12, Err=0.0075\n"
     ]
    },
    {
     "data": {
      "application/vnd.jupyter.widget-view+json": {
       "model_id": "5f8d18a45026431090d0259b46f506a8",
       "version_major": 2,
       "version_minor": 0
      },
      "text/plain": [
       "HBox(children=(FloatProgress(value=0.0, max=9.0), HTML(value='')))"
      ]
     },
     "metadata": {},
     "output_type": "display_data"
    },
    {
     "name": "stdout",
     "output_type": "stream",
     "text": [
      "\n",
      "12-11, matches=55, Count=33, Err=0.0040\n"
     ]
    },
    {
     "data": {
      "application/vnd.jupyter.widget-view+json": {
       "model_id": "56e658d8dd974936b6cf0bdeb400c662",
       "version_major": 2,
       "version_minor": 0
      },
      "text/plain": [
       "HBox(children=(FloatProgress(value=0.0, max=9.0), HTML(value='')))"
      ]
     },
     "metadata": {},
     "output_type": "display_data"
    },
    {
     "name": "stdout",
     "output_type": "stream",
     "text": [
      "\n",
      "13-12, matches=67, Count=36, Err=0.0035\n"
     ]
    },
    {
     "data": {
      "application/vnd.jupyter.widget-view+json": {
       "model_id": "7e9241fe373c45f8a5e0064eda9117f4",
       "version_major": 2,
       "version_minor": 0
      },
      "text/plain": [
       "HBox(children=(FloatProgress(value=0.0, max=9.0), HTML(value='')))"
      ]
     },
     "metadata": {},
     "output_type": "display_data"
    },
    {
     "name": "stdout",
     "output_type": "stream",
     "text": [
      "\n",
      "14-13, matches=71, Count=33, Err=0.0065\n"
     ]
    },
    {
     "data": {
      "application/vnd.jupyter.widget-view+json": {
       "model_id": "bbe0fc6afab247da817466fe844d0e96",
       "version_major": 2,
       "version_minor": 0
      },
      "text/plain": [
       "HBox(children=(FloatProgress(value=0.0, max=9.0), HTML(value='')))"
      ]
     },
     "metadata": {},
     "output_type": "display_data"
    },
    {
     "name": "stdout",
     "output_type": "stream",
     "text": [
      "\n",
      "15-14, matches=65, Count=37, Err=0.0112\n"
     ]
    },
    {
     "data": {
      "application/vnd.jupyter.widget-view+json": {
       "model_id": "11555e9d0d0e467e8fe548b11d8c0f23",
       "version_major": 2,
       "version_minor": 0
      },
      "text/plain": [
       "HBox(children=(FloatProgress(value=0.0, max=9.0), HTML(value='')))"
      ]
     },
     "metadata": {},
     "output_type": "display_data"
    },
    {
     "name": "stdout",
     "output_type": "stream",
     "text": [
      "\n",
      "7-6, matches=85, Count=57, Err=0.0034\n"
     ]
    },
    {
     "data": {
      "application/vnd.jupyter.widget-view+json": {
       "model_id": "ddac2c9881a7446cb774e60c1025720a",
       "version_major": 2,
       "version_minor": 0
      },
      "text/plain": [
       "HBox(children=(FloatProgress(value=0.0, max=9.0), HTML(value='')))"
      ]
     },
     "metadata": {},
     "output_type": "display_data"
    },
    {
     "name": "stdout",
     "output_type": "stream",
     "text": [
      "\n",
      "6-5, matches=98, Count=65, Err=0.0030\n"
     ]
    },
    {
     "data": {
      "application/vnd.jupyter.widget-view+json": {
       "model_id": "8ab8cd1231544a5bb7c4a05125b096da",
       "version_major": 2,
       "version_minor": 0
      },
      "text/plain": [
       "HBox(children=(FloatProgress(value=0.0, max=9.0), HTML(value='')))"
      ]
     },
     "metadata": {},
     "output_type": "display_data"
    },
    {
     "name": "stdout",
     "output_type": "stream",
     "text": [
      "\n",
      "5-4, matches=107, Count=78, Err=0.0027\n"
     ]
    },
    {
     "data": {
      "application/vnd.jupyter.widget-view+json": {
       "model_id": "d7b914ecca224e259240f99b4a2b215b",
       "version_major": 2,
       "version_minor": 0
      },
      "text/plain": [
       "HBox(children=(FloatProgress(value=0.0, max=9.0), HTML(value='')))"
      ]
     },
     "metadata": {},
     "output_type": "display_data"
    },
    {
     "name": "stdout",
     "output_type": "stream",
     "text": [
      "\n",
      "4-3, matches=99, Count=58, Err=0.0048\n"
     ]
    },
    {
     "data": {
      "application/vnd.jupyter.widget-view+json": {
       "model_id": "c13afac18d0e4782854ae642a1f5bfd2",
       "version_major": 2,
       "version_minor": 0
      },
      "text/plain": [
       "HBox(children=(FloatProgress(value=0.0, max=9.0), HTML(value='')))"
      ]
     },
     "metadata": {},
     "output_type": "display_data"
    },
    {
     "name": "stdout",
     "output_type": "stream",
     "text": [
      "\n",
      "3-2, matches=129, Count=87, Err=0.0053\n"
     ]
    },
    {
     "data": {
      "application/vnd.jupyter.widget-view+json": {
       "model_id": "29e2058b0a7546ca8d2a7a482a0cec65",
       "version_major": 2,
       "version_minor": 0
      },
      "text/plain": [
       "HBox(children=(FloatProgress(value=0.0, max=9.0), HTML(value='')))"
      ]
     },
     "metadata": {},
     "output_type": "display_data"
    },
    {
     "name": "stdout",
     "output_type": "stream",
     "text": [
      "\n",
      "2-1, matches=109, Count=68, Err=0.0058\n",
      "0 172576\n",
      "coordinate of the left eye: [ 0.05802867 -0.1112326   0.1986909 ] in frame 0\n",
      "1 172581\n",
      "coordinate of the left eye: [ 0.05610711 -0.10592204  0.19808803] in frame 1\n",
      "12 169336\n",
      "coordinate of the left eye: [-0.10952395  0.02883137  0.22973919] in frame 12\n",
      "13 170000\n",
      "coordinate of the left eye: [-0.10996653  0.02697497  0.23506629] in frame 13\n",
      "14 169380\n",
      "coordinate of the left eye: [-0.1071064   0.01737836  0.23768785] in frame 14\n",
      "[-0.04249222 -0.02879399  0.21985445]\n",
      "[[ 0.10052089 -0.08243861 -0.02116355]\n",
      " [ 0.09859933 -0.07712805 -0.02176642]\n",
      " [-0.06703173  0.05762536  0.00988474]\n",
      " [-0.06747431  0.05576896  0.01521184]\n",
      " [-0.06461418  0.04617235  0.0178334 ]]\n",
      "mean coordinate: [-0.04249222 -0.02879399  0.21985445]. Distance to each points: [0.13171359 0.12706039 0.08894742 0.0888502  0.08139354].\n"
     ]
    },
    {
     "data": {
      "text/plain": [
       "0.1035930282595802"
      ]
     },
     "execution_count": 246,
     "metadata": {},
     "output_type": "execute_result"
    }
   ],
   "source": [
    "mhead.reset_all_head_positions()\n",
    "for idx in range(6,14):\n",
    "    mhead.transform_from_link(mhead.links[idx])\n",
    "    mhead.links[idx].print_short()\n",
    "for idx in range(5,-1,-1):\n",
    "    mhead.transform_from_link(mhead.links[idx])\n",
    "    mhead.links[idx].print_short()\n",
    "center, distances=mhead.left_eye_deviation()\n",
    "np.mean(distances)"
   ]
  },
  {
   "cell_type": "code",
   "execution_count": 115,
   "metadata": {},
   "outputs": [],
   "source": [
    "def calc_distances(mhead, A,B):\n",
    "    head1 = mhead.heads[mhead.head_id_from_frame_id(A)]\n",
    "    head2 = mhead.heads[mhead.head_id_from_frame_id(B)]\n",
    "    A=head1.xyz\n",
    "    B=head2.xyz\n",
    "    m = A.shape[1]\n",
    "\n",
    "        # make points homogeneous, copy them to maintain the originals\n",
    "    src = np.ones((m+1,A.shape[0]))\n",
    "    dst = np.ones((m+1,B.shape[0]))\n",
    "    src[:m,:] = np.copy(A.T)\n",
    "    dst[:m,:] = np.copy(B.T)\n",
    "\n",
    "    # apply the initial pose estimation\n",
    "\n",
    "    prev_error = -1\n",
    "    distances, indices = icp.nearest_neighbor(src[:m,:].T, dst[:m,:].T)\n",
    "    return distances"
   ]
  },
  {
   "cell_type": "code",
   "execution_count": 198,
   "metadata": {},
   "outputs": [],
   "source": [
    "def refine(mhead, A,B, offset,step, axis):\n",
    "    best_count=-1\n",
    "    for d in np.arange(-offset,offset,step):\n",
    "        t=np.array(axis) *d\n",
    "        mhead.heads[mhead.head_id_from_frame_id(A)].xyz = mhead.heads[mhead.head_id_from_frame_id(A)].xyz+t\n",
    "        distances2 = calc_distances(mhead,A, B)    \n",
    "        count = np.sum(distances2 <step*2)\n",
    "        mean_dist=np.sqrt(np.mean(distances2**2))\n",
    "        if count > best_count:\n",
    "            best_t = t\n",
    "            best_count = count\n",
    "        print(f\"{d:.3f}, {mean_dist:.4f}, {count}, {best_count}\")\n",
    "        mhead.heads[mhead.head_id_from_frame_id(mhead.links[idx].left)].xyz = mhead.heads[mhead.head_id_from_frame_id(mhead.links[idx].left)].xyz-t\n",
    "    mhead.heads[mhead.head_id_from_frame_id(mhead.links[idx].left)].xyz = mhead.heads[mhead.head_id_from_frame_id(mhead.links[idx].left)].xyz+best_t    \n",
    "\n",
    "def refine3d(mhead, A,B):    \n",
    "    refine(mhead,A,B,0.05,0.01,[1,0,0])\n",
    "    refine(mhead,A,B,0.05,0.01,[0,1,0])\n",
    "    refine(mhead,A,B,0.05,0.01,[0,0,1])\n",
    "    refine(mhead,A,B,0.01,0.002,[1,0,0])\n",
    "    refine(mhead,A,B,0.01,0.002,[0,1,0])\n",
    "    refine(mhead,A,B,0.01,0.002,[0,0,1])\n"
   ]
  },
  {
   "cell_type": "code",
   "execution_count": 62,
   "metadata": {},
   "outputs": [
    {
     "data": {
      "application/vnd.jupyter.widget-view+json": {
       "model_id": "6761c27e69b74d81adf87e3543732caa",
       "version_major": 2,
       "version_minor": 0
      },
      "text/plain": [
       "HBox(children=(FloatProgress(value=0.0, max=9.0), HTML(value='')))"
      ]
     },
     "metadata": {},
     "output_type": "display_data"
    },
    {
     "name": "stdout",
     "output_type": "stream",
     "text": [
      "\n"
     ]
    },
    {
     "data": {
      "application/vnd.jupyter.widget-view+json": {
       "model_id": "f3b8628c2d7d424390c983f4ee70eaf3",
       "version_major": 2,
       "version_minor": 0
      },
      "text/plain": [
       "HBox(children=(FloatProgress(value=0.0, max=3.0), HTML(value='')))"
      ]
     },
     "metadata": {},
     "output_type": "display_data"
    },
    {
     "name": "stdout",
     "output_type": "stream",
     "text": [
      "0, -10.0, 1914, -10.0\n",
      "0, -9.0, 2160, -9.0\n",
      "0, -8.0, 2474, -8.0\n",
      "0, -7.0, 2850, -7.0\n",
      "0, -6.0, 3205, -6.0\n",
      "0, -5.0, 3686, -5.0\n",
      "0, -4.0, 4167, -4.0\n",
      "0, -3.0, 4502, -3.0\n",
      "0, -2.0, 4758, -2.0\n",
      "0, -1.0, 4888, -1.0\n",
      "0, -0.0, 4907, -0.0\n",
      "0, 1.0, 4907, -0.0\n",
      "0, 2.0, 4907, -0.0\n",
      "0, 3.0, 4907, -0.0\n",
      "0, 4.0, 4907, -0.0\n",
      "0, 5.0, 4907, -0.0\n",
      "0, 6.0, 4907, -0.0\n",
      "0, 7.0, 4907, -0.0\n",
      "0, 8.0, 4907, -0.0\n",
      "0, 9.0, 4907, -0.0\n",
      "1, -10.0, 2697, -10.0\n",
      "1, -9.0, 2994, -9.0\n",
      "1, -8.0, 3278, -8.0\n",
      "1, -7.0, 3608, -7.0\n",
      "1, -6.0, 4017, -6.0\n",
      "1, -5.0, 4298, -5.0\n",
      "1, -4.0, 4523, -4.0\n",
      "1, -3.0, 4658, -3.0\n",
      "1, -2.0, 4795, -2.0\n",
      "1, -1.0, 4876, -1.0\n",
      "1, -0.0, 4912, -0.0\n",
      "1, 1.0, 4912, -0.0\n",
      "1, 2.0, 4912, -0.0\n",
      "1, 3.0, 4912, -0.0\n",
      "1, 4.0, 4912, -0.0\n",
      "1, 5.0, 4912, -0.0\n",
      "1, 6.0, 4912, -0.0\n",
      "1, 7.0, 4912, -0.0\n",
      "1, 8.0, 4912, -0.0\n",
      "1, 9.0, 4912, -0.0\n",
      "2, -10.0, 2008, -10.0\n",
      "2, -9.0, 2210, -9.0\n",
      "2, -8.0, 2478, -8.0\n",
      "2, -7.0, 2804, -7.0\n",
      "2, -6.0, 3229, -6.0\n",
      "2, -5.0, 3704, -5.0\n",
      "2, -4.0, 4192, -4.0\n",
      "2, -3.0, 4571, -3.0\n",
      "2, -2.0, 4811, -2.0\n",
      "2, -1.0, 4943, -1.0\n",
      "2, -0.0, 4986, -0.0\n",
      "2, 1.0, 4986, -0.0\n",
      "2, 2.0, 4986, -0.0\n",
      "2, 3.0, 4986, -0.0\n",
      "2, 4.0, 4986, -0.0\n",
      "2, 5.0, 4986, -0.0\n",
      "2, 6.0, 4986, -0.0\n",
      "2, 7.0, 4986, -0.0\n",
      "2, 8.0, 4986, -0.0\n",
      "2, 9.0, 4986, -0.0\n",
      "\n"
     ]
    },
    {
     "data": {
      "application/vnd.jupyter.widget-view+json": {
       "model_id": "d7985bdfdb764ab3bc27131ff60c5d57",
       "version_major": 2,
       "version_minor": 0
      },
      "text/plain": [
       "HBox(children=(FloatProgress(value=0.0, max=9.0), HTML(value='')))"
      ]
     },
     "metadata": {},
     "output_type": "display_data"
    },
    {
     "name": "stdout",
     "output_type": "stream",
     "text": [
      "\n"
     ]
    },
    {
     "data": {
      "application/vnd.jupyter.widget-view+json": {
       "model_id": "7123d5af0c864776b89224be1a8eca00",
       "version_major": 2,
       "version_minor": 0
      },
      "text/plain": [
       "HBox(children=(FloatProgress(value=0.0, max=3.0), HTML(value='')))"
      ]
     },
     "metadata": {},
     "output_type": "display_data"
    },
    {
     "name": "stdout",
     "output_type": "stream",
     "text": [
      "0, -10.0, 2158, -10.0\n",
      "0, -9.0, 2423, -9.0\n",
      "0, -8.0, 2728, -8.0\n",
      "0, -7.0, 3002, -7.0\n",
      "0, -6.0, 3317, -6.0\n",
      "0, -5.0, 3618, -5.0\n",
      "0, -4.0, 3989, -4.0\n",
      "0, -3.0, 4253, -3.0\n",
      "0, -2.0, 4431, -2.0\n",
      "0, -1.0, 4517, -1.0\n",
      "0, -0.0, 4517, -1.0\n",
      "0, 1.0, 4517, -1.0\n",
      "0, 2.0, 4517, -1.0\n",
      "0, 3.0, 4517, -1.0\n",
      "0, 4.0, 4517, -1.0\n",
      "0, 5.0, 4517, -1.0\n",
      "0, 6.0, 4517, -1.0\n",
      "0, 7.0, 4517, -1.0\n",
      "0, 8.0, 4517, -1.0\n",
      "0, 9.0, 4517, -1.0\n",
      "1, -10.0, 1859, -10.0\n",
      "1, -9.0, 2004, -9.0\n",
      "1, -8.0, 2219, -8.0\n",
      "1, -7.0, 2439, -7.0\n",
      "1, -6.0, 2705, -6.0\n",
      "1, -5.0, 2975, -5.0\n",
      "1, -4.0, 3294, -4.0\n",
      "1, -3.0, 3677, -3.0\n",
      "1, -2.0, 4086, -2.0\n",
      "1, -1.0, 4335, -1.0\n",
      "1, -0.0, 4495, -0.0\n",
      "1, 1.0, 4608, 1.0\n",
      "1, 2.0, 4679, 2.0\n",
      "1, 3.0, 4679, 2.0\n",
      "1, 4.0, 4679, 2.0\n",
      "1, 5.0, 4679, 2.0\n",
      "1, 6.0, 4679, 2.0\n",
      "1, 7.0, 4679, 2.0\n",
      "1, 8.0, 4679, 2.0\n",
      "1, 9.0, 4679, 2.0\n",
      "2, -10.0, 1718, -10.0\n",
      "2, -9.0, 1876, -9.0\n",
      "2, -8.0, 2107, -8.0\n",
      "2, -7.0, 2400, -7.0\n",
      "2, -6.0, 2744, -6.0\n",
      "2, -5.0, 3180, -5.0\n",
      "2, -4.0, 3681, -4.0\n",
      "2, -3.0, 4141, -3.0\n",
      "2, -2.0, 4427, -2.0\n",
      "2, -1.0, 4650, -1.0\n",
      "2, -0.0, 4815, -0.0\n",
      "2, 1.0, 4905, 1.0\n",
      "2, 2.0, 4905, 1.0\n",
      "2, 3.0, 4905, 1.0\n",
      "2, 4.0, 4905, 1.0\n",
      "2, 5.0, 4905, 1.0\n",
      "2, 6.0, 4905, 1.0\n",
      "2, 7.0, 4905, 1.0\n",
      "2, 8.0, 4905, 1.0\n",
      "2, 9.0, 4905, 1.0\n",
      "\n"
     ]
    },
    {
     "data": {
      "application/vnd.jupyter.widget-view+json": {
       "model_id": "3770a0238fd04d6bbbc6620992c3935d",
       "version_major": 2,
       "version_minor": 0
      },
      "text/plain": [
       "HBox(children=(FloatProgress(value=0.0, max=9.0), HTML(value='')))"
      ]
     },
     "metadata": {},
     "output_type": "display_data"
    },
    {
     "name": "stdout",
     "output_type": "stream",
     "text": [
      "\n"
     ]
    },
    {
     "data": {
      "application/vnd.jupyter.widget-view+json": {
       "model_id": "ccff2f36111e4d17a3916469354661f2",
       "version_major": 2,
       "version_minor": 0
      },
      "text/plain": [
       "HBox(children=(FloatProgress(value=0.0, max=3.0), HTML(value='')))"
      ]
     },
     "metadata": {},
     "output_type": "display_data"
    },
    {
     "name": "stdout",
     "output_type": "stream",
     "text": [
      "0, -10.0, 2120, -10.0\n",
      "0, -9.0, 2315, -9.0\n",
      "0, -8.0, 2573, -8.0\n",
      "0, -7.0, 2915, -7.0\n",
      "0, -6.0, 3299, -6.0\n",
      "0, -5.0, 3724, -5.0\n",
      "0, -4.0, 4156, -4.0\n",
      "0, -3.0, 4551, -3.0\n",
      "0, -2.0, 4772, -2.0\n",
      "0, -1.0, 4878, -1.0\n",
      "0, -0.0, 4887, -0.0\n",
      "0, 1.0, 4887, -0.0\n",
      "0, 2.0, 4887, -0.0\n",
      "0, 3.0, 4887, -0.0\n",
      "0, 4.0, 4887, -0.0\n",
      "0, 5.0, 4887, -0.0\n",
      "0, 6.0, 4887, -0.0\n",
      "0, 7.0, 4887, -0.0\n",
      "0, 8.0, 4887, -0.0\n",
      "0, 9.0, 4887, -0.0\n",
      "1, -10.0, 2862, -10.0\n",
      "1, -9.0, 3079, -9.0\n",
      "1, -8.0, 3301, -8.0\n",
      "1, -7.0, 3539, -7.0\n",
      "1, -6.0, 3765, -6.0\n",
      "1, -5.0, 3987, -5.0\n",
      "1, -4.0, 4259, -4.0\n",
      "1, -3.0, 4481, -3.0\n",
      "1, -2.0, 4585, -2.0\n",
      "1, -1.0, 4722, -1.0\n",
      "1, -0.0, 4797, -0.0\n",
      "1, 1.0, 4806, 1.0\n",
      "1, 2.0, 4806, 1.0\n",
      "1, 3.0, 4806, 1.0\n",
      "1, 4.0, 4806, 1.0\n",
      "1, 5.0, 4806, 1.0\n",
      "1, 6.0, 4806, 1.0\n",
      "1, 7.0, 4806, 1.0\n",
      "1, 8.0, 4806, 1.0\n",
      "1, 9.0, 4806, 1.0\n",
      "2, -10.0, 1782, -10.0\n",
      "2, -9.0, 1930, -9.0\n",
      "2, -8.0, 2154, -8.0\n",
      "2, -7.0, 2428, -7.0\n",
      "2, -6.0, 2779, -6.0\n",
      "2, -5.0, 3226, -5.0\n",
      "2, -4.0, 3775, -4.0\n",
      "2, -3.0, 4249, -3.0\n",
      "2, -2.0, 4626, -2.0\n",
      "2, -1.0, 4797, -1.0\n",
      "2, -0.0, 4853, -0.0\n",
      "2, 1.0, 4853, -0.0\n",
      "2, 2.0, 4853, -0.0\n",
      "2, 3.0, 4853, -0.0\n",
      "2, 4.0, 4853, -0.0\n",
      "2, 5.0, 4853, -0.0\n",
      "2, 6.0, 4853, -0.0\n",
      "2, 7.0, 4853, -0.0\n",
      "2, 8.0, 4853, -0.0\n",
      "2, 9.0, 4853, -0.0\n",
      "\n"
     ]
    },
    {
     "data": {
      "application/vnd.jupyter.widget-view+json": {
       "model_id": "817efcf70e80403aa16e89bfbb4c2deb",
       "version_major": 2,
       "version_minor": 0
      },
      "text/plain": [
       "HBox(children=(FloatProgress(value=0.0, max=9.0), HTML(value='')))"
      ]
     },
     "metadata": {},
     "output_type": "display_data"
    },
    {
     "name": "stdout",
     "output_type": "stream",
     "text": [
      "\n"
     ]
    },
    {
     "data": {
      "application/vnd.jupyter.widget-view+json": {
       "model_id": "37b6e7c4c5244022b64b736bc88596fe",
       "version_major": 2,
       "version_minor": 0
      },
      "text/plain": [
       "HBox(children=(FloatProgress(value=0.0, max=3.0), HTML(value='')))"
      ]
     },
     "metadata": {},
     "output_type": "display_data"
    },
    {
     "name": "stdout",
     "output_type": "stream",
     "text": [
      "0, -10.0, 1902, -10.0\n",
      "0, -9.0, 2127, -9.0\n",
      "0, -8.0, 2358, -8.0\n",
      "0, -7.0, 2692, -7.0\n",
      "0, -6.0, 3024, -6.0\n",
      "0, -5.0, 3330, -5.0\n",
      "0, -4.0, 3679, -4.0\n",
      "0, -3.0, 4094, -3.0\n",
      "0, -2.0, 4417, -2.0\n",
      "0, -1.0, 4657, -1.0\n",
      "0, -0.0, 4790, -0.0\n",
      "0, 1.0, 4790, -0.0\n",
      "0, 2.0, 4790, -0.0\n",
      "0, 3.0, 4790, -0.0\n",
      "0, 4.0, 4790, -0.0\n",
      "0, 5.0, 4790, -0.0\n",
      "0, 6.0, 4790, -0.0\n",
      "0, 7.0, 4790, -0.0\n",
      "0, 8.0, 4790, -0.0\n",
      "0, 9.0, 4790, -0.0\n",
      "1, -10.0, 3210, -10.0\n",
      "1, -9.0, 3380, -9.0\n",
      "1, -8.0, 3584, -8.0\n",
      "1, -7.0, 3791, -7.0\n",
      "1, -6.0, 4044, -6.0\n",
      "1, -5.0, 4333, -5.0\n",
      "1, -4.0, 4463, -4.0\n",
      "1, -3.0, 4555, -3.0\n",
      "1, -2.0, 4661, -2.0\n",
      "1, -1.0, 4702, -1.0\n",
      "1, -0.0, 4702, -1.0\n",
      "1, 1.0, 4702, -1.0\n",
      "1, 2.0, 4702, -1.0\n",
      "1, 3.0, 4702, -1.0\n",
      "1, 4.0, 4702, -1.0\n",
      "1, 5.0, 4702, -1.0\n",
      "1, 6.0, 4702, -1.0\n",
      "1, 7.0, 4702, -1.0\n",
      "1, 8.0, 4702, -1.0\n",
      "1, 9.0, 4702, -1.0\n",
      "2, -10.0, 1935, -10.0\n",
      "2, -9.0, 2152, -9.0\n",
      "2, -8.0, 2393, -8.0\n",
      "2, -7.0, 2699, -7.0\n",
      "2, -6.0, 3074, -6.0\n",
      "2, -5.0, 3496, -5.0\n",
      "2, -4.0, 3889, -4.0\n",
      "2, -3.0, 4266, -3.0\n",
      "2, -2.0, 4575, -2.0\n",
      "2, -1.0, 4762, -1.0\n",
      "2, -0.0, 4780, -0.0\n",
      "2, 1.0, 4780, -0.0\n",
      "2, 2.0, 4780, -0.0\n",
      "2, 3.0, 4780, -0.0\n",
      "2, 4.0, 4780, -0.0\n",
      "2, 5.0, 4780, -0.0\n",
      "2, 6.0, 4780, -0.0\n",
      "2, 7.0, 4780, -0.0\n",
      "2, 8.0, 4780, -0.0\n",
      "2, 9.0, 4780, -0.0\n",
      "\n"
     ]
    },
    {
     "data": {
      "application/vnd.jupyter.widget-view+json": {
       "model_id": "3f0cff3c4d33428bb435394ec3c84f18",
       "version_major": 2,
       "version_minor": 0
      },
      "text/plain": [
       "HBox(children=(FloatProgress(value=0.0, max=9.0), HTML(value='')))"
      ]
     },
     "metadata": {},
     "output_type": "display_data"
    },
    {
     "name": "stdout",
     "output_type": "stream",
     "text": [
      "\n"
     ]
    },
    {
     "data": {
      "application/vnd.jupyter.widget-view+json": {
       "model_id": "c022eb8d51f44fbb8fdd925e32493746",
       "version_major": 2,
       "version_minor": 0
      },
      "text/plain": [
       "HBox(children=(FloatProgress(value=0.0, max=3.0), HTML(value='')))"
      ]
     },
     "metadata": {},
     "output_type": "display_data"
    },
    {
     "name": "stdout",
     "output_type": "stream",
     "text": [
      "0, -10.0, 2163, -10.0\n",
      "0, -9.0, 2289, -9.0\n",
      "0, -8.0, 2458, -8.0\n",
      "0, -7.0, 2750, -7.0\n",
      "0, -6.0, 3087, -6.0\n",
      "0, -5.0, 3447, -5.0\n",
      "0, -4.0, 3784, -4.0\n",
      "0, -3.0, 4197, -3.0\n",
      "0, -2.0, 4448, -2.0\n",
      "0, -1.0, 4498, -1.0\n",
      "0, -0.0, 4498, -1.0\n",
      "0, 1.0, 4498, -1.0\n",
      "0, 2.0, 4498, -1.0\n",
      "0, 3.0, 4498, -1.0\n",
      "0, 4.0, 4498, -1.0\n",
      "0, 5.0, 4498, -1.0\n",
      "0, 6.0, 4498, -1.0\n",
      "0, 7.0, 4498, -1.0\n",
      "0, 8.0, 4498, -1.0\n",
      "0, 9.0, 4498, -1.0\n",
      "1, -10.0, 2406, -10.0\n",
      "1, -9.0, 2605, -9.0\n",
      "1, -8.0, 2846, -8.0\n",
      "1, -7.0, 3156, -7.0\n",
      "1, -6.0, 3414, -6.0\n",
      "1, -5.0, 3613, -5.0\n",
      "1, -4.0, 3836, -4.0\n",
      "1, -3.0, 4107, -3.0\n",
      "1, -2.0, 4235, -2.0\n",
      "1, -1.0, 4324, -1.0\n",
      "1, -0.0, 4365, -0.0\n",
      "1, 1.0, 4374, 1.0\n",
      "1, 2.0, 4374, 1.0\n",
      "1, 3.0, 4374, 1.0\n",
      "1, 4.0, 4374, 1.0\n",
      "1, 5.0, 4374, 1.0\n",
      "1, 6.0, 4374, 1.0\n",
      "1, 7.0, 4374, 1.0\n",
      "1, 8.0, 4374, 1.0\n",
      "1, 9.0, 4374, 1.0\n",
      "2, -10.0, 1688, -10.0\n",
      "2, -9.0, 1873, -9.0\n",
      "2, -8.0, 2070, -8.0\n",
      "2, -7.0, 2316, -7.0\n",
      "2, -6.0, 2623, -6.0\n",
      "2, -5.0, 3079, -5.0\n",
      "2, -4.0, 3520, -4.0\n",
      "2, -3.0, 3911, -3.0\n",
      "2, -2.0, 4171, -2.0\n",
      "2, -1.0, 4319, -1.0\n",
      "2, -0.0, 4323, -0.0\n",
      "2, 1.0, 4323, -0.0\n",
      "2, 2.0, 4323, -0.0\n",
      "2, 3.0, 4323, -0.0\n",
      "2, 4.0, 4323, -0.0\n",
      "2, 5.0, 4323, -0.0\n",
      "2, 6.0, 4323, -0.0\n",
      "2, 7.0, 4323, -0.0\n",
      "2, 8.0, 4323, -0.0\n",
      "2, 9.0, 4323, -0.0\n",
      "\n"
     ]
    },
    {
     "data": {
      "application/vnd.jupyter.widget-view+json": {
       "model_id": "71776b64ffac4feebd91a5288d7ac277",
       "version_major": 2,
       "version_minor": 0
      },
      "text/plain": [
       "HBox(children=(FloatProgress(value=0.0, max=9.0), HTML(value='')))"
      ]
     },
     "metadata": {},
     "output_type": "display_data"
    },
    {
     "name": "stdout",
     "output_type": "stream",
     "text": [
      "\n"
     ]
    },
    {
     "data": {
      "application/vnd.jupyter.widget-view+json": {
       "model_id": "1f6bdd8aa2ab4c12b0c506660fafd296",
       "version_major": 2,
       "version_minor": 0
      },
      "text/plain": [
       "HBox(children=(FloatProgress(value=0.0, max=3.0), HTML(value='')))"
      ]
     },
     "metadata": {},
     "output_type": "display_data"
    },
    {
     "name": "stdout",
     "output_type": "stream",
     "text": [
      "0, -10.0, 1827, -10.0\n",
      "0, -9.0, 1971, -9.0\n",
      "0, -8.0, 2188, -8.0\n",
      "0, -7.0, 2436, -7.0\n",
      "0, -6.0, 2672, -6.0\n",
      "0, -5.0, 2905, -5.0\n",
      "0, -4.0, 3239, -4.0\n",
      "0, -3.0, 3592, -3.0\n",
      "0, -2.0, 3989, -2.0\n",
      "0, -1.0, 4242, -1.0\n",
      "0, -0.0, 4386, -0.0\n",
      "0, 1.0, 4453, 1.0\n",
      "0, 2.0, 4453, 1.0\n",
      "0, 3.0, 4453, 1.0\n",
      "0, 4.0, 4453, 1.0\n",
      "0, 5.0, 4453, 1.0\n",
      "0, 6.0, 4453, 1.0\n",
      "0, 7.0, 4453, 1.0\n",
      "0, 8.0, 4453, 1.0\n",
      "0, 9.0, 4453, 1.0\n",
      "1, -10.0, 2825, -10.0\n",
      "1, -9.0, 3084, -9.0\n",
      "1, -8.0, 3391, -8.0\n",
      "1, -7.0, 3620, -7.0\n",
      "1, -6.0, 3836, -6.0\n",
      "1, -5.0, 4084, -5.0\n",
      "1, -4.0, 4240, -4.0\n",
      "1, -3.0, 4325, -3.0\n",
      "1, -2.0, 4411, -2.0\n",
      "1, -1.0, 4450, -1.0\n",
      "1, -0.0, 4450, -1.0\n",
      "1, 1.0, 4450, -1.0\n",
      "1, 2.0, 4450, -1.0\n",
      "1, 3.0, 4450, -1.0\n",
      "1, 4.0, 4450, -1.0\n",
      "1, 5.0, 4450, -1.0\n",
      "1, 6.0, 4450, -1.0\n",
      "1, 7.0, 4450, -1.0\n",
      "1, 8.0, 4450, -1.0\n",
      "1, 9.0, 4450, -1.0\n",
      "2, -10.0, 1764, -10.0\n",
      "2, -9.0, 1952, -9.0\n",
      "2, -8.0, 2165, -8.0\n",
      "2, -7.0, 2454, -7.0\n",
      "2, -6.0, 2839, -6.0\n",
      "2, -5.0, 3291, -5.0\n",
      "2, -4.0, 3714, -4.0\n",
      "2, -3.0, 4114, -3.0\n",
      "2, -2.0, 4373, -2.0\n",
      "2, -1.0, 4508, -1.0\n",
      "2, -0.0, 4508, -1.0\n",
      "2, 1.0, 4508, -1.0\n",
      "2, 2.0, 4508, -1.0\n",
      "2, 3.0, 4508, -1.0\n",
      "2, 4.0, 4508, -1.0\n",
      "2, 5.0, 4508, -1.0\n",
      "2, 6.0, 4508, -1.0\n",
      "2, 7.0, 4508, -1.0\n",
      "2, 8.0, 4508, -1.0\n",
      "2, 9.0, 4508, -1.0\n",
      "\n"
     ]
    },
    {
     "data": {
      "application/vnd.jupyter.widget-view+json": {
       "model_id": "d6bc4e99a61c4d6384f4d3353deea375",
       "version_major": 2,
       "version_minor": 0
      },
      "text/plain": [
       "HBox(children=(FloatProgress(value=0.0, max=9.0), HTML(value='')))"
      ]
     },
     "metadata": {},
     "output_type": "display_data"
    },
    {
     "name": "stdout",
     "output_type": "stream",
     "text": [
      "\n"
     ]
    },
    {
     "data": {
      "application/vnd.jupyter.widget-view+json": {
       "model_id": "0ea09dc21d374a5a9740abc52e506fb5",
       "version_major": 2,
       "version_minor": 0
      },
      "text/plain": [
       "HBox(children=(FloatProgress(value=0.0, max=3.0), HTML(value='')))"
      ]
     },
     "metadata": {},
     "output_type": "display_data"
    },
    {
     "name": "stdout",
     "output_type": "stream",
     "text": [
      "0, -10.0, 1939, -10.0\n",
      "0, -9.0, 2093, -9.0\n",
      "0, -8.0, 2281, -8.0\n",
      "0, -7.0, 2521, -7.0\n",
      "0, -6.0, 2778, -6.0\n",
      "0, -5.0, 3047, -5.0\n",
      "0, -4.0, 3428, -4.0\n",
      "0, -3.0, 3768, -3.0\n",
      "0, -2.0, 3964, -2.0\n",
      "0, -1.0, 4027, -1.0\n",
      "0, -0.0, 4037, -0.0\n",
      "0, 1.0, 4037, -0.0\n",
      "0, 2.0, 4037, -0.0\n",
      "0, 3.0, 4037, -0.0\n",
      "0, 4.0, 4037, -0.0\n",
      "0, 5.0, 4037, -0.0\n",
      "0, 6.0, 4037, -0.0\n",
      "0, 7.0, 4037, -0.0\n",
      "0, 8.0, 4037, -0.0\n",
      "0, 9.0, 4037, -0.0\n",
      "1, -10.0, 2322, -10.0\n",
      "1, -9.0, 2499, -9.0\n",
      "1, -8.0, 2690, -8.0\n",
      "1, -7.0, 2902, -7.0\n",
      "1, -6.0, 3132, -6.0\n",
      "1, -5.0, 3359, -5.0\n",
      "1, -4.0, 3676, -4.0\n",
      "1, -3.0, 3872, -3.0\n",
      "1, -2.0, 3976, -2.0\n",
      "1, -1.0, 4057, -1.0\n",
      "1, -0.0, 4057, -1.0\n",
      "1, 1.0, 4057, -1.0\n",
      "1, 2.0, 4057, -1.0\n",
      "1, 3.0, 4057, -1.0\n",
      "1, 4.0, 4057, -1.0\n",
      "1, 5.0, 4057, -1.0\n",
      "1, 6.0, 4057, -1.0\n",
      "1, 7.0, 4057, -1.0\n",
      "1, 8.0, 4057, -1.0\n",
      "1, 9.0, 4057, -1.0\n",
      "2, -10.0, 1256, -10.0\n",
      "2, -9.0, 1385, -9.0\n",
      "2, -8.0, 1517, -8.0\n",
      "2, -7.0, 1715, -7.0\n",
      "2, -6.0, 1989, -6.0\n",
      "2, -5.0, 2391, -5.0\n",
      "2, -4.0, 2837, -4.0\n",
      "2, -3.0, 3352, -3.0\n",
      "2, -2.0, 3749, -2.0\n",
      "2, -1.0, 4030, -1.0\n",
      "2, -0.0, 4109, -0.0\n",
      "2, 1.0, 4109, -0.0\n",
      "2, 2.0, 4109, -0.0\n",
      "2, 3.0, 4109, -0.0\n",
      "2, 4.0, 4109, -0.0\n",
      "2, 5.0, 4109, -0.0\n",
      "2, 6.0, 4109, -0.0\n",
      "2, 7.0, 4109, -0.0\n",
      "2, 8.0, 4109, -0.0\n",
      "2, 9.0, 4109, -0.0\n",
      "\n"
     ]
    },
    {
     "data": {
      "application/vnd.jupyter.widget-view+json": {
       "model_id": "b4089d07c45b4144b1771a23901d16ea",
       "version_major": 2,
       "version_minor": 0
      },
      "text/plain": [
       "HBox(children=(FloatProgress(value=0.0, max=9.0), HTML(value='')))"
      ]
     },
     "metadata": {},
     "output_type": "display_data"
    },
    {
     "name": "stdout",
     "output_type": "stream",
     "text": [
      "\n"
     ]
    },
    {
     "data": {
      "application/vnd.jupyter.widget-view+json": {
       "model_id": "d42ea68b242f4b52bc21e85c1aa47782",
       "version_major": 2,
       "version_minor": 0
      },
      "text/plain": [
       "HBox(children=(FloatProgress(value=0.0, max=3.0), HTML(value='')))"
      ]
     },
     "metadata": {},
     "output_type": "display_data"
    },
    {
     "name": "stdout",
     "output_type": "stream",
     "text": [
      "0, -10.0, 1878, -10.0\n",
      "0, -9.0, 2059, -9.0\n",
      "0, -8.0, 2250, -8.0\n",
      "0, -7.0, 2469, -7.0\n",
      "0, -6.0, 2705, -6.0\n",
      "0, -5.0, 3016, -5.0\n",
      "0, -4.0, 3345, -4.0\n",
      "0, -3.0, 3618, -3.0\n",
      "0, -2.0, 3842, -2.0\n",
      "0, -1.0, 3951, -1.0\n",
      "0, -0.0, 3957, -0.0\n",
      "0, 1.0, 3957, -0.0\n",
      "0, 2.0, 3957, -0.0\n",
      "0, 3.0, 3957, -0.0\n",
      "0, 4.0, 3957, -0.0\n",
      "0, 5.0, 3957, -0.0\n",
      "0, 6.0, 3957, -0.0\n",
      "0, 7.0, 3957, -0.0\n",
      "0, 8.0, 3957, -0.0\n",
      "0, 9.0, 3957, -0.0\n",
      "1, -10.0, 2402, -10.0\n",
      "1, -9.0, 2565, -9.0\n",
      "1, -8.0, 2730, -8.0\n",
      "1, -7.0, 2880, -7.0\n",
      "1, -6.0, 3055, -6.0\n",
      "1, -5.0, 3288, -5.0\n",
      "1, -4.0, 3575, -4.0\n",
      "1, -3.0, 3841, -3.0\n",
      "1, -2.0, 3976, -2.0\n",
      "1, -1.0, 4042, -1.0\n",
      "1, -0.0, 4065, -0.0\n",
      "1, 1.0, 4065, -0.0\n",
      "1, 2.0, 4065, -0.0\n",
      "1, 3.0, 4065, -0.0\n",
      "1, 4.0, 4065, -0.0\n",
      "1, 5.0, 4065, -0.0\n",
      "1, 6.0, 4065, -0.0\n",
      "1, 7.0, 4065, -0.0\n",
      "1, 8.0, 4065, -0.0\n",
      "1, 9.0, 4065, -0.0\n",
      "2, -10.0, 1452, -10.0\n",
      "2, -9.0, 1649, -9.0\n",
      "2, -8.0, 1882, -8.0\n",
      "2, -7.0, 2152, -7.0\n",
      "2, -6.0, 2464, -6.0\n",
      "2, -5.0, 2847, -5.0\n",
      "2, -4.0, 3255, -4.0\n",
      "2, -3.0, 3627, -3.0\n",
      "2, -2.0, 3878, -2.0\n",
      "2, -1.0, 4020, -1.0\n",
      "2, -0.0, 4020, -1.0\n",
      "2, 1.0, 4020, -1.0\n",
      "2, 2.0, 4020, -1.0\n",
      "2, 3.0, 4020, -1.0\n",
      "2, 4.0, 4020, -1.0\n",
      "2, 5.0, 4020, -1.0\n",
      "2, 6.0, 4020, -1.0\n",
      "2, 7.0, 4020, -1.0\n",
      "2, 8.0, 4020, -1.0\n",
      "2, 9.0, 4020, -1.0\n",
      "\n"
     ]
    },
    {
     "data": {
      "application/vnd.jupyter.widget-view+json": {
       "model_id": "7bcb9d64b29742b6a14d1603dc87200c",
       "version_major": 2,
       "version_minor": 0
      },
      "text/plain": [
       "HBox(children=(FloatProgress(value=0.0, max=9.0), HTML(value='')))"
      ]
     },
     "metadata": {},
     "output_type": "display_data"
    },
    {
     "name": "stdout",
     "output_type": "stream",
     "text": [
      "\n"
     ]
    },
    {
     "data": {
      "application/vnd.jupyter.widget-view+json": {
       "model_id": "bf09e33cad324840a45fa8d32f6d0803",
       "version_major": 2,
       "version_minor": 0
      },
      "text/plain": [
       "HBox(children=(FloatProgress(value=0.0, max=3.0), HTML(value='')))"
      ]
     },
     "metadata": {},
     "output_type": "display_data"
    },
    {
     "name": "stdout",
     "output_type": "stream",
     "text": [
      "0, -10.0, 1508, -10.0\n",
      "0, -9.0, 1668, -9.0\n",
      "0, -8.0, 1831, -8.0\n",
      "0, -7.0, 1992, -7.0\n",
      "0, -6.0, 2126, -6.0\n",
      "0, -5.0, 2243, -5.0\n",
      "0, -4.0, 2339, -4.0\n",
      "0, -3.0, 2433, -3.0\n",
      "0, -2.0, 2521, -2.0\n",
      "0, -1.0, 2638, -1.0\n",
      "0, -0.0, 2736, -0.0\n",
      "0, 1.0, 2774, 1.0\n",
      "0, 2.0, 2774, 1.0\n",
      "0, 3.0, 2774, 1.0\n",
      "0, 4.0, 2774, 1.0\n",
      "0, 5.0, 2774, 1.0\n",
      "0, 6.0, 2774, 1.0\n",
      "0, 7.0, 2774, 1.0\n",
      "0, 8.0, 2774, 1.0\n",
      "0, 9.0, 2774, 1.0\n",
      "1, -10.0, 2330, -10.0\n",
      "1, -9.0, 2477, -9.0\n",
      "1, -8.0, 2612, -8.0\n",
      "1, -7.0, 2825, -7.0\n",
      "1, -6.0, 3009, -6.0\n",
      "1, -5.0, 3105, -5.0\n",
      "1, -4.0, 3162, -4.0\n",
      "1, -3.0, 3167, -3.0\n",
      "1, -2.0, 3167, -3.0\n",
      "1, -1.0, 3167, -3.0\n",
      "1, -0.0, 3167, -3.0\n",
      "1, 1.0, 3167, -3.0\n",
      "1, 2.0, 3167, -3.0\n",
      "1, 3.0, 3167, -3.0\n",
      "1, 4.0, 3167, -3.0\n",
      "1, 5.0, 3167, -3.0\n",
      "1, 6.0, 3167, -3.0\n",
      "1, 7.0, 3167, -3.0\n",
      "1, 8.0, 3167, -3.0\n",
      "1, 9.0, 3167, -3.0\n",
      "2, -10.0, 455, -10.0\n",
      "2, -9.0, 532, -9.0\n",
      "2, -8.0, 656, -8.0\n",
      "2, -7.0, 922, -7.0\n",
      "2, -6.0, 1313, -6.0\n",
      "2, -5.0, 1800, -5.0\n",
      "2, -4.0, 2364, -4.0\n",
      "2, -3.0, 2787, -3.0\n",
      "2, -2.0, 3035, -2.0\n",
      "2, -1.0, 3094, -1.0\n",
      "2, -0.0, 3122, -0.0\n",
      "2, 1.0, 3122, -0.0\n",
      "2, 2.0, 3122, -0.0\n",
      "2, 3.0, 3122, -0.0\n",
      "2, 4.0, 3122, -0.0\n",
      "2, 5.0, 3122, -0.0\n",
      "2, 6.0, 3122, -0.0\n",
      "2, 7.0, 3122, -0.0\n",
      "2, 8.0, 3122, -0.0\n",
      "2, 9.0, 3122, -0.0\n",
      "\n"
     ]
    },
    {
     "data": {
      "application/vnd.jupyter.widget-view+json": {
       "model_id": "21033c0353c547a683f4eedc079c5c6e",
       "version_major": 2,
       "version_minor": 0
      },
      "text/plain": [
       "HBox(children=(FloatProgress(value=0.0, max=9.0), HTML(value='')))"
      ]
     },
     "metadata": {},
     "output_type": "display_data"
    },
    {
     "name": "stdout",
     "output_type": "stream",
     "text": [
      "\n"
     ]
    },
    {
     "data": {
      "application/vnd.jupyter.widget-view+json": {
       "model_id": "238c8b2432f44ba9b3767dc2f5518e03",
       "version_major": 2,
       "version_minor": 0
      },
      "text/plain": [
       "HBox(children=(FloatProgress(value=0.0, max=3.0), HTML(value='')))"
      ]
     },
     "metadata": {},
     "output_type": "display_data"
    },
    {
     "name": "stdout",
     "output_type": "stream",
     "text": [
      "0, -10.0, 1235, -10.0\n",
      "0, -9.0, 1357, -9.0\n",
      "0, -8.0, 1469, -8.0\n",
      "0, -7.0, 1573, -7.0\n",
      "0, -6.0, 1680, -6.0\n",
      "0, -5.0, 1837, -5.0\n",
      "0, -4.0, 2036, -4.0\n",
      "0, -3.0, 2162, -3.0\n",
      "0, -2.0, 2288, -2.0\n",
      "0, -1.0, 2410, -1.0\n",
      "0, -0.0, 2487, -0.0\n",
      "0, 1.0, 2557, 1.0\n",
      "0, 2.0, 2574, 2.0\n",
      "0, 3.0, 2574, 2.0\n",
      "0, 4.0, 2574, 2.0\n",
      "0, 5.0, 2574, 2.0\n",
      "0, 6.0, 2574, 2.0\n",
      "0, 7.0, 2574, 2.0\n",
      "0, 8.0, 2574, 2.0\n",
      "0, 9.0, 2574, 2.0\n",
      "1, -10.0, 2275, -10.0\n",
      "1, -9.0, 2387, -9.0\n",
      "1, -8.0, 2485, -8.0\n",
      "1, -7.0, 2566, -7.0\n",
      "1, -6.0, 2708, -6.0\n",
      "1, -5.0, 2815, -5.0\n",
      "1, -4.0, 2906, -4.0\n",
      "1, -3.0, 2912, -3.0\n",
      "1, -2.0, 2912, -3.0\n",
      "1, -1.0, 2912, -3.0\n",
      "1, -0.0, 2912, -3.0\n",
      "1, 1.0, 2912, -3.0\n",
      "1, 2.0, 2912, -3.0\n",
      "1, 3.0, 2912, -3.0\n",
      "1, 4.0, 2912, -3.0\n",
      "1, 5.0, 2912, -3.0\n",
      "1, 6.0, 2912, -3.0\n",
      "1, 7.0, 2912, -3.0\n",
      "1, 8.0, 2912, -3.0\n",
      "1, 9.0, 2912, -3.0\n",
      "2, -10.0, 700, -10.0\n",
      "2, -9.0, 850, -9.0\n",
      "2, -8.0, 1080, -8.0\n",
      "2, -7.0, 1362, -7.0\n",
      "2, -6.0, 1690, -6.0\n",
      "2, -5.0, 1986, -5.0\n",
      "2, -4.0, 2287, -4.0\n",
      "2, -3.0, 2596, -3.0\n",
      "2, -2.0, 2842, -2.0\n",
      "2, -1.0, 2966, -1.0\n",
      "2, -0.0, 2966, -1.0\n",
      "2, 1.0, 2966, -1.0\n",
      "2, 2.0, 2966, -1.0\n",
      "2, 3.0, 2966, -1.0\n",
      "2, 4.0, 2966, -1.0\n",
      "2, 5.0, 2966, -1.0\n",
      "2, 6.0, 2966, -1.0\n",
      "2, 7.0, 2966, -1.0\n",
      "2, 8.0, 2966, -1.0\n",
      "2, 9.0, 2966, -1.0\n",
      "\n"
     ]
    },
    {
     "data": {
      "application/vnd.jupyter.widget-view+json": {
       "model_id": "3f280ea25d7740f591ce2581d46579b6",
       "version_major": 2,
       "version_minor": 0
      },
      "text/plain": [
       "HBox(children=(FloatProgress(value=0.0, max=9.0), HTML(value='')))"
      ]
     },
     "metadata": {},
     "output_type": "display_data"
    },
    {
     "name": "stdout",
     "output_type": "stream",
     "text": [
      "\n"
     ]
    },
    {
     "data": {
      "application/vnd.jupyter.widget-view+json": {
       "model_id": "2511c96d47d74e5d9c2f48e53dddb347",
       "version_major": 2,
       "version_minor": 0
      },
      "text/plain": [
       "HBox(children=(FloatProgress(value=0.0, max=3.0), HTML(value='')))"
      ]
     },
     "metadata": {},
     "output_type": "display_data"
    },
    {
     "name": "stdout",
     "output_type": "stream",
     "text": [
      "0, -10.0, 1134, -10.0\n",
      "0, -9.0, 1254, -9.0\n",
      "0, -8.0, 1419, -8.0\n",
      "0, -7.0, 1602, -7.0\n",
      "0, -6.0, 1772, -6.0\n",
      "0, -5.0, 1966, -5.0\n",
      "0, -4.0, 2119, -4.0\n",
      "0, -3.0, 2232, -3.0\n",
      "0, -2.0, 2306, -2.0\n",
      "0, -1.0, 2341, -1.0\n",
      "0, -0.0, 2383, -0.0\n",
      "0, 1.0, 2424, 1.0\n",
      "0, 2.0, 2424, 1.0\n",
      "0, 3.0, 2424, 1.0\n",
      "0, 4.0, 2424, 1.0\n",
      "0, 5.0, 2424, 1.0\n",
      "0, 6.0, 2424, 1.0\n",
      "0, 7.0, 2424, 1.0\n",
      "0, 8.0, 2424, 1.0\n",
      "0, 9.0, 2424, 1.0\n",
      "1, -10.0, 2261, -10.0\n",
      "1, -9.0, 2377, -9.0\n",
      "1, -8.0, 2477, -8.0\n",
      "1, -7.0, 2546, -7.0\n",
      "1, -6.0, 2610, -6.0\n",
      "1, -5.0, 2647, -5.0\n",
      "1, -4.0, 2647, -5.0\n",
      "1, -3.0, 2647, -5.0\n",
      "1, -2.0, 2647, -5.0\n",
      "1, -1.0, 2647, -5.0\n",
      "1, -0.0, 2647, -5.0\n",
      "1, 1.0, 2647, -5.0\n",
      "1, 2.0, 2647, -5.0\n",
      "1, 3.0, 2647, -5.0\n",
      "1, 4.0, 2647, -5.0\n",
      "1, 5.0, 2647, -5.0\n",
      "1, 6.0, 2647, -5.0\n",
      "1, 7.0, 2647, -5.0\n",
      "1, 8.0, 2647, -5.0\n",
      "1, 9.0, 2647, -5.0\n",
      "2, -10.0, 526, -10.0\n",
      "2, -9.0, 568, -9.0\n",
      "2, -8.0, 635, -8.0\n",
      "2, -7.0, 764, -7.0\n",
      "2, -6.0, 961, -6.0\n",
      "2, -5.0, 1250, -5.0\n",
      "2, -4.0, 1565, -4.0\n",
      "2, -3.0, 1946, -3.0\n",
      "2, -2.0, 2358, -2.0\n",
      "2, -1.0, 2539, -1.0\n",
      "2, -0.0, 2585, -0.0\n",
      "2, 1.0, 2586, 1.0\n",
      "2, 2.0, 2586, 1.0\n",
      "2, 3.0, 2586, 1.0\n",
      "2, 4.0, 2586, 1.0\n",
      "2, 5.0, 2586, 1.0\n",
      "2, 6.0, 2586, 1.0\n",
      "2, 7.0, 2586, 1.0\n",
      "2, 8.0, 2586, 1.0\n",
      "2, 9.0, 2586, 1.0\n",
      "\n"
     ]
    },
    {
     "data": {
      "application/vnd.jupyter.widget-view+json": {
       "model_id": "51a0746719be4ff7b94ccf0f23370314",
       "version_major": 2,
       "version_minor": 0
      },
      "text/plain": [
       "HBox(children=(FloatProgress(value=0.0, max=9.0), HTML(value='')))"
      ]
     },
     "metadata": {},
     "output_type": "display_data"
    },
    {
     "name": "stdout",
     "output_type": "stream",
     "text": [
      "\n"
     ]
    },
    {
     "data": {
      "application/vnd.jupyter.widget-view+json": {
       "model_id": "eb2dbd3e5a7a4a5f8161da681ff7da36",
       "version_major": 2,
       "version_minor": 0
      },
      "text/plain": [
       "HBox(children=(FloatProgress(value=0.0, max=3.0), HTML(value='')))"
      ]
     },
     "metadata": {},
     "output_type": "display_data"
    },
    {
     "name": "stdout",
     "output_type": "stream",
     "text": [
      "0, -10.0, 1102, -10.0\n",
      "0, -9.0, 1207, -9.0\n",
      "0, -8.0, 1311, -8.0\n",
      "0, -7.0, 1419, -7.0\n",
      "0, -6.0, 1634, -6.0\n",
      "0, -5.0, 1901, -5.0\n",
      "0, -4.0, 2094, -4.0\n",
      "0, -3.0, 2226, -3.0\n",
      "0, -2.0, 2332, -2.0\n",
      "0, -1.0, 2412, -1.0\n",
      "0, -0.0, 2466, -0.0\n",
      "0, 1.0, 2482, 1.0\n",
      "0, 2.0, 2482, 1.0\n",
      "0, 3.0, 2482, 1.0\n",
      "0, 4.0, 2482, 1.0\n",
      "0, 5.0, 2482, 1.0\n",
      "0, 6.0, 2482, 1.0\n",
      "0, 7.0, 2482, 1.0\n",
      "0, 8.0, 2482, 1.0\n",
      "0, 9.0, 2482, 1.0\n",
      "1, -10.0, 1942, -10.0\n",
      "1, -9.0, 2053, -9.0\n",
      "1, -8.0, 2178, -8.0\n",
      "1, -7.0, 2289, -7.0\n",
      "1, -6.0, 2385, -6.0\n",
      "1, -5.0, 2464, -5.0\n",
      "1, -4.0, 2533, -4.0\n",
      "1, -3.0, 2567, -3.0\n",
      "1, -2.0, 2579, -2.0\n",
      "1, -1.0, 2579, -2.0\n",
      "1, -0.0, 2579, -2.0\n",
      "1, 1.0, 2579, -2.0\n",
      "1, 2.0, 2579, -2.0\n",
      "1, 3.0, 2579, -2.0\n",
      "1, 4.0, 2579, -2.0\n",
      "1, 5.0, 2579, -2.0\n",
      "1, 6.0, 2579, -2.0\n",
      "1, 7.0, 2579, -2.0\n",
      "1, 8.0, 2579, -2.0\n",
      "1, 9.0, 2579, -2.0\n",
      "2, -10.0, 591, -10.0\n",
      "2, -9.0, 665, -9.0\n",
      "2, -8.0, 797, -8.0\n",
      "2, -7.0, 1007, -7.0\n",
      "2, -6.0, 1332, -6.0\n",
      "2, -5.0, 1696, -5.0\n",
      "2, -4.0, 1986, -4.0\n",
      "2, -3.0, 2252, -3.0\n",
      "2, -2.0, 2559, -2.0\n",
      "2, -1.0, 2729, -1.0\n",
      "2, -0.0, 2729, -1.0\n",
      "2, 1.0, 2729, -1.0\n",
      "2, 2.0, 2729, -1.0\n",
      "2, 3.0, 2729, -1.0\n",
      "2, 4.0, 2729, -1.0\n",
      "2, 5.0, 2729, -1.0\n",
      "2, 6.0, 2729, -1.0\n",
      "2, 7.0, 2729, -1.0\n",
      "2, 8.0, 2729, -1.0\n",
      "2, 9.0, 2729, -1.0\n",
      "\n"
     ]
    },
    {
     "data": {
      "application/vnd.jupyter.widget-view+json": {
       "model_id": "c7a0b8549efa4f0cbacdcc3230dba733",
       "version_major": 2,
       "version_minor": 0
      },
      "text/plain": [
       "HBox(children=(FloatProgress(value=0.0, max=9.0), HTML(value='')))"
      ]
     },
     "metadata": {},
     "output_type": "display_data"
    },
    {
     "name": "stdout",
     "output_type": "stream",
     "text": [
      "\n"
     ]
    },
    {
     "data": {
      "application/vnd.jupyter.widget-view+json": {
       "model_id": "b24ee304103148e9aadba3dc2bbe1112",
       "version_major": 2,
       "version_minor": 0
      },
      "text/plain": [
       "HBox(children=(FloatProgress(value=0.0, max=3.0), HTML(value='')))"
      ]
     },
     "metadata": {},
     "output_type": "display_data"
    },
    {
     "name": "stdout",
     "output_type": "stream",
     "text": [
      "0, -10.0, 1806, -10.0\n",
      "0, -9.0, 1897, -9.0\n",
      "0, -8.0, 1979, -8.0\n",
      "0, -7.0, 2099, -7.0\n",
      "0, -6.0, 2242, -6.0\n",
      "0, -5.0, 2432, -5.0\n",
      "0, -4.0, 2746, -4.0\n",
      "0, -3.0, 3059, -3.0\n",
      "0, -2.0, 3411, -2.0\n",
      "0, -1.0, 3693, -1.0\n",
      "0, -0.0, 3885, -0.0\n",
      "0, 1.0, 4031, 1.0\n",
      "0, 2.0, 4039, 2.0\n",
      "0, 3.0, 4039, 2.0\n",
      "0, 4.0, 4039, 2.0\n",
      "0, 5.0, 4039, 2.0\n",
      "0, 6.0, 4039, 2.0\n",
      "0, 7.0, 4039, 2.0\n",
      "0, 8.0, 4039, 2.0\n",
      "0, 9.0, 4039, 2.0\n",
      "1, -10.0, 3025, -10.0\n",
      "1, -9.0, 3298, -9.0\n",
      "1, -8.0, 3563, -8.0\n",
      "1, -7.0, 3877, -7.0\n",
      "1, -6.0, 4140, -6.0\n",
      "1, -5.0, 4269, -5.0\n",
      "1, -4.0, 4374, -4.0\n",
      "1, -3.0, 4382, -3.0\n",
      "1, -2.0, 4382, -3.0\n",
      "1, -1.0, 4382, -3.0\n",
      "1, -0.0, 4382, -3.0\n",
      "1, 1.0, 4382, -3.0\n",
      "1, 2.0, 4382, -3.0\n",
      "1, 3.0, 4382, -3.0\n",
      "1, 4.0, 4382, -3.0\n",
      "1, 5.0, 4382, -3.0\n",
      "1, 6.0, 4382, -3.0\n",
      "1, 7.0, 4382, -3.0\n",
      "1, 8.0, 4382, -3.0\n",
      "1, 9.0, 4382, -3.0\n",
      "2, -10.0, 2713, -10.0\n",
      "2, -9.0, 2833, -9.0\n",
      "2, -8.0, 2989, -8.0\n",
      "2, -7.0, 3109, -7.0\n",
      "2, -6.0, 3222, -6.0\n",
      "2, -5.0, 3344, -5.0\n",
      "2, -4.0, 3523, -4.0\n",
      "2, -3.0, 3696, -3.0\n",
      "2, -2.0, 3978, -2.0\n",
      "2, -1.0, 4165, -1.0\n",
      "2, -0.0, 4264, -0.0\n",
      "2, 1.0, 4307, 1.0\n",
      "2, 2.0, 4307, 1.0\n",
      "2, 3.0, 4307, 1.0\n",
      "2, 4.0, 4307, 1.0\n",
      "2, 5.0, 4307, 1.0\n",
      "2, 6.0, 4307, 1.0\n",
      "2, 7.0, 4307, 1.0\n",
      "2, 8.0, 4307, 1.0\n",
      "2, 9.0, 4307, 1.0\n",
      "\n"
     ]
    },
    {
     "data": {
      "application/vnd.jupyter.widget-view+json": {
       "model_id": "40b3dd1250934a0491c43cbd2618048d",
       "version_major": 2,
       "version_minor": 0
      },
      "text/plain": [
       "HBox(children=(FloatProgress(value=0.0, max=9.0), HTML(value='')))"
      ]
     },
     "metadata": {},
     "output_type": "display_data"
    },
    {
     "name": "stdout",
     "output_type": "stream",
     "text": [
      "\n"
     ]
    },
    {
     "data": {
      "application/vnd.jupyter.widget-view+json": {
       "model_id": "d03029314544468887b4ff928d5f4129",
       "version_major": 2,
       "version_minor": 0
      },
      "text/plain": [
       "HBox(children=(FloatProgress(value=0.0, max=3.0), HTML(value='')))"
      ]
     },
     "metadata": {},
     "output_type": "display_data"
    },
    {
     "name": "stdout",
     "output_type": "stream",
     "text": [
      "0, -10.0, 2216, -10.0\n",
      "0, -9.0, 2337, -9.0\n",
      "0, -8.0, 2510, -8.0\n",
      "0, -7.0, 2731, -7.0\n",
      "0, -6.0, 3024, -6.0\n",
      "0, -5.0, 3378, -5.0\n",
      "0, -4.0, 3693, -4.0\n",
      "0, -3.0, 3925, -3.0\n",
      "0, -2.0, 4095, -2.0\n",
      "0, -1.0, 4095, -2.0\n",
      "0, -0.0, 4095, -2.0\n",
      "0, 1.0, 4095, -2.0\n",
      "0, 2.0, 4095, -2.0\n",
      "0, 3.0, 4095, -2.0\n",
      "0, 4.0, 4095, -2.0\n",
      "0, 5.0, 4095, -2.0\n",
      "0, 6.0, 4095, -2.0\n",
      "0, 7.0, 4095, -2.0\n",
      "0, 8.0, 4095, -2.0\n",
      "0, 9.0, 4095, -2.0\n",
      "1, -10.0, 2368, -10.0\n",
      "1, -9.0, 2529, -9.0\n",
      "1, -8.0, 2694, -8.0\n",
      "1, -7.0, 2933, -7.0\n",
      "1, -6.0, 3173, -6.0\n",
      "1, -5.0, 3403, -5.0\n",
      "1, -4.0, 3628, -4.0\n",
      "1, -3.0, 3870, -3.0\n",
      "1, -2.0, 4033, -2.0\n",
      "1, -1.0, 4097, -1.0\n",
      "1, -0.0, 4097, -1.0\n",
      "1, 1.0, 4097, -1.0\n",
      "1, 2.0, 4097, -1.0\n",
      "1, 3.0, 4097, -1.0\n",
      "1, 4.0, 4097, -1.0\n",
      "1, 5.0, 4097, -1.0\n",
      "1, 6.0, 4097, -1.0\n",
      "1, 7.0, 4097, -1.0\n",
      "1, 8.0, 4097, -1.0\n",
      "1, 9.0, 4097, -1.0\n",
      "2, -10.0, 2673, -10.0\n",
      "2, -9.0, 2829, -9.0\n",
      "2, -8.0, 2984, -8.0\n",
      "2, -7.0, 3127, -7.0\n",
      "2, -6.0, 3285, -6.0\n",
      "2, -5.0, 3495, -5.0\n",
      "2, -4.0, 3609, -4.0\n",
      "2, -3.0, 3712, -3.0\n",
      "2, -2.0, 3801, -2.0\n",
      "2, -1.0, 3893, -1.0\n",
      "2, -0.0, 3970, -0.0\n",
      "2, 1.0, 3970, -0.0\n",
      "2, 2.0, 3970, -0.0\n",
      "2, 3.0, 3970, -0.0\n",
      "2, 4.0, 3970, -0.0\n",
      "2, 5.0, 3970, -0.0\n",
      "2, 6.0, 3970, -0.0\n",
      "2, 7.0, 3970, -0.0\n",
      "2, 8.0, 3970, -0.0\n",
      "2, 9.0, 3970, -0.0\n",
      "\n"
     ]
    },
    {
     "data": {
      "application/vnd.jupyter.widget-view+json": {
       "model_id": "da07dbbe5f4a476b8984e6a8908af04b",
       "version_major": 2,
       "version_minor": 0
      },
      "text/plain": [
       "HBox(children=(FloatProgress(value=0.0, max=9.0), HTML(value='')))"
      ]
     },
     "metadata": {},
     "output_type": "display_data"
    },
    {
     "name": "stdout",
     "output_type": "stream",
     "text": [
      "\n"
     ]
    },
    {
     "data": {
      "application/vnd.jupyter.widget-view+json": {
       "model_id": "860e104df53c422da27396eaf069e3c3",
       "version_major": 2,
       "version_minor": 0
      },
      "text/plain": [
       "HBox(children=(FloatProgress(value=0.0, max=3.0), HTML(value='')))"
      ]
     },
     "metadata": {},
     "output_type": "display_data"
    },
    {
     "name": "stdout",
     "output_type": "stream",
     "text": [
      "0, -10.0, 1209, -10.0\n",
      "0, -9.0, 1335, -9.0\n",
      "0, -8.0, 1473, -8.0\n",
      "0, -7.0, 1634, -7.0\n",
      "0, -6.0, 1837, -6.0\n",
      "0, -5.0, 2025, -5.0\n",
      "0, -4.0, 2202, -4.0\n",
      "0, -3.0, 2439, -3.0\n",
      "0, -2.0, 2758, -2.0\n",
      "0, -1.0, 3112, -1.0\n",
      "0, -0.0, 3454, -0.0\n",
      "0, 1.0, 3684, 1.0\n",
      "0, 2.0, 3769, 2.0\n",
      "0, 3.0, 3776, 3.0\n",
      "0, 4.0, 3776, 3.0\n",
      "0, 5.0, 3776, 3.0\n",
      "0, 6.0, 3776, 3.0\n",
      "0, 7.0, 3776, 3.0\n",
      "0, 8.0, 3776, 3.0\n",
      "0, 9.0, 3776, 3.0\n",
      "1, -10.0, 2555, -10.0\n",
      "1, -9.0, 2808, -9.0\n",
      "1, -8.0, 3022, -8.0\n",
      "1, -7.0, 3241, -7.0\n",
      "1, -6.0, 3484, -6.0\n",
      "1, -5.0, 3660, -5.0\n",
      "1, -4.0, 3698, -4.0\n",
      "1, -3.0, 3718, -3.0\n",
      "1, -2.0, 3718, -3.0\n",
      "1, -1.0, 3718, -3.0\n",
      "1, -0.0, 3718, -3.0\n",
      "1, 1.0, 3718, -3.0\n",
      "1, 2.0, 3718, -3.0\n",
      "1, 3.0, 3718, -3.0\n",
      "1, 4.0, 3718, -3.0\n",
      "1, 5.0, 3718, -3.0\n",
      "1, 6.0, 3718, -3.0\n",
      "1, 7.0, 3718, -3.0\n",
      "1, 8.0, 3718, -3.0\n",
      "1, 9.0, 3718, -3.0\n",
      "2, -10.0, 2826, -10.0\n",
      "2, -9.0, 2907, -9.0\n",
      "2, -8.0, 2980, -8.0\n",
      "2, -7.0, 3087, -7.0\n",
      "2, -6.0, 3177, -6.0\n",
      "2, -5.0, 3272, -5.0\n",
      "2, -4.0, 3372, -4.0\n",
      "2, -3.0, 3465, -3.0\n",
      "2, -2.0, 3596, -2.0\n",
      "2, -1.0, 3704, -1.0\n",
      "2, -0.0, 3816, -0.0\n",
      "2, 1.0, 3916, 1.0\n",
      "2, 2.0, 3990, 2.0\n",
      "2, 3.0, 4088, 3.0\n",
      "2, 4.0, 4160, 4.0\n",
      "2, 5.0, 4168, 5.0\n",
      "2, 6.0, 4168, 5.0\n",
      "2, 7.0, 4168, 5.0\n",
      "2, 8.0, 4168, 5.0\n",
      "2, 9.0, 4168, 5.0\n",
      "\n"
     ]
    },
    {
     "data": {
      "application/vnd.jupyter.widget-view+json": {
       "model_id": "b9c3f2a9232a49c9ad0da9bb71a1fb6d",
       "version_major": 2,
       "version_minor": 0
      },
      "text/plain": [
       "HBox(children=(FloatProgress(value=0.0, max=9.0), HTML(value='')))"
      ]
     },
     "metadata": {},
     "output_type": "display_data"
    },
    {
     "name": "stdout",
     "output_type": "stream",
     "text": [
      "\n"
     ]
    },
    {
     "data": {
      "application/vnd.jupyter.widget-view+json": {
       "model_id": "24e25ea247c944889c82b05b3a4657e1",
       "version_major": 2,
       "version_minor": 0
      },
      "text/plain": [
       "HBox(children=(FloatProgress(value=0.0, max=3.0), HTML(value='')))"
      ]
     },
     "metadata": {},
     "output_type": "display_data"
    },
    {
     "name": "stdout",
     "output_type": "stream",
     "text": [
      "0, -10.0, 2175, -10.0\n",
      "0, -9.0, 2338, -9.0\n",
      "0, -8.0, 2538, -8.0\n",
      "0, -7.0, 2765, -7.0\n",
      "0, -6.0, 2970, -6.0\n",
      "0, -5.0, 3255, -5.0\n",
      "0, -4.0, 3575, -4.0\n",
      "0, -3.0, 3895, -3.0\n",
      "0, -2.0, 4184, -2.0\n",
      "0, -1.0, 4366, -1.0\n",
      "0, -0.0, 4397, -0.0\n",
      "0, 1.0, 4397, -0.0\n",
      "0, 2.0, 4397, -0.0\n",
      "0, 3.0, 4397, -0.0\n",
      "0, 4.0, 4397, -0.0\n",
      "0, 5.0, 4397, -0.0\n",
      "0, 6.0, 4397, -0.0\n",
      "0, 7.0, 4397, -0.0\n",
      "0, 8.0, 4397, -0.0\n",
      "0, 9.0, 4397, -0.0\n",
      "1, -10.0, 2894, -10.0\n",
      "1, -9.0, 3027, -9.0\n",
      "1, -8.0, 3191, -8.0\n",
      "1, -7.0, 3334, -7.0\n",
      "1, -6.0, 3507, -6.0\n",
      "1, -5.0, 3742, -5.0\n",
      "1, -4.0, 3958, -4.0\n",
      "1, -3.0, 4163, -3.0\n",
      "1, -2.0, 4283, -2.0\n",
      "1, -1.0, 4295, -1.0\n",
      "1, -0.0, 4295, -1.0\n",
      "1, 1.0, 4295, -1.0\n",
      "1, 2.0, 4295, -1.0\n",
      "1, 3.0, 4295, -1.0\n",
      "1, 4.0, 4295, -1.0\n",
      "1, 5.0, 4295, -1.0\n",
      "1, 6.0, 4295, -1.0\n",
      "1, 7.0, 4295, -1.0\n",
      "1, 8.0, 4295, -1.0\n",
      "1, 9.0, 4295, -1.0\n",
      "2, -10.0, 3066, -10.0\n",
      "2, -9.0, 3185, -9.0\n",
      "2, -8.0, 3303, -8.0\n",
      "2, -7.0, 3413, -7.0\n",
      "2, -6.0, 3521, -6.0\n",
      "2, -5.0, 3637, -5.0\n",
      "2, -4.0, 3748, -4.0\n",
      "2, -3.0, 3899, -3.0\n",
      "2, -2.0, 4018, -2.0\n",
      "2, -1.0, 4136, -1.0\n",
      "2, -0.0, 4237, -0.0\n",
      "2, 1.0, 4341, 1.0\n",
      "2, 2.0, 4410, 2.0\n",
      "2, 3.0, 4476, 3.0\n",
      "2, 4.0, 4500, 4.0\n",
      "2, 5.0, 4503, 5.0\n",
      "2, 6.0, 4503, 5.0\n",
      "2, 7.0, 4503, 5.0\n",
      "2, 8.0, 4503, 5.0\n",
      "2, 9.0, 4503, 5.0\n",
      "\n"
     ]
    },
    {
     "data": {
      "application/vnd.jupyter.widget-view+json": {
       "model_id": "e1188eb2ecb14340a78dd46144e2ea47",
       "version_major": 2,
       "version_minor": 0
      },
      "text/plain": [
       "HBox(children=(FloatProgress(value=0.0, max=9.0), HTML(value='')))"
      ]
     },
     "metadata": {},
     "output_type": "display_data"
    },
    {
     "name": "stdout",
     "output_type": "stream",
     "text": [
      "\n"
     ]
    },
    {
     "data": {
      "application/vnd.jupyter.widget-view+json": {
       "model_id": "48f9afaade13451f834c45b7200b0165",
       "version_major": 2,
       "version_minor": 0
      },
      "text/plain": [
       "HBox(children=(FloatProgress(value=0.0, max=3.0), HTML(value='')))"
      ]
     },
     "metadata": {},
     "output_type": "display_data"
    },
    {
     "name": "stdout",
     "output_type": "stream",
     "text": [
      "0, -10.0, 1626, -10.0\n",
      "0, -9.0, 1742, -9.0\n",
      "0, -8.0, 1839, -8.0\n",
      "0, -7.0, 1984, -7.0\n",
      "0, -6.0, 2228, -6.0\n",
      "0, -5.0, 2528, -5.0\n",
      "0, -4.0, 2769, -4.0\n",
      "0, -3.0, 3078, -3.0\n",
      "0, -2.0, 3430, -2.0\n",
      "0, -1.0, 3692, -1.0\n",
      "0, -0.0, 3828, -0.0\n",
      "0, 1.0, 3828, -0.0\n",
      "0, 2.0, 3828, -0.0\n",
      "0, 3.0, 3828, -0.0\n",
      "0, 4.0, 3828, -0.0\n",
      "0, 5.0, 3828, -0.0\n",
      "0, 6.0, 3828, -0.0\n",
      "0, 7.0, 3828, -0.0\n",
      "0, 8.0, 3828, -0.0\n",
      "0, 9.0, 3828, -0.0\n",
      "1, -10.0, 3394, -10.0\n",
      "1, -9.0, 3520, -9.0\n",
      "1, -8.0, 3586, -8.0\n",
      "1, -7.0, 3711, -7.0\n",
      "1, -6.0, 3821, -6.0\n",
      "1, -5.0, 3959, -5.0\n",
      "1, -4.0, 4041, -4.0\n",
      "1, -3.0, 4166, -3.0\n",
      "1, -2.0, 4210, -2.0\n",
      "1, -1.0, 4210, -2.0\n",
      "1, -0.0, 4210, -2.0\n",
      "1, 1.0, 4210, -2.0\n",
      "1, 2.0, 4210, -2.0\n",
      "1, 3.0, 4210, -2.0\n",
      "1, 4.0, 4210, -2.0\n",
      "1, 5.0, 4210, -2.0\n",
      "1, 6.0, 4210, -2.0\n",
      "1, 7.0, 4210, -2.0\n",
      "1, 8.0, 4210, -2.0\n",
      "1, 9.0, 4210, -2.0\n",
      "2, -10.0, 2967, -10.0\n",
      "2, -9.0, 3057, -9.0\n",
      "2, -8.0, 3180, -8.0\n",
      "2, -7.0, 3302, -7.0\n",
      "2, -6.0, 3428, -6.0\n",
      "2, -5.0, 3547, -5.0\n",
      "2, -4.0, 3643, -4.0\n",
      "2, -3.0, 3727, -3.0\n",
      "2, -2.0, 3821, -2.0\n",
      "2, -1.0, 3936, -1.0\n",
      "2, -0.0, 4030, -0.0\n",
      "2, 1.0, 4060, 1.0\n",
      "2, 2.0, 4087, 2.0\n",
      "2, 3.0, 4100, 3.0\n",
      "2, 4.0, 4100, 3.0\n",
      "2, 5.0, 4100, 3.0\n",
      "2, 6.0, 4100, 3.0\n",
      "2, 7.0, 4100, 3.0\n",
      "2, 8.0, 4100, 3.0\n",
      "2, 9.0, 4100, 3.0\n",
      "\n"
     ]
    },
    {
     "data": {
      "application/vnd.jupyter.widget-view+json": {
       "model_id": "2ce495eeda6f4a5db0849dba91a9aba0",
       "version_major": 2,
       "version_minor": 0
      },
      "text/plain": [
       "HBox(children=(FloatProgress(value=0.0, max=9.0), HTML(value='')))"
      ]
     },
     "metadata": {},
     "output_type": "display_data"
    },
    {
     "name": "stdout",
     "output_type": "stream",
     "text": [
      "\n"
     ]
    },
    {
     "data": {
      "application/vnd.jupyter.widget-view+json": {
       "model_id": "46875bfd2a4e477085363d8499cfbb4a",
       "version_major": 2,
       "version_minor": 0
      },
      "text/plain": [
       "HBox(children=(FloatProgress(value=0.0, max=3.0), HTML(value='')))"
      ]
     },
     "metadata": {},
     "output_type": "display_data"
    },
    {
     "name": "stdout",
     "output_type": "stream",
     "text": [
      "0, -10.0, 1527, -10.0\n",
      "0, -9.0, 1631, -9.0\n",
      "0, -8.0, 1772, -8.0\n",
      "0, -7.0, 1926, -7.0\n",
      "0, -6.0, 2153, -6.0\n",
      "0, -5.0, 2387, -5.0\n",
      "0, -4.0, 2704, -4.0\n",
      "0, -3.0, 3115, -3.0\n",
      "0, -2.0, 3501, -2.0\n",
      "0, -1.0, 3817, -1.0\n",
      "0, -0.0, 4127, -0.0\n",
      "0, 1.0, 4247, 1.0\n",
      "0, 2.0, 4346, 2.0\n",
      "0, 3.0, 4346, 2.0\n",
      "0, 4.0, 4346, 2.0\n",
      "0, 5.0, 4346, 2.0\n",
      "0, 6.0, 4346, 2.0\n",
      "0, 7.0, 4346, 2.0\n",
      "0, 8.0, 4346, 2.0\n",
      "0, 9.0, 4346, 2.0\n",
      "1, -10.0, 2641, -10.0\n",
      "1, -9.0, 2858, -9.0\n",
      "1, -8.0, 3068, -8.0\n",
      "1, -7.0, 3322, -7.0\n",
      "1, -6.0, 3498, -6.0\n",
      "1, -5.0, 3645, -5.0\n",
      "1, -4.0, 3825, -4.0\n",
      "1, -3.0, 3954, -3.0\n",
      "1, -2.0, 4112, -2.0\n",
      "1, -1.0, 4273, -1.0\n",
      "1, -0.0, 4289, -0.0\n",
      "1, 1.0, 4289, -0.0\n",
      "1, 2.0, 4289, -0.0\n",
      "1, 3.0, 4289, -0.0\n",
      "1, 4.0, 4289, -0.0\n",
      "1, 5.0, 4289, -0.0\n",
      "1, 6.0, 4289, -0.0\n",
      "1, 7.0, 4289, -0.0\n",
      "1, 8.0, 4289, -0.0\n",
      "1, 9.0, 4289, -0.0\n",
      "2, -10.0, 3226, -10.0\n",
      "2, -9.0, 3370, -9.0\n",
      "2, -8.0, 3509, -8.0\n",
      "2, -7.0, 3694, -7.0\n",
      "2, -6.0, 3841, -6.0\n",
      "2, -5.0, 3927, -5.0\n",
      "2, -4.0, 4008, -4.0\n",
      "2, -3.0, 4069, -3.0\n",
      "2, -2.0, 4131, -2.0\n",
      "2, -1.0, 4205, -1.0\n",
      "2, -0.0, 4290, -0.0\n",
      "2, 1.0, 4297, 1.0\n",
      "2, 2.0, 4297, 1.0\n",
      "2, 3.0, 4297, 1.0\n",
      "2, 4.0, 4297, 1.0\n",
      "2, 5.0, 4297, 1.0\n",
      "2, 6.0, 4297, 1.0\n",
      "2, 7.0, 4297, 1.0\n",
      "2, 8.0, 4297, 1.0\n",
      "2, 9.0, 4297, 1.0\n",
      "\n"
     ]
    },
    {
     "data": {
      "application/vnd.jupyter.widget-view+json": {
       "model_id": "d0ce27fe6b0745da85cb895c8c3b9fb0",
       "version_major": 2,
       "version_minor": 0
      },
      "text/plain": [
       "HBox(children=(FloatProgress(value=0.0, max=9.0), HTML(value='')))"
      ]
     },
     "metadata": {},
     "output_type": "display_data"
    },
    {
     "name": "stdout",
     "output_type": "stream",
     "text": [
      "\n"
     ]
    },
    {
     "data": {
      "application/vnd.jupyter.widget-view+json": {
       "model_id": "fafb7324e5134a3492503125040006ca",
       "version_major": 2,
       "version_minor": 0
      },
      "text/plain": [
       "HBox(children=(FloatProgress(value=0.0, max=3.0), HTML(value='')))"
      ]
     },
     "metadata": {},
     "output_type": "display_data"
    },
    {
     "name": "stdout",
     "output_type": "stream",
     "text": [
      "0, -10.0, 1373, -10.0\n",
      "0, -9.0, 1477, -9.0\n",
      "0, -8.0, 1594, -8.0\n",
      "0, -7.0, 1765, -7.0\n",
      "0, -6.0, 1938, -6.0\n",
      "0, -5.0, 2277, -5.0\n",
      "0, -4.0, 2737, -4.0\n",
      "0, -3.0, 3034, -3.0\n",
      "0, -2.0, 3279, -2.0\n",
      "0, -1.0, 3407, -1.0\n",
      "0, -0.0, 3449, -0.0\n",
      "0, 1.0, 3449, -0.0\n",
      "0, 2.0, 3449, -0.0\n",
      "0, 3.0, 3449, -0.0\n",
      "0, 4.0, 3449, -0.0\n",
      "0, 5.0, 3449, -0.0\n",
      "0, 6.0, 3449, -0.0\n",
      "0, 7.0, 3449, -0.0\n",
      "0, 8.0, 3449, -0.0\n",
      "0, 9.0, 3449, -0.0\n",
      "1, -10.0, 2149, -10.0\n",
      "1, -9.0, 2255, -9.0\n",
      "1, -8.0, 2419, -8.0\n",
      "1, -7.0, 2555, -7.0\n",
      "1, -6.0, 2723, -6.0\n",
      "1, -5.0, 2872, -5.0\n",
      "1, -4.0, 3051, -4.0\n",
      "1, -3.0, 3227, -3.0\n",
      "1, -2.0, 3341, -2.0\n",
      "1, -1.0, 3433, -1.0\n",
      "1, -0.0, 3433, -1.0\n",
      "1, 1.0, 3433, -1.0\n",
      "1, 2.0, 3433, -1.0\n",
      "1, 3.0, 3433, -1.0\n",
      "1, 4.0, 3433, -1.0\n",
      "1, 5.0, 3433, -1.0\n",
      "1, 6.0, 3433, -1.0\n",
      "1, 7.0, 3433, -1.0\n",
      "1, 8.0, 3433, -1.0\n",
      "1, 9.0, 3433, -1.0\n",
      "2, -10.0, 2104, -10.0\n",
      "2, -9.0, 2212, -9.0\n",
      "2, -8.0, 2317, -8.0\n",
      "2, -7.0, 2419, -7.0\n",
      "2, -6.0, 2543, -6.0\n",
      "2, -5.0, 2711, -5.0\n",
      "2, -4.0, 2881, -4.0\n",
      "2, -3.0, 3024, -3.0\n",
      "2, -2.0, 3185, -2.0\n",
      "2, -1.0, 3318, -1.0\n",
      "2, -0.0, 3413, -0.0\n",
      "2, 1.0, 3424, 1.0\n",
      "2, 2.0, 3424, 1.0\n",
      "2, 3.0, 3424, 1.0\n",
      "2, 4.0, 3424, 1.0\n",
      "2, 5.0, 3424, 1.0\n",
      "2, 6.0, 3424, 1.0\n",
      "2, 7.0, 3424, 1.0\n",
      "2, 8.0, 3424, 1.0\n",
      "2, 9.0, 3424, 1.0\n",
      "\n"
     ]
    },
    {
     "data": {
      "application/vnd.jupyter.widget-view+json": {
       "model_id": "2a4200a603b04d27b234225f36ea92b4",
       "version_major": 2,
       "version_minor": 0
      },
      "text/plain": [
       "HBox(children=(FloatProgress(value=0.0, max=9.0), HTML(value='')))"
      ]
     },
     "metadata": {},
     "output_type": "display_data"
    },
    {
     "name": "stdout",
     "output_type": "stream",
     "text": [
      "\n"
     ]
    },
    {
     "data": {
      "application/vnd.jupyter.widget-view+json": {
       "model_id": "bf21950090034786b8ca1bf2f5671ff5",
       "version_major": 2,
       "version_minor": 0
      },
      "text/plain": [
       "HBox(children=(FloatProgress(value=0.0, max=3.0), HTML(value='')))"
      ]
     },
     "metadata": {},
     "output_type": "display_data"
    },
    {
     "name": "stdout",
     "output_type": "stream",
     "text": [
      "0, -10.0, 1352, -10.0\n",
      "0, -9.0, 1454, -9.0\n",
      "0, -8.0, 1527, -8.0\n",
      "0, -7.0, 1660, -7.0\n",
      "0, -6.0, 1823, -6.0\n",
      "0, -5.0, 2056, -5.0\n",
      "0, -4.0, 2439, -4.0\n",
      "0, -3.0, 2861, -3.0\n",
      "0, -2.0, 3177, -2.0\n",
      "0, -1.0, 3379, -1.0\n",
      "0, -0.0, 3465, -0.0\n",
      "0, 1.0, 3477, 1.0\n",
      "0, 2.0, 3477, 1.0\n",
      "0, 3.0, 3477, 1.0\n",
      "0, 4.0, 3477, 1.0\n",
      "0, 5.0, 3477, 1.0\n",
      "0, 6.0, 3477, 1.0\n",
      "0, 7.0, 3477, 1.0\n",
      "0, 8.0, 3477, 1.0\n",
      "0, 9.0, 3477, 1.0\n",
      "1, -10.0, 2115, -10.0\n",
      "1, -9.0, 2249, -9.0\n",
      "1, -8.0, 2393, -8.0\n",
      "1, -7.0, 2533, -7.0\n",
      "1, -6.0, 2681, -6.0\n",
      "1, -5.0, 2844, -5.0\n",
      "1, -4.0, 3017, -4.0\n",
      "1, -3.0, 3234, -3.0\n",
      "1, -2.0, 3394, -2.0\n",
      "1, -1.0, 3473, -1.0\n",
      "1, -0.0, 3511, -0.0\n",
      "1, 1.0, 3511, -0.0\n",
      "1, 2.0, 3511, -0.0\n",
      "1, 3.0, 3511, -0.0\n",
      "1, 4.0, 3511, -0.0\n",
      "1, 5.0, 3511, -0.0\n",
      "1, 6.0, 3511, -0.0\n",
      "1, 7.0, 3511, -0.0\n",
      "1, 8.0, 3511, -0.0\n",
      "1, 9.0, 3511, -0.0\n",
      "2, -10.0, 2036, -10.0\n",
      "2, -9.0, 2165, -9.0\n",
      "2, -8.0, 2299, -8.0\n",
      "2, -7.0, 2431, -7.0\n",
      "2, -6.0, 2613, -6.0\n",
      "2, -5.0, 2772, -5.0\n",
      "2, -4.0, 2915, -4.0\n",
      "2, -3.0, 3119, -3.0\n",
      "2, -2.0, 3279, -2.0\n",
      "2, -1.0, 3363, -1.0\n",
      "2, -0.0, 3401, -0.0\n",
      "2, 1.0, 3401, -0.0\n",
      "2, 2.0, 3401, -0.0\n",
      "2, 3.0, 3401, -0.0\n",
      "2, 4.0, 3401, -0.0\n",
      "2, 5.0, 3401, -0.0\n",
      "2, 6.0, 3401, -0.0\n",
      "2, 7.0, 3401, -0.0\n",
      "2, 8.0, 3401, -0.0\n",
      "2, 9.0, 3401, -0.0\n",
      "\n"
     ]
    },
    {
     "data": {
      "application/vnd.jupyter.widget-view+json": {
       "model_id": "267fbb9a68cb4232939e3486060bcb40",
       "version_major": 2,
       "version_minor": 0
      },
      "text/plain": [
       "HBox(children=(FloatProgress(value=0.0, max=9.0), HTML(value='')))"
      ]
     },
     "metadata": {},
     "output_type": "display_data"
    },
    {
     "name": "stdout",
     "output_type": "stream",
     "text": [
      "\n"
     ]
    },
    {
     "data": {
      "application/vnd.jupyter.widget-view+json": {
       "model_id": "cc794d393b5e49758859f9f90f5bd875",
       "version_major": 2,
       "version_minor": 0
      },
      "text/plain": [
       "HBox(children=(FloatProgress(value=0.0, max=3.0), HTML(value='')))"
      ]
     },
     "metadata": {},
     "output_type": "display_data"
    },
    {
     "name": "stdout",
     "output_type": "stream",
     "text": [
      "0, -10.0, 1380, -10.0\n",
      "0, -9.0, 1477, -9.0\n",
      "0, -8.0, 1556, -8.0\n",
      "0, -7.0, 1685, -7.0\n",
      "0, -6.0, 1824, -6.0\n",
      "0, -5.0, 1955, -5.0\n",
      "0, -4.0, 2105, -4.0\n",
      "0, -3.0, 2262, -3.0\n",
      "0, -2.0, 2460, -2.0\n",
      "0, -1.0, 2606, -1.0\n",
      "0, -0.0, 2678, -0.0\n",
      "0, 1.0, 2713, 1.0\n",
      "0, 2.0, 2718, 2.0\n",
      "0, 3.0, 2718, 2.0\n",
      "0, 4.0, 2718, 2.0\n",
      "0, 5.0, 2718, 2.0\n",
      "0, 6.0, 2718, 2.0\n",
      "0, 7.0, 2718, 2.0\n",
      "0, 8.0, 2718, 2.0\n",
      "0, 9.0, 2718, 2.0\n",
      "1, -10.0, 1972, -10.0\n",
      "1, -9.0, 2113, -9.0\n",
      "1, -8.0, 2256, -8.0\n",
      "1, -7.0, 2414, -7.0\n",
      "1, -6.0, 2562, -6.0\n",
      "1, -5.0, 2686, -5.0\n",
      "1, -4.0, 2774, -4.0\n",
      "1, -3.0, 2794, -3.0\n",
      "1, -2.0, 2800, -2.0\n",
      "1, -1.0, 2800, -2.0\n",
      "1, -0.0, 2800, -2.0\n",
      "1, 1.0, 2800, -2.0\n",
      "1, 2.0, 2800, -2.0\n",
      "1, 3.0, 2800, -2.0\n",
      "1, 4.0, 2800, -2.0\n",
      "1, 5.0, 2800, -2.0\n",
      "1, 6.0, 2800, -2.0\n",
      "1, 7.0, 2800, -2.0\n",
      "1, 8.0, 2800, -2.0\n",
      "1, 9.0, 2800, -2.0\n",
      "2, -10.0, 820, -10.0\n",
      "2, -9.0, 937, -9.0\n",
      "2, -8.0, 1095, -8.0\n",
      "2, -7.0, 1273, -7.0\n",
      "2, -6.0, 1491, -6.0\n",
      "2, -5.0, 1707, -5.0\n",
      "2, -4.0, 1917, -4.0\n",
      "2, -3.0, 2181, -3.0\n",
      "2, -2.0, 2489, -2.0\n",
      "2, -1.0, 2737, -1.0\n",
      "2, -0.0, 2747, -0.0\n",
      "2, 1.0, 2747, -0.0\n",
      "2, 2.0, 2747, -0.0\n",
      "2, 3.0, 2747, -0.0\n",
      "2, 4.0, 2747, -0.0\n",
      "2, 5.0, 2747, -0.0\n",
      "2, 6.0, 2747, -0.0\n",
      "2, 7.0, 2747, -0.0\n",
      "2, 8.0, 2747, -0.0\n",
      "2, 9.0, 2747, -0.0\n",
      "\n"
     ]
    },
    {
     "data": {
      "application/vnd.jupyter.widget-view+json": {
       "model_id": "961cb5acd74e4a56beb0fb6a092308db",
       "version_major": 2,
       "version_minor": 0
      },
      "text/plain": [
       "HBox(children=(FloatProgress(value=0.0, max=9.0), HTML(value='')))"
      ]
     },
     "metadata": {},
     "output_type": "display_data"
    },
    {
     "name": "stdout",
     "output_type": "stream",
     "text": [
      "\n"
     ]
    },
    {
     "data": {
      "application/vnd.jupyter.widget-view+json": {
       "model_id": "aacab3fff6b147fdb73bf80fd2f0bcae",
       "version_major": 2,
       "version_minor": 0
      },
      "text/plain": [
       "HBox(children=(FloatProgress(value=0.0, max=3.0), HTML(value='')))"
      ]
     },
     "metadata": {},
     "output_type": "display_data"
    },
    {
     "name": "stdout",
     "output_type": "stream",
     "text": [
      "0, -10.0, 1326, -10.0\n",
      "0, -9.0, 1415, -9.0\n",
      "0, -8.0, 1537, -8.0\n",
      "0, -7.0, 1674, -7.0\n",
      "0, -6.0, 1862, -6.0\n",
      "0, -5.0, 2043, -5.0\n",
      "0, -4.0, 2256, -4.0\n",
      "0, -3.0, 2460, -3.0\n",
      "0, -2.0, 2562, -2.0\n",
      "0, -1.0, 2614, -1.0\n",
      "0, -0.0, 2664, -0.0\n",
      "0, 1.0, 2723, 1.0\n",
      "0, 2.0, 2723, 1.0\n",
      "0, 3.0, 2723, 1.0\n",
      "0, 4.0, 2723, 1.0\n",
      "0, 5.0, 2723, 1.0\n",
      "0, 6.0, 2723, 1.0\n",
      "0, 7.0, 2723, 1.0\n",
      "0, 8.0, 2723, 1.0\n",
      "0, 9.0, 2723, 1.0\n",
      "1, -10.0, 1340, -10.0\n",
      "1, -9.0, 1499, -9.0\n",
      "1, -8.0, 1682, -8.0\n",
      "1, -7.0, 1797, -7.0\n",
      "1, -6.0, 1912, -6.0\n",
      "1, -5.0, 2071, -5.0\n",
      "1, -4.0, 2265, -4.0\n",
      "1, -3.0, 2425, -3.0\n",
      "1, -2.0, 2522, -2.0\n",
      "1, -1.0, 2617, -1.0\n",
      "1, -0.0, 2658, -0.0\n",
      "1, 1.0, 2662, 1.0\n",
      "1, 2.0, 2677, 2.0\n",
      "1, 3.0, 2690, 3.0\n",
      "1, 4.0, 2690, 3.0\n",
      "1, 5.0, 2690, 3.0\n",
      "1, 6.0, 2690, 3.0\n",
      "1, 7.0, 2690, 3.0\n",
      "1, 8.0, 2690, 3.0\n",
      "1, 9.0, 2690, 3.0\n",
      "2, -10.0, 901, -10.0\n",
      "2, -9.0, 1094, -9.0\n",
      "2, -8.0, 1300, -8.0\n",
      "2, -7.0, 1505, -7.0\n",
      "2, -6.0, 1670, -6.0\n",
      "2, -5.0, 1841, -5.0\n",
      "2, -4.0, 2091, -4.0\n",
      "2, -3.0, 2377, -3.0\n",
      "2, -2.0, 2662, -2.0\n",
      "2, -1.0, 2786, -1.0\n",
      "2, -0.0, 2786, -1.0\n",
      "2, 1.0, 2786, -1.0\n",
      "2, 2.0, 2786, -1.0\n",
      "2, 3.0, 2786, -1.0\n",
      "2, 4.0, 2786, -1.0\n",
      "2, 5.0, 2786, -1.0\n",
      "2, 6.0, 2786, -1.0\n",
      "2, 7.0, 2786, -1.0\n",
      "2, 8.0, 2786, -1.0\n",
      "2, 9.0, 2786, -1.0\n",
      "\n"
     ]
    },
    {
     "data": {
      "application/vnd.jupyter.widget-view+json": {
       "model_id": "0400330a25ce4c93852f0cda3b44a60e",
       "version_major": 2,
       "version_minor": 0
      },
      "text/plain": [
       "HBox(children=(FloatProgress(value=0.0, max=9.0), HTML(value='')))"
      ]
     },
     "metadata": {},
     "output_type": "display_data"
    },
    {
     "name": "stdout",
     "output_type": "stream",
     "text": [
      "\n"
     ]
    },
    {
     "data": {
      "application/vnd.jupyter.widget-view+json": {
       "model_id": "b6c9b54945044b569b8bfe6e9ae0d63c",
       "version_major": 2,
       "version_minor": 0
      },
      "text/plain": [
       "HBox(children=(FloatProgress(value=0.0, max=3.0), HTML(value='')))"
      ]
     },
     "metadata": {},
     "output_type": "display_data"
    },
    {
     "name": "stdout",
     "output_type": "stream",
     "text": [
      "0, -10.0, 1422, -10.0\n",
      "0, -9.0, 1522, -9.0\n",
      "0, -8.0, 1643, -8.0\n",
      "0, -7.0, 1822, -7.0\n",
      "0, -6.0, 2021, -6.0\n",
      "0, -5.0, 2238, -5.0\n",
      "0, -4.0, 2460, -4.0\n",
      "0, -3.0, 2659, -3.0\n",
      "0, -2.0, 2869, -2.0\n",
      "0, -1.0, 3043, -1.0\n",
      "0, -0.0, 3127, -0.0\n",
      "0, 1.0, 3181, 1.0\n",
      "0, 2.0, 3181, 1.0\n",
      "0, 3.0, 3181, 1.0\n",
      "0, 4.0, 3181, 1.0\n",
      "0, 5.0, 3181, 1.0\n",
      "0, 6.0, 3181, 1.0\n",
      "0, 7.0, 3181, 1.0\n",
      "0, 8.0, 3181, 1.0\n",
      "0, 9.0, 3181, 1.0\n",
      "1, -10.0, 1345, -10.0\n",
      "1, -9.0, 1527, -9.0\n",
      "1, -8.0, 1704, -8.0\n",
      "1, -7.0, 1904, -7.0\n",
      "1, -6.0, 2152, -6.0\n",
      "1, -5.0, 2365, -5.0\n",
      "1, -4.0, 2579, -4.0\n",
      "1, -3.0, 2810, -3.0\n",
      "1, -2.0, 2979, -2.0\n",
      "1, -1.0, 3064, -1.0\n",
      "1, -0.0, 3130, -0.0\n",
      "1, 1.0, 3143, 1.0\n",
      "1, 2.0, 3156, 2.0\n",
      "1, 3.0, 3156, 2.0\n",
      "1, 4.0, 3156, 2.0\n",
      "1, 5.0, 3156, 2.0\n",
      "1, 6.0, 3156, 2.0\n",
      "1, 7.0, 3156, 2.0\n",
      "1, 8.0, 3156, 2.0\n",
      "1, 9.0, 3156, 2.0\n",
      "2, -10.0, 926, -10.0\n",
      "2, -9.0, 1040, -9.0\n",
      "2, -8.0, 1211, -8.0\n",
      "2, -7.0, 1485, -7.0\n",
      "2, -6.0, 1805, -6.0\n",
      "2, -5.0, 2235, -5.0\n",
      "2, -4.0, 2541, -4.0\n",
      "2, -3.0, 2828, -3.0\n",
      "2, -2.0, 3096, -2.0\n",
      "2, -1.0, 3220, -1.0\n",
      "2, -0.0, 3253, -0.0\n",
      "2, 1.0, 3253, -0.0\n",
      "2, 2.0, 3253, -0.0\n",
      "2, 3.0, 3253, -0.0\n",
      "2, 4.0, 3253, -0.0\n",
      "2, 5.0, 3253, -0.0\n",
      "2, 6.0, 3253, -0.0\n",
      "2, 7.0, 3253, -0.0\n",
      "2, 8.0, 3253, -0.0\n",
      "2, 9.0, 3253, -0.0\n",
      "\n"
     ]
    },
    {
     "data": {
      "application/vnd.jupyter.widget-view+json": {
       "model_id": "7c410fa7c6034934beb83bd43128396d",
       "version_major": 2,
       "version_minor": 0
      },
      "text/plain": [
       "HBox(children=(FloatProgress(value=0.0, max=9.0), HTML(value='')))"
      ]
     },
     "metadata": {},
     "output_type": "display_data"
    },
    {
     "name": "stdout",
     "output_type": "stream",
     "text": [
      "\n"
     ]
    },
    {
     "data": {
      "application/vnd.jupyter.widget-view+json": {
       "model_id": "af88fbb05edb417ea5f4cb6c1a466fd7",
       "version_major": 2,
       "version_minor": 0
      },
      "text/plain": [
       "HBox(children=(FloatProgress(value=0.0, max=3.0), HTML(value='')))"
      ]
     },
     "metadata": {},
     "output_type": "display_data"
    },
    {
     "name": "stdout",
     "output_type": "stream",
     "text": [
      "0, -10.0, 1346, -10.0\n",
      "0, -9.0, 1472, -9.0\n",
      "0, -8.0, 1640, -8.0\n",
      "0, -7.0, 1842, -7.0\n",
      "0, -6.0, 2086, -6.0\n",
      "0, -5.0, 2327, -5.0\n",
      "0, -4.0, 2576, -4.0\n",
      "0, -3.0, 2788, -3.0\n",
      "0, -2.0, 2940, -2.0\n",
      "0, -1.0, 3066, -1.0\n",
      "0, -0.0, 3157, -0.0\n",
      "0, 1.0, 3208, 1.0\n",
      "0, 2.0, 3208, 1.0\n",
      "0, 3.0, 3208, 1.0\n",
      "0, 4.0, 3208, 1.0\n",
      "0, 5.0, 3208, 1.0\n",
      "0, 6.0, 3208, 1.0\n",
      "0, 7.0, 3208, 1.0\n",
      "0, 8.0, 3208, 1.0\n",
      "0, 9.0, 3208, 1.0\n",
      "1, -10.0, 1716, -10.0\n",
      "1, -9.0, 1891, -9.0\n",
      "1, -8.0, 2049, -8.0\n",
      "1, -7.0, 2257, -7.0\n",
      "1, -6.0, 2459, -6.0\n",
      "1, -5.0, 2690, -5.0\n",
      "1, -4.0, 2871, -4.0\n",
      "1, -3.0, 3027, -3.0\n",
      "1, -2.0, 3138, -2.0\n",
      "1, -1.0, 3168, -1.0\n",
      "1, -0.0, 3172, -0.0\n",
      "1, 1.0, 3172, -0.0\n",
      "1, 2.0, 3172, -0.0\n",
      "1, 3.0, 3172, -0.0\n",
      "1, 4.0, 3172, -0.0\n",
      "1, 5.0, 3172, -0.0\n",
      "1, 6.0, 3172, -0.0\n",
      "1, 7.0, 3172, -0.0\n",
      "1, 8.0, 3172, -0.0\n",
      "1, 9.0, 3172, -0.0\n",
      "2, -10.0, 873, -10.0\n",
      "2, -9.0, 1061, -9.0\n",
      "2, -8.0, 1300, -8.0\n",
      "2, -7.0, 1634, -7.0\n",
      "2, -6.0, 2029, -6.0\n",
      "2, -5.0, 2347, -5.0\n",
      "2, -4.0, 2620, -4.0\n",
      "2, -3.0, 2874, -3.0\n",
      "2, -2.0, 3117, -2.0\n",
      "2, -1.0, 3226, -1.0\n",
      "2, -0.0, 3241, -0.0\n",
      "2, 1.0, 3241, -0.0\n",
      "2, 2.0, 3241, -0.0\n",
      "2, 3.0, 3241, -0.0\n",
      "2, 4.0, 3241, -0.0\n",
      "2, 5.0, 3241, -0.0\n",
      "2, 6.0, 3241, -0.0\n",
      "2, 7.0, 3241, -0.0\n",
      "2, 8.0, 3241, -0.0\n",
      "2, 9.0, 3241, -0.0\n",
      "\n"
     ]
    },
    {
     "data": {
      "application/vnd.jupyter.widget-view+json": {
       "model_id": "2299f4c9ed2f45c8b3e8222e002cdc21",
       "version_major": 2,
       "version_minor": 0
      },
      "text/plain": [
       "HBox(children=(FloatProgress(value=0.0, max=9.0), HTML(value='')))"
      ]
     },
     "metadata": {},
     "output_type": "display_data"
    },
    {
     "name": "stdout",
     "output_type": "stream",
     "text": [
      "\n"
     ]
    },
    {
     "data": {
      "application/vnd.jupyter.widget-view+json": {
       "model_id": "428a7767578e41629ed4250d3c05c031",
       "version_major": 2,
       "version_minor": 0
      },
      "text/plain": [
       "HBox(children=(FloatProgress(value=0.0, max=3.0), HTML(value='')))"
      ]
     },
     "metadata": {},
     "output_type": "display_data"
    },
    {
     "name": "stdout",
     "output_type": "stream",
     "text": [
      "0, -10.0, 2039, -10.0\n",
      "0, -9.0, 2224, -9.0\n",
      "0, -8.0, 2443, -8.0\n",
      "0, -7.0, 2746, -7.0\n",
      "0, -6.0, 3023, -6.0\n",
      "0, -5.0, 3363, -5.0\n",
      "0, -4.0, 3713, -4.0\n",
      "0, -3.0, 3961, -3.0\n",
      "0, -2.0, 4101, -2.0\n",
      "0, -1.0, 4162, -1.0\n",
      "0, -0.0, 4167, -0.0\n",
      "0, 1.0, 4167, -0.0\n",
      "0, 2.0, 4167, -0.0\n",
      "0, 3.0, 4167, -0.0\n",
      "0, 4.0, 4167, -0.0\n",
      "0, 5.0, 4167, -0.0\n",
      "0, 6.0, 4167, -0.0\n",
      "0, 7.0, 4167, -0.0\n",
      "0, 8.0, 4167, -0.0\n",
      "0, 9.0, 4167, -0.0\n",
      "1, -10.0, 2500, -10.0\n",
      "1, -9.0, 2727, -9.0\n",
      "1, -8.0, 2959, -8.0\n",
      "1, -7.0, 3243, -7.0\n",
      "1, -6.0, 3461, -6.0\n",
      "1, -5.0, 3675, -5.0\n",
      "1, -4.0, 3848, -4.0\n",
      "1, -3.0, 4000, -3.0\n",
      "1, -2.0, 4123, -2.0\n",
      "1, -1.0, 4218, -1.0\n",
      "1, -0.0, 4273, -0.0\n",
      "1, 1.0, 4273, -0.0\n",
      "1, 2.0, 4273, -0.0\n",
      "1, 3.0, 4273, -0.0\n",
      "1, 4.0, 4273, -0.0\n",
      "1, 5.0, 4273, -0.0\n",
      "1, 6.0, 4273, -0.0\n",
      "1, 7.0, 4273, -0.0\n",
      "1, 8.0, 4273, -0.0\n",
      "1, 9.0, 4273, -0.0\n",
      "2, -10.0, 1582, -10.0\n",
      "2, -9.0, 1704, -9.0\n",
      "2, -8.0, 1869, -8.0\n",
      "2, -7.0, 2032, -7.0\n",
      "2, -6.0, 2301, -6.0\n",
      "2, -5.0, 2597, -5.0\n",
      "2, -4.0, 2963, -4.0\n",
      "2, -3.0, 3407, -3.0\n",
      "2, -2.0, 3824, -2.0\n",
      "2, -1.0, 4095, -1.0\n",
      "2, -0.0, 4183, -0.0\n",
      "2, 1.0, 4183, -0.0\n",
      "2, 2.0, 4183, -0.0\n",
      "2, 3.0, 4183, -0.0\n",
      "2, 4.0, 4183, -0.0\n",
      "2, 5.0, 4183, -0.0\n",
      "2, 6.0, 4183, -0.0\n",
      "2, 7.0, 4183, -0.0\n",
      "2, 8.0, 4183, -0.0\n",
      "2, 9.0, 4183, -0.0\n",
      "\n"
     ]
    },
    {
     "data": {
      "application/vnd.jupyter.widget-view+json": {
       "model_id": "ab97d3ec246246a5be938b384330d936",
       "version_major": 2,
       "version_minor": 0
      },
      "text/plain": [
       "HBox(children=(FloatProgress(value=0.0, max=9.0), HTML(value='')))"
      ]
     },
     "metadata": {},
     "output_type": "display_data"
    },
    {
     "name": "stdout",
     "output_type": "stream",
     "text": [
      "\n"
     ]
    },
    {
     "data": {
      "application/vnd.jupyter.widget-view+json": {
       "model_id": "e7bace7f7dff4892b772853f860b6a72",
       "version_major": 2,
       "version_minor": 0
      },
      "text/plain": [
       "HBox(children=(FloatProgress(value=0.0, max=3.0), HTML(value='')))"
      ]
     },
     "metadata": {},
     "output_type": "display_data"
    },
    {
     "name": "stdout",
     "output_type": "stream",
     "text": [
      "0, -10.0, 2439, -10.0\n",
      "0, -9.0, 2683, -9.0\n",
      "0, -8.0, 2887, -8.0\n",
      "0, -7.0, 3047, -7.0\n",
      "0, -6.0, 3261, -6.0\n",
      "0, -5.0, 3426, -5.0\n",
      "0, -4.0, 3620, -4.0\n",
      "0, -3.0, 3808, -3.0\n",
      "0, -2.0, 3974, -2.0\n",
      "0, -1.0, 4028, -1.0\n",
      "0, -0.0, 4028, -1.0\n",
      "0, 1.0, 4028, -1.0\n",
      "0, 2.0, 4028, -1.0\n",
      "0, 3.0, 4028, -1.0\n",
      "0, 4.0, 4028, -1.0\n",
      "0, 5.0, 4028, -1.0\n",
      "0, 6.0, 4028, -1.0\n",
      "0, 7.0, 4028, -1.0\n",
      "0, 8.0, 4028, -1.0\n",
      "0, 9.0, 4028, -1.0\n",
      "1, -10.0, 2212, -10.0\n",
      "1, -9.0, 2424, -9.0\n",
      "1, -8.0, 2690, -8.0\n",
      "1, -7.0, 2949, -7.0\n",
      "1, -6.0, 3204, -6.0\n",
      "1, -5.0, 3420, -5.0\n",
      "1, -4.0, 3634, -4.0\n",
      "1, -3.0, 3839, -3.0\n",
      "1, -2.0, 3986, -2.0\n",
      "1, -1.0, 4064, -1.0\n",
      "1, -0.0, 4064, -1.0\n",
      "1, 1.0, 4064, -1.0\n",
      "1, 2.0, 4064, -1.0\n",
      "1, 3.0, 4064, -1.0\n",
      "1, 4.0, 4064, -1.0\n",
      "1, 5.0, 4064, -1.0\n",
      "1, 6.0, 4064, -1.0\n",
      "1, 7.0, 4064, -1.0\n",
      "1, 8.0, 4064, -1.0\n",
      "1, 9.0, 4064, -1.0\n",
      "2, -10.0, 1516, -10.0\n",
      "2, -9.0, 1659, -9.0\n",
      "2, -8.0, 1833, -8.0\n",
      "2, -7.0, 2033, -7.0\n",
      "2, -6.0, 2277, -6.0\n",
      "2, -5.0, 2523, -5.0\n",
      "2, -4.0, 2776, -4.0\n",
      "2, -3.0, 3060, -3.0\n",
      "2, -2.0, 3413, -2.0\n",
      "2, -1.0, 3824, -1.0\n",
      "2, -0.0, 4095, -0.0\n",
      "2, 1.0, 4149, 1.0\n",
      "2, 2.0, 4149, 1.0\n",
      "2, 3.0, 4149, 1.0\n",
      "2, 4.0, 4149, 1.0\n",
      "2, 5.0, 4149, 1.0\n",
      "2, 6.0, 4149, 1.0\n",
      "2, 7.0, 4149, 1.0\n",
      "2, 8.0, 4149, 1.0\n",
      "2, 9.0, 4149, 1.0\n",
      "\n"
     ]
    },
    {
     "data": {
      "application/vnd.jupyter.widget-view+json": {
       "model_id": "102fc30fa5044a4183b5d8ef0bb5104b",
       "version_major": 2,
       "version_minor": 0
      },
      "text/plain": [
       "HBox(children=(FloatProgress(value=0.0, max=9.0), HTML(value='')))"
      ]
     },
     "metadata": {},
     "output_type": "display_data"
    },
    {
     "name": "stdout",
     "output_type": "stream",
     "text": [
      "\n"
     ]
    },
    {
     "data": {
      "application/vnd.jupyter.widget-view+json": {
       "model_id": "3e7bf72ec05c4a439634e273f99c7e69",
       "version_major": 2,
       "version_minor": 0
      },
      "text/plain": [
       "HBox(children=(FloatProgress(value=0.0, max=3.0), HTML(value='')))"
      ]
     },
     "metadata": {},
     "output_type": "display_data"
    },
    {
     "name": "stdout",
     "output_type": "stream",
     "text": [
      "0, -10.0, 1650, -10.0\n",
      "0, -9.0, 1822, -9.0\n",
      "0, -8.0, 2024, -8.0\n",
      "0, -7.0, 2242, -7.0\n",
      "0, -6.0, 2522, -6.0\n",
      "0, -5.0, 2875, -5.0\n",
      "0, -4.0, 3178, -4.0\n",
      "0, -3.0, 3521, -3.0\n",
      "0, -2.0, 3757, -2.0\n",
      "0, -1.0, 3918, -1.0\n",
      "0, -0.0, 4025, -0.0\n",
      "0, 1.0, 4025, -0.0\n",
      "0, 2.0, 4025, -0.0\n",
      "0, 3.0, 4025, -0.0\n",
      "0, 4.0, 4025, -0.0\n",
      "0, 5.0, 4025, -0.0\n",
      "0, 6.0, 4025, -0.0\n",
      "0, 7.0, 4025, -0.0\n",
      "0, 8.0, 4025, -0.0\n",
      "0, 9.0, 4025, -0.0\n",
      "1, -10.0, 2788, -10.0\n",
      "1, -9.0, 2935, -9.0\n",
      "1, -8.0, 3135, -8.0\n",
      "1, -7.0, 3406, -7.0\n",
      "1, -6.0, 3673, -6.0\n",
      "1, -5.0, 4035, -5.0\n",
      "1, -4.0, 4215, -4.0\n",
      "1, -3.0, 4341, -3.0\n",
      "1, -2.0, 4363, -2.0\n",
      "1, -1.0, 4363, -2.0\n",
      "1, -0.0, 4363, -2.0\n",
      "1, 1.0, 4363, -2.0\n",
      "1, 2.0, 4363, -2.0\n",
      "1, 3.0, 4363, -2.0\n",
      "1, 4.0, 4363, -2.0\n",
      "1, 5.0, 4363, -2.0\n",
      "1, 6.0, 4363, -2.0\n",
      "1, 7.0, 4363, -2.0\n",
      "1, 8.0, 4363, -2.0\n",
      "1, 9.0, 4363, -2.0\n",
      "2, -10.0, 1776, -10.0\n",
      "2, -9.0, 1970, -9.0\n",
      "2, -8.0, 2231, -8.0\n",
      "2, -7.0, 2554, -7.0\n",
      "2, -6.0, 2930, -6.0\n",
      "2, -5.0, 3374, -5.0\n",
      "2, -4.0, 3788, -4.0\n",
      "2, -3.0, 4067, -3.0\n",
      "2, -2.0, 4209, -2.0\n",
      "2, -1.0, 4282, -1.0\n",
      "2, -0.0, 4340, -0.0\n",
      "2, 1.0, 4340, -0.0\n",
      "2, 2.0, 4340, -0.0\n",
      "2, 3.0, 4340, -0.0\n",
      "2, 4.0, 4340, -0.0\n",
      "2, 5.0, 4340, -0.0\n",
      "2, 6.0, 4340, -0.0\n",
      "2, 7.0, 4340, -0.0\n",
      "2, 8.0, 4340, -0.0\n",
      "2, 9.0, 4340, -0.0\n",
      "\n"
     ]
    },
    {
     "data": {
      "application/vnd.jupyter.widget-view+json": {
       "model_id": "a80da1edfef14af6b51b1e14f011d706",
       "version_major": 2,
       "version_minor": 0
      },
      "text/plain": [
       "HBox(children=(FloatProgress(value=0.0, max=9.0), HTML(value='')))"
      ]
     },
     "metadata": {},
     "output_type": "display_data"
    },
    {
     "name": "stdout",
     "output_type": "stream",
     "text": [
      "\n"
     ]
    },
    {
     "data": {
      "application/vnd.jupyter.widget-view+json": {
       "model_id": "5b1feb0c1d314512ad1171b88030131a",
       "version_major": 2,
       "version_minor": 0
      },
      "text/plain": [
       "HBox(children=(FloatProgress(value=0.0, max=3.0), HTML(value='')))"
      ]
     },
     "metadata": {},
     "output_type": "display_data"
    },
    {
     "name": "stdout",
     "output_type": "stream",
     "text": [
      "0, -10.0, 1919, -10.0\n",
      "0, -9.0, 2132, -9.0\n",
      "0, -8.0, 2402, -8.0\n",
      "0, -7.0, 2708, -7.0\n",
      "0, -6.0, 3073, -6.0\n",
      "0, -5.0, 3401, -5.0\n",
      "0, -4.0, 3649, -4.0\n",
      "0, -3.0, 3861, -3.0\n",
      "0, -2.0, 4127, -2.0\n",
      "0, -1.0, 4386, -1.0\n",
      "0, -0.0, 4551, -0.0\n",
      "0, 1.0, 4551, -0.0\n",
      "0, 2.0, 4551, -0.0\n",
      "0, 3.0, 4551, -0.0\n",
      "0, 4.0, 4551, -0.0\n",
      "0, 5.0, 4551, -0.0\n",
      "0, 6.0, 4551, -0.0\n",
      "0, 7.0, 4551, -0.0\n",
      "0, 8.0, 4551, -0.0\n",
      "0, 9.0, 4551, -0.0\n",
      "1, -10.0, 2764, -10.0\n",
      "1, -9.0, 2958, -9.0\n",
      "1, -8.0, 3199, -8.0\n",
      "1, -7.0, 3396, -7.0\n",
      "1, -6.0, 3638, -6.0\n",
      "1, -5.0, 3841, -5.0\n",
      "1, -4.0, 4065, -4.0\n",
      "1, -3.0, 4295, -3.0\n",
      "1, -2.0, 4410, -2.0\n",
      "1, -1.0, 4500, -1.0\n",
      "1, -0.0, 4539, -0.0\n",
      "1, 1.0, 4539, -0.0\n",
      "1, 2.0, 4539, -0.0\n",
      "1, 3.0, 4539, -0.0\n",
      "1, 4.0, 4539, -0.0\n",
      "1, 5.0, 4539, -0.0\n",
      "1, 6.0, 4539, -0.0\n",
      "1, 7.0, 4539, -0.0\n",
      "1, 8.0, 4539, -0.0\n",
      "1, 9.0, 4539, -0.0\n",
      "2, -10.0, 1837, -10.0\n",
      "2, -9.0, 2038, -9.0\n",
      "2, -8.0, 2335, -8.0\n",
      "2, -7.0, 2654, -7.0\n",
      "2, -6.0, 3001, -6.0\n",
      "2, -5.0, 3473, -5.0\n",
      "2, -4.0, 4012, -4.0\n",
      "2, -3.0, 4463, -3.0\n",
      "2, -2.0, 4651, -2.0\n",
      "2, -1.0, 4726, -1.0\n",
      "2, -0.0, 4726, -1.0\n",
      "2, 1.0, 4726, -1.0\n",
      "2, 2.0, 4726, -1.0\n",
      "2, 3.0, 4726, -1.0\n",
      "2, 4.0, 4726, -1.0\n",
      "2, 5.0, 4726, -1.0\n",
      "2, 6.0, 4726, -1.0\n",
      "2, 7.0, 4726, -1.0\n",
      "2, 8.0, 4726, -1.0\n",
      "2, 9.0, 4726, -1.0\n",
      "\n"
     ]
    }
   ],
   "source": [
    "import icp\n",
    "\n",
    "mhead.reset_all_head_positions()\n",
    "for idx in [0,1,2,3,4,5,6,7,8,9,10,11,12,13]:\n",
    "    mhead.transform_from_link(mhead.links[idx])\n",
    "\n",
    "# mhead.heads[mhead.head_id_from_frame_id(mhead.links[7].right)].paint([1,1,0])\n",
    "\n",
    "mhead.create_spheres(0.2,name=\"hoho\")"
   ]
  },
  {
   "cell_type": "code",
   "execution_count": 63,
   "metadata": {},
   "outputs": [
    {
     "name": "stdout",
     "output_type": "stream",
     "text": [
      "0 172576\n",
      "coordinate of the left eye: [ 0.03719031 -0.17593989 -0.02675807] in frame 0\n",
      "1 172581\n",
      "coordinate of the left eye: [ 0.04758514 -0.17892697 -0.02519165] in frame 1\n",
      "12 169336\n",
      "coordinate of the left eye: [ 0.02766827 -0.19752245  0.00875789] in frame 12\n",
      "13 170000\n",
      "coordinate of the left eye: [ 0.03506904 -0.19499765  0.00161856] in frame 13\n",
      "14 169380\n",
      "coordinate of the left eye: [ 0.03352019 -0.19212895 -0.00254084] in frame 14\n",
      "[ 0.03620659 -0.18790318 -0.00882282]\n",
      "[[ 0.00098372  0.01196329 -0.01793525]\n",
      " [ 0.01137855  0.00897621 -0.01636883]\n",
      " [-0.00853832 -0.00961927  0.01758071]\n",
      " [-0.00113755 -0.00709447  0.01044138]\n",
      " [-0.0026864  -0.00422577  0.00628198]]\n",
      "mean coordinate: [ 0.03620659 -0.18790318 -0.00882282]. Distance to each points: [0.0215815  0.0218628  0.02178336 0.0126747  0.0080335 ].\n"
     ]
    },
    {
     "data": {
      "text/plain": [
       "0.017187172111814947"
      ]
     },
     "execution_count": 63,
     "metadata": {},
     "output_type": "execute_result"
    }
   ],
   "source": [
    "center, distances=mhead.left_eye_deviation()\n",
    "np.mean(distances)"
   ]
  },
  {
   "cell_type": "code",
   "execution_count": 90,
   "metadata": {},
   "outputs": [
    {
     "data": {
      "text/plain": [
       "9"
      ]
     },
     "execution_count": 90,
     "metadata": {},
     "output_type": "execute_result"
    }
   ],
   "source": [
    "mhead.links[7].left"
   ]
  },
  {
   "cell_type": "code",
   "execution_count": 170,
   "metadata": {},
   "outputs": [
    {
     "name": "stdout",
     "output_type": "stream",
     "text": [
      "any_head_positioned False\n",
      "1-15, matches=126, Count=90, Err=0.0026\n",
      "-0.050, 0.0219, 32625, 32625\n",
      "-0.040, 0.0176, 37273, 37273\n",
      "-0.030, 0.0135, 44998, 44998\n",
      "-0.020, 0.0098, 50838, 50838\n",
      "-0.010, 0.0069, 52385, 52385\n",
      "0.000, 0.0058, 52237, 52385\n",
      "0.010, 0.0071, 51890, 52385\n",
      "0.020, 0.0099, 50715, 52385\n",
      "0.030, 0.0133, 46106, 52385\n",
      "0.040, 0.0170, 40463, 52385\n",
      "-0.050, 0.0285, 16772, 16772\n",
      "-0.040, 0.0231, 22155, 22155\n",
      "-0.030, 0.0179, 36106, 36106\n",
      "-0.020, 0.0131, 47859, 47859\n",
      "-0.010, 0.0090, 52049, 52049\n",
      "0.000, 0.0069, 52385, 52385\n",
      "0.010, 0.0080, 52050, 52385\n",
      "0.020, 0.0115, 48665, 52385\n",
      "0.030, 0.0160, 41009, 52385\n",
      "0.040, 0.0210, 31269, 52385\n",
      "-0.050, 0.0398, 3925, 3925\n",
      "-0.040, 0.0321, 5895, 5895\n",
      "-0.030, 0.0246, 14131, 14131\n",
      "-0.020, 0.0175, 38258, 38258\n",
      "-0.010, 0.0110, 50558, 50558\n",
      "0.000, 0.0069, 52385, 52385\n",
      "0.010, 0.0087, 51463, 52385\n",
      "0.020, 0.0143, 45281, 52385\n",
      "0.030, 0.0208, 28712, 52385\n",
      "0.040, 0.0276, 15410, 52385\n",
      "-0.010, 0.0098, 16883, 16883\n",
      "-0.008, 0.0091, 18096, 18096\n",
      "-0.006, 0.0085, 19422, 19422\n",
      "-0.004, 0.0079, 20801, 20801\n",
      "-0.002, 0.0073, 22372, 22372\n",
      "0.000, 0.0069, 24317, 24317\n",
      "0.002, 0.0065, 26625, 26625\n",
      "0.004, 0.0061, 28809, 28809\n",
      "0.006, 0.0059, 30807, 30807\n",
      "0.008, 0.0058, 32533, 32533\n",
      "-0.010, 0.0076, 19631, 19631\n",
      "-0.008, 0.0070, 22981, 22981\n",
      "-0.006, 0.0065, 26533, 26533\n",
      "-0.004, 0.0061, 29645, 29645\n",
      "-0.002, 0.0059, 31748, 31748\n",
      "0.000, 0.0058, 32533, 32533\n",
      "0.002, 0.0059, 32251, 32533\n",
      "0.004, 0.0061, 31096, 32533\n",
      "0.006, 0.0065, 29230, 32533\n",
      "0.008, 0.0071, 26615, 32533\n",
      "-0.010, 0.0096, 8708, 8708\n",
      "-0.008, 0.0085, 11986, 11986\n",
      "-0.006, 0.0075, 16994, 16994\n",
      "-0.004, 0.0067, 23552, 23552\n",
      "-0.002, 0.0061, 28907, 28907\n",
      "0.000, 0.0058, 32533, 32533\n",
      "0.002, 0.0058, 33601, 33601\n",
      "0.004, 0.0062, 31681, 33601\n",
      "0.006, 0.0068, 27185, 33601\n",
      "0.008, 0.0077, 21941, 33601\n",
      "any_head_positioned True\n",
      "2-1, matches=109, Count=68, Err=0.0058\n",
      "-0.050, 0.0250, 28365, 28365\n",
      "-0.040, 0.0200, 33571, 33571\n",
      "-0.030, 0.0153, 40367, 40367\n",
      "-0.020, 0.0109, 49609, 49609\n",
      "-0.010, 0.0072, 51799, 51799\n",
      "0.000, 0.0053, 51827, 51827\n",
      "0.010, 0.0064, 51500, 51827\n",
      "0.020, 0.0094, 49605, 51827\n",
      "0.030, 0.0129, 45713, 51827\n",
      "0.040, 0.0166, 41436, 51827\n",
      "-0.050, 0.0283, 17138, 17138\n",
      "-0.040, 0.0228, 23206, 23206\n",
      "-0.030, 0.0175, 35704, 35704\n",
      "-0.020, 0.0124, 49309, 49309\n",
      "-0.010, 0.0079, 51724, 51724\n",
      "0.000, 0.0053, 51827, 51827\n",
      "0.010, 0.0069, 51325, 51827\n",
      "0.020, 0.0111, 49620, 51827\n",
      "0.030, 0.0162, 41333, 51827\n",
      "0.040, 0.0217, 27190, 51827\n",
      "-0.050, 0.0380, 6902, 6902\n",
      "-0.040, 0.0306, 9242, 9242\n",
      "-0.030, 0.0234, 17394, 17394\n",
      "-0.020, 0.0164, 41681, 41681\n",
      "-0.010, 0.0099, 51447, 51447\n",
      "0.000, 0.0053, 51827, 51827\n",
      "0.010, 0.0068, 51561, 51827\n",
      "0.020, 0.0123, 49803, 51827\n",
      "0.030, 0.0186, 32894, 51827\n",
      "0.040, 0.0250, 17442, 51827\n",
      "-0.010, 0.0072, 19239, 19239\n",
      "-0.008, 0.0067, 21546, 21546\n",
      "-0.006, 0.0062, 24327, 24327\n",
      "-0.004, 0.0058, 27682, 27682\n",
      "-0.002, 0.0055, 30924, 30924\n",
      "0.000, 0.0053, 33287, 33287\n",
      "0.002, 0.0053, 34666, 34666\n",
      "0.004, 0.0054, 34779, 34779\n",
      "0.006, 0.0057, 33989, 34779\n",
      "0.008, 0.0060, 32632, 34779\n",
      "-0.010, 0.0076, 16879, 16879\n",
      "-0.008, 0.0069, 20799, 20799\n",
      "-0.006, 0.0063, 25152, 25152\n",
      "-0.004, 0.0058, 29299, 29299\n",
      "-0.002, 0.0055, 32602, 32602\n",
      "0.000, 0.0054, 34779, 34779\n",
      "0.002, 0.0055, 35313, 35313\n",
      "0.004, 0.0057, 33955, 35313\n",
      "0.006, 0.0061, 31173, 35313\n",
      "0.008, 0.0067, 27939, 35313\n",
      "-0.010, 0.0091, 12522, 12522\n",
      "-0.008, 0.0081, 16298, 16298\n",
      "-0.006, 0.0071, 21461, 21461\n",
      "-0.004, 0.0063, 27183, 27183\n",
      "-0.002, 0.0058, 32274, 32274\n",
      "0.000, 0.0055, 35313, 35313\n",
      "0.002, 0.0055, 35599, 35599\n",
      "0.004, 0.0058, 32702, 35599\n",
      "0.006, 0.0064, 27339, 35599\n",
      "0.008, 0.0071, 21046, 35599\n",
      "any_head_positioned True\n",
      "3-2, matches=129, Count=87, Err=0.0053\n",
      "-0.050, 0.0262, 24916, 24916\n",
      "-0.040, 0.0207, 29233, 29233\n",
      "-0.030, 0.0154, 38260, 38260\n",
      "-0.020, 0.0106, 49485, 49485\n",
      "-0.010, 0.0067, 50224, 50224\n",
      "0.000, 0.0055, 50128, 50224\n",
      "0.010, 0.0078, 49564, 50224\n",
      "0.020, 0.0117, 46129, 50224\n",
      "0.030, 0.0160, 39198, 50224\n",
      "0.040, 0.0204, 34208, 50224\n",
      "-0.050, 0.0276, 17377, 17377\n",
      "-0.040, 0.0224, 23954, 23954\n",
      "-0.030, 0.0173, 35527, 35527\n",
      "-0.020, 0.0126, 46205, 46205\n",
      "-0.010, 0.0087, 50189, 50189\n",
      "0.000, 0.0067, 50224, 50224\n",
      "0.010, 0.0080, 49614, 50224\n",
      "0.020, 0.0118, 47977, 50224\n",
      "0.030, 0.0165, 40260, 50224\n",
      "0.040, 0.0217, 26917, 50224\n",
      "-0.050, 0.0356, 7796, 7796\n",
      "-0.040, 0.0287, 10127, 10127\n",
      "-0.030, 0.0220, 20767, 20767\n",
      "-0.020, 0.0157, 41926, 41926\n",
      "-0.010, 0.0100, 50186, 50186\n",
      "0.000, 0.0067, 50224, 50224\n",
      "0.010, 0.0085, 49456, 50224\n",
      "0.020, 0.0134, 44480, 50224\n",
      "0.030, 0.0192, 32215, 50224\n",
      "0.040, 0.0252, 21106, 50224\n",
      "-0.010, 0.0106, 13410, 13410\n",
      "-0.008, 0.0097, 14561, 14561\n",
      "-0.006, 0.0089, 15966, 15966\n",
      "-0.004, 0.0081, 17441, 17441\n",
      "-0.002, 0.0073, 19368, 19368\n",
      "0.000, 0.0067, 21801, 21801\n",
      "0.002, 0.0062, 25335, 25335\n",
      "0.004, 0.0058, 29755, 29755\n",
      "0.006, 0.0055, 33146, 33146\n",
      "0.008, 0.0054, 35195, 35195\n",
      "-0.010, 0.0067, 24114, 24114\n",
      "-0.008, 0.0062, 27235, 27235\n",
      "-0.006, 0.0057, 30246, 30246\n",
      "-0.004, 0.0055, 32839, 32839\n",
      "-0.002, 0.0054, 34591, 34591\n",
      "0.000, 0.0054, 35195, 35195\n",
      "0.002, 0.0057, 34293, 35195\n",
      "0.004, 0.0061, 32081, 35195\n",
      "0.006, 0.0066, 28863, 35195\n",
      "0.008, 0.0072, 25251, 35195\n",
      "-0.010, 0.0079, 15280, 15280\n",
      "-0.008, 0.0070, 20341, 20341\n",
      "-0.006, 0.0062, 25792, 25792\n",
      "-0.004, 0.0057, 30628, 30628\n",
      "-0.002, 0.0054, 34037, 34037\n",
      "0.000, 0.0054, 35195, 35195\n",
      "0.002, 0.0057, 33952, 35195\n",
      "0.004, 0.0062, 30742, 35195\n",
      "0.006, 0.0069, 26394, 35195\n",
      "0.008, 0.0078, 21510, 35195\n",
      "any_head_positioned True\n",
      "4-3, matches=99, Count=58, Err=0.0048\n",
      "-0.050, 0.0327, 14735, 14735\n",
      "-0.040, 0.0263, 18901, 18901\n",
      "-0.030, 0.0201, 25338, 25338\n",
      "-0.020, 0.0144, 42486, 42486\n",
      "-0.010, 0.0095, 47208, 47208\n",
      "0.000, 0.0068, 47520, 47520\n",
      "0.010, 0.0081, 46531, 47520\n",
      "0.020, 0.0121, 42527, 47520\n",
      "0.030, 0.0169, 35427, 47520\n",
      "0.040, 0.0218, 30684, 47520\n",
      "-0.050, 0.0285, 17614, 17614\n",
      "-0.040, 0.0233, 21682, 21682\n",
      "-0.030, 0.0183, 30065, 30065\n",
      "-0.020, 0.0136, 42045, 42045\n",
      "-0.010, 0.0094, 47179, 47179\n",
      "0.000, 0.0068, 47520, 47520\n",
      "0.010, 0.0071, 47148, 47520\n",
      "0.020, 0.0103, 44860, 47520\n",
      "0.030, 0.0148, 40603, 47520\n",
      "0.040, 0.0198, 31499, 47520\n",
      "-0.050, 0.0350, 11542, 11542\n",
      "-0.040, 0.0287, 14593, 14593\n",
      "-0.030, 0.0226, 19323, 19323\n",
      "-0.020, 0.0168, 35683, 35683\n",
      "-0.010, 0.0113, 46438, 46438\n",
      "0.000, 0.0068, 47520, 47520\n",
      "0.010, 0.0057, 47471, 47520\n",
      "0.020, 0.0092, 47008, 47520\n",
      "0.030, 0.0143, 41425, 47520\n",
      "0.040, 0.0199, 27089, 47520\n",
      "-0.010, 0.0095, 8574, 8574\n",
      "-0.008, 0.0087, 10365, 10365\n",
      "-0.006, 0.0080, 13380, 13380\n",
      "-0.004, 0.0074, 17055, 17055\n",
      "-0.002, 0.0070, 20100, 20100\n",
      "0.000, 0.0068, 22470, 22470\n",
      "0.002, 0.0067, 23769, 23769\n",
      "0.004, 0.0068, 23824, 23824\n",
      "0.006, 0.0071, 23684, 23824\n",
      "0.008, 0.0076, 23862, 23862\n",
      "-0.010, 0.0090, 10869, 10869\n",
      "-0.008, 0.0085, 12567, 12567\n",
      "-0.006, 0.0081, 14985, 14985\n",
      "-0.004, 0.0078, 17962, 17962\n",
      "-0.002, 0.0076, 21239, 21239\n",
      "0.000, 0.0076, 23862, 23862\n",
      "0.002, 0.0076, 25180, 25180\n",
      "0.004, 0.0078, 25682, 25682\n",
      "0.006, 0.0081, 25019, 25682\n",
      "0.008, 0.0084, 23254, 25682\n",
      "-0.010, 0.0104, 10261, 10261\n",
      "-0.008, 0.0096, 13278, 13278\n",
      "-0.006, 0.0090, 17079, 17079\n",
      "-0.004, 0.0084, 21023, 21023\n",
      "-0.002, 0.0080, 24054, 24054\n",
      "0.000, 0.0078, 25682, 25682\n",
      "0.002, 0.0077, 25310, 25682\n",
      "0.004, 0.0077, 22873, 25682\n",
      "0.006, 0.0079, 19007, 25682\n",
      "0.008, 0.0083, 14836, 25682\n",
      "any_head_positioned True\n",
      "5-4, matches=107, Count=78, Err=0.0027\n",
      "-0.050, 0.0352, 11420, 11420\n",
      "-0.040, 0.0281, 14251, 14251\n",
      "-0.030, 0.0212, 20328, 20328\n",
      "-0.020, 0.0146, 37194, 37194\n",
      "-0.010, 0.0086, 43031, 43031\n",
      "0.000, 0.0053, 42968, 43031\n",
      "0.010, 0.0078, 42281, 43031\n",
      "0.020, 0.0131, 38458, 43031\n",
      "0.030, 0.0190, 26897, 43031\n",
      "0.040, 0.0250, 20411, 43031\n",
      "-0.050, 0.0294, 13568, 13568\n",
      "-0.040, 0.0244, 16910, 16910\n",
      "-0.030, 0.0196, 24529, 24529\n",
      "-0.020, 0.0151, 35726, 35726\n",
      "-0.010, 0.0112, 42246, 42246\n",
      "0.000, 0.0086, 43031, 43031\n",
      "0.010, 0.0083, 42839, 43031\n",
      "0.020, 0.0105, 41627, 43031\n",
      "0.030, 0.0142, 36948, 43031\n",
      "0.040, 0.0188, 27711, 43031\n",
      "-0.050, 0.0320, 13114, 13114\n",
      "-0.040, 0.0266, 15758, 15758\n",
      "-0.030, 0.0215, 20598, 20598\n",
      "-0.020, 0.0165, 32208, 32208\n",
      "-0.010, 0.0120, 41542, 41542\n",
      "0.000, 0.0086, 43031, 43031\n",
      "0.010, 0.0080, 42981, 43031\n",
      "0.020, 0.0107, 41674, 43031\n",
      "0.030, 0.0151, 36101, 43031\n",
      "0.040, 0.0200, 24781, 43031\n",
      "-0.010, 0.0146, 3503, 3503\n",
      "-0.008, 0.0133, 4077, 4077\n",
      "-0.006, 0.0121, 4873, 4873\n",
      "-0.004, 0.0109, 5949, 5949\n",
      "-0.002, 0.0097, 7332, 7332\n",
      "0.000, 0.0086, 9103, 9103\n",
      "0.002, 0.0076, 12068, 12068\n",
      "0.004, 0.0067, 16204, 16204\n"
     ]
    },
    {
     "name": "stdout",
     "output_type": "stream",
     "text": [
      "0.006, 0.0060, 20735, 20735\n",
      "0.008, 0.0055, 24962, 24962\n",
      "-0.010, 0.0079, 12117, 12117\n",
      "-0.008, 0.0072, 13692, 13692\n",
      "-0.006, 0.0066, 15813, 15813\n",
      "-0.004, 0.0061, 18507, 18507\n",
      "-0.002, 0.0058, 21912, 21912\n",
      "0.000, 0.0055, 24962, 24962\n",
      "0.002, 0.0054, 26724, 26724\n",
      "0.004, 0.0055, 27362, 27362\n",
      "0.006, 0.0057, 26715, 27362\n",
      "0.008, 0.0060, 24846, 27362\n",
      "-0.010, 0.0087, 10852, 10852\n",
      "-0.008, 0.0079, 13701, 13701\n",
      "-0.006, 0.0071, 17343, 17343\n",
      "-0.004, 0.0064, 21389, 21389\n",
      "-0.002, 0.0059, 24655, 24655\n",
      "0.000, 0.0055, 27362, 27362\n",
      "0.002, 0.0052, 29130, 29130\n",
      "0.004, 0.0052, 29244, 29244\n",
      "0.006, 0.0054, 27470, 29244\n",
      "0.008, 0.0058, 24642, 29244\n",
      "any_head_positioned True\n",
      "6-5, matches=98, Count=65, Err=0.0030\n",
      "-0.050, 0.0412, 4553, 4553\n",
      "-0.040, 0.0336, 7617, 7617\n",
      "-0.030, 0.0263, 12107, 12107\n",
      "-0.020, 0.0194, 22173, 22173\n",
      "-0.010, 0.0134, 31750, 31750\n",
      "0.000, 0.0096, 34216, 34216\n",
      "0.010, 0.0104, 34211, 34216\n",
      "0.020, 0.0147, 32691, 34216\n",
      "0.030, 0.0204, 23842, 34216\n",
      "0.040, 0.0265, 13961, 34216\n",
      "-0.050, 0.0279, 15606, 15606\n",
      "-0.040, 0.0231, 19295, 19295\n",
      "-0.030, 0.0186, 24765, 24765\n",
      "-0.020, 0.0146, 30279, 30279\n",
      "-0.010, 0.0115, 33339, 33339\n",
      "0.000, 0.0096, 34216, 34216\n",
      "0.010, 0.0097, 34603, 34603\n",
      "0.020, 0.0117, 34201, 34603\n",
      "0.030, 0.0151, 30517, 34603\n",
      "0.040, 0.0192, 24524, 34603\n",
      "-0.050, 0.0279, 15290, 15290\n",
      "-0.040, 0.0238, 18352, 18352\n",
      "-0.030, 0.0198, 22449, 22449\n",
      "-0.020, 0.0159, 28799, 28799\n",
      "-0.010, 0.0123, 33768, 33768\n",
      "0.000, 0.0097, 34603, 34603\n",
      "0.010, 0.0092, 34595, 34603\n",
      "0.020, 0.0111, 33989, 34603\n",
      "0.030, 0.0146, 31594, 34603\n",
      "0.040, 0.0187, 25292, 34603\n",
      "-0.010, 0.0128, 8441, 8441\n",
      "-0.008, 0.0119, 9393, 9393\n",
      "-0.006, 0.0111, 10046, 10046\n",
      "-0.004, 0.0105, 10482, 10482\n",
      "-0.002, 0.0100, 11136, 11136\n",
      "0.000, 0.0097, 11709, 11709\n",
      "0.002, 0.0096, 12101, 12101\n",
      "0.004, 0.0098, 12573, 12573\n",
      "0.006, 0.0101, 13210, 13210\n",
      "0.008, 0.0106, 13207, 13210\n",
      "-0.010, 0.0095, 16621, 16621\n",
      "-0.008, 0.0095, 16555, 16621\n",
      "-0.006, 0.0095, 15895, 16621\n",
      "-0.004, 0.0096, 15004, 16621\n",
      "-0.002, 0.0098, 14110, 16621\n",
      "0.000, 0.0101, 13210, 16621\n",
      "0.002, 0.0104, 12339, 16621\n",
      "0.004, 0.0108, 11559, 16621\n",
      "0.006, 0.0113, 10791, 16621\n",
      "0.008, 0.0119, 9976, 16621\n",
      "-0.010, 0.0122, 8824, 8824\n",
      "-0.008, 0.0115, 9934, 9934\n",
      "-0.006, 0.0109, 11358, 11358\n",
      "-0.004, 0.0104, 13031, 13031\n",
      "-0.002, 0.0099, 14790, 14790\n",
      "0.000, 0.0095, 16621, 16621\n",
      "0.002, 0.0092, 18577, 18577\n",
      "0.004, 0.0089, 20417, 20417\n",
      "0.006, 0.0088, 21665, 21665\n",
      "0.008, 0.0087, 21793, 21793\n",
      "any_head_positioned True\n",
      "7-6, matches=85, Count=57, Err=0.0034\n",
      "-0.050, 0.0579, 5194, 5194\n",
      "-0.040, 0.0528, 7246, 7246\n",
      "-0.030, 0.0482, 10520, 10520\n",
      "-0.020, 0.0445, 13994, 13994\n",
      "-0.010, 0.0416, 17911, 17911\n",
      "0.000, 0.0398, 22989, 22989\n",
      "0.010, 0.0392, 26023, 26023\n",
      "0.020, 0.0397, 26597, 26597\n",
      "0.030, 0.0412, 25937, 26597\n",
      "0.040, 0.0434, 23999, 26597\n",
      "-0.050, 0.0409, 15678, 15678\n",
      "-0.040, 0.0390, 17547, 17547\n",
      "-0.030, 0.0378, 20103, 20103\n",
      "-0.020, 0.0375, 23039, 23039\n",
      "-0.010, 0.0381, 25653, 25653\n",
      "0.000, 0.0397, 26597, 26597\n",
      "0.010, 0.0421, 26068, 26597\n",
      "0.020, 0.0452, 25138, 26597\n",
      "0.030, 0.0489, 23741, 26597\n",
      "0.040, 0.0531, 21631, 26597\n",
      "-0.050, 0.0520, 17780, 17780\n",
      "-0.040, 0.0488, 19003, 19003\n",
      "-0.030, 0.0460, 19976, 19976\n",
      "-0.020, 0.0436, 21453, 21453\n",
      "-0.010, 0.0414, 24090, 24090\n",
      "0.000, 0.0397, 26597, 26597\n",
      "0.010, 0.0386, 28089, 28089\n",
      "0.020, 0.0385, 27576, 28089\n",
      "0.030, 0.0392, 24665, 28089\n",
      "0.040, 0.0410, 20173, 28089\n",
      "-0.010, 0.0383, 5759, 5759\n",
      "-0.008, 0.0383, 5798, 5798\n",
      "-0.006, 0.0383, 6323, 6323\n",
      "-0.004, 0.0384, 7040, 7040\n",
      "-0.002, 0.0385, 7866, 7866\n",
      "0.000, 0.0386, 8521, 8521\n",
      "0.002, 0.0388, 8554, 8554\n",
      "0.004, 0.0390, 8442, 8554\n",
      "0.006, 0.0393, 8329, 8554\n",
      "0.008, 0.0396, 8137, 8554\n",
      "-0.010, 0.0372, 7326, 7326\n",
      "-0.008, 0.0374, 7514, 7514\n",
      "-0.006, 0.0377, 7792, 7792\n",
      "-0.004, 0.0380, 8056, 8056\n",
      "-0.002, 0.0384, 8358, 8358\n",
      "0.000, 0.0388, 8554, 8554\n",
      "0.002, 0.0393, 8648, 8648\n",
      "0.004, 0.0397, 8691, 8691\n",
      "0.006, 0.0402, 8700, 8700\n",
      "0.008, 0.0408, 8733, 8733\n",
      "-0.010, 0.0418, 8875, 8875\n",
      "-0.008, 0.0415, 9141, 9141\n",
      "-0.006, 0.0413, 9114, 9141\n",
      "-0.004, 0.0411, 8917, 9141\n",
      "-0.002, 0.0409, 8882, 9141\n",
      "0.000, 0.0408, 8733, 9141\n",
      "0.002, 0.0406, 8314, 9141\n",
      "0.004, 0.0406, 7479, 9141\n",
      "0.006, 0.0405, 6674, 9141\n",
      "0.008, 0.0405, 6007, 9141\n",
      "any_head_positioned True\n",
      "8-7, matches=57, Count=34, Err=0.0030\n",
      "-0.050, 0.0263, 31460, 31460\n",
      "-0.040, 0.0217, 34201, 34201\n",
      "-0.030, 0.0176, 37386, 37386\n",
      "-0.020, 0.0142, 43853, 43853\n",
      "-0.010, 0.0121, 46856, 46856\n",
      "0.000, 0.0117, 46875, 46875\n",
      "0.010, 0.0129, 46193, 46875\n",
      "0.020, 0.0153, 45093, 46875\n",
      "0.030, 0.0186, 40209, 46875\n",
      "0.040, 0.0223, 36722, 46875\n",
      "-0.050, 0.0275, 22288, 22288\n",
      "-0.040, 0.0234, 27582, 27582\n",
      "-0.030, 0.0197, 32470, 32470\n",
      "-0.020, 0.0164, 39236, 39236\n",
      "-0.010, 0.0137, 44820, 44820\n",
      "0.000, 0.0117, 46875, 46875\n",
      "0.010, 0.0106, 48263, 48263\n",
      "0.020, 0.0111, 48834, 48834\n",
      "0.030, 0.0132, 46406, 48834\n",
      "0.040, 0.0166, 40706, 48834\n",
      "-0.050, 0.0374, 12906, 12906\n",
      "-0.040, 0.0309, 16425, 16425\n",
      "-0.030, 0.0245, 24973, 24973\n",
      "-0.020, 0.0186, 35310, 35310\n",
      "-0.010, 0.0138, 45246, 45246\n",
      "0.000, 0.0111, 48834, 48834\n",
      "0.010, 0.0126, 47647, 48834\n",
      "0.020, 0.0177, 34757, 48834\n",
      "0.030, 0.0243, 19376, 48834\n",
      "0.040, 0.0315, 8963, 48834\n",
      "-0.010, 0.0116, 13189, 13189\n",
      "-0.008, 0.0114, 13192, 13192\n",
      "-0.006, 0.0112, 13336, 13336\n",
      "-0.004, 0.0111, 13591, 13591\n",
      "-0.002, 0.0110, 14143, 14143\n",
      "0.000, 0.0111, 14779, 14779\n",
      "0.002, 0.0112, 15419, 15419\n",
      "0.004, 0.0114, 15734, 15734\n",
      "0.006, 0.0116, 15706, 15734\n",
      "0.008, 0.0120, 15222, 15734\n",
      "-0.010, 0.0109, 17930, 17930\n",
      "-0.008, 0.0108, 17181, 17930\n",
      "-0.006, 0.0109, 16735, 17930\n",
      "-0.004, 0.0110, 16601, 17930\n",
      "-0.002, 0.0111, 16259, 17930\n",
      "0.000, 0.0114, 15734, 17930\n",
      "0.002, 0.0117, 15227, 17930\n",
      "0.004, 0.0121, 14578, 17930\n",
      "0.006, 0.0125, 14027, 17930\n",
      "0.008, 0.0130, 13462, 17930\n",
      "-0.010, 0.0148, 11000, 11000\n",
      "-0.008, 0.0139, 13026, 13026\n",
      "-0.006, 0.0130, 15258, 15258\n",
      "-0.004, 0.0122, 16700, 16700\n",
      "-0.002, 0.0115, 17509, 17509\n",
      "0.000, 0.0109, 17930, 17930\n",
      "0.002, 0.0105, 18090, 18090\n",
      "0.004, 0.0102, 18446, 18446\n",
      "0.006, 0.0102, 18842, 18842\n",
      "0.008, 0.0103, 18412, 18842\n",
      "any_head_positioned True\n",
      "15-14, matches=65, Count=37, Err=0.0112\n",
      "-0.050, 0.0231, 35811, 35811\n",
      "-0.040, 0.0203, 38611, 38611\n",
      "-0.030, 0.0177, 41882, 41882\n",
      "-0.020, 0.0155, 45736, 45736\n",
      "-0.010, 0.0140, 47748, 47748\n",
      "0.000, 0.0136, 48070, 48070\n",
      "0.010, 0.0145, 47537, 48070\n",
      "0.020, 0.0166, 44042, 48070\n",
      "0.030, 0.0197, 37898, 48070\n",
      "0.040, 0.0234, 28450, 48070\n",
      "-0.050, 0.0302, 17018, 17018\n",
      "-0.040, 0.0253, 23309, 23309\n",
      "-0.030, 0.0208, 31604, 31604\n",
      "-0.020, 0.0170, 40361, 40361\n",
      "-0.010, 0.0144, 46998, 46998\n",
      "0.000, 0.0136, 48070, 48070\n",
      "0.010, 0.0148, 47524, 48070\n",
      "0.020, 0.0175, 45235, 48070\n",
      "0.030, 0.0213, 37968, 48070\n",
      "0.040, 0.0257, 28736, 48070\n",
      "-0.050, 0.0407, 3619, 3619\n",
      "-0.040, 0.0333, 8069, 8069\n",
      "-0.030, 0.0263, 17415, 17415\n",
      "-0.020, 0.0201, 30347, 30347\n",
      "-0.010, 0.0154, 44257, 44257\n",
      "0.000, 0.0136, 48070, 48070\n",
      "0.010, 0.0154, 46162, 48070\n",
      "0.020, 0.0198, 41588, 48070\n",
      "0.030, 0.0255, 31010, 48070\n",
      "0.040, 0.0318, 14452, 48070\n",
      "-0.010, 0.0140, 18644, 18644\n",
      "-0.008, 0.0138, 18228, 18644\n",
      "-0.006, 0.0137, 17749, 18644\n",
      "-0.004, 0.0136, 16907, 18644\n",
      "-0.002, 0.0136, 16260, 18644\n",
      "0.000, 0.0136, 15832, 18644\n",
      "0.002, 0.0137, 15210, 18644\n",
      "0.004, 0.0138, 14589, 18644\n",
      "0.006, 0.0140, 13838, 18644\n",
      "0.008, 0.0142, 13001, 18644\n",
      "-0.010, 0.0148, 12090, 12090\n",
      "-0.008, 0.0145, 13710, 13710\n",
      "-0.006, 0.0142, 15156, 15156\n",
      "-0.004, 0.0141, 16515, 16515\n",
      "-0.002, 0.0140, 17811, 17811\n",
      "0.000, 0.0140, 18644, 18644\n",
      "0.002, 0.0141, 18844, 18844\n",
      "0.004, 0.0142, 18895, 18895\n",
      "0.006, 0.0145, 18530, 18895\n",
      "0.008, 0.0148, 17797, 18895\n",
      "-0.010, 0.0152, 12648, 12648\n",
      "-0.008, 0.0147, 14400, 14400\n",
      "-0.006, 0.0143, 15994, 15994\n",
      "-0.004, 0.0142, 17406, 17406\n",
      "-0.002, 0.0141, 18410, 18410\n",
      "0.000, 0.0142, 18895, 18895\n",
      "0.002, 0.0145, 18497, 18895\n",
      "0.004, 0.0149, 17861, 18895\n",
      "0.006, 0.0154, 16730, 18895\n",
      "0.008, 0.0160, 15333, 18895\n",
      "any_head_positioned True\n",
      "14-13, matches=71, Count=33, Err=0.0065\n",
      "-0.050, 0.0333, 24209, 24209\n",
      "-0.040, 0.0290, 25958, 25958\n",
      "-0.030, 0.0244, 29046, 29046\n",
      "-0.020, 0.0199, 33594, 33594\n",
      "-0.010, 0.0157, 39319, 39319\n",
      "0.000, 0.0125, 41601, 41601\n",
      "0.010, 0.0114, 42944, 42944\n",
      "0.020, 0.0131, 41920, 42944\n",
      "0.030, 0.0171, 31831, 42944\n",
      "0.040, 0.0223, 20592, 42944\n",
      "-0.050, 0.0293, 17347, 17347\n",
      "-0.040, 0.0246, 22529, 22529\n",
      "-0.030, 0.0202, 28282, 28282\n",
      "-0.020, 0.0162, 34948, 34948\n",
      "-0.010, 0.0130, 41818, 41818\n",
      "0.000, 0.0114, 42944, 42944\n",
      "0.010, 0.0119, 42037, 42944\n",
      "0.020, 0.0143, 38732, 42944\n"
     ]
    },
    {
     "name": "stdout",
     "output_type": "stream",
     "text": [
      "0.030, 0.0179, 34651, 42944\n",
      "0.040, 0.0222, 28442, 42944\n",
      "-0.050, 0.0372, 8462, 8462\n",
      "-0.040, 0.0307, 12518, 12518\n",
      "-0.030, 0.0246, 18954, 18954\n",
      "-0.020, 0.0189, 28486, 28486\n",
      "-0.010, 0.0142, 39312, 39312\n",
      "0.000, 0.0114, 42944, 42944\n",
      "0.010, 0.0117, 41832, 42944\n",
      "0.020, 0.0148, 38249, 42944\n",
      "0.030, 0.0194, 32320, 42944\n",
      "0.040, 0.0247, 25632, 42944\n",
      "-0.010, 0.0125, 13791, 13791\n",
      "-0.008, 0.0121, 14460, 14460\n",
      "-0.006, 0.0117, 15397, 15397\n",
      "-0.004, 0.0115, 15498, 15498\n",
      "-0.002, 0.0114, 14634, 15498\n",
      "0.000, 0.0114, 13246, 15498\n",
      "0.002, 0.0115, 11362, 15498\n",
      "0.004, 0.0117, 9344, 15498\n",
      "0.006, 0.0121, 7765, 15498\n",
      "0.008, 0.0126, 6622, 15498\n",
      "-0.010, 0.0129, 11427, 11427\n",
      "-0.008, 0.0125, 12019, 12019\n",
      "-0.006, 0.0121, 12682, 12682\n",
      "-0.004, 0.0118, 13585, 13585\n",
      "-0.002, 0.0116, 14625, 14625\n",
      "0.000, 0.0115, 15498, 15498\n",
      "0.002, 0.0115, 16242, 16242\n",
      "0.004, 0.0115, 16918, 16918\n",
      "0.006, 0.0117, 17446, 17446\n",
      "0.008, 0.0119, 17930, 17930\n",
      "-0.010, 0.0134, 8731, 8731\n",
      "-0.008, 0.0129, 10080, 10080\n",
      "-0.006, 0.0124, 12127, 12127\n",
      "-0.004, 0.0121, 14255, 14255\n",
      "-0.002, 0.0119, 16142, 16142\n",
      "0.000, 0.0119, 17930, 17930\n",
      "0.002, 0.0120, 19276, 19276\n",
      "0.004, 0.0122, 20016, 20016\n",
      "0.006, 0.0125, 20480, 20480\n",
      "0.008, 0.0129, 19919, 20480\n",
      "any_head_positioned True\n",
      "13-12, matches=67, Count=36, Err=0.0035\n",
      "-0.050, 0.0339, 14214, 14214\n",
      "-0.040, 0.0282, 17949, 17949\n",
      "-0.030, 0.0226, 23676, 23676\n",
      "-0.020, 0.0175, 30993, 30993\n",
      "-0.010, 0.0138, 34987, 34987\n",
      "0.000, 0.0131, 34720, 34987\n",
      "0.010, 0.0160, 30332, 34987\n",
      "0.020, 0.0214, 23395, 34987\n",
      "0.030, 0.0280, 9176, 34987\n",
      "0.040, 0.0353, 2726, 34987\n",
      "-0.050, 0.0290, 15913, 15913\n",
      "-0.040, 0.0248, 19919, 19919\n",
      "-0.030, 0.0209, 25211, 25211\n",
      "-0.020, 0.0177, 30461, 30461\n",
      "-0.010, 0.0152, 33552, 33552\n",
      "0.000, 0.0138, 34987, 34987\n",
      "0.010, 0.0136, 35754, 35754\n",
      "0.020, 0.0146, 34206, 35754\n",
      "0.030, 0.0167, 29903, 35754\n",
      "0.040, 0.0196, 25941, 35754\n",
      "-0.050, 0.0278, 18176, 18176\n",
      "-0.040, 0.0236, 20672, 20672\n",
      "-0.030, 0.0199, 23971, 23971\n",
      "-0.020, 0.0168, 28979, 28979\n",
      "-0.010, 0.0146, 34606, 34606\n",
      "0.000, 0.0136, 35754, 35754\n",
      "0.010, 0.0143, 35509, 35754\n",
      "0.020, 0.0166, 34034, 35754\n",
      "0.030, 0.0199, 29857, 35754\n",
      "0.040, 0.0240, 25532, 35754\n",
      "-0.010, 0.0177, 8218, 8218\n",
      "-0.008, 0.0167, 9210, 9210\n",
      "-0.006, 0.0159, 9986, 9986\n",
      "-0.004, 0.0150, 10601, 10601\n",
      "-0.002, 0.0143, 11000, 11000\n",
      "0.000, 0.0136, 10878, 11000\n",
      "0.002, 0.0131, 10375, 11000\n",
      "0.004, 0.0127, 10108, 11000\n",
      "0.006, 0.0124, 9793, 11000\n",
      "0.008, 0.0124, 9818, 11000\n",
      "-0.010, 0.0144, 10226, 10226\n",
      "-0.008, 0.0143, 10286, 10286\n",
      "-0.006, 0.0142, 10249, 10286\n",
      "-0.004, 0.0142, 10459, 10459\n",
      "-0.002, 0.0142, 10821, 10821\n",
      "0.000, 0.0143, 11000, 11000\n",
      "0.002, 0.0144, 11031, 11031\n",
      "0.004, 0.0146, 11002, 11031\n",
      "0.006, 0.0148, 10770, 11031\n",
      "0.008, 0.0150, 10373, 11031\n",
      "-0.010, 0.0151, 8162, 8162\n",
      "-0.008, 0.0148, 8675, 8675\n",
      "-0.006, 0.0146, 9310, 9310\n",
      "-0.004, 0.0145, 10055, 10055\n",
      "-0.002, 0.0144, 10697, 10697\n",
      "0.000, 0.0144, 11031, 11031\n",
      "0.002, 0.0144, 11285, 11285\n",
      "0.004, 0.0145, 11432, 11432\n",
      "0.006, 0.0147, 11322, 11432\n",
      "0.008, 0.0149, 10903, 11432\n",
      "any_head_positioned True\n",
      "12-11, matches=55, Count=33, Err=0.0040\n",
      "-0.050, 0.0596, 13546, 13546\n",
      "-0.040, 0.0556, 17067, 17067\n",
      "-0.030, 0.0523, 21146, 21146\n",
      "-0.020, 0.0498, 23769, 23769\n",
      "-0.010, 0.0483, 24486, 24486\n",
      "0.000, 0.0478, 22174, 24486\n",
      "0.010, 0.0485, 16616, 24486\n",
      "0.020, 0.0503, 12130, 24486\n",
      "0.030, 0.0532, 8232, 24486\n",
      "0.040, 0.0571, 5954, 24486\n",
      "-0.050, 0.0522, 13423, 13423\n",
      "-0.040, 0.0505, 15045, 15045\n",
      "-0.030, 0.0492, 17086, 17086\n",
      "-0.020, 0.0484, 19663, 19663\n",
      "-0.010, 0.0481, 22466, 22466\n",
      "0.000, 0.0483, 24486, 24486\n",
      "0.010, 0.0491, 25740, 25740\n",
      "0.020, 0.0505, 27136, 27136\n",
      "0.030, 0.0524, 27348, 27348\n",
      "0.040, 0.0549, 26514, 27348\n",
      "-0.050, 0.0583, 18078, 18078\n",
      "-0.040, 0.0559, 19460, 19460\n",
      "-0.030, 0.0541, 21124, 21124\n",
      "-0.020, 0.0529, 24479, 24479\n",
      "-0.010, 0.0523, 26877, 26877\n",
      "0.000, 0.0524, 27348, 27348\n",
      "0.010, 0.0531, 27518, 27518\n",
      "0.020, 0.0545, 27310, 27518\n",
      "0.030, 0.0564, 26155, 27518\n",
      "0.040, 0.0589, 23670, 27518\n",
      "-0.010, 0.0550, 7499, 7499\n",
      "-0.008, 0.0546, 6376, 7499\n",
      "-0.006, 0.0541, 5933, 7499\n",
      "-0.004, 0.0538, 5930, 7499\n",
      "-0.002, 0.0534, 5911, 7499\n",
      "0.000, 0.0531, 5947, 7499\n",
      "0.002, 0.0529, 6089, 7499\n",
      "0.004, 0.0526, 5977, 7499\n",
      "0.006, 0.0525, 5811, 7499\n",
      "0.008, 0.0523, 5497, 7499\n",
      "-0.010, 0.0530, 8473, 8473\n",
      "-0.008, 0.0533, 8635, 8635\n",
      "-0.006, 0.0537, 8547, 8635\n",
      "-0.004, 0.0541, 8307, 8635\n",
      "-0.002, 0.0545, 8040, 8635\n",
      "0.000, 0.0550, 7499, 8635\n",
      "0.002, 0.0555, 6896, 8635\n",
      "0.004, 0.0559, 6472, 8635\n",
      "0.006, 0.0564, 6166, 8635\n",
      "0.008, 0.0570, 5852, 8635\n",
      "-0.010, 0.0527, 7720, 7720\n",
      "-0.008, 0.0528, 7907, 7907\n",
      "-0.006, 0.0529, 8128, 8128\n",
      "-0.004, 0.0530, 8388, 8388\n",
      "-0.002, 0.0532, 8519, 8519\n",
      "0.000, 0.0533, 8635, 8635\n",
      "0.002, 0.0535, 8659, 8659\n",
      "0.004, 0.0538, 8883, 8883\n",
      "0.006, 0.0540, 9179, 9179\n",
      "0.008, 0.0543, 9457, 9457\n",
      "any_head_positioned True\n",
      "11-10, matches=18, Count=12, Err=0.0075\n",
      "-0.050, 0.0362, 10860, 10860\n",
      "-0.040, 0.0300, 17759, 17759\n",
      "-0.030, 0.0240, 25865, 25865\n",
      "-0.020, 0.0184, 42769, 42769\n",
      "-0.010, 0.0137, 53112, 53112\n",
      "0.000, 0.0109, 54254, 54254\n",
      "0.010, 0.0115, 52937, 54254\n",
      "0.020, 0.0152, 49743, 54254\n",
      "0.030, 0.0205, 38211, 54254\n",
      "0.040, 0.0266, 21277, 54254\n",
      "-0.050, 0.0262, 23204, 23204\n",
      "-0.040, 0.0221, 30937, 30937\n",
      "-0.030, 0.0182, 42261, 42261\n",
      "-0.020, 0.0149, 49364, 49364\n",
      "-0.010, 0.0123, 52925, 52925\n",
      "0.000, 0.0109, 54254, 54254\n",
      "0.010, 0.0115, 53968, 54254\n",
      "0.020, 0.0139, 51357, 54254\n",
      "0.030, 0.0174, 45848, 54254\n",
      "0.040, 0.0217, 37565, 54254\n",
      "-0.050, 0.0288, 19153, 19153\n",
      "-0.040, 0.0242, 22962, 22962\n",
      "-0.030, 0.0198, 32694, 32694\n",
      "-0.020, 0.0157, 48334, 48334\n",
      "-0.010, 0.0125, 53180, 53180\n",
      "0.000, 0.0109, 54254, 54254\n",
      "0.010, 0.0115, 54213, 54254\n",
      "0.020, 0.0141, 51511, 54254\n",
      "0.030, 0.0180, 45020, 54254\n",
      "0.040, 0.0227, 34438, 54254\n",
      "-0.010, 0.0137, 9507, 9507\n",
      "-0.008, 0.0129, 10507, 10507\n",
      "-0.006, 0.0122, 12190, 12190\n",
      "-0.004, 0.0117, 15138, 15138\n",
      "-0.002, 0.0112, 18432, 18432\n",
      "0.000, 0.0109, 21495, 21495\n",
      "0.002, 0.0107, 24592, 24592\n",
      "0.004, 0.0107, 26135, 26135\n",
      "0.006, 0.0108, 25691, 26135\n",
      "0.008, 0.0111, 23698, 26135\n",
      "-0.010, 0.0116, 19132, 19132\n",
      "-0.008, 0.0113, 20866, 20866\n",
      "-0.006, 0.0110, 22727, 22727\n",
      "-0.004, 0.0108, 24194, 24194\n",
      "-0.002, 0.0107, 25501, 25501\n",
      "0.000, 0.0107, 26135, 26135\n",
      "0.002, 0.0107, 25976, 26135\n",
      "0.004, 0.0109, 25432, 26135\n",
      "0.006, 0.0111, 24356, 26135\n",
      "0.008, 0.0114, 22831, 26135\n",
      "-0.010, 0.0118, 14637, 14637\n",
      "-0.008, 0.0114, 16688, 16688\n",
      "-0.006, 0.0110, 19208, 19208\n",
      "-0.004, 0.0108, 21948, 21948\n",
      "-0.002, 0.0107, 24404, 24404\n",
      "0.000, 0.0107, 26135, 26135\n",
      "0.002, 0.0108, 26776, 26776\n",
      "0.004, 0.0109, 26298, 26776\n",
      "0.006, 0.0112, 25324, 26776\n",
      "0.008, 0.0115, 23488, 26776\n",
      "any_head_positioned True\n",
      "9-8, matches=15, Count=9, Err=0.0299\n",
      "-0.050, 0.0147, 49826, 49826\n",
      "-0.040, 0.0132, 52047, 52047\n",
      "-0.030, 0.0132, 52889, 52889\n",
      "-0.020, 0.0146, 52047, 52889\n",
      "-0.010, 0.0169, 47826, 52889\n",
      "0.000, 0.0199, 40074, 52889\n",
      "0.010, 0.0232, 32882, 52889\n",
      "0.020, 0.0267, 27897, 52889\n",
      "0.030, 0.0303, 24209, 52889\n",
      "0.040, 0.0340, 21191, 52889\n",
      "-0.050, 0.0283, 23109, 23109\n",
      "-0.040, 0.0243, 31608, 31608\n",
      "-0.030, 0.0207, 40802, 40802\n",
      "-0.020, 0.0175, 45769, 45769\n",
      "-0.010, 0.0149, 50763, 50763\n",
      "0.000, 0.0132, 52889, 52889\n",
      "0.010, 0.0126, 52977, 52977\n",
      "0.020, 0.0135, 51611, 52977\n",
      "0.030, 0.0158, 48472, 52977\n",
      "0.040, 0.0190, 43550, 52977\n",
      "-0.050, 0.0400, 12789, 12789\n",
      "-0.040, 0.0335, 16230, 16230\n",
      "-0.030, 0.0272, 20591, 20591\n",
      "-0.020, 0.0212, 30919, 30919\n",
      "-0.010, 0.0160, 49540, 49540\n",
      "0.000, 0.0126, 52977, 52977\n",
      "0.010, 0.0127, 53470, 53470\n",
      "0.020, 0.0163, 49997, 53470\n",
      "0.030, 0.0220, 32678, 53470\n",
      "0.040, 0.0288, 13131, 53470\n",
      "-0.010, 0.0144, 12706, 12706\n",
      "-0.008, 0.0139, 14376, 14376\n",
      "-0.006, 0.0136, 16086, 16086\n",
      "-0.004, 0.0132, 17705, 17705\n",
      "-0.002, 0.0129, 19259, 19259\n",
      "0.000, 0.0127, 20582, 20582\n",
      "0.002, 0.0125, 21791, 21791\n",
      "0.004, 0.0124, 22931, 22931\n",
      "0.006, 0.0123, 23900, 23900\n",
      "0.008, 0.0123, 24253, 24253\n",
      "-0.010, 0.0120, 22153, 22153\n",
      "-0.008, 0.0120, 22850, 22850\n",
      "-0.006, 0.0120, 23486, 23486\n",
      "-0.004, 0.0120, 23615, 23615\n",
      "-0.002, 0.0121, 23894, 23894\n",
      "0.000, 0.0123, 24253, 24253\n",
      "0.002, 0.0126, 24270, 24270\n",
      "0.004, 0.0129, 23941, 24270\n",
      "0.006, 0.0132, 23402, 24270\n",
      "0.008, 0.0136, 22303, 24270\n",
      "-0.010, 0.0133, 14631, 14631\n",
      "-0.008, 0.0129, 16947, 16947\n",
      "-0.006, 0.0126, 19670, 19670\n",
      "-0.004, 0.0124, 21880, 21880\n",
      "-0.002, 0.0124, 23500, 23500\n",
      "0.000, 0.0126, 24270, 24270\n",
      "0.002, 0.0129, 22556, 24270\n",
      "0.004, 0.0133, 18949, 24270\n",
      "0.006, 0.0139, 14847, 24270\n",
      "0.008, 0.0146, 10947, 24270\n"
     ]
    },
    {
     "name": "stdout",
     "output_type": "stream",
     "text": [
      "any_head_positioned True\n",
      "[1, 2, 3, 4, 5, 6, 7, 8, 9, 10, 11, 12, 13, 14, 15]\n",
      "0 172576\n",
      "coordinate of the left eye: [ 0.02132567 -0.1780084  -0.01913775] in frame 0\n",
      "1 172581\n",
      "coordinate of the left eye: [ 0.02186936 -0.17588632 -0.0187414 ] in frame 1\n",
      "12 169336\n",
      "coordinate of the left eye: [ 0.01811048 -0.16311562  0.00041593] in frame 12\n",
      "13 170000\n",
      "coordinate of the left eye: [ 0.03420423 -0.16902184 -0.01630774] in frame 13\n",
      "14 169380\n",
      "coordinate of the left eye: [ 0.03902839 -0.17648688 -0.00631632] in frame 14\n",
      "[ 0.02690762 -0.17250381 -0.01201745]\n",
      "[[-0.00558196 -0.00550458 -0.0071203 ]\n",
      " [-0.00503827 -0.00338251 -0.00672394]\n",
      " [-0.00879715  0.00938819  0.01243338]\n",
      " [ 0.00729661  0.00348197 -0.00429028]\n",
      " [ 0.01212076 -0.00398307  0.00570114]]\n",
      "mean coordinate: [ 0.02690762 -0.17250381 -0.01201745]. Distance to each points: [0.01059044 0.00905742 0.01789181 0.00915266 0.01397429].\n"
     ]
    },
    {
     "data": {
      "text/plain": [
       "0.012133322948721065"
      ]
     },
     "execution_count": 170,
     "metadata": {},
     "output_type": "execute_result"
    }
   ],
   "source": [
    "only_first_n=15\n",
    "mhead.reset_all_head_positions()\n",
    "link_index,err=mhead.get_next_unpositioned_link()\n",
    "positioned_head_count=0\n",
    "joined_heads=set() \n",
    "while(not link_index is None) and (positioned_head_count<only_first_n or only_first_n==-1):\n",
    "    mhead.links[link_index].print_short()\n",
    "    joined_heads.add(mhead.links[link_index].left)\n",
    "    joined_heads.add(mhead.links[link_index].right)\n",
    "    mhead.heads[mhead.links[link_index].right-1].background_color=np.asarray([0,0,1])\n",
    "    mhead.heads[mhead.links[link_index].left-1].background_color=np.asarray([0,0,1]) \n",
    "    foo= mhead.transform_from_link(mhead.links[link_index])   \n",
    "    link_index,err=mhead.get_next_unpositioned_link()\n",
    "    positioned_head_count=max(positioned_head_count+1,2)\n",
    "joined_heads=sorted(joined_heads)\n",
    "print(joined_heads)\n",
    "no_heads= len(joined_heads)\n",
    "joined_heads=[str(h) for h in joined_heads]\n",
    "name= f\"Seq_{mhead.heads[0].sequence_id}_frames_{'_'.join(joined_heads)}\"\n",
    "mhead.create_spheres(min(2/max(no_heads,0.2),1),name=name)\n",
    "center, distances=mhead.left_eye_deviation()\n",
    "np.mean(distances)"
   ]
  },
  {
   "cell_type": "code",
   "execution_count": 191,
   "metadata": {},
   "outputs": [
    {
     "ename": "IndexError",
     "evalue": "boolean index did not match indexed array along dimension 0; dimension is 50834 but corresponding boolean dimension is 52170",
     "output_type": "error",
     "traceback": [
      "\u001b[1;31m---------------------------------------------------------------------------\u001b[0m",
      "\u001b[1;31mIndexError\u001b[0m                                Traceback (most recent call last)",
      "\u001b[1;32m<ipython-input-191-4f2d2d9629b5>\u001b[0m in \u001b[0;36m<module>\u001b[1;34m\u001b[0m\n\u001b[1;32m----> 1\u001b[1;33m \u001b[0mmhead\u001b[0m\u001b[1;33m.\u001b[0m\u001b[0mcreate_spheres\u001b[0m\u001b[1;33m(\u001b[0m\u001b[0mmin\u001b[0m\u001b[1;33m(\u001b[0m\u001b[1;36m2\u001b[0m\u001b[1;33m/\u001b[0m\u001b[0mmax\u001b[0m\u001b[1;33m(\u001b[0m\u001b[0mno_heads\u001b[0m\u001b[1;33m,\u001b[0m\u001b[1;36m0.2\u001b[0m\u001b[1;33m)\u001b[0m\u001b[1;33m,\u001b[0m\u001b[1;36m1\u001b[0m\u001b[1;33m)\u001b[0m\u001b[1;33m,\u001b[0m\u001b[0mname\u001b[0m\u001b[1;33m=\u001b[0m\u001b[0mname\u001b[0m\u001b[1;33m)\u001b[0m\u001b[1;33m\u001b[0m\u001b[0m\n\u001b[0m\u001b[0;32m      2\u001b[0m \u001b[0mmhead\u001b[0m\u001b[1;33m.\u001b[0m\u001b[0msave_spheres\u001b[0m\u001b[1;33m(\u001b[0m\u001b[1;34m\"boe\"\u001b[0m\u001b[1;33m)\u001b[0m\u001b[1;33m\u001b[0m\u001b[0m\n",
      "\u001b[1;32mC:\\Data Science\\Advanced Vision\\Coursework\\AV_CW\\multi_head.py\u001b[0m in \u001b[0;36mcreate_spheres\u001b[1;34m(self, sparcity, name)\u001b[0m\n\u001b[0;32m    310\u001b[0m             \u001b[1;32mif\u001b[0m \u001b[0mhead\u001b[0m\u001b[1;33m.\u001b[0m\u001b[0mvisible\u001b[0m\u001b[1;33m:\u001b[0m\u001b[1;33m\u001b[0m\u001b[0m\n\u001b[0;32m    311\u001b[0m                 \u001b[1;32mif\u001b[0m \u001b[0msparcity\u001b[0m \u001b[1;33m<\u001b[0m \u001b[1;36m1\u001b[0m\u001b[1;33m:\u001b[0m\u001b[1;33m\u001b[0m\u001b[0m\n\u001b[1;32m--> 312\u001b[1;33m                     \u001b[0mhead\u001b[0m\u001b[1;33m.\u001b[0m\u001b[0msparsify\u001b[0m\u001b[1;33m(\u001b[0m\u001b[0msparcity\u001b[0m\u001b[1;33m)\u001b[0m\u001b[1;33m\u001b[0m\u001b[0m\n\u001b[0m\u001b[0;32m    313\u001b[0m                     \u001b[0mhead\u001b[0m\u001b[1;33m.\u001b[0m\u001b[0mcreate_vpython_spheres\u001b[0m\u001b[1;33m(\u001b[0m\u001b[0mforce_sparce\u001b[0m\u001b[1;33m=\u001b[0m\u001b[1;32mTrue\u001b[0m\u001b[1;33m)\u001b[0m\u001b[1;33m\u001b[0m\u001b[0m\n\u001b[0;32m    314\u001b[0m                 \u001b[1;32melse\u001b[0m\u001b[1;33m:\u001b[0m\u001b[1;33m\u001b[0m\u001b[0m\n",
      "\u001b[1;32mC:\\Data Science\\Advanced Vision\\Coursework\\AV_CW\\single_head.py\u001b[0m in \u001b[0;36msparsify\u001b[1;34m(self, sparsity)\u001b[0m\n\u001b[0;32m    304\u001b[0m         \u001b[0ml\u001b[0m \u001b[1;33m=\u001b[0m \u001b[0mself\u001b[0m\u001b[1;33m.\u001b[0m\u001b[0mxyz\u001b[0m\u001b[1;33m.\u001b[0m\u001b[0mshape\u001b[0m\u001b[1;33m[\u001b[0m\u001b[1;36m0\u001b[0m\u001b[1;33m]\u001b[0m\u001b[1;33m\u001b[0m\u001b[0m\n\u001b[0;32m    305\u001b[0m         \u001b[0mfilter\u001b[0m \u001b[1;33m=\u001b[0m \u001b[0mnp\u001b[0m\u001b[1;33m.\u001b[0m\u001b[0mrandom\u001b[0m\u001b[1;33m.\u001b[0m\u001b[0mrandom\u001b[0m\u001b[1;33m(\u001b[0m\u001b[1;33m(\u001b[0m\u001b[0ml\u001b[0m\u001b[1;33m)\u001b[0m\u001b[1;33m)\u001b[0m \u001b[1;33m<\u001b[0m \u001b[0msparsity\u001b[0m\u001b[1;33m\u001b[0m\u001b[0m\n\u001b[1;32m--> 306\u001b[1;33m         \u001b[0mself\u001b[0m\u001b[1;33m.\u001b[0m\u001b[0msparse_xy_mesh\u001b[0m \u001b[1;33m=\u001b[0m \u001b[0mself\u001b[0m\u001b[1;33m.\u001b[0m\u001b[0mxy_mesh\u001b[0m\u001b[1;33m[\u001b[0m\u001b[0mfilter\u001b[0m\u001b[1;33m]\u001b[0m\u001b[1;33m\u001b[0m\u001b[0m\n\u001b[0m\u001b[0;32m    307\u001b[0m \u001b[1;33m\u001b[0m\u001b[0m\n\u001b[0;32m    308\u001b[0m         \u001b[0mself\u001b[0m\u001b[1;33m.\u001b[0m\u001b[0msparse_xyz\u001b[0m \u001b[1;33m=\u001b[0m \u001b[0mself\u001b[0m\u001b[1;33m.\u001b[0m\u001b[0mxyz\u001b[0m\u001b[1;33m[\u001b[0m\u001b[0mfilter\u001b[0m\u001b[1;33m]\u001b[0m\u001b[1;33m\u001b[0m\u001b[0m\n",
      "\u001b[1;31mIndexError\u001b[0m: boolean index did not match indexed array along dimension 0; dimension is 50834 but corresponding boolean dimension is 52170"
     ]
    }
   ],
   "source": [
    "mhead.create_spheres(min(2/max(no_heads,0.2),1),name=name)\n",
    "mhead.save_spheres(\"boe\")"
   ]
  },
  {
   "cell_type": "code",
   "execution_count": 117,
   "metadata": {},
   "outputs": [
    {
     "name": "stdout",
     "output_type": "stream",
     "text": [
      "0 153974\n",
      "coordinate of the left eye: [-0.04270943 -0.22482576 -0.0096941 ] in frame 0\n",
      "1 150143\n",
      "coordinate of the left eye: [-0.046029   -0.23158732 -0.01141736] in frame 1\n",
      "2 150124\n",
      "coordinate of the left eye: [-0.07649181 -0.22327776  0.02547467] in frame 2\n",
      "13 147576\n",
      "coordinate of the left eye: [-0.01553875 -0.23271609 -0.01817739] in frame 13\n",
      "14 150775\n",
      "coordinate of the left eye: [-0.04775565 -0.22426942 -0.00866981] in frame 14\n",
      "[-0.04570493 -0.22733527 -0.0044968 ]\n",
      "[[ 0.0029955   0.00250951 -0.0051973 ]\n",
      " [-0.00032407 -0.00425205 -0.00692056]\n",
      " [-0.03078688  0.00405751  0.02997147]\n",
      " [ 0.03016618 -0.00538082 -0.01368059]\n",
      " [-0.00205072  0.00306585 -0.00417301]]\n",
      "mean coordinate: [-0.04570493 -0.22733527 -0.0044968 ]. Distance to each points: [0.00650251 0.00812891 0.04315767 0.03355756 0.00556946].\n"
     ]
    },
    {
     "data": {
      "text/plain": [
       "0.019383222972255216"
      ]
     },
     "execution_count": 117,
     "metadata": {},
     "output_type": "execute_result"
    }
   ],
   "source": [
    "center, distances=mhead.left_eye_deviation(1)\n",
    "np.mean(distances)"
   ]
  },
  {
   "cell_type": "code",
   "execution_count": null,
   "metadata": {},
   "outputs": [],
   "source": [
    "for i, link in enumerate(mhead.links):\n",
    "    print (i)\n",
    "    link.print_short()"
   ]
  },
  {
   "cell_type": "code",
   "execution_count": null,
   "metadata": {},
   "outputs": [],
   "source": [
    "    link_index,err=mhead.get_next_unpositioned_link()\n",
    "    positioned_head_count=max(positioned_head_count+1,2)\n",
    "joined_heads=sorted(joined_heads)\n",
    "print(joined_heads)\n",
    "no_heads= len(joined_heads)\n",
    "joined_heads=[str(h) for h in joined_heads]\n",
    "name= f\"Seq_{mhead.heads[0].sequence_id}_frames_{'_'.join(joined_heads)}\"\n",
    "mhead.create_spheres(min(2/max(no_heads,0.2),1),name=name)"
   ]
  },
  {
   "cell_type": "code",
   "execution_count": null,
   "metadata": {},
   "outputs": [],
   "source": [
    "foo= mhead.transform_from_link(mhead.links[link_index])"
   ]
  },
  {
   "cell_type": "code",
   "execution_count": null,
   "metadata": {},
   "outputs": [],
   "source": [
    "mhead.reset_all_head_positions()\n",
    "mhead.transform_from_link(mhead.links[0])\n",
    "mhead.transform_from_link(mhead.links[1])\n",
    "mhead.create_spheres(0.3)\n"
   ]
  },
  {
   "cell_type": "code",
   "execution_count": 123,
   "metadata": {},
   "outputs": [
    {
     "name": "stdout",
     "output_type": "stream",
     "text": [
      "\\begin{tabular}{rrrrr}\n",
      "\\toprule\n",
      " Right &  Left &  Matches &  Inliers &    \\textbackslash sigma \\\\\n",
      "\\midrule\n",
      "     1 &     2 &      111 &       78 &  0.002994 \\\\\n",
      "     2 &     3 &      132 &       86 &  0.003627 \\\\\n",
      "     3 &     4 &       91 &       54 &  0.005317 \\\\\n",
      "     4 &     5 &      105 &       80 &  0.002748 \\\\\n",
      "     5 &     6 &       94 &       67 &  0.005150 \\\\\n",
      "     6 &     7 &       83 &       53 &  0.005607 \\\\\n",
      "     7 &     8 &       62 &       39 &  0.003021 \\\\\n",
      "     8 &     9 &       16 &       12 &  0.013064 \\\\\n",
      "     9 &    10 &        8 &        5 &       NaN \\\\\n",
      "    10 &    11 &       22 &       19 &  0.002995 \\\\\n",
      "    11 &    12 &       55 &       27 &  0.007341 \\\\\n",
      "    12 &    13 &       66 &       38 &  0.003067 \\\\\n",
      "    13 &    14 &       78 &       33 &  0.007001 \\\\\n",
      "    14 &    15 &       73 &       43 &  0.007859 \\\\\n",
      "    15 &     1 &      124 &       91 &  0.002372 \\\\\n",
      "\\bottomrule\n",
      "\\end{tabular}\n",
      "\n"
     ]
    }
   ],
   "source": [
    "import pandas as pd\n",
    "df=pd.DataFrame(columns=['Right', 'Left',  'Matches', 'Inliers','Variance'])\n",
    "for link in mhead.links:\n",
    "    df = df.append({'Right' : int(link.right) , 'Left' : int(link.left) ,  'Variance' : link.err, 'Inliers' : sum(link.inliers), 'Matches' : len(link.matches)} , ignore_index=True)\n",
    "df[['Right', 'Left',  'Matches', 'Inliers']] = df[['Right', 'Left',  'Matches', 'Inliers']].astype(int)\n",
    "df=df.rename(columns={'Variance':\"Transformation MSE\"})\n",
    "print(df.to_latex(index=False))"
   ]
  },
  {
   "cell_type": "code",
   "execution_count": 119,
   "metadata": {},
   "outputs": [
    {
     "data": {
      "text/html": [
       "<div>\n",
       "<style scoped>\n",
       "    .dataframe tbody tr th:only-of-type {\n",
       "        vertical-align: middle;\n",
       "    }\n",
       "\n",
       "    .dataframe tbody tr th {\n",
       "        vertical-align: top;\n",
       "    }\n",
       "\n",
       "    .dataframe thead th {\n",
       "        text-align: right;\n",
       "    }\n",
       "</style>\n",
       "<table border=\"1\" class=\"dataframe\">\n",
       "  <thead>\n",
       "    <tr style=\"text-align: right;\">\n",
       "      <th></th>\n",
       "      <th>Right</th>\n",
       "      <th>Left</th>\n",
       "      <th>Matches</th>\n",
       "      <th>Inliers</th>\n",
       "      <th>Variance</th>\n",
       "    </tr>\n",
       "  </thead>\n",
       "  <tbody>\n",
       "    <tr>\n",
       "      <th>0</th>\n",
       "      <td>1</td>\n",
       "      <td>2</td>\n",
       "      <td>111</td>\n",
       "      <td>78</td>\n",
       "      <td>0.002994</td>\n",
       "    </tr>\n",
       "    <tr>\n",
       "      <th>1</th>\n",
       "      <td>2</td>\n",
       "      <td>3</td>\n",
       "      <td>132</td>\n",
       "      <td>86</td>\n",
       "      <td>0.003627</td>\n",
       "    </tr>\n",
       "    <tr>\n",
       "      <th>2</th>\n",
       "      <td>3</td>\n",
       "      <td>4</td>\n",
       "      <td>91</td>\n",
       "      <td>54</td>\n",
       "      <td>0.005317</td>\n",
       "    </tr>\n",
       "    <tr>\n",
       "      <th>3</th>\n",
       "      <td>4</td>\n",
       "      <td>5</td>\n",
       "      <td>105</td>\n",
       "      <td>80</td>\n",
       "      <td>0.002748</td>\n",
       "    </tr>\n",
       "    <tr>\n",
       "      <th>4</th>\n",
       "      <td>5</td>\n",
       "      <td>6</td>\n",
       "      <td>94</td>\n",
       "      <td>67</td>\n",
       "      <td>0.005150</td>\n",
       "    </tr>\n",
       "    <tr>\n",
       "      <th>5</th>\n",
       "      <td>6</td>\n",
       "      <td>7</td>\n",
       "      <td>83</td>\n",
       "      <td>53</td>\n",
       "      <td>0.005607</td>\n",
       "    </tr>\n",
       "    <tr>\n",
       "      <th>6</th>\n",
       "      <td>7</td>\n",
       "      <td>8</td>\n",
       "      <td>62</td>\n",
       "      <td>39</td>\n",
       "      <td>0.003021</td>\n",
       "    </tr>\n",
       "    <tr>\n",
       "      <th>7</th>\n",
       "      <td>8</td>\n",
       "      <td>9</td>\n",
       "      <td>16</td>\n",
       "      <td>12</td>\n",
       "      <td>0.013064</td>\n",
       "    </tr>\n",
       "    <tr>\n",
       "      <th>8</th>\n",
       "      <td>9</td>\n",
       "      <td>10</td>\n",
       "      <td>8</td>\n",
       "      <td>5</td>\n",
       "      <td>NaN</td>\n",
       "    </tr>\n",
       "    <tr>\n",
       "      <th>9</th>\n",
       "      <td>10</td>\n",
       "      <td>11</td>\n",
       "      <td>22</td>\n",
       "      <td>19</td>\n",
       "      <td>0.002995</td>\n",
       "    </tr>\n",
       "    <tr>\n",
       "      <th>10</th>\n",
       "      <td>11</td>\n",
       "      <td>12</td>\n",
       "      <td>55</td>\n",
       "      <td>27</td>\n",
       "      <td>0.007341</td>\n",
       "    </tr>\n",
       "    <tr>\n",
       "      <th>11</th>\n",
       "      <td>12</td>\n",
       "      <td>13</td>\n",
       "      <td>66</td>\n",
       "      <td>38</td>\n",
       "      <td>0.003067</td>\n",
       "    </tr>\n",
       "    <tr>\n",
       "      <th>12</th>\n",
       "      <td>13</td>\n",
       "      <td>14</td>\n",
       "      <td>78</td>\n",
       "      <td>33</td>\n",
       "      <td>0.007001</td>\n",
       "    </tr>\n",
       "    <tr>\n",
       "      <th>13</th>\n",
       "      <td>14</td>\n",
       "      <td>15</td>\n",
       "      <td>73</td>\n",
       "      <td>43</td>\n",
       "      <td>0.007859</td>\n",
       "    </tr>\n",
       "    <tr>\n",
       "      <th>14</th>\n",
       "      <td>15</td>\n",
       "      <td>1</td>\n",
       "      <td>124</td>\n",
       "      <td>91</td>\n",
       "      <td>0.002372</td>\n",
       "    </tr>\n",
       "  </tbody>\n",
       "</table>\n",
       "</div>"
      ],
      "text/plain": [
       "    Right  Left  Matches  Inliers  Variance\n",
       "0       1     2      111       78  0.002994\n",
       "1       2     3      132       86  0.003627\n",
       "2       3     4       91       54  0.005317\n",
       "3       4     5      105       80  0.002748\n",
       "4       5     6       94       67  0.005150\n",
       "5       6     7       83       53  0.005607\n",
       "6       7     8       62       39  0.003021\n",
       "7       8     9       16       12  0.013064\n",
       "8       9    10        8        5       NaN\n",
       "9      10    11       22       19  0.002995\n",
       "10     11    12       55       27  0.007341\n",
       "11     12    13       66       38  0.003067\n",
       "12     13    14       78       33  0.007001\n",
       "13     14    15       73       43  0.007859\n",
       "14     15     1      124       91  0.002372"
      ]
     },
     "execution_count": 119,
     "metadata": {},
     "output_type": "execute_result"
    }
   ],
   "source": [
    "df"
   ]
  },
  {
   "cell_type": "code",
   "execution_count": null,
   "metadata": {},
   "outputs": [],
   "source": [
    "mhead.links[0].left"
   ]
  },
  {
   "cell_type": "code",
   "execution_count": null,
   "metadata": {},
   "outputs": [],
   "source": [
    "mhead.create_mesh(f\"{Sequence}_mesh\")"
   ]
  },
  {
   "cell_type": "code",
   "execution_count": null,
   "metadata": {},
   "outputs": [],
   "source": [
    "nrows,ncols=3,2\n",
    "screenwidth=12\n",
    "plt.figure(figsize = (screenwidth,3/4*nrows*screenwidth/ncols))\n",
    "gs1 = gridspec.GridSpec(nrows, ncols)\n",
    "gs1.update(wspace=0.1, hspace=0.1)\n",
    "for row in range(nrows):\n",
    "    for col in range(ncols):\n",
    "        idx=ncols*row+col\n",
    "        ax=plt.subplot(gs1[idx])\n",
    "        mhead.heads[idx].background_color=np.array([0,0,1])\n",
    "        img= mhead.heads[idx].get_filtered_image()\n",
    "        ax.imshow(img)\n",
    "        ax.set_axis_off()        \n",
    "        ax.text(x=10, y=463 , s=f\"S_{Sequence}:{idx+1}/15\",horizontalalignment='left',\n",
    "                              verticalalignment='bottom',  bbox=dict(facecolor='white', alpha=1))        \n",
    "        del ax\n",
    "plt.savefig(f\"2d_filtered_seq_{Sequence}\")\n",
    "plt.show()"
   ]
  },
  {
   "cell_type": "code",
   "execution_count": null,
   "metadata": {},
   "outputs": [],
   "source": [
    "sequence_ids=[0,1,2]\n",
    "head_ids=[0,5,7]\n",
    "abcd=\"abcd\"\n",
    "nrows,ncols=3,4\n",
    "screenwidth=12\n",
    "plt.figure(figsize = (screenwidth,3/4*nrows*screenwidth/ncols))\n",
    "gs1 = gridspec.GridSpec(nrows, ncols)\n",
    "gs1.update(wspace=0.1, hspace=0.1)\n",
    "for row in range(nrows):\n",
    "    head = sequence_ids[row]\n",
    "    head = sequence_ids[row]\n",
    "    sequence= sequence_ids[row]\n",
    "    head_idx=head_ids[row]\n",
    "    for col in range(ncols):\n",
    "#         print (sequence, head_idx, col)\n",
    "        head=mheads[sequence].heads[head_idx]\n",
    "        if col==0:\n",
    "            img= head.twoD_image            \n",
    "            \n",
    "        elif col==1:\n",
    "            head.reset_filters()\n",
    "            head.filter_depth(1)\n",
    "            head.background_color=np.array([0,0,1])\n",
    "            img= head.get_filtered_image()\n",
    "        elif col==2:\n",
    "            head.remove_dangling()\n",
    "            img= head.get_filtered_image()\n",
    "        elif col==3:\n",
    "            head.remove_background_color()\n",
    "            head.background_color=np.array([0,0,1])\n",
    "            img= head.get_filtered_image()\n",
    "        idx=ncols*row+col\n",
    "        ax=plt.subplot(gs1[idx])\n",
    "        ax.imshow(img)\n",
    "        ax.set_axis_off()        \n",
    "        if col==0:\n",
    "            ax.text(x=20, y=20 , s=f\"S_{sequence+1}:{head_idx+1}/15\",horizontalalignment='left',\n",
    "                                  verticalalignment='top',  bbox=dict(facecolor='white', alpha=1))        \n",
    "\n",
    "        ax.text(x=20, y=453 , s=f\"{abcd[col]}\",horizontalalignment='left',\n",
    "                              verticalalignment='bottom',  bbox=dict(facecolor='white', alpha=1))        \n",
    "        \n",
    "        del ax\n",
    "        \n",
    "plt.savefig(f\"2d_full_seq_{Sequence}\")\n",
    "plt.show()"
   ]
  },
  {
   "cell_type": "code",
   "execution_count": null,
   "metadata": {},
   "outputs": [],
   "source": [
    "linkindex=6\n",
    "mhead.reset_all_head_positions()\n",
    "foo= mhead.transform_from_link(mhead.links[linkindex])\n",
    "mhead.links[linkindex].print_short()\n",
    "mhead.create_spheres(0.4)"
   ]
  },
  {
   "cell_type": "code",
   "execution_count": null,
   "metadata": {},
   "outputs": [],
   "source": [
    "import glob"
   ]
  },
  {
   "cell_type": "code",
   "execution_count": null,
   "metadata": {},
   "outputs": [],
   "source": [
    "glob.glob(\"images\\Seq_1_frames_SIFT*.png\")"
   ]
  },
  {
   "cell_type": "code",
   "execution_count": 65,
   "metadata": {},
   "outputs": [
    {
     "data": {
      "application/vnd.jupyter.widget-view+json": {
       "model_id": "b01893d42f244affb6ca76caa4c6847f",
       "version_major": 2,
       "version_minor": 0
      },
      "text/plain": [
       "HBox(children=(FloatProgress(value=0.0, max=184.0), HTML(value='')))"
      ]
     },
     "metadata": {},
     "output_type": "display_data"
    },
    {
     "name": "stdout",
     "output_type": "stream",
     "text": [
      "\n",
      "completed\n"
     ]
    }
   ],
   "source": [
    "mhead.create_mesh(\"hi\")"
   ]
  },
  {
   "cell_type": "code",
   "execution_count": null,
   "metadata": {},
   "outputs": [],
   "source": []
  }
 ],
 "metadata": {
  "kernelspec": {
   "display_name": "Python 3",
   "language": "python",
   "name": "python3"
  },
  "language_info": {
   "codemirror_mode": {
    "name": "ipython",
    "version": 3
   },
   "file_extension": ".py",
   "mimetype": "text/x-python",
   "name": "python",
   "nbconvert_exporter": "python",
   "pygments_lexer": "ipython3",
   "version": "3.7.0"
  }
 },
 "nbformat": 4,
 "nbformat_minor": 4
}
