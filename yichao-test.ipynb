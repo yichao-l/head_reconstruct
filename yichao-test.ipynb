{
 "cells": [
  {
   "cell_type": "code",
   "execution_count": 1,
   "metadata": {
    "scrolled": true
   },
   "outputs": [
    {
     "data": {
      "text/html": [
       "<div id=\"glowscript\" class=\"glowscript\"></div>"
      ],
      "text/plain": [
       "<IPython.core.display.HTML object>"
      ]
     },
     "metadata": {},
     "output_type": "display_data"
    },
    {
     "data": {
      "application/javascript": [
       "if (typeof Jupyter !== \"undefined\") { window.__context = { glowscript_container: $(\"#glowscript\").removeAttr(\"id\")};}else{ element.textContent = ' ';}"
      ],
      "text/plain": [
       "<IPython.core.display.Javascript object>"
      ]
     },
     "metadata": {},
     "output_type": "display_data"
    }
   ],
   "source": [
    "import HEAD_RECON\n",
    "import multi_head\n",
    "import copy\n",
    "import numpy as np\n",
    "import matplotlib.pyplot as plt\n",
    "%reload_ext autoreload\n",
    "%autoreload 2"
   ]
  },
  {
   "cell_type": "code",
   "execution_count": 2,
   "metadata": {},
   "outputs": [],
   "source": [
    "all_heads=[HEAD_RECON.threeD_head.load_from_pickle(1,i) for i in range (1,16)]"
   ]
  },
  {
   "cell_type": "code",
   "execution_count": 3,
   "metadata": {
    "scrolled": true
   },
   "outputs": [],
   "source": [
    "def make_mhead(all_heads, first, last):\n",
    "    all_heads[first].paint([1,0,0])\n",
    "    all_heads[first].reset_positions()\n",
    "    all_heads[first].reset_colors()\n",
    "    all_heads[first+1].reset_positions()\n",
    "    all_heads[first+1].reset_colors()    \n",
    "    \n",
    "    heads = multi_head.MultiHead.joined_heads(all_heads[first], all_heads[first+1])\n",
    "    heads.icp_transform(0,1)\n",
    "    for i in range(first+2,last+1):\n",
    "        all_heads[i].reset_positions()\n",
    "        all_heads[i].reset_colors()  \n",
    "        print (i)\n",
    "        heads.append_head(all_heads[i])\n",
    "        heads.join_heads(i-1-first,i-first)\n",
    "        heads.icp_transform(i-1-first,i-first)\n",
    "    heads.save(sparcity=0.2) \n",
    "    print (\"completed\")\n",
    "    return heads"
   ]
  },
  {
   "cell_type": "code",
   "execution_count": 4,
   "metadata": {
    "scrolled": true
   },
   "outputs": [
    {
     "name": "stdout",
     "output_type": "stream",
     "text": [
      "ids are not unique\n",
      "distances 0.0007692697370257351\n",
      "ids are not unique\n",
      "distances 0.000535280379172662\n",
      "ids are not unique\n",
      "distances 0.0007620350531368501\n",
      "ids are not unique\n",
      "distances 0.0004562830471805025\n",
      "ids are not unique\n",
      "distances 0.0006659019133920785\n",
      "ids are not unique\n",
      "distances 0.0005858561634737289\n",
      "ids are not unique\n",
      "distances 0.0009727232256549819\n",
      "ids are not unique\n",
      "distances 0.0008552368940241874\n",
      "ids are not unique\n",
      "distances 0.0011404422303762304\n",
      "ids are not unique\n",
      "distances 0.0007087171589609372\n",
      "ids are not unique\n",
      "distances 0.0010372831198209806\n",
      "ids are not unique\n",
      "distances 0.0007216016368902619\n",
      "ids are not unique\n",
      "distances 0.00040039205583118604\n",
      "ids are not unique\n",
      "distances 0.0004994986172655559\n",
      "ids are not unique\n",
      "distances 0.0003984178262678034\n",
      "ids are not unique\n",
      "distances 0.0010554653045435436\n",
      "ids are not unique\n",
      "distances 0.0007806470768521078\n",
      "ids are not unique\n",
      "distances 0.0006064906751847518\n",
      "ids are not unique\n",
      "distances 0.00026870349346293893\n",
      "ids are not unique\n",
      "distances 0.0007349693257078544\n",
      "distances 0.001322568657877236\n",
      "ids are not unique\n",
      "distances 0.0005066735694289195\n",
      "distances 0.0012298695600818773\n",
      "distances 0.001056943277386776\n",
      "ids are not unique\n",
      "distances 0.0002078515196840623\n",
      "ids are not unique\n",
      "distances 0.0006889343057582556\n",
      "ids are not unique\n",
      "distances 0.0007295600431617822\n",
      "ids are not unique\n",
      "distances 0.0005799646183098413\n",
      "ids are not unique\n",
      "distances 0.0005213927942613149\n",
      "ids are not unique\n",
      "distances 0.0012409382820046794\n",
      "ids are not unique\n",
      "distances 0.0006232562359040392\n",
      "ids are not unique\n",
      "distances 0.0005765291770817723\n",
      "ids are not unique\n",
      "distances 0.000603454459333135\n",
      "ids are not unique\n",
      "distances 0.0006007166900016368\n",
      "ids are not unique\n",
      "distances 0.0005785085036499585\n",
      "ids are not unique\n",
      "distances 0.001007568417712785\n",
      "ids are not unique\n",
      "distances 0.0008453533197960946\n",
      "ids are not unique\n",
      "distances 0.0005692722400298375\n",
      "ids are not unique\n",
      "distances 0.0008515279977989126\n",
      "ids are not unique\n",
      "distances 0.007098936131324531\n",
      "ids are not unique\n",
      "distances 0.0008281604664352077\n",
      "ids are not unique\n",
      "distances 0.000415954055418099\n",
      "ids are not unique\n",
      "distances 0.0009202988625086278\n",
      "ids are not unique\n",
      "distances 0.0004892777623976424\n",
      "ids are not unique\n",
      "distances 0.0006694046431005489\n",
      "ids are not unique\n",
      "distances 0.001566588750032588\n",
      "ids are not unique\n",
      "distances 0.0003736559563029251\n",
      "ids are not unique\n",
      "distances 0.0006928089348895348\n",
      "ids are not unique\n",
      "distances 0.001082133452118824\n",
      "distances 0.0004487848403819253\n",
      "ids are not unique\n",
      "distances 0.000700649900121561\n",
      "ids are not unique\n",
      "distances 0.0008509855652079734\n",
      "ids are not unique\n",
      "distances 0.00036142608980328214\n",
      "ids are not unique\n",
      "distances 0.0006460345079209972\n",
      "ids are not unique\n",
      "distances 0.0033738367195419194\n",
      "ids are not unique\n",
      "distances 0.0004444131256190969\n",
      "ids are not unique\n",
      "distances 0.0004223846510029505\n",
      "distances 0.0003513022552397204\n",
      "ids are not unique\n",
      "distances 0.0010888130544412314\n",
      "ids are not unique\n",
      "distances 0.0006460233305635265\n",
      "ids are not unique\n",
      "distances 0.0006890470843028059\n",
      "ids are not unique\n",
      "distances 0.0005318717940005103\n",
      "ids are not unique\n",
      "distances 0.0009682900410931439\n",
      "ids are not unique\n",
      "distances 0.0009705701688448658\n",
      "ids are not unique\n",
      "distances 0.0008455560043515132\n",
      "ids are not unique\n",
      "distances 0.0007588857789737083\n",
      "ids are not unique\n",
      "distances 0.000973833745259173\n",
      "ids are not unique\n",
      "distances 0.000686600236269999\n",
      "ids are not unique\n",
      "distances 0.0007824837613745333\n",
      "ids are not unique\n",
      "distances 0.0010450232184391647\n",
      "ids are not unique\n",
      "distances 0.0004577938530255661\n",
      "ids are not unique\n",
      "distances 0.00037795314707668253\n",
      "distances 0.0004408636036396996\n",
      "ids are not unique\n",
      "distances 0.001033916275939894\n",
      "distances 0.0009664520643595646\n"
     ]
    },
    {
     "name": "stderr",
     "output_type": "stream",
     "text": [
      "/Users/caseliang/Repositories/AV_CW/Procrustes2.py:62: RuntimeWarning: invalid value encountered in true_divide\n",
      "  X0 /= normX\n",
      "/Users/caseliang/Repositories/AV_CW/Procrustes2.py:63: RuntimeWarning: invalid value encountered in true_divide\n",
      "  Y0 /= normY\n"
     ]
    },
    {
     "name": "stdout",
     "output_type": "stream",
     "text": [
      "distances 0.0005284596326202152\n",
      "distances 0.026616707243683792\n",
      "distances 0.0008013377920483975\n"
     ]
    },
    {
     "name": "stderr",
     "output_type": "stream",
     "text": [
      "/Users/caseliang/Repositories/AV_CW/Procrustes2.py:62: RuntimeWarning: invalid value encountered in true_divide\n",
      "  X0 /= normX\n",
      "/Users/caseliang/Repositories/AV_CW/Procrustes2.py:63: RuntimeWarning: invalid value encountered in true_divide\n",
      "  Y0 /= normY\n"
     ]
    },
    {
     "name": "stdout",
     "output_type": "stream",
     "text": [
      "3 min_dist 0.017555574290020706 params: [ 0.04 10.    0.5 ]\n",
      "ids are not unique\n",
      "start icp\n",
      "step:  0 before:  0.017840148079377796\n",
      "found the best fit transform 0\n",
      "completed\n"
     ]
    },
    {
     "data": {
      "text/plain": [
       "<multi_head.MultiHead at 0x102a52b90>"
      ]
     },
     "execution_count": 4,
     "metadata": {},
     "output_type": "execute_result"
    }
   ],
   "source": [
    "make_mhead(all_heads,5,6)"
   ]
  },
  {
   "cell_type": "code",
   "execution_count": null,
   "metadata": {},
   "outputs": [],
   "source": []
  }
 ],
 "metadata": {
  "kernelspec": {
   "display_name": "Python 3",
   "language": "python",
   "name": "python3"
  },
  "language_info": {
   "codemirror_mode": {
    "name": "ipython",
    "version": 3
   },
   "file_extension": ".py",
   "mimetype": "text/x-python",
   "name": "python",
   "nbconvert_exporter": "python",
   "pygments_lexer": "ipython3",
   "version": "3.7.4"
  }
 },
 "nbformat": 4,
 "nbformat_minor": 4
}
