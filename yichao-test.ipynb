{
 "cells": [
  {
   "cell_type": "code",
   "execution_count": 23,
   "metadata": {
    "scrolled": true
   },
   "outputs": [],
   "source": [
    "import HEAD_RECON\n",
    "import multi_head\n",
    "import copy\n",
    "import numpy as np\n",
    "import matplotlib.pyplot as plt\n",
    "import cv2\n",
    "from scipy.ndimage.morphology import binary_fill_holes\n",
    "import sys\n",
    "np.set_printoptions(threshold=sys.maxsize)\n",
    "\n",
    "%load_ext autoreload\n",
    "%autoreload 2"
   ]
  },
  {
   "cell_type": "code",
   "execution_count": 24,
   "metadata": {},
   "outputs": [
    {
     "data": {
      "image/png": "[encoded data removed]",
      "text/plain": [
       "<Figure size 432x288 with 1 Axes>"
      ]
     },
     "metadata": {
      "needs_background": "light"
     },
     "output_type": "display_data"
    },
    {
     "data": {
      "image/png": "[encoded data removed]",
      "text/plain": [
       "<Figure size 432x288 with 1 Axes>"
      ]
     },
     "metadata": {
      "needs_background": "light"
     },
     "output_type": "display_data"
    }
   ],
   "source": [
    "\n",
    "\n",
    "rgb_hand = cv2.imread('./head_2d_image/full_1_1.png')\n",
    "hsv_hand = cv2.cvtColor(rgb_hand, cv2.COLOR_BGR2HSV)\n",
    "s = hsv_hand[:,:,1]\n",
    "# cv2.imshow(\"original\",rgb_hand)\n",
    "# extract the edge and dilate\n",
    "edge = cv2.Canny(s,150,200)\n",
    "kernel = np.ones((2,2))\n",
    "# cv2.imshow(\"edge\",edge)\n",
    "dilation = cv2.dilate(edge,kernel,iterations = 3)\n",
    "# cv2.imshow(\"dilation\",dilation)\n",
    "closing = cv2.morphologyEx(dilation, cv2.MORPH_CLOSE, np.ones((10,10)))\n",
    "# cv2.imshow(\"closing\",closing)\n",
    "\n",
    "# flood fill\n",
    "# im_floodfill = closing.copy()\n",
    "im_floodfill = binary_fill_holes(closing)\n",
    "im_floodfill = im_floodfill*1\n",
    "im_floodfill = np.uint8(im_floodfill)\n",
    "plt.imshow(im_floodfill);plt.show()\n",
    "kernel = np.ones((4,4))\n",
    "dilation = cv2.dilate(im_floodfill,kernel,iterations = 6)\n",
    "erode = cv2.erode(dilation,kernel,iterations=6)\n",
    "# plt.imshow(dilation);plt.show()\n",
    "plt.imshow(erode);plt.show()"
   ]
  },
  {
   "cell_type": "code",
   "execution_count": 29,
   "metadata": {},
   "outputs": [],
   "source": [
    "a = erode > 0"
   ]
  },
  {
   "cell_type": "code",
   "execution_count": 52,
   "metadata": {},
   "outputs": [
    {
     "data": {
      "text/plain": [
       "(307200,)"
      ]
     },
     "execution_count": 52,
     "metadata": {},
     "output_type": "execute_result"
    }
   ],
   "source": [
    "np.ravel(a).shape"
   ]
  },
  {
   "cell_type": "code",
   "execution_count": 59,
   "metadata": {
    "scrolled": false
   },
   "outputs": [
    {
     "name": "stdout",
     "output_type": "stream",
     "text": [
      "(300062,)\n"
     ]
    },
    {
     "data": {
      "image/png": "[encoded data removed]",
      "text/plain": [
       "<Figure size 432x288 with 1 Axes>"
      ]
     },
     "metadata": {
      "needs_background": "light"
     },
     "output_type": "display_data"
    },
    {
     "data": {
      "image/png": "[encoded data removed]",
      "text/plain": [
       "<Figure size 432x288 with 1 Axes>"
      ]
     },
     "metadata": {
      "needs_background": "light"
     },
     "output_type": "display_data"
    },
    {
     "ename": "IndexError",
     "evalue": "boolean index did not match indexed array along dimension 0; dimension is 300062 but corresponding boolean dimension is 307200",
     "output_type": "error",
     "traceback": [
      "\u001b[0;31m---------------------------------------------------------------------------\u001b[0m",
      "\u001b[0;31mIndexError\u001b[0m                                Traceback (most recent call last)",
      "\u001b[0;32m<ipython-input-59-bf8220d3e7c7>\u001b[0m in \u001b[0;36m<module>\u001b[0;34m\u001b[0m\n\u001b[1;32m      2\u001b[0m \u001b[0mhead\u001b[0m\u001b[0;34m.\u001b[0m\u001b[0mreset_filters\u001b[0m\u001b[0;34m(\u001b[0m\u001b[0;34m)\u001b[0m\u001b[0;34m\u001b[0m\u001b[0;34m\u001b[0m\u001b[0m\n\u001b[1;32m      3\u001b[0m \u001b[0mhead\u001b[0m\u001b[0;34m.\u001b[0m\u001b[0mfilter_nan\u001b[0m\u001b[0;34m(\u001b[0m\u001b[0;34m)\u001b[0m\u001b[0;34m\u001b[0m\u001b[0;34m\u001b[0m\u001b[0m\n\u001b[0;32m----> 4\u001b[0;31m \u001b[0mhead\u001b[0m\u001b[0;34m.\u001b[0m\u001b[0medge_based_filter\u001b[0m\u001b[0;34m(\u001b[0m\u001b[0;34m)\u001b[0m\u001b[0;34m\u001b[0m\u001b[0;34m\u001b[0m\u001b[0m\n\u001b[0m\u001b[1;32m      5\u001b[0m \u001b[0mhead\u001b[0m\u001b[0;34m.\u001b[0m\u001b[0msparsify\u001b[0m\u001b[0;34m(\u001b[0m\u001b[0;36m1\u001b[0m\u001b[0;34m)\u001b[0m\u001b[0;34m\u001b[0m\u001b[0;34m\u001b[0m\u001b[0m\n\u001b[1;32m      6\u001b[0m \u001b[0mhead\u001b[0m\u001b[0;34m.\u001b[0m\u001b[0mcreate_vpython_spheres\u001b[0m\u001b[0;34m(\u001b[0m\u001b[0mforce_sparce\u001b[0m\u001b[0;34m=\u001b[0m\u001b[0;32mTrue\u001b[0m\u001b[0;34m)\u001b[0m\u001b[0;34m\u001b[0m\u001b[0;34m\u001b[0m\u001b[0m\n",
      "\u001b[0;32m~/Repositories/AV_CW/HEAD_RECON.py\u001b[0m in \u001b[0;36medge_based_filter\u001b[0;34m(self)\u001b[0m\n\u001b[1;32m    219\u001b[0m         \u001b[0;31m# filter\u001b[0m\u001b[0;34m\u001b[0m\u001b[0;34m\u001b[0m\u001b[0;34m\u001b[0m\u001b[0m\n\u001b[1;32m    220\u001b[0m         \u001b[0medge_filter\u001b[0m \u001b[0;34m=\u001b[0m \u001b[0merode\u001b[0m \u001b[0;34m>\u001b[0m \u001b[0;36m0\u001b[0m\u001b[0;34m\u001b[0m\u001b[0;34m\u001b[0m\u001b[0m\n\u001b[0;32m--> 221\u001b[0;31m         \u001b[0mself\u001b[0m\u001b[0;34m.\u001b[0m\u001b[0mxy_mesh\u001b[0m \u001b[0;34m=\u001b[0m \u001b[0mself\u001b[0m\u001b[0;34m.\u001b[0m\u001b[0mxy_mesh\u001b[0m\u001b[0;34m[\u001b[0m\u001b[0mnp\u001b[0m\u001b[0;34m.\u001b[0m\u001b[0mravel\u001b[0m\u001b[0;34m(\u001b[0m\u001b[0medge_filter\u001b[0m\u001b[0;34m)\u001b[0m\u001b[0;34m]\u001b[0m\u001b[0;34m\u001b[0m\u001b[0;34m\u001b[0m\u001b[0m\n\u001b[0m\u001b[1;32m    222\u001b[0m         \u001b[0mself\u001b[0m\u001b[0;34m.\u001b[0m\u001b[0mrgb\u001b[0m \u001b[0;34m=\u001b[0m \u001b[0mself\u001b[0m\u001b[0;34m.\u001b[0m\u001b[0mrgb\u001b[0m\u001b[0;34m[\u001b[0m\u001b[0medge_filter\u001b[0m\u001b[0;34m]\u001b[0m\u001b[0;34m\u001b[0m\u001b[0;34m\u001b[0m\u001b[0m\n\u001b[1;32m    223\u001b[0m         \u001b[0mself\u001b[0m\u001b[0;34m.\u001b[0m\u001b[0mxyz\u001b[0m \u001b[0;34m=\u001b[0m \u001b[0mself\u001b[0m\u001b[0;34m.\u001b[0m\u001b[0mxyz\u001b[0m\u001b[0;34m[\u001b[0m\u001b[0medge_filter\u001b[0m\u001b[0;34m]\u001b[0m\u001b[0;34m\u001b[0m\u001b[0;34m\u001b[0m\u001b[0m\n",
      "\u001b[0;31mIndexError\u001b[0m: boolean index did not match indexed array along dimension 0; dimension is 300062 but corresponding boolean dimension is 307200"
     ]
    }
   ],
   "source": [
    "head = HEAD_RECON.threeD_head.read_from_file(1,1)\n",
    "head.reset_filters()\n",
    "head.filter_nan()\n",
    "head.edge_based_filter()\n",
    "head.sparsify(1)\n",
    "head.create_vpython_spheres(force_sparce=True)\n",
    "head.save()"
   ]
  },
  {
   "cell_type": "code",
   "execution_count": 56,
   "metadata": {},
   "outputs": [
    {
     "data": {
      "text/plain": [
       "307200"
      ]
     },
     "execution_count": 56,
     "metadata": {},
     "output_type": "execute_result"
    }
   ],
   "source": [
    "640*480"
   ]
  },
  {
   "cell_type": "code",
   "execution_count": 34,
   "metadata": {},
   "outputs": [],
   "source": [
    "for i in range (1,16):\n",
    "    head = HEAD_RECON.threeD_head.read_from_file(1,i)\n",
    "    plt.imsave('head_2d_image/full_1_{}.png'.format(i),head.img_coord_from_xyz())"
   ]
  },
  {
   "cell_type": "code",
   "execution_count": 2,
   "metadata": {},
   "outputs": [],
   "source": [
    "all_heads=[HEAD_RECON.threeD_head.load_from_pickle(1,i) for i in range (1,16)]"
   ]
  },
  {
   "cell_type": "code",
   "execution_count": 3,
   "metadata": {
    "scrolled": true
   },
   "outputs": [],
   "source": [
    "def make_mhead(all_heads, first, last):\n",
    "    all_heads[first].paint([1,0,0])\n",
    "    all_heads[first].reset_positions()\n",
    "    all_heads[first].reset_colors()\n",
    "    all_heads[first+1].reset_positions()\n",
    "    all_heads[first+1].reset_colors()    \n",
    "    \n",
    "    heads = multi_head.MultiHead.joined_heads(all_heads[first], all_heads[first+1])\n",
    "#     heads.icp_transform(0,1)\n",
    "    for i in range(first+2,last+1):\n",
    "        all_heads[i].reset_positions()\n",
    "        all_heads[i].reset_colors()  \n",
    "        print (i)\n",
    "        heads.append_head(all_heads[i])\n",
    "        heads.join_heads(i-1-first,i-first)\n",
    "        heads.icp_transform(i-1-first,i-first)\n",
    "    heads.save(sparcity=1) \n",
    "    print (\"completed\")\n",
    "    return heads"
   ]
  },
  {
   "cell_type": "code",
   "execution_count": 4,
   "metadata": {
    "scrolled": true
   },
   "outputs": [
    {
     "name": "stdout",
     "output_type": "stream",
     "text": [
      "ids are not unique\n",
      "Searching (head 0 and 1), 0/42 done, distance: 0.058478532807476086\n",
      "ids are not unique\n",
      "Searching (head 0 and 1), 1/42 done, distance: 0.076834146894509\n",
      "ids are not unique\n",
      "Searching (head 0 and 1), 2/42 done, distance: 0.0660683867904602\n",
      "ids are not unique\n",
      "Searching (head 0 and 1), 3/42 done, distance: 0.09062837236858838\n",
      "ids are not unique\n",
      "Searching (head 0 and 1), 4/42 done, distance: 0.09064909477980608\n",
      "ids are not unique\n",
      "Searching (head 0 and 1), 5/42 done, distance: 0.0877838347109574\n",
      "ids are not unique\n",
      "Searching (head 0 and 1), 6/42 done, distance: 0.08328069221955402\n",
      "ids are not unique\n",
      "Searching (head 0 and 1), 7/42 done, distance: 0.053535374304363365\n",
      "Searching (head 0 and 1), 8/42 done, distance: 0.057258984539643246\n",
      "ids are not unique\n",
      "Searching (head 0 and 1), 9/42 done, distance: 0.07676526477788272\n",
      "Searching (head 0 and 1), 10/42 done, distance: 0.0661719828083861\n",
      "Searching (head 0 and 1), 11/42 done, distance: 0.040228048188686846\n",
      "ids are not unique\n",
      "Searching (head 0 and 1), 12/42 done, distance: 0.057421634912591876\n",
      "ids are not unique\n",
      "Searching (head 0 and 1), 13/42 done, distance: 0.059807933248058734\n",
      "ids are not unique\n",
      "Searching (head 0 and 1), 14/42 done, distance: 0.06101757609427952\n",
      "ids are not unique\n",
      "Searching (head 0 and 1), 15/42 done, distance: 0.03657703899947121\n",
      "ids are not unique\n",
      "Searching (head 0 and 1), 16/42 done, distance: 0.06653444994356947\n",
      "ids are not unique\n",
      "Searching (head 0 and 1), 17/42 done, distance: 0.057576493240026595\n",
      "ids are not unique\n",
      "Searching (head 0 and 1), 18/42 done, distance: 0.058916281994931825\n",
      "ids are not unique\n",
      "Searching (head 0 and 1), 19/42 done, distance: 0.08426215298450189\n",
      "ids are not unique\n",
      "Searching (head 0 and 1), 20/42 done, distance: 0.06145941974250099\n",
      "ids are not unique\n",
      "Searching (head 0 and 1), 21/42 done, distance: 0.07289558484000438\n",
      "ids are not unique\n",
      "Searching (head 0 and 1), 22/42 done, distance: 0.021366691140804625\n",
      "ids are not unique\n",
      "Searching (head 0 and 1), 23/42 done, distance: 0.11799899191690948\n",
      "ids are not unique\n",
      "Searching (head 0 and 1), 24/42 done, distance: 0.1468004830214557\n",
      "ids are not unique\n",
      "Searching (head 0 and 1), 25/42 done, distance: 0.02042271382589576\n",
      "ids are not unique\n",
      "Searching (head 0 and 1), 26/42 done, distance: 0.020741558221110297\n",
      "Searching (head 0 and 1), 27/42 done, distance: 0.0640761263563166\n",
      "ids are not unique\n",
      "Searching (head 0 and 1), 28/42 done, distance: 0.05058652512446046\n",
      "ids are not unique\n",
      "Searching (head 0 and 1), 29/42 done, distance: 0.021073928208032784\n",
      "ids are not unique\n",
      "Searching (head 0 and 1), 30/42 done, distance: 0.07941055485155085\n",
      "ids are not unique\n",
      "Searching (head 0 and 1), 31/42 done, distance: 0.0789139156746453\n",
      "ids are not unique\n",
      "Searching (head 0 and 1), 32/42 done, distance: 0.07867283761438758\n",
      "ids are not unique\n",
      "Searching (head 0 and 1), 33/42 done, distance: 0.0662939775610429\n",
      "ids are not unique\n",
      "Searching (head 0 and 1), 34/42 done, distance: 0.022252546573098445\n",
      "ids are not unique\n",
      "Searching (head 0 and 1), 35/42 done, distance: 0.022387154404173115\n"
     ]
    },
    {
     "name": "stderr",
     "output_type": "stream",
     "text": [
      "/Users/caseliang/Repositories/AV_CW/Procrustes2.py:62: RuntimeWarning: invalid value encountered in true_divide\n",
      "  X0 /= normX\n",
      "/Users/caseliang/Repositories/AV_CW/Procrustes2.py:63: RuntimeWarning: invalid value encountered in true_divide\n",
      "  Y0 /= normY\n"
     ]
    },
    {
     "name": "stdout",
     "output_type": "stream",
     "text": [
      "Searching (head 0 and 1), 38/42 done, distance: 0.05298424165969011\n",
      "Searching (head 0 and 1), 39/42 done, distance: 0.14232765210960033\n",
      "Searching (head 0 and 1), 40/42 done, distance: 0.06549181943159207\n"
     ]
    },
    {
     "name": "stderr",
     "output_type": "stream",
     "text": [
      "/Users/caseliang/Repositories/AV_CW/Procrustes2.py:62: RuntimeWarning: invalid value encountered in true_divide\n",
      "  X0 /= normX\n",
      "/Users/caseliang/Repositories/AV_CW/Procrustes2.py:63: RuntimeWarning: invalid value encountered in true_divide\n",
      "  Y0 /= normY\n"
     ]
    },
    {
     "name": "stdout",
     "output_type": "stream",
     "text": [
      "25 min_dist 0.02042271382589576 params: [ 0.06 20.    4.  ]\n",
      "ids are not unique\n",
      "completed\n"
     ]
    },
    {
     "data": {
      "text/plain": [
       "<multi_head.MultiHead at 0x11c4010d0>"
      ]
     },
     "execution_count": 4,
     "metadata": {},
     "output_type": "execute_result"
    }
   ],
   "source": [
    "make_mhead(all_heads,5,6)"
   ]
  },
  {
   "cell_type": "code",
   "execution_count": null,
   "metadata": {},
   "outputs": [],
   "source": []
  }
 ],
 "metadata": {
  "kernelspec": {
   "display_name": "Python 3",
   "language": "python",
   "name": "python3"
  },
  "language_info": {
   "codemirror_mode": {
    "name": "ipython",
    "version": 3
   },
   "file_extension": ".py",
   "mimetype": "text/x-python",
   "name": "python",
   "nbconvert_exporter": "python",
   "pygments_lexer": "ipython3",
   "version": "3.7.4"
  }
 },
 "nbformat": 4,
 "nbformat_minor": 4
}
